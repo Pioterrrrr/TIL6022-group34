{
 "cells": [
  {
   "cell_type": "markdown",
   "metadata": {},
   "source": [
    "# Project Group 34 - Midterm Notebook\n",
    "\n",
    "Members: Vasileios Sideris, Piotr Pietrzak, Davide Centorrino, Zacharias Zervos, Nicola Bovo.\n",
    "\n",
    "Student numbers: 5842727, 5717086, 5851629, 5846307, 5619157"
   ]
  },
  {
   "cell_type": "markdown",
   "metadata": {},
   "source": [
    "# Research Objective\n",
    "\n",
    "In this comprehensive project, our objective is to analyze how the COVID-19 pandemic has specifically influenced the transportation of goods and passengers by sea within the European Economic Exclusive Area over a five-year period. We will examine changes in maritime transportation behavior and their direct impact on CO2 emissions, comparing maritime emissions to overall CO2 trends in the European region during the pandemic. This research aims to provide valuable insights into the adaptability and resilience of the maritime sector.\n",
    "\n",
    "Research questions:\n",
    " 1. How did the COVID-19 pandemic impact the volume and patterns of goods transported by sea within the European Economic Exclusive Area from 2017 to 2022?\n",
    "\n",
    " 2. What were the changes in passenger maritime transportation behaviors during the COVID-19 pandemic in the European Economic Exclusive Area, and how do they differ across various modes of sea travel?\n",
    "\n",
    " 3. How did the alterations in maritime transportation practices during the COVID-19 pandemic correlate with fluctuations in CO2 emissions in the European Economic Exclusive Area?\n",
    "\n",
    " 4. How do the changes in maritime CO2 emissions within the European Economic Exclusive Area during the COVID-19 pandemic compare to the broader CO2 emission trends across Europe, and what insights can be gained from this comparison for sustainable transportation strategies?"
   ]
  },
  {
   "cell_type": "markdown",
   "metadata": {},
   "source": [
    "# Introduction\n",
    "Brief literature review of the effects of COVID-19 in the maritime sector.<br>\n",
    "-1 paragraph <br>\n",
    "-Motivation\n",
    "\n"
   ]
  },
  {
   "cell_type": "markdown",
   "metadata": {},
   "source": [
    "# 1. Analysis of the pattern of goods transported by sea in EEA\n",
    "This section focuses on the analysis of the pattern of goods transported by sea in European Economic Area (EEA) during the period 2018-2022. For this purpose the following steps are taken.\n",
    "1. Selection of the dataset: https://ec.europa.eu/eurostat/databrowser/bookmark/662cc15a-0555-4b7f-87c8-e48013aea8c0?lang=en\n",
    "2. Preprocessing of the data. \n",
    "3. Visualization:\n",
    "    - Choropleth Map displaying the impact on the imports/exports of goods.\n",
    "    - Chronological representation of the changes in the transportation of goods from the top 10 most affected countries within the EEA. \n",
    "4. Conclusions over the results\n",
    "    \n",
    "\n"
   ]
  },
  {
   "cell_type": "markdown",
   "metadata": {},
   "source": [
    "# 2. Analysis of the pattern of passenger transportation behaviors in EEA\n",
    "This section focuses on the analysis of the pattern of passenger behaviors in European Economic Exclusive Area during the period 2018-2022. For this purpose the following steps are taken.\n",
    "1. Selection of the passenger transportation datasets: \n",
    "    - Maritime Transport: https://ec.europa.eu/eurostat/databrowser/bookmark/0d511ae5-24c1-4009-8c27-4992f3d7c652?lang=en\n",
    "    - Air Transport: https://ec.europa.eu/eurostat/databrowser/bookmark/e274c95c-b4af-4704-8630-9c7560979af0?lang=en\n",
    "    - Railway Transport :https://ec.europa.eu/eurostat/databrowser/bookmark/e8751a3b-5536-47f1-a543-672db0bc4528?lang=en \n",
    "2. Preprocessing of the data. \n",
    "3. Visualization:\n",
    "    - Comparative graph of patterns for the three different transport modes (EU)\n",
    "    - Normalization per transport mode for the highest quarter (Q) of 2019 \n",
    "    - Analysis of the countries with the highest variation in maritime transportation compared to the other two modes of transportation.<br>\n",
    "     In order to find the top 3 countries, we consider the absolute difference between maritime transport and the maximum of Air or Railway transport. This difference is based on the percentage change for maritime transport being the most different from the highest change in other modes of transport. For each of those countries, we produce a line graph comparing the highest change in maritime transport to other means of transport.\n",
    "4. Conclusions over the results\n",
    "    "
   ]
  },
  {
   "cell_type": "markdown",
   "metadata": {},
   "source": [
    "# 3. Analysis of the impact on the maritime CO2 emissions\n",
    "This section focuses on the examination of the impact of alterations in maritime transportation practices during the period 2018-2022 on the fluctuations in CO2 emissions within the EEA. \n",
    "1. Selection of the emission dataset: https://data.europa.eu/data/datasets/co2-emissions-data?locale=en\n",
    "2. Vessel type categorization: \n",
    "    - Passenger Vessels\n",
    "    - Containerships\n",
    "    - Oil tankers\n",
    "    - Bulk Carriers\n",
    "    - LNG Carriers\n",
    "3. Preprocessing of the data. \n",
    "4. Visualization:\n",
    "    - Comparative graph depicting the fluctuation of CO2 emissions per ship type\n",
    "    - Five donut graphs, one for each year during 2018-2022, depicting the percentage of each type of emissions out of the total maritime emissions for that year.\n",
    "5. Conclusions over the results"
   ]
  },
  {
   "cell_type": "markdown",
   "metadata": {},
   "source": [
    "# 4 Analysis of the difference between CO2 emissions in maritime transport and broader emission trends in EEA\n",
    "\n",
    "This section investigates the impact on the overall CO2 emissions of maritime transport in comparison to the broader trends in CO2 emissions across EEA. \n",
    "1. Selection of the emission dataset: \n",
    "    - Overall emissions: https://edgar.jrc.ec.europa.eu/emissions_reports\n",
    "    - Maritime transport emissions: https://data.europa.eu/data/datasets/co2-emissions-data?locale=en\n",
    "2. Categorization: \n",
    "    - Buildings\n",
    "    - Power Industry \n",
    "    - Shipping\n",
    "    - Other industrial combustion\n",
    "    - Other sectors\n",
    "    - Transport\n",
    "3. Preprocessing of the data: Evaluating the emission in Europe since the dataset is given for countries across the globe.\n",
    "4. Visualization:\n",
    "    - Comparative graphs depicting the fluctuation of CO2 emissions for each individual emission producing sector.\n",
    "5. Conclusions over the results\n"
   ]
  },
  {
   "cell_type": "markdown",
   "metadata": {},
   "source": [
    "# Conclusions\n",
    "\n",
    "Brief remarks over the results produced from the reasearch."
   ]
  },
  {
   "cell_type": "markdown",
   "metadata": {},
   "source": [
    "# Contribution Statement\n",
    "\n",
    "*Be specific. Some of the tasks can be coding (expect everyone to do this), background research, conceptualisation, visualisation, data analysis, data modelling*"
   ]
  },
  {
   "cell_type": "markdown",
   "metadata": {},
   "source": [
    "Preliminary planning (draft).\n",
    "\n",
    "**Nicola Bovo**: Background research & visualisation\n",
    "\n",
    "**Zacharias Zervos**: Background research & conceptualisation\n",
    "\n",
    "**Vaseileios Sideris**: Data analysis & Data modelling\n",
    "\n",
    "**Piotr Pietrzak**: Data analysis & Data modelling\n",
    "\n",
    "**Davide Centorrino**: Data analysis & visualisation "
   ]
  },
  {
   "cell_type": "markdown",
   "metadata": {},
   "source": [
    "# Data Used"
   ]
  },
  {
   "cell_type": "markdown",
   "metadata": {},
   "source": [
    "1. COVID 19 Database: https://ec.europa.eu/eurostat/web/covid-19/database#Transport \n",
    "2. EDGAR - Emissions Database for Global Atmospheric Research: https://edgar.jrc.ec.europa.eu/emissions_reports\n",
    "3. Sea transport of goods: https://ec.europa.eu/eurostat/databrowser/view/TTR00009/default/table?lang=en\n",
    "4. Passenger embarked and disembarked in all ports: https://ec.europ.eu/eurostat/databrowser/view/mar_mp_aa_cph/default/table?lang=en\n",
    "5. CO2 emissions data from maritime transport: https://data.europa.eu/data/datasets/co2-emissions-data?locale=en"
   ]
  },
  {
   "cell_type": "markdown",
   "metadata": {},
   "source": [
    "# Data Pipeline"
   ]
  },
  {
   "cell_type": "markdown",
   "metadata": {},
   "source": [
    "1. Data collection:\n",
    "    * Transportation data\n",
    "        * Passenger data\n",
    "        * Goods data\n",
    "    * COVID 19 data\n",
    "    * CO2 emission data\n",
    "        * Overall emission data\n",
    "        * Maritime sector emission data\n",
    "2. Data cleanup\n",
    "3. Data integration\n",
    "4. Data analysis\n",
    "5. Visualisation & Report"
   ]
  },
  {
   "cell_type": "code",
   "execution_count": null,
   "metadata": {
    "collapsed": false
   },
   "outputs": [],
   "source": []
  }
 ],
 "metadata": {
  "kernelspec": {
   "display_name": "Python 3",
   "language": "python",
   "name": "python3"
  },
  "language_info": {
   "name": "python",
   "version": "3.8.2"
  },
  "orig_nbformat": 4,
  "vscode": {
   "interpreter": {
    "hash": "31f2aee4e71d21fbe5cf8b01ff0e069b9275f58929596ceb00d14d90e3e16cd6"
   }
  }
 },
 "nbformat": 4,
 "nbformat_minor": 2
}
