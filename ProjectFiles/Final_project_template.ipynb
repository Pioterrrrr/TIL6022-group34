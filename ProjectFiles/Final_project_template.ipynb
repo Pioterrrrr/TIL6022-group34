{
 "cells": [
  {
   "cell_type": "markdown",
   "metadata": {},
   "source": [
    "# Project Group 34 - Final Notebook\n",
    "\n",
    "Members: Vasileios Sideris, Piotr Pietrzak, Davide Centorrino, Zacharias Zervos, Nicola Bovo\n",
    "\n",
    "Student numbers: 5842727, 5717086, 5851629, 5846307, 5619157"
   ]
  },
  {
   "cell_type": "markdown",
   "metadata": {},
   "source": [
    "# Research Objective\n",
    "\n",
    "In this comprehensive project, our objective is to analyze how the COVID-19 pandemic has specifically influenced the transportation of goods and passengers by sea within the European Economic Exclusive Area over a five-year period. We will examine changes in maritime transportation behavior and their direct impact on CO2 emissions, comparing maritime emissions to overall CO2 trends in the European region during the pandemic. This research aims to provide valuable insights into the adaptability and resilience of the maritime sector.\n",
    "\n",
    "Main research question:What are the multifaceted impacts of the COVID-19 pandemic on maritime transportation and environmental sustainability within the European Economic Exclusive Area \n",
    "Sub-research questions:\n",
    " 1. How did the COVID-19 pandemic impact the volume and patterns of goods transported by sea within the European Economic Exclusive Area from 2017 to 2022?\n",
    "\n",
    " 2. What were the changes in passenger maritime transportation behaviors during the COVID-19 pandemic in the European Economic Exclusive Area, and how do they differ across various modes of sea travel?\n",
    "\n",
    " 3. How did the alterations in maritime transportation practices during the COVID-19 pandemic correlate with fluctuations in CO2 emissions in the European Economic Exclusive Area?\n",
    "\n",
    " 4. How do the changes in maritime CO2 emissions within the European Economic Exclusive Area during the COVID-19 pandemic compare to the broader CO2 emission trends across Europe, and what insights can be gained from this comparison for sustainable transportation strategies?"
   ]
  },
  {
   "cell_type": "markdown",
   "metadata": {},
   "source": [
    "# Introduction\n",
    "WRITE HERE WHY THE RESEARCH OBJECTIVE IS RELEVANT"
   ]
  },
  {
   "cell_type": "markdown",
   "metadata": {},
   "source": [
    "# 1. Analysis of the pattern of goods transported by sea in EEA\n",
    "This section focuses on the analysis of the pattern of goods transported by sea in European Economic Area (EEA) during the period 2018-2022. \n",
    "\n",
    "WRITE A PARAGRAPH ON WHAT'S THE FOCUS OF THE SECTION\n",
    "\n",
    "WRITE HOW THE DATA HAS BEEN PROCESSED"
   ]
  },
  {
   "cell_type": "markdown",
   "source": [
    "WRITE HERE WHAT CAN BE DEDUCTED FROM THE GRAPH (COULD ALSO GO AFTER THE FIGURE)"
   ],
   "metadata": {
    "collapsed": false
   }
  },
  {
   "cell_type": "code",
   "execution_count": 1,
   "outputs": [],
   "source": [
    "# Choropleth map displaying the impact on the imports/exports of goods"
   ],
   "metadata": {
    "collapsed": false,
    "ExecuteTime": {
     "end_time": "2023-10-25T14:55:46.590524400Z",
     "start_time": "2023-10-25T14:55:46.576356Z"
    }
   }
  },
  {
   "cell_type": "markdown",
   "source": [
    "WRITE HERE WHAT CAN BE DEDUCTED FROM THE GRAPH (COULD ALSO GO AFTER THE FIGURE)"
   ],
   "metadata": {
    "collapsed": false
   }
  },
  {
   "cell_type": "code",
   "execution_count": null,
   "outputs": [],
   "source": [
    "# Chronological representation of the changes in the transportation of goods from the top 10 most affected countries within the EEA. "
   ],
   "metadata": {
    "collapsed": false
   }
  },
  {
   "cell_type": "markdown",
   "source": [
    "WRITE HERE THE GENERAL CONCLUSIONS OF THE FIRST SECTION"
   ],
   "metadata": {
    "collapsed": false
   }
  },
  {
   "cell_type": "markdown",
   "metadata": {},
   "source": [
    "# 2. Analysis of the pattern of passenger transportation behaviors in EEA\n",
    "This section focuses on the analysis of the pattern of passenger behaviors in European Economic Exclusive Area during the period 2018-2022. For this purpose the following steps are taken.\n",
    "\n",
    "WRITE A PARAGRAPH ON WHAT'S THE FOCUS OF THE SECTION\n",
    "\n",
    "\n",
    "WRITE HOW THE DATA HAS BEEN PROCESSED"
   ]
  },
  {
   "cell_type": "markdown",
   "source": [
    "WRITE HERE WHAT CAN BE DEDUCTED FROM THE GRAPH (COULD ALSO GO AFTER THE FIGURE)"
   ],
   "metadata": {
    "collapsed": false
   }
  },
  {
   "cell_type": "code",
   "execution_count": null,
   "outputs": [],
   "source": [
    "# Comparative graph of patterns for the three different transport modes (EU)"
   ],
   "metadata": {
    "collapsed": false
   }
  },
  {
   "cell_type": "markdown",
   "source": [
    "WRITE HERE WHAT CAN BE DEDUCTED FROM THE GRAPH (COULD ALSO GO AFTER THE FIGURE)"
   ],
   "metadata": {
    "collapsed": false
   }
  },
  {
   "cell_type": "code",
   "execution_count": null,
   "outputs": [],
   "source": [
    "# Normalization per transport mode for the highest quarter (Q) of 2019 "
   ],
   "metadata": {
    "collapsed": false
   }
  },
  {
   "cell_type": "markdown",
   "source": [
    "WRITE HERE WHAT CAN BE DEDUCTED FROM THE GRAPH (COULD ALSO GO AFTER THE FIGURE)"
   ],
   "metadata": {
    "collapsed": false
   }
  },
  {
   "cell_type": "code",
   "execution_count": null,
   "outputs": [],
   "source": [
    "# Analysis of the countries with the highest variation in maritime transportation compared to the other two modes of transportation. In order to find the top 3 countries, we consider the absolute difference between maritime transport and the maximum of Air or Railway transport. This difference is based on the percentage change for maritime transport being the most different from the highest change in other modes of transport. For each of those countries, we produce a line graph comparing the highest change in maritime transport to other means of transport."
   ],
   "metadata": {
    "collapsed": false
   }
  },
  {
   "cell_type": "markdown",
   "source": [
    "WRITE HERE THE CONCLUSIONS OVER THE PARAGRAPH AND RESULTS"
   ],
   "metadata": {
    "collapsed": false
   }
  },
  {
   "cell_type": "markdown",
   "metadata": {},
   "source": [
    "# 3. Analysis of the impact on the maritime CO2 emissions\n",
    "This section focuses on the examination of the impact of alterations in maritime transportation practices during the period 2018-2022 on the fluctuations in CO2 emissions within the EEA. \n",
    "\n",
    "WRITE A PARAGRAPH ON WHAT'S THE FOCUS OF THE SECTION\n",
    "\n",
    "\n",
    "WRITE HERE HOW THE DATA HAS BEEN PROCESSED:\n",
    "    Vessel type categorization: \n",
    "    - Passenger Vessels\n",
    "    - Containerships\n",
    "    - Oil tankers\n",
    "    - Bulk Carriers\n",
    "    - LNG Carriers\n"
   ]
  },
  {
   "cell_type": "markdown",
   "source": [
    "WRITE HERE WHAT CAN BE DEDUCTED FROM THE GRAPH (COULD ALSO GO AFTER THE FIGURE)"
   ],
   "metadata": {
    "collapsed": false
   }
  },
  {
   "cell_type": "code",
   "execution_count": null,
   "outputs": [],
   "source": [
    "# Comparative graph depicting the fluctuation of CO2 emissions per ship type"
   ],
   "metadata": {
    "collapsed": false
   }
  },
  {
   "cell_type": "markdown",
   "source": [
    "WRITE HERE WHAT CAN BE DEDUCTED FROM THE GRAPH (COULD ALSO GO AFTER THE FIGURE)"
   ],
   "metadata": {
    "collapsed": false
   }
  },
  {
   "cell_type": "code",
   "execution_count": null,
   "outputs": [],
   "source": [
    "# Five donut graphs, one for each year during 2018-2022, depicting the percentage of each type of emissions out of the total maritime emissions for that year."
   ],
   "metadata": {
    "collapsed": false
   }
  },
  {
   "cell_type": "markdown",
   "source": [
    "WRITE HERE THE CONCLUSIONS OF THE PARAGRAPH AND RESULTS"
   ],
   "metadata": {
    "collapsed": false
   }
  },
  {
   "cell_type": "markdown",
   "metadata": {},
   "source": [
    "# 4. Analysis of the difference between CO2 emissions in maritime transport and broader emission trends in EEA\n",
    "This section investigates the impact on the overall CO2 emissions of maritime transport in comparison to the broader trends in CO2 emissions across EEA. \n",
    "\n",
    "WRITE A PARAGRAPH ON WHAT'S THE FOCUS OF THE SECTION\n",
    "\n",
    "\n",
    "WRITE HERE HOW THE DATA HAS BEEN PROCESSED: Evaluating the emission in Europe since the dataset is given for countries across the globe\n",
    "    Categorization: \n",
    "    - Agriculture\n",
    "    - Buildings\n",
    "    - Shipping\n",
    "    - Fuel Exploitation\n",
    "    - Power Industry\n",
    "    - Transport\n",
    "    - Processes\n",
    "    - Waste"
   ]
  },
  {
   "cell_type": "markdown",
   "source": [
    "WRITE HERE WHAT CAN BE DEDUCTED FROM THE GRAPH (COULD ALSO GO AFTER THE FIGURE)"
   ],
   "metadata": {
    "collapsed": false
   }
  },
  {
   "cell_type": "code",
   "execution_count": null,
   "outputs": [],
   "source": [
    "# Comparative graphs depicting the fluctuation of CO2 emissions for each individual emission producing sector."
   ],
   "metadata": {
    "collapsed": false
   }
  },
  {
   "cell_type": "markdown",
   "source": [
    "WRITE HERE THE CONCLUSIONS OF THE PARAGRAPH AND RESULTS"
   ],
   "metadata": {
    "collapsed": false
   }
  },
  {
   "cell_type": "markdown",
   "metadata": {},
   "source": [
    "# 5. Conclusions\n",
    "\n",
    "BRIEF REMARKS OVER THE RESULTS PRODUCED FROM THE RESEARCH "
   ]
  },
  {
   "cell_type": "markdown",
   "metadata": {},
   "source": [
    "# 6. Contribution Statement"
   ]
  },
  {
   "cell_type": "markdown",
   "metadata": {},
   "source": [
    "**Nicola Bovo**: Background research & visualisation\n",
    "\n",
    "**Zacharias Zervos**: Background research & conceptualisation\n",
    "\n",
    "**Vaseileios Sideris**: Data analysis & Data modelling\n",
    "\n",
    "**Piotr Pietrzak**: Data analysis & Data modelling\n",
    "\n",
    "**Davide Centorrino**: Data analysis & visualisation "
   ]
  },
  {
   "cell_type": "markdown",
   "metadata": {},
   "source": [
    "# 7. Data Used"
   ]
  },
  {
   "cell_type": "markdown",
   "metadata": {},
   "source": [
    "**Paragraph 1**:\n",
    "    - Gross weight of goods transported: https://ec.europa.eu/eurostat/databrowser/bookmark/662cc15a-0555-4b7f-87c8-e48013aea8c0?lang=en\n",
    "\n",
    "**Paragraph 2**:\n",
    "    - Maritime Transport: https://ec.europa.eu/eurostat/databrowser/bookmark/0d511ae5-24c1-4009-8c27-4992f3d7c652?lang=en\n",
    "    - Air Transport: https://ec.europa.eu/eurostat/databrowser/bookmark/e274c95c-b4af-4704-8630-9c7560979af0?lang=en\n",
    "    - Railway Transport :https://ec.europa.eu/eurostat/databrowser/bookmark/e8751a3b-5536-47f1-a543-672db0bc4528?lang=en \n",
    "    \n",
    "**Paragraph 3**:\n",
    "    - CO2 emissions from maritime transport: https://data.europa.eu/data/datasets/co2-emissions-data?locale=en\n",
    "\n",
    "**Paragraph 4**:\n",
    "    - CO2 emissions data from maritime transport: https://data.europa.eu/data/datasets/co2-emissions-data?locale=en\n",
    "    - Overall emissions: https://edgar.jrc.ec.europa.eu/emissions_reports       \n",
    "\n",
    "STILL TO BE SORTED    \n",
    "EDGAR - Emissions Database for Global Atmospheric Research: https://edgar.jrc.ec.europa.eu/emissions_reports \n",
    "Sea transport of goods: https://ec.europa.eu/eurostat/databrowser/view/TTR00009/default/table?lang=en\n",
    "Passenger embarked and disembarked in all ports: https://ec.europ.eu/eurostat/databrowser/view/mar_mp_aa_cph/default/table?lang=en"
   ]
  },
  {
   "cell_type": "markdown",
   "metadata": {},
   "source": [
    "# Data Pipeline"
   ]
  },
  {
   "cell_type": "markdown",
   "metadata": {},
   "source": [
    "1. Data collection:\n",
    "    * Transportation data\n",
    "        * Passenger data\n",
    "        * Goods data\n",
    "    * COVID 19 data\n",
    "    * CO2 emission data\n",
    "        * Overall emission data\n",
    "        * Maritime sector emission data\n",
    "2. Data cleanup\n",
    "3. Data integration\n",
    "4. Data analysis\n",
    "5. Visualisation & Report"
   ]
  }
 ],
 "metadata": {
  "kernelspec": {
   "display_name": "Python 3",
   "language": "python",
   "name": "python3"
  },
  "language_info": {
   "name": "python",
   "version": "3.8.2"
  },
  "orig_nbformat": 4,
  "vscode": {
   "interpreter": {
    "hash": "31f2aee4e71d21fbe5cf8b01ff0e069b9275f58929596ceb00d14d90e3e16cd6"
   }
  }
 },
 "nbformat": 4,
 "nbformat_minor": 2
}
