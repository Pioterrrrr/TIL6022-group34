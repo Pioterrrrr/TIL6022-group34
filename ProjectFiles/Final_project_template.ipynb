{
 "cells": [
  {
   "cell_type": "markdown",
   "metadata": {},
   "source": [
    "# Project Group 34 - Final Notebook\n",
    "\n",
    "Members: Vasileios Sideris, Piotr Pietrzak, Davide Centorrino, Zacharias Zervos, Nicola Bovo\n",
    "\n",
    "Student numbers: 5842727, 5717086, 5851629, 5846307, 5619157"
   ]
  },
  {
   "cell_type": "markdown",
   "metadata": {},
   "source": [
    "# Research Objective\n",
    "\n",
    "In this comprehensive project, our objective is to analyze how the COVID-19 pandemic has specifically influenced the transportation of goods and passengers by sea within the European Economic Exclusive Area over a five-year period. We will examine changes in maritime transportation behavior and their direct impact on CO2 emissions, comparing maritime emissions to overall CO2 trends in the European region during the pandemic. This research aims to provide valuable insights into the adaptability and resilience of the maritime sector.\n",
    "\n",
    "Main research question:What are the multifaceted impacts of the COVID-19 pandemic on maritime transportation and environmental sustainability within the European Economic Exclusive Area \n",
    "Sub-research questions:\n",
    " 1. How did the COVID-19 pandemic impact the volume and patterns of goods transported by sea within the European Economic Exclusive Area from 2017 to 2022?\n",
    "\n",
    " 2. What were the changes in passenger maritime transportation behaviors during the COVID-19 pandemic in the European Economic Exclusive Area, and how do they differ across various modes of sea travel?\n",
    "\n",
    " 3. How did the alterations in maritime transportation practices during the COVID-19 pandemic correlate with fluctuations in CO2 emissions in the European Economic Exclusive Area?\n",
    "\n",
    " 4. How do the changes in maritime CO2 emissions within the European Economic Exclusive Area during the COVID-19 pandemic compare to the broader CO2 emission trends across Europe, and what insights can be gained from this comparison for sustainable transportation strategies?"
   ]
  },
  {
   "cell_type": "markdown",
   "metadata": {},
   "source": [
    "# Introduction\n",
    "WRITE HERE WHY THE RESEARCH OBJECTIVE IS RELEVANT"
   ]
  },
  {
   "cell_type": "code",
   "execution_count": 2,
   "outputs": [],
   "source": [
    "import pandas as pd\n",
    "import numpy as np\n",
    "import pycountry as pc\n",
    "import plotly_express as px\n",
    "import seaborn as sb\n",
    "import os\n",
    "import matplotlib.pyplot as plt\n",
    "import geopandas as gpd\n",
    "\n",
    "datapath = os.path.abspath(\"\") + \"\\\\DATA_PROCESSED\\\\\""
   ],
   "metadata": {
    "collapsed": false,
    "ExecuteTime": {
     "end_time": "2023-10-26T13:29:30.756839600Z",
     "start_time": "2023-10-26T13:29:30.336413600Z"
    }
   }
  },
  {
   "cell_type": "markdown",
   "metadata": {},
   "source": [
    "# 1. Analysis of the pattern of goods transported by sea in EEA\n",
    "This section focuses on the analysis of the pattern of goods transported by sea in European Economic Area (EEA) during the period 2018-2022. \n",
    "\n",
    "WRITE A PARAGRAPH ON WHAT'S THE FOCUS OF THE SECTION\n",
    "\n",
    "WRITE HOW THE DATA HAS BEEN PROCESSED"
   ]
  },
  {
   "cell_type": "markdown",
   "source": [
    "WRITE HERE WHAT CAN BE DEDUCTED FROM THE GRAPH (COULD ALSO GO AFTER THE FIGURE)"
   ],
   "metadata": {
    "collapsed": false
   }
  },
  {
   "cell_type": "code",
   "execution_count": 1,
   "outputs": [],
   "source": [
    "# Choropleth map displaying the impact on the imports/exports of goods"
   ],
   "metadata": {
    "collapsed": false,
    "ExecuteTime": {
     "end_time": "2023-10-25T14:55:46.590524400Z",
     "start_time": "2023-10-25T14:55:46.576356Z"
    }
   }
  },
  {
   "cell_type": "markdown",
   "source": [
    "WRITE HERE WHAT CAN BE DEDUCTED FROM THE GRAPH (COULD ALSO GO AFTER THE FIGURE)"
   ],
   "metadata": {
    "collapsed": false
   }
  },
  {
   "cell_type": "code",
   "execution_count": null,
   "outputs": [],
   "source": [
    "# Chronological representation of the changes in the transportation of goods from the top 10 most affected countries within the EEA. "
   ],
   "metadata": {
    "collapsed": false
   }
  },
  {
   "cell_type": "markdown",
   "source": [
    "WRITE HERE THE GENERAL CONCLUSIONS OF THE FIRST SECTION"
   ],
   "metadata": {
    "collapsed": false
   }
  },
  {
   "cell_type": "markdown",
   "metadata": {},
   "source": [
    "# 2. Analysis of the pattern of passenger transportation behaviors in EEA\n",
    "This section focuses on the analysis of the pattern of passenger behaviors in European Economic Exclusive Area during the period 2018-2022. For this purpose the following steps are taken.\n",
    "\n",
    "WRITE A PARAGRAPH ON WHAT'S THE FOCUS OF THE SECTION\n",
    "\n",
    "\n",
    "WRITE HOW THE DATA HAS BEEN PROCESSED"
   ]
  },
  {
   "cell_type": "code",
   "execution_count": 8,
   "outputs": [
    {
     "name": "stdout",
     "output_type": "stream",
     "text": [
      "BG\n",
      "CH\n",
      "CZ\n",
      "DE\n",
      "DK\n",
      "EE\n",
      "EL\n",
      "ES\n",
      "FI\n",
      "FR\n",
      "HR\n",
      "HU\n",
      "IE\n",
      "IT\n",
      "LT\n",
      "LU\n",
      "LV\n",
      "ME\n",
      "MK\n",
      "NL\n",
      "NO\n",
      "PL\n",
      "PT\n",
      "RO\n",
      "RS\n"
     ]
    },
    {
     "ename": "IndexError",
     "evalue": "index 0 is out of bounds for axis 0 with size 0",
     "output_type": "error",
     "traceback": [
      "\u001B[1;31m---------------------------------------------------------------------------\u001B[0m",
      "\u001B[1;31mIndexError\u001B[0m                                Traceback (most recent call last)",
      "Cell \u001B[1;32mIn[8], line 24\u001B[0m\n\u001B[0;32m     22\u001B[0m \u001B[38;5;28;01mfor\u001B[39;00m country \u001B[38;5;129;01min\u001B[39;00m rail_countries:\n\u001B[0;32m     23\u001B[0m     \u001B[38;5;28mprint\u001B[39m(country)\n\u001B[1;32m---> 24\u001B[0m     per_rq1 \u001B[38;5;241m=\u001B[39m \u001B[43mdf_passengers_rail\u001B[49m\u001B[43m[\u001B[49m\u001B[43m(\u001B[49m\u001B[43mdf_passengers_rail\u001B[49m\u001B[43m[\u001B[49m\u001B[38;5;124;43m'\u001B[39;49m\u001B[38;5;124;43mGeo\u001B[39;49m\u001B[38;5;124;43m'\u001B[39;49m\u001B[43m]\u001B[49m\u001B[43m \u001B[49m\u001B[38;5;241;43m==\u001B[39;49m\u001B[43m \u001B[49m\u001B[43mcountry\u001B[49m\u001B[43m)\u001B[49m\u001B[43m \u001B[49m\u001B[38;5;241;43m&\u001B[39;49m\n\u001B[0;32m     25\u001B[0m \u001B[43m                                 \u001B[49m\u001B[43m(\u001B[49m\u001B[43mdf_passengers_rail\u001B[49m\u001B[43m[\u001B[49m\u001B[38;5;124;43m'\u001B[39;49m\u001B[38;5;124;43mTime_period\u001B[39;49m\u001B[38;5;124;43m'\u001B[39;49m\u001B[43m]\u001B[49m\u001B[43m \u001B[49m\u001B[38;5;241;43m==\u001B[39;49m\u001B[43m \u001B[49m\u001B[38;5;124;43m'\u001B[39;49m\u001B[38;5;124;43m2020-Q1\u001B[39;49m\u001B[38;5;124;43m'\u001B[39;49m\u001B[43m)\u001B[49m\u001B[43m]\u001B[49m\u001B[43m[\u001B[49m\u001B[38;5;124;43m'\u001B[39;49m\u001B[38;5;124;43mNorm_2019\u001B[39;49m\u001B[38;5;124;43m'\u001B[39;49m\u001B[43m]\u001B[49m\u001B[38;5;241;43m.\u001B[39;49m\u001B[43mto_numpy\u001B[49m\u001B[43m(\u001B[49m\u001B[43m)\u001B[49m\u001B[43m[\u001B[49m\u001B[38;5;241;43m0\u001B[39;49m\u001B[43m]\u001B[49m\n\u001B[0;32m     26\u001B[0m     per_rq2 \u001B[38;5;241m=\u001B[39m df_passengers_rail[(df_passengers_rail[\u001B[38;5;124m'\u001B[39m\u001B[38;5;124mGeo\u001B[39m\u001B[38;5;124m'\u001B[39m] \u001B[38;5;241m==\u001B[39m country) \u001B[38;5;241m&\u001B[39m\n\u001B[0;32m     27\u001B[0m                                  (df_passengers_rail[\u001B[38;5;124m'\u001B[39m\u001B[38;5;124mTime_period\u001B[39m\u001B[38;5;124m'\u001B[39m] \u001B[38;5;241m==\u001B[39m \u001B[38;5;124m'\u001B[39m\u001B[38;5;124m2020-Q2\u001B[39m\u001B[38;5;124m'\u001B[39m)][\u001B[38;5;124m'\u001B[39m\u001B[38;5;124mNorm_2019\u001B[39m\u001B[38;5;124m'\u001B[39m]\u001B[38;5;241m.\u001B[39mto_numpy()[\u001B[38;5;241m0\u001B[39m]\n\u001B[0;32m     28\u001B[0m     rail_per_diff\u001B[38;5;241m.\u001B[39mappend([country, per_rq1 \u001B[38;5;241m-\u001B[39m per_rq2])\n",
      "\u001B[1;31mIndexError\u001B[0m: index 0 is out of bounds for axis 0 with size 0"
     ]
    }
   ],
   "source": [
    "df_passengers_avia = pd.read_csv(datapath+\"df_passengers_avia.csv\")\n",
    "df_passengers_mar = pd.read_csv(datapath+\"df_passengers_mar.csv\")\n",
    "df_passengers_rail = pd.read_csv(datapath+\"df_passengers_rail.csv\")\n",
    "avia_countries = list(df_passengers_avia['Geo'].unique())\n",
    "mar_countries = list(df_passengers_mar['Geo'].unique())\n",
    "rail_countries = list(df_passengers_rail['Geo'].unique())\n",
    "avia_per_diff = []\n",
    "mar_per_diff = []\n",
    "rail_per_diff = []\n",
    "for country in avia_countries:\n",
    "    per_aq1 = df_passengers_avia[(df_passengers_avia['Geo'] == country) &\n",
    "                                 (df_passengers_avia['Time_period'] == '2020-Q1')]['Norm_2019'].to_numpy()[0]\n",
    "    per_aq2 = df_passengers_avia[(df_passengers_avia['Geo'] == country) &\n",
    "                                 (df_passengers_avia['Time_period'] == '2020-Q2')]['Norm_2019'].to_numpy()[0]\n",
    "    avia_per_diff.append([country, per_aq1 - per_aq2])\n",
    "for country in mar_countries:\n",
    "    per_mq1 = df_passengers_mar[(df_passengers_mar['Geo'] == country) &\n",
    "                                 (df_passengers_mar['Time_period'] == '2020-Q1')]['Norm_2019'].to_numpy()[0]\n",
    "    per_mq2 = df_passengers_mar[(df_passengers_mar['Geo'] == country) &\n",
    "                                 (df_passengers_mar['Time_period'] == '2020-Q2')]['Norm_2019'].to_numpy()[0]\n",
    "    mar_per_diff.append([country, per_mq1 - per_mq2])\n",
    "for country in rail_countries:\n",
    "    print(country)\n",
    "    per_rq1 = df_passengers_rail[(df_passengers_rail['Geo'] == country) &\n",
    "                                 (df_passengers_rail['Time_period'] == '2020-Q1')]['Norm_2019'].to_numpy()[0]\n",
    "    per_rq2 = df_passengers_rail[(df_passengers_rail['Geo'] == country) &\n",
    "                                 (df_passengers_rail['Time_period'] == '2020-Q2')]['Norm_2019'].to_numpy()[0]\n",
    "    rail_per_diff.append([country, per_rq1 - per_rq2])\n",
    "\n",
    "print(avia_per_diff)\n",
    "print(mar_per_diff)\n",
    "print(rail_per_diff)"
   ],
   "metadata": {
    "collapsed": false,
    "ExecuteTime": {
     "end_time": "2023-10-26T15:25:29.324170100Z",
     "start_time": "2023-10-26T15:25:29.201528400Z"
    }
   }
  },
  {
   "cell_type": "markdown",
   "source": [
    "WRITE HERE WHAT CAN BE DEDUCTED FROM THE GRAPH (COULD ALSO GO AFTER THE FIGURE)"
   ],
   "metadata": {
    "collapsed": false
   }
  },
  {
   "cell_type": "code",
   "execution_count": null,
   "outputs": [],
   "source": [
    "# Comparative graph of patterns for the three different transport modes (EU)"
   ],
   "metadata": {
    "collapsed": false
   }
  },
  {
   "cell_type": "markdown",
   "source": [
    "WRITE HERE WHAT CAN BE DEDUCTED FROM THE GRAPH (COULD ALSO GO AFTER THE FIGURE)"
   ],
   "metadata": {
    "collapsed": false
   }
  },
  {
   "cell_type": "code",
   "execution_count": null,
   "outputs": [],
   "source": [
    "# Normalization per transport mode for the highest quarter (Q) of 2019 "
   ],
   "metadata": {
    "collapsed": false
   }
  },
  {
   "cell_type": "markdown",
   "source": [
    "WRITE HERE WHAT CAN BE DEDUCTED FROM THE GRAPH (COULD ALSO GO AFTER THE FIGURE)"
   ],
   "metadata": {
    "collapsed": false
   }
  },
  {
   "cell_type": "code",
   "execution_count": null,
   "outputs": [],
   "source": [
    "# Analysis of the countries with the highest variation in maritime transportation compared to the other two modes of transportation. In order to find the top 3 countries, we consider the absolute difference between maritime transport and the maximum of Air or Railway transport. This difference is based on the percentage change for maritime transport being the most different from the highest change in other modes of transport. For each of those countries, we produce a line graph comparing the highest change in maritime transport to other means of transport."
   ],
   "metadata": {
    "collapsed": false
   }
  },
  {
   "cell_type": "markdown",
   "source": [
    "WRITE HERE THE CONCLUSIONS OVER THE PARAGRAPH AND RESULTS"
   ],
   "metadata": {
    "collapsed": false
   }
  },
  {
   "cell_type": "markdown",
   "metadata": {},
   "source": [
    "# 3. Analysis of the impact on the maritime CO2 emissions\n",
    "This section focuses on the examination of the impact of alterations in maritime transportation practices during the period 2018-2022 on the fluctuations in CO2 emissions within the EEA. \n",
    "\n",
    "WRITE A PARAGRAPH ON WHAT'S THE FOCUS OF THE SECTION\n",
    "\n",
    "\n",
    "WRITE HERE HOW THE DATA HAS BEEN PROCESSED:\n",
    "    Vessel type categorization: \n",
    "    - Passenger Vessels\n",
    "    - Containerships\n",
    "    - Oil tankers\n",
    "    - Bulk Carriers\n",
    "    - LNG Carriers\n"
   ]
  },
  {
   "cell_type": "markdown",
   "source": [
    "WRITE HERE WHAT CAN BE DEDUCTED FROM THE GRAPH (COULD ALSO GO AFTER THE FIGURE)"
   ],
   "metadata": {
    "collapsed": false
   }
  },
  {
   "cell_type": "code",
   "execution_count": null,
   "outputs": [],
   "source": [
    "# Comparative graph depicting the fluctuation of CO2 emissions per ship type"
   ],
   "metadata": {
    "collapsed": false
   }
  },
  {
   "cell_type": "markdown",
   "source": [
    "WRITE HERE WHAT CAN BE DEDUCTED FROM THE GRAPH (COULD ALSO GO AFTER THE FIGURE)"
   ],
   "metadata": {
    "collapsed": false
   }
  },
  {
   "cell_type": "code",
   "execution_count": null,
   "outputs": [],
   "source": [
    "# Five donut graphs, one for each year during 2018-2022, depicting the percentage of each type of emissions out of the total maritime emissions for that year."
   ],
   "metadata": {
    "collapsed": false
   }
  },
  {
   "cell_type": "markdown",
   "source": [
    "WRITE HERE THE CONCLUSIONS OF THE PARAGRAPH AND RESULTS"
   ],
   "metadata": {
    "collapsed": false
   }
  },
  {
   "cell_type": "markdown",
   "metadata": {},
   "source": [
    "# 4. Analysis of the difference between CO2 emissions in maritime transport and broader emission trends in EEA\n",
    "This section investigates the impact on the overall CO2 emissions of maritime transport in comparison to the broader trends in CO2 emissions across EEA. \n",
    "\n",
    "WRITE A PARAGRAPH ON WHAT'S THE FOCUS OF THE SECTION\n",
    "\n",
    "\n",
    "WRITE HERE HOW THE DATA HAS BEEN PROCESSED: Evaluating the emission in Europe since the dataset is given for countries across the globe\n",
    "    Categorization: \n",
    "    - Agriculture\n",
    "    - Buildings\n",
    "    - Shipping\n",
    "    - Fuel Exploitation\n",
    "    - Power Industry\n",
    "    - Transport\n",
    "    - Processes\n",
    "    - Waste"
   ]
  },
  {
   "cell_type": "markdown",
   "source": [
    "WRITE HERE WHAT CAN BE DEDUCTED FROM THE GRAPH (COULD ALSO GO AFTER THE FIGURE)"
   ],
   "metadata": {
    "collapsed": false
   }
  },
  {
   "cell_type": "code",
   "execution_count": null,
   "outputs": [],
   "source": [
    "# Comparative graphs depicting the fluctuation of CO2 emissions for each individual emission producing sector."
   ],
   "metadata": {
    "collapsed": false
   }
  },
  {
   "cell_type": "markdown",
   "source": [
    "WRITE HERE THE CONCLUSIONS OF THE PARAGRAPH AND RESULTS"
   ],
   "metadata": {
    "collapsed": false
   }
  },
  {
   "cell_type": "markdown",
   "metadata": {},
   "source": [
    "# 5. Conclusions\n",
    "\n",
    "BRIEF REMARKS OVER THE RESULTS PRODUCED FROM THE RESEARCH "
   ]
  },
  {
   "cell_type": "markdown",
   "metadata": {},
   "source": [
    "# 6. Contribution Statement"
   ]
  },
  {
   "cell_type": "markdown",
   "metadata": {},
   "source": [
    "**Nicola Bovo**: Background research & visualisation\n",
    "\n",
    "**Zacharias Zervos**: Background research & conceptualisation\n",
    "\n",
    "**Vaseileios Sideris**: Data analysis & Data modelling\n",
    "\n",
    "**Piotr Pietrzak**: Data analysis & Data modelling\n",
    "\n",
    "**Davide Centorrino**: Data analysis & visualisation "
   ]
  },
  {
   "cell_type": "markdown",
   "metadata": {},
   "source": [
    "# 7. Data Used"
   ]
  },
  {
   "cell_type": "markdown",
   "metadata": {},
   "source": [
    "**Paragraph 1**:\n",
    "    - Gross weight of goods transported: https://ec.europa.eu/eurostat/databrowser/bookmark/662cc15a-0555-4b7f-87c8-e48013aea8c0?lang=en\n",
    "\n",
    "**Paragraph 2**:\n",
    "    - Maritime Transport: https://ec.europa.eu/eurostat/databrowser/bookmark/0d511ae5-24c1-4009-8c27-4992f3d7c652?lang=en\n",
    "    - Air Transport: https://ec.europa.eu/eurostat/databrowser/bookmark/e274c95c-b4af-4704-8630-9c7560979af0?lang=en\n",
    "    - Railway Transport :https://ec.europa.eu/eurostat/databrowser/bookmark/e8751a3b-5536-47f1-a543-672db0bc4528?lang=en \n",
    "    \n",
    "**Paragraph 3**:\n",
    "    - CO2 emissions from maritime transport: https://data.europa.eu/data/datasets/co2-emissions-data?locale=en\n",
    "\n",
    "**Paragraph 4**:\n",
    "    - CO2 emissions data from maritime transport: https://data.europa.eu/data/datasets/co2-emissions-data?locale=en\n",
    "    - Overall emissions: https://edgar.jrc.ec.europa.eu/emissions_reports       \n",
    "\n",
    "STILL TO BE SORTED    \n",
    "EDGAR - Emissions Database for Global Atmospheric Research: https://edgar.jrc.ec.europa.eu/emissions_reports \n",
    "Sea transport of goods: https://ec.europa.eu/eurostat/databrowser/view/TTR00009/default/table?lang=en\n",
    "Passenger embarked and disembarked in all ports: https://ec.europ.eu/eurostat/databrowser/view/mar_mp_aa_cph/default/table?lang=en"
   ]
  },
  {
   "cell_type": "markdown",
   "metadata": {},
   "source": [
    "# Data Pipeline"
   ]
  },
  {
   "cell_type": "markdown",
   "metadata": {},
   "source": [
    "1. Data collection:\n",
    "    * Transportation data\n",
    "        * Passenger data\n",
    "        * Goods data\n",
    "    * COVID 19 data\n",
    "    * CO2 emission data\n",
    "        * Overall emission data\n",
    "        * Maritime sector emission data\n",
    "2. Data cleanup\n",
    "3. Data integration\n",
    "4. Data analysis\n",
    "5. Visualisation & Report"
   ]
  }
 ],
 "metadata": {
  "kernelspec": {
   "display_name": "Python 3",
   "language": "python",
   "name": "python3"
  },
  "language_info": {
   "name": "python",
   "version": "3.8.2"
  },
  "orig_nbformat": 4,
  "vscode": {
   "interpreter": {
    "hash": "31f2aee4e71d21fbe5cf8b01ff0e069b9275f58929596ceb00d14d90e3e16cd6"
   }
  }
 },
 "nbformat": 4,
 "nbformat_minor": 2
}
