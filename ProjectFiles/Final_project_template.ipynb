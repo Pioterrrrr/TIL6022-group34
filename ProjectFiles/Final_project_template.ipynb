{
 "cells": [
  {
   "cell_type": "markdown",
   "metadata": {},
   "source": [
    "# Project Group 34 - Final Notebook\n",
    "\n",
    "Members: Vasileios Sideris, Piotr Pietrzak, Davide Centorrino, Zacharias Zervos, Nicola Bovo\n",
    "\n",
    "Student numbers: 5842727, 5717086, 5851629, 5846307, 5619157"
   ]
  },
  {
   "cell_type": "markdown",
   "metadata": {},
   "source": [
    "# Research Objective\n",
    "\n",
    "In this comprehensive project, our objective is to analyze how the COVID-19 pandemic has specifically influenced the transportation of goods and passengers by sea within the European Economic Exclusive Area over a five-year period. We will examine changes in maritime transportation behavior and their direct impact on CO2 emissions, comparing maritime emissions to overall CO2 trends in the European region during the pandemic. This research aims to provide valuable insights into the adaptability and resilience of the maritime sector.\n",
    "\n",
    "Main research question:What are the multifaceted impacts of the COVID-19 pandemic on maritime transportation and environmental sustainability within the European Economic Exclusive Area?\n",
    " \n",
    "Sub-research questions:\n",
    " 1. How did the COVID-19 pandemic impact the volume and patterns of goods transported by sea within the European Economic Exclusive Area from 2017 to 2022?\n",
    "\n",
    " 2. What were the changes in passenger maritime transportation behaviors during the COVID-19 pandemic in the European Economic Exclusive Area, and how do they differ across various modes of sea travel?\n",
    "\n",
    " 3. How did the alterations in maritime transportation practices during the COVID-19 pandemic correlate with fluctuations in CO2 emissions in the European Economic Exclusive Area?\n",
    "\n",
    " 4. How do the changes in maritime CO2 emissions within the European Economic Exclusive Area during the COVID-19 pandemic compare to the broader CO2 emission trends across Europe, and what insights can be gained from this comparison for sustainable transportation strategies?"
   ]
  },
  {
   "cell_type": "markdown",
   "metadata": {},
   "source": [
    "# Introduction\n",
    "The COVID-19 pandemic has led to profound transformations across various sectors, including maritime transportation within the European Economic Exclusive Area. Despite limited media coverage, the maritime sector has not been exempt from the far-reaching effects of this unprecedented event. This comprehensive research project focuses on examining the impacts of the pandemic on the movement of goods and passengers by sea over a five-year period, spanning from 2017 to 2022. By delving into changes in maritime transportation behavior and their direct consequences on CO2 emissions, this study aims to illuminate the adaptability and resilience of the maritime sector when faced with such challenges. To achieve this goal and establish a clear framework for understanding how the maritime industry was affected, various categories will be analyzed. These include changes in the volume and patterns of goods transported by sea, shifts in passenger maritime travel behaviors, and their correlation with CO2 emissions. Furthermore, the data will be compared with maritime CO2 emissions trends and contrasted with the broader regional CO2 emission patterns, offering valuable insights for sustainable transportation strategies in the European region."
   ]
  },
  {
   "cell_type": "markdown",
   "metadata": {
    "collapsed": false
   },
   "source": [
    "Firstly, all the needed packages will be imported. These data are necessary to properly plot the processed data. Specifically, all the datasets are processed in 'dataprocessing.py', and the obtained results consist of multiple CSV files containing the most valuable processed data, which can be effectively plotted."
   ]
  },
  {
   "cell_type": "code",
   "execution_count": null,
   "metadata": {
    "collapsed": false
   },
   "outputs": [],
   "source": [
    "import pandas as pd\n",
    "import numpy as np\n",
    "import pycountry as pc\n",
    "import plotly_express as px\n",
    "import seaborn as sb\n",
    "import os\n",
    "import matplotlib.pyplot as plt\n",
    "import geopandas as gpd\n",
    "import warnings\n",
    "from plotly.subplots import make_subplots\n",
    "import plotly.graph_objects as go"
   ]
  },
  {
   "cell_type": "markdown",
   "metadata": {},
   "source": [
    "# 1. Analysis of the pattern of goods transported by sea in EEA\n",
    "This section focuses on the analysis of the patterns of goods transported by sea within the European Economic Area (EEA) during the period from 2018 to 2022. To conduct this analysis, the following dataset, available at https://ec.europa.eu/eurostat/databrowser/bookmark/662cc15a-0555-4b7f-87c8-e48013aea8c0?lang=en, is used. This dataset provides information on the gross weight of goods transported to/from the main ports in the EEA on a quarterly basis.\n",
    "\n",
    "The following parts aim to visually present these patterns and investigate the impact of the COVID-19 pandemic on the volume and patterns of goods transported by sea within the EEA from 2018 to 2022.\n",
    "\n",
    "In order to visualize the data, preprocessing of the dataset was deemed necessary. During the preprocessing of the relevant dataset (mar_go_qm__custom_93281_linear.csv), several steps were taken. First, several irrelevant columns were removed, and the headers of the remaining columns were corrected. The dataset included data for 26 countries, along with more specific details about the main ports in each country. However, this level of detail was considered irrelevant for the current analysis and was therefore removed. Furthermore, most countries had data available until Q4 of 2022, so any data beyond that period was also removed. Furthermore, using the 'pycountry' library, the full names of the countries were added since the dataset originally contained only the two-letter country codes (alpha-2). Finally, the table structure was reorganized, with the 26 countries serving as column headers and the quarters from 2017 to 2022 as rows. The aformentioned procedure is executed in the 'dataprocessing.py' file. The post-processed file, \"df_cargo_mar.csv\", will be used as input in the following sections for visualization purposes. "
   ]
  },
  {
   "cell_type": "markdown",
   "metadata": {},
   "source": [
    "**Read relevant processed dataset:**"
   ]
  },
  {
   "cell_type": "code",
   "execution_count": null,
   "metadata": {},
   "outputs": [],
   "source": [
    "file_path = os.path.abspath(\"\") + \"\\\\DATA_PROCESSED\\\\df_cargo_mar.csv\"\n",
    "df_cargo = pd.read_csv(file_path)\n",
    "\n",
    "# Use first column (quarters) as the row index\n",
    "df_cargo = df_cargo.set_index(df_cargo.columns[0])\n",
    "\n",
    "print(df_cargo.head())"
   ]
  },
  {
   "cell_type": "markdown",
   "metadata": {},
   "source": [
    "**Chronological representation of the changes in the transportation of goods - top 5 most affected countries** <br> \n",
    "     \n",
    "As previously mentioned, data was available for a total of 26 countries. However, presenting all these countries on a single line graph would make the graph challenging to read and interpret. Thus, a decision was made to focus on the top 5 most affected countries. These countries were ranked based on the impact of the COVID-19 pandemic, which emerged in 2019 and significantly disrupted the global economy.\n",
    "\n",
    "To rank the countries, data from the years 2019 and 2020 was used. This choice was made to focus solely on the impact of COVID-19 and to exclude other economic and political factors that might have influenced each country's shipping trade. Specifically, we identified the maximum value of goods transported during the four quarters of 2019 as the highest point for each country, and the minimum value for the four quarters of 2020 as the lowest point for each country. This resulted in a change rate represented as a percentage for each country."
   ]
  },
  {
   "cell_type": "code",
   "execution_count": null,
   "metadata": {},
   "outputs": [],
   "source": [
    "# Find the maximum for each country in 2019\n",
    "max_2019 = df_cargo.loc[\"2019-Q1\":\"2019-Q4\"].max()\n",
    "\n",
    "# Find the maximum for each country for 2020\n",
    "min_2020 = df_cargo.loc[\"2020-Q1\":\"2020-Q4\"].min()\n",
    "\n",
    "# Find the percentage change for each coutry between 2019-2020\n",
    "change = (max_2019 - min_2020) / max_2019 * 100\n",
    "\n",
    "# Short the countries by percentage change (desceding)\n",
    "most_affected_countries = change.sort_values(ascending=False)\n",
    "\n",
    "# Filter the data that are going to be ploted for the interval 2018-Q1 to 2022-Q4\n",
    "filtered_data = df_cargo[most_affected_countries.head(5).index].loc[\"2018-Q1\":\"2022-Q4\"]\n",
    "\n",
    "#supress seaborn warnings\n",
    "warnings.simplefilter(action=\"ignore\", category=FutureWarning)\n",
    "\n",
    "# Plot\n",
    "plt.figure(figsize=(10, 5))\n",
    "sb.lineplot(data=filtered_data)\n",
    "plt.xlabel(\"Time\")\n",
    "plt.ylabel(\"Cargo [tons]\")\n",
    "plt.title(\"Shipped goods for top 5 most affected countries\")\n",
    "plt.xticks(rotation=45, ha=\"right\")\n",
    "plt.legend(loc=\"upper right\")\n",
    "plt.grid(True)\n",
    "plt.show()"
   ]
  },
  {
   "cell_type": "markdown",
   "metadata": {
    "collapsed": false
   },
   "source": [
    "As depicted in the graph, the volume of shipped cargo for each country exhibits moderate fluctuations over time. However, the impact of COVID-19 is evident in the simultaneous decline in maritime trade. The graph reveals a steady decline for each country that initiated around Q4 2019 and Q1 2020. Notably, every country reached a low almost simultaneously in Q2 and Q3 of 2020. Finally, most countries have managed to recover from the effects of the pandemic, with their trade activities returning to normal (pre-COVID-19) levels by the end of 2022."
   ]
  },
  {
   "cell_type": "markdown",
   "metadata": {},
   "source": [
    "**Chronological representation of the changes in the transportation of goods - top 5 trading countries** <br> "
   ]
  },
  {
   "cell_type": "markdown",
   "metadata": {},
   "source": [
    "The same analysis can be conducted for the top 5 leading countries in terms of the gross weight of goods. To rank these countries based on their shipping dominance, we considered the highest value of goods transported during the four quarters of 2019. This approach allows for a more reliable conclusion to be drawn regarding the pattern of sea-transported goods before, during and after COVID-19 pandemic."
   ]
  },
  {
   "cell_type": "code",
   "execution_count": null,
   "metadata": {},
   "outputs": [],
   "source": [
    "# Short the countries by amount of transported goods \n",
    "leading_countries = max_2019.sort_values(ascending=False)\n",
    "\n",
    "# Filter the data that are going to be ploted for the interval 2018-Q1 to 2022-Q4\n",
    "filtered_data = df_cargo[leading_countries.head(5).index].loc[\"2018-Q1\":\"2022-Q4\"]\n",
    "\n",
    "# Plot\n",
    "plt.figure(figsize=(10, 5))\n",
    "sb.lineplot(data=filtered_data)\n",
    "plt.xlabel(\"Time\")\n",
    "plt.ylabel(\"Cargo [tons]\")\n",
    "plt.title(\"Shipped goods for top 5 top trading countries\")\n",
    "plt.xticks(rotation=45, ha=\"right\")\n",
    "plt.legend(loc=\"upper right\")\n",
    "plt.grid(True)\n",
    "plt.show()"
   ]
  },
  {
   "cell_type": "markdown",
   "metadata": {
    "collapsed": false
   },
   "source": [
    "Similar to the previous graph, yearly fluctuations are noticeable for each country. What is evident is the sudden decrease in sea trading activity for each country, with a minimum point occurring around the middle of the year 2020. All of the countries seem to have overcome the disruptions to their trading activity, as by the end of 2022, they are either slightly lower or at the same levels as before the COVID-19 pandemic. It's worth noting that Turkey does not appear to have been heavily influenced by the COVID-19 pandemic, as there is a steady increase over the studied period. Additionally, it should be mentioned that the United Kingdom seems to have been significantly affected after Q4 of 2019. However, it's important to acknowledge that the dataset only included data up to Q2 of 2020 for UK, which is why this specific line extends only until that point."
   ]
  },
  {
   "cell_type": "markdown",
   "metadata": {},
   "source": [
    "**Choropleth map displaying the impact on the imports/exports of goods in EEA** "
   ]
  },
  {
   "cell_type": "markdown",
   "metadata": {},
   "source": [
    "In this section, an attempt is made to visualize the impact of COVID-19 on the shipping activity of all countries with available data on an actual map of Europe. This approach allows us to draw conclusions regarding the geographical position and response of each country to the pandemic."
   ]
  },
  {
   "cell_type": "markdown",
   "metadata": {},
   "source": [
    "First, a shapefile (.shp) containing geometric data of Europe is uploaded to the remote repository, and then it is read."
   ]
  },
  {
   "cell_type": "code",
   "execution_count": null,
   "metadata": {
    "collapsed": false
   },
   "outputs": [],
   "source": [
    "file_path = os.path.abspath(\"\") + \"\\\\european_map.shp\\\\NUTS_RG_20M_2021_3035.shp\"\n",
    "europe = gpd.read_file(file_path)"
   ]
  },
  {
   "cell_type": "markdown",
   "metadata": {},
   "source": [
    "Creation of the map:"
   ]
  },
  {
   "cell_type": "code",
   "execution_count": null,
   "metadata": {},
   "outputs": [],
   "source": [
    "#Make a dictionary with countries as keys and their % change as values\n",
    "countries_with_effect = change.to_dict()\n",
    "\n",
    "# create a new dictionary with 2-letter codes as keys \n",
    "countries_with_effect_alpha2 = {}\n",
    "for country_name, value in countries_with_effect.items():\n",
    "    if country_name == \"Greece\":\n",
    "            countries_with_effect_alpha2[\"EL\"] = value # shp file has EL instead of GR\n",
    "    elif country_name == \"United Kingdom\":\n",
    "            countries_with_effect_alpha2[\"UK\"] = value # shp file has UK instead of GB\n",
    "    else:\n",
    "        country = pc.countries.get(name = country_name)\n",
    "        if country:\n",
    "            countries_with_effect_alpha2[country.alpha_2] = value\n",
    "\n",
    "# All european countries in GeoDataFrame as keys in a dictionary with 0 values\n",
    "countries_final = {key: 0 for key in europe['CNTR_CODE'].unique()}\n",
    "\n",
    "# Merge the two dictionaries, giving priority to the first one\n",
    "merged_dict_of_countries = {**countries_final, **countries_with_effect_alpha2}\n",
    "\n",
    "# Create a new column named \"PercentageChange\" in the europe20 GeoDataFrame\n",
    "europe[\"PercentageChange\"] = europe[\"CNTR_CODE\"].map(merged_dict_of_countries)\n",
    "\n",
    "fig, ax = plt.subplots(1, 1, figsize=(15, 10))\n",
    "ax.set_xlim(0.25e7, 0.74e7)\n",
    "ax.set_ylim(0.13e7, 0.55e7)\n",
    "ax.set_title(\"Impact on the shipment of goods between 2019-2020 in EEA. (some countries are not investigated - light beige collor)\")\n",
    "europe.plot(column=\"PercentageChange\", cmap='Oranges', linewidth=0.01, ax=ax, edgecolor='0.8', legend=True, cax=ax.get_figure().add_axes([0.95, 0.15, 0.04, 0.7]))\n",
    "ax.get_figure().get_axes()[1].set_title(\"Percentage change in the shipment of goods\")\n",
    "plt.show()"
   ]
  },
  {
   "cell_type": "markdown",
   "metadata": {},
   "source": [
    "It should be noted that there is no available data for some countries, such as Iceland. Additionally, this analysis is, of course, irrelevant for certain countries within the EEA that do not have sea borders, such as Slovakia and Hungary. Therefore, these countries are represented with a light beige color on the map.\n",
    "\n",
    "As observed from the map, sea trading in northwestern Europe (United Kingdom and Ireland) appears to be more affected when compared to southeastern Europe (Greece and Turkey). Western European countries, including Italy, the Netherlands, Belgium, Germany, France, and Spain, experienced a moderate average decrease of 15%. Portugal, however, saw a decrease of over 20%, while Malta was the most affected with a significant 65% decrease in sea trading. Eastern Europe was also notably affected, with decreases in sea trading in countries like Romania, Bulgaria, and Latvia reaching 25%, 35%, and 40%, respectively."
   ]
  },
  {
   "cell_type": "markdown",
   "metadata": {},
   "source": [
    "# 2. Analysis of the pattern of passenger transportation behaviors in EEA\n",
    "This section focuses on the analysis of the pattern of passenger behaviors in European Economic Exclusive Area during the period 2018-2022. For this purpose the following steps are taken.\n",
    "\n",
    "WRITE A PARAGRAPH ON WHAT'S THE FOCUS OF THE SECTION\n",
    "\n",
    "\n",
    "WRITE HOW THE DATA HAS BEEN PROCESSED"
   ]
  },
  {
   "cell_type": "markdown",
   "metadata": {
    "collapsed": false
   },
   "source": [
    "WRITE HERE WHAT CAN BE DEDUCTED FROM THE GRAPH (COULD ALSO GO AFTER THE FIGURE)"
   ]
  },
  {
   "cell_type": "code",
   "execution_count": null,
   "metadata": {
    "collapsed": false
   },
   "outputs": [],
   "source": [
    "# Comparative graph of patterns for the three different transport modes (EU)"
   ]
  },
  {
   "cell_type": "markdown",
   "metadata": {
    "collapsed": false
   },
   "source": [
    "WRITE HERE WHAT CAN BE DEDUCTED FROM THE GRAPH (COULD ALSO GO AFTER THE FIGURE)"
   ]
  },
  {
   "cell_type": "code",
   "execution_count": null,
   "metadata": {
    "collapsed": false
   },
   "outputs": [],
   "source": [
    "# Normalization per transport mode for the highest quarter (Q) of 2019 "
   ]
  },
  {
   "cell_type": "markdown",
   "metadata": {
    "collapsed": false
   },
   "source": [
    "WRITE HERE WHAT CAN BE DEDUCTED FROM THE GRAPH (COULD ALSO GO AFTER THE FIGURE)"
   ]
  },
  {
   "cell_type": "code",
   "execution_count": null,
   "metadata": {
    "collapsed": false
   },
   "outputs": [],
   "source": [
    "# Analysis of the countries with the highest variation in maritime transportation compared to the other two modes of transportation. In order to find the top 3 countries, we consider the absolute difference between maritime transport and the maximum of Air or Railway transport. This difference is based on the percentage change for maritime transport being the most different from the highest change in other modes of transport. For each of those countries, we produce a line graph comparing the highest change in maritime transport to other means of transport."
   ]
  },
  {
   "cell_type": "markdown",
   "metadata": {
    "collapsed": false
   },
   "source": [
    "WRITE HERE THE CONCLUSIONS OVER THE PARAGRAPH AND RESULTS"
   ]
  },
  {
   "cell_type": "markdown",
   "metadata": {},
   "source": [
    "# 3. Analysis of the impact on the maritime CO2 emissions\n",
    "The main focus of this section is to define how the COVID-19 pandemic has affected specific categories of ships. This chapter will primarily examine the impact on various types of ships, both in relation to each other and concerning total CO2 emissions. The selected ship categories include Bulk Carriers, Passenger Ships, Container Ships, LNG Carriers, and Oil Tankers. Additionally, the total CO2 emissions also encompass other types of ships sailing in the European Economic Area (EEA) between 2018 and 2022."
   ]
  },
  {
   "cell_type": "markdown",
   "source": [
    "**Data processing**"
   ],
   "metadata": {
    "collapsed": false
   }
  },
  {
   "cell_type": "markdown",
   "source": [
    "The analyzed data has been obtained from the European dateset of ships which sailed in the EEA form 2018 to 2022 (https://data.europa.eu/data/datasets/co2-emissions-data?locale=en). There are five distinct datasets available, one for every year. Every ship that sailed in the EEA during the year is documented in each of these datasets, together with a variety of details (such as fuel usage, time spent at sea in hours, and CO2 emissions in tons). Additionally, these ships are separated into various groups. It has been determined to examine the five ship categories that are most pertinent, as previously stated. \n",
    "\n",
    "First, the dataset was pooled, and any ship without information on CO2 emissions or amount of time at sea was eliminated. The sum of each ship's emission contribution has been used to compute the yearly total CO2 emissions and time spent at sea. Additionally, by dividing the total CO2 emission by the number of listed ships annually, the average CO2 emission in [tons] and the amount of time spent at sea by ship each year have been determined. The list of ships was then broken down into the chosen categories for each year, and the aforementioned average value for the parameters that were chosen was found. An extra list of ships not included in the previous ones has been created by removing the same numbers for total emissions and time spent at sea for each type of ship, in order to include all non-categorized ships.\n",
    "\n",
    "The average CO2 emissions per ship type (df_ship_co2.csv), the total CO2 emissions by the maritime industry (df_ship_co2_total.csv'), the total CO2 emissions per category (df_ship_co2_final.csv), and the average time spent at sea for each ship type (df_ship_time.csv) have all been obtained in conclusion.\n",
    " \n",
    "First, the processed data are imported."
   ],
   "metadata": {
    "collapsed": false
   }
  },
  {
   "cell_type": "code",
   "execution_count": null,
   "metadata": {
    "collapsed": false
   },
   "outputs": [],
   "source": [
    "co2 = pd.read_csv('DATA_PROCESSED/df_ship_co2.csv')\n",
    "co2_tot = pd.read_csv('DATA_PROCESSED/df_ship_co2_total.csv')\n",
    "co2_final = pd.read_csv('DATA_PROCESSED/df_ship_co2_final.csv')\n",
    "time = pd.read_csv('DATA_PROCESSED/df_ship_time.csv')"
   ]
  },
  {
   "cell_type": "markdown",
   "metadata": {
    "collapsed": false
   },
   "source": [
    "**Line graphs of CO2 emissions and sailing time for the selected ship catergories** \n",
    "\n",
    "Specifically, in the first graph, CO2 emissions in tons are plotted for each of the selected ship categories and compared to the total CO2 emissions of the maritime\n",
    "industry. In the following graph the average CO2 emissions per ship per year are provided."
   ]
  },
  {
   "cell_type": "code",
   "execution_count": null,
   "metadata": {
    "collapsed": false
   },
   "outputs": [],
   "source": [
    "fig, ax = plt.subplots(figsize=(12, 5))\n",
    "ship_types = {\n",
    "    'Overall Average': ('CO2 per ship [t]', co2_tot),\n",
    "    'Bulk Carrier': ('Bulk carrier', co2),\n",
    "    'Passenger ship': ('Passenger ship', co2),\n",
    "    'Container ship': ('Container ship', co2),\n",
    "    'LNG carrier': ('LNG carrier', co2),\n",
    "    'Oil tanker': ('Oil tanker', co2)\n",
    "}\n",
    "\n",
    "colors = ['y','b', 'g', 'r', 'c', 'm'] \n",
    "for i, (ship_type, (column_name, data_source)) in enumerate(ship_types.items()):\n",
    "    data = data_source[data_source['Reporting Period'].isin(co2_tot['Reporting Period'])][column_name]\n",
    "    color = colors[i % len(colors)]  # Cycle through the list of colors\n",
    "    ax.plot(co2_tot['Reporting Period'], data, label=ship_type, color=color)\n",
    "    ax.scatter(co2_tot['Reporting Period'], data, marker='o', s=50, color=color)\n",
    "\n",
    "\n",
    "ax.set_title('CO2 emissions per ship per year')\n",
    "ax.set_xlabel('Reporting Year')\n",
    "ax.set_ylabel('CO2 per ship [t]')\n",
    "plt.xticks([2018, 2019, 2020, 2021, 2022])\n",
    "ax.legend(loc='upper left', bbox_to_anchor=(1.05, 1.0))\n",
    "plt.grid(True)\n",
    "plt.show()"
   ]
  },
  {
   "cell_type": "markdown",
   "metadata": {
    "collapsed": false
   },
   "source": [
    "Several key insights can be derived from the plot above. Firstly, it is evident that there is an overall decreasing trend in CO2 emissions for most of the ship types, except for passenger vessels. This decrease can be attributed to advancements in technologies related to emission reduction. Furthermore, the impact of the pandemic on these ship types is not particularly notable, except for passenger vessels. In contrast, passenger vessels significantly reduced their CO2 emissions as soon as the coronavirus began to spread globally. This aligns with the trend of the cruise industry. However, starting from the next year, 2021, emissions dramatically increased again, reaching pre-pandemic levels by 2022. Therefore, for this sector, it is less clear how technological improvements have affected CO2 emissions.\n",
    "\n",
    "Furthermore, some notes should be made regarding the overall CO2 emissions from ships. As displayed in the previous plot, it is evident that the overall ship emissions were not largely affected by the COVID-19 pandemic. Instead, a slightly decreasing trend is visible, which may not be linked to the pandemic's effects. Therefore, despite the passenger sector holding a significant position in the European maritime industry, it is apparent that its impact on CO2 emissions is not as significant as that of other ship categories.\n",
    "\n",
    "What was mentioned above can also be verified by examining the average time spent at sea per ship in the European Economic Area (EEA). In the following graph, these data are provided with a specific focus on the considered ship category."
   ]
  },
  {
   "cell_type": "code",
   "execution_count": null,
   "metadata": {
    "collapsed": false
   },
   "outputs": [],
   "source": [
    "fig, ax = plt.subplots(figsize=(12, 5))\n",
    "\n",
    "ship_types = ['Bulk carrier', 'Passenger ship', 'Container ship', 'LNG carrier', 'Oil tanker']\n",
    "colors = ['b', 'g', 'r', 'c', 'm'] \n",
    "\n",
    "for ship_type, color in zip(ship_types, colors):\n",
    "    data = time[ship_type]\n",
    "    ax.plot(time['Reporting Period'], data, label=ship_type, color=color)\n",
    "    ax.scatter(time['Reporting Period'], data, marker='o', s=50, color=color)\n",
    "\n",
    "\n",
    "ax.set_title('Time spent at sea per ship per year')\n",
    "ax.set_xlabel('Reporting Year')\n",
    "ax.set_ylabel('Time per ship [hours]')\n",
    "plt.xticks([2018, 2019, 2020, 2021, 2022])\n",
    "ax.legend(loc='upper left', bbox_to_anchor=(1, 1))\n",
    "plt.grid(True)\n",
    "plt.show()"
   ]
  },
  {
   "cell_type": "markdown",
   "metadata": {
    "collapsed": false
   },
   "source": [
    "As expected, the time spent at sea by passenger vessels rapidly decreased on average as the COVID-19 pandemic and lockdowns took place in Europe, especially in 2020. This decrease is proportional to what was already observed for CO2 emissions. Furthermore, the general trend related to CO2 emissions for each ship category is coherent and proportional to the average time spent at sea. It can be noticed that bulk carrier ships are the least productive in terms of CO2 emissions per ship due to their lower time spent at sea per ship. Similarly, this can be observed for oil tankers.\n",
    "\n",
    "However, a notable difference can be concluded when comparing container ships and LNG carriers. Despite LNG carriers spending less time at sea on average, their CO2 production is higher than that of container ships. This leads to the conclusion that, in terms of CO2 emissions, container ships outperform LNG carriers.\n",
    "\n",
    "In conclusion, comparing the time spent at sea with CO2 emissions reveals that CO2 emissions from ships not only depend on technological improvements but also on a decrease in the time spent at sea in the European exclusive area by each ship, on average. The only exceptions are passenger ships and LNG carriers: the former was affected by the pandemic's effects in 2020, while the latter faced a decline in 2021 and rapid growth in 2022, which can be attributed to increased global demand for these ships, as the pandemic's effects had already begun to subside in the passenger industry in 2021."
   ]
  },
  {
   "cell_type": "markdown",
   "metadata": {
    "collapsed": false
   },
   "source": [
    "**Doughnut graphs with the percentage of CO2 emissions from each vessel category per year** "
   ]
  },
  {
   "cell_type": "code",
   "execution_count": null,
   "metadata": {
    "collapsed": false
   },
   "outputs": [],
   "source": [
    "years_to_display = [2018, 2019, 2020, 2021]\n",
    "fig, axes = plt.subplots(2, 2, figsize=(8, 8)) \n",
    "\n",
    "for i, year in enumerate(years_to_display[:4]):\n",
    "    data = co2_final[co2_final['Reporting Period'] == year]\n",
    "    labels = data.columns[2:]  # Labels for different ship type\n",
    "    values = data.iloc[0, 2:]  # CO2 emissions values for each ship type\n",
    "\n",
    "    row = i // 2\n",
    "    col = i % 2\n",
    "\n",
    "    ax = axes[row, col]  # Create a donut chart in the corresponding subplot\n",
    "    ax.pie(values, labels=labels, autopct='%1.1f%%', startangle=90, pctdistance=0.85)\n",
    "\n",
    "    center_circle = plt.Circle((0, 0), 0.70, fc='white') \n",
    "    \n",
    "    ax.add_artist(center_circle)\n",
    "    ax.axis('equal') \n",
    "    ax.set_title(f' % C02 emission {year}', fontsize=12, y=.90)\n",
    "\n",
    "plt.tight_layout() \n",
    "plt.grid(True)\n",
    "plt.show()\n",
    "\n",
    "\n",
    "# Data for the year 2022\n",
    "data_2022 = co2_final[co2_final['Reporting Period'] == 2022]\n",
    "labels = data_2022.columns[2:]\n",
    "values = data_2022.iloc[0, 2:]\n",
    "\n",
    "fig, ax = plt.subplots(figsize=(3.2, 3.2))\n",
    "ax.pie(values, labels=labels, autopct='%1.1f%%', startangle=90, pctdistance=0.85)\n",
    "\n",
    "center_circle = plt.Circle((0, 0), 0.70, fc='white')\n",
    "ax.add_artist(center_circle) \n",
    "ax.axis('equal')\n",
    "ax.set_title('% CO2 emission 2022', fontsize=12, y=1.1)\n",
    "\n",
    "plt.show()\n"
   ]
  },
  {
   "cell_type": "markdown",
   "metadata": {
    "collapsed": false
   },
   "source": [
    "The five graphs above reported offer a comprehensive view over the contribution of each ship type on the total CO2 emissions throughout the years, from before Covid to after.\n",
    "\n",
    "First of all, it is possible to notice how the five ship types chosen always cover around 70% of the global emissions, thus underlying their relevance in the case study. The remaining 30% is instead related to ships for which not enough data is available, or their influence due to the pandemic is not important for the kind of cargo transported or operations they are used for. \n",
    "About 80% of world's cargo is carried by sea. This justifies the approximately constant percentages through the years of the merchant vessels such as bulk carriers, container ships, LNG carriers and oil tankers. The first two always cover around 42% of the total donut chart with peak value in 2021, which can be accounted as Covid period. Furthermore, in 2022 to the lowest container ships percentage corresponds also the maximum for bulk carriers. This behaviour may be implied to a late response of the containers market to Covid. \n",
    "\n",
    "The market seems to remain steady for oil tankers, which shows how the demand for oil was not influenced by Covid. This may implied to that part of the market which exploits oil derivatives for heating of houses and factories. On the other hand, LNG carriers cover a more importance slice of the chart in 2022 with respect to all previous years. \n",
    "As it can be expected, passenger ships score their lowest value in 2020, with increasingly higher percentages in the following years. This aligns with the population's desire to travel again after the quarantine period."
   ]
  },
  {
   "cell_type": "markdown",
   "metadata": {},
   "source": [
    "# 4. Analysis of the difference between CO2 emissions in maritime transport and broader emission trends in EEA\n",
    "This section investigates the impact on the overall CO2 emissions of maritime transport in comparison to the broader trends in CO2 emissions across the European Economic Area (EEA). The first dataset provided for the comparison of the broader emission trends in the EEA is exported from the Emissions Database for Global Atmospheric Research (EDGAR) of the European Commission. This statistical dataset consists of the atmospheric emissions produced by the member countries of the European Union. For our specific trend, only CO2 emissions are necessary.\n",
    "\n",
    "This dataset consists of emissions from different countries/regions and, in the latter part of the report, the total emissions from various sectors of industries that produce emissions. \n",
    "\n",
    "These sectors include:\n",
    "   - Agriculture\n",
    "   - Buildings\n",
    "   - Shipping\n",
    "   - Fuel Exploitation\n",
    "   - Power Industry\n",
    "   - Transport\n",
    "   - Processes\n",
    "   - Waste\n",
    "\n",
    "Since the goal of this graph is to compare the variation in the behavior of emission trends for the entire industry with the emissions of the maritime transport sector, the emissions from each sector in the EDGAR dataset are summarized per year. This summation is then normalized with respect to the maximum emission value, which was 3113 Mt CO2/year in the year 2017. This value serves as the benchmark for the maximum emissions. Therefore, we expect to see a downward trend in emissions production, and we will closely examine the influence of the COVID-19 pandemic on the emission trend.\n",
    "\n",
    "In the graph, a second dataset representing the emission trend of the maritime sector is plotted. It should be noted that this dataset has been processed and introduced in the previous chapter of the report. For this specific graph, the total emissions from all ship type categories are summed and then normalized with respect to the maximum value in the EDGAR dataset. As a result, we expect the values to be around the 4% mark, which essentially represents the emission contribution of the maritime sector in the global emissions trend.\n"
   ]
  },
  {
   "cell_type": "code",
   "execution_count": null,
   "metadata": {
    "collapsed": false
   },
   "outputs": [],
   "source": [
    "# Total Emissions\n",
    "file_path_emissions = os.path.abspath(\"\") + \"\\\\DATA_PROCESSED\\\\df_emissions.csv\"\n",
    "df_emissions = pd.read_csv(file_path_emissions)\n",
    "df_emissions = df_emissions.rename(columns={df_emissions.columns[0]: \"Years\"})\n",
    "\n",
    "# Ship dataset\n",
    "file_path_ships = os.path.abspath(\"\") + \"\\\\DATA_PROCESSED\\\\df_ship_co2_total.csv\"\n",
    "co2_tot = pd.read_csv(file_path_ships)\n",
    "co2_tot_normalized = (co2_tot[co2_tot.columns[2]] / df_emissions[df_emissions.columns[1]].max() * 100)\n",
    "\n",
    "#Plot size\n",
    "fig, ax1 = plt.subplots(figsize=(12, 5))\n",
    "\n",
    "# Plot Total Emissions\n",
    "ax1.plot(df_emissions[\"Years\"], df_emissions[df_emissions.columns[2]], color='b', label=\"Total Emissions\")\n",
    "ax1.set_xlabel(\"Time [years]\")\n",
    "ax1.set_ylabel(\"Normalized Total Emissions\", color='b')\n",
    "ax1.tick_params(axis='y', labelcolor='b')\n",
    "ax2 = ax1.twinx()\n",
    "\n",
    "ax2.plot(co2_tot[\"Reporting Period\"], co2_tot_normalized, color='r', label=\"Shipping Emissions\")\n",
    "ax2.set_ylabel(\"Normalized Shipping Emissions\", color='r')\n",
    "ax2.tick_params(axis='y', labelcolor='r')\n",
    "\n",
    "ax1.grid(True, which='both')\n",
    "plt.title(\"Normalized Emissions over Time\")\n",
    "ax1.legend(loc='upper left', fontsize='small', labels=[\"Total Emissions\"])\n",
    "ax2.legend(loc='upper right', fontsize='small', labels=[\"Shipping Emissions\"])\n",
    "\n",
    "plt.show()"
   ]
  },
  {
   "cell_type": "markdown",
   "metadata": {
    "collapsed": false
   },
   "source": [
    "It should be noted that the graph starts from the year 2017, which serves as the benchmark and represents the maximum CO2 emissions for the creation of the graph. The graph is divided into two parts, with two different y-axis values: the left side represents the normalized data for the total emissions, and the right side represents the normalized emissions of the maritime sector.\n",
    "\n",
    "The assumption that CO2 emissions would be close to approximately 3% - 4% seems to be validated. The trend for total emissions appears to follow a downward slope from the years 2017 to 2020, with the lowest amount of emissions occurring in 2020. This reduction is correlated with the beginning of restrictive measures implemented to address the COVID-19 pandemic, which temporarily shut down numerous industries. The COVID-19 pandemic played a significant role in the reduction of emissions. It should be noted that the goal to reduce emissions from all industry sectors by 2050 leads to the forecasted stabilization of the emission trend at around 90% of the previous maximum observed in 2017. The higher emission trend in 2021 is acceptable because industries restarted with fewer restrictions, leading to higher emission production.\n",
    "\n",
    "The trend in total CO2 emissions for the shipping industry is largely similar, with one notable exception: the most significant decrease in emissions becomes apparent in the year 2021. This can be attributed to the combined effects of the COVID-19 pandemic and the implementation of stricter regulations aimed at reducing emissions within the maritime sector. These regulations include the EU's Emissions Trading System (EU ETS) and the emission reduction goals set by the International Maritime Organization (IMO) to be achieved by 2025. Although the pandemic had minimal impact on CO2 emissions in the shipping sector, it is important to recognize that this trend is consistent with the EU's current emission reduction policies and rules, which are based on the Paris Agreement. Although it was only temporary, the pandemic did contribute to a decrease in emissions, which supported ship owners' ongoing efforts to reduce emissions. It is anticipated that both sets of data will continue to show a decreasing trend, primarily driven by the EU's sustainability goals, which must be met in the pursuit of more environmentally responsible practices in the shipping industry. This trend reflects the collective efforts within the industry to align with these objectives and reduce its carbon footprint over time.\n",
    "\n",
    "The aforementioned data highlights the industry's commitment to sustainability and demonstrates the continuous efforts to shift towards more ecologically conscious practices. It emphasizes how crucial regulations are to securing a more sustainable future for the maritime industry and the broader emission producing sectors."
   ]
  },
  {
   "cell_type": "markdown",
   "metadata": {},
   "source": [
    "# 5. Conclusions\n",
    "After having analysed in detail the different aspects of COVID-19’s influence over maritime transportation and environmental sustainability within the European Economic Exclusive Area, general conclusions can be drawn.\n",
    "\n",
    "COVID-19 had a noticeable impact on the shipment of goods for all the investigated countries within the EEA. Each country's shipping activity began to steadily decrease towards the end of 2019, reaching a local minimum around 2020. The recovery period after the pandemic varied from country to country. Furthermore, the most affected countries were typically smaller nations or those with less extensive shipping activity. The top shipping countries also experienced a decrease, which however never exceeded an average of 25%. Most states had returned to their pre-pandemic levels of sea trading around 2022. The most affected geographical regions appeared to be Eastern and Northwestern Europe, while Western Europe's sea trading activity seemed to be less affected.\n",
    "\n",
    "It is clear that the pandemic had also a drastic impact on passenger travel in European countries. This can be seen in part 1 and part 3 of Question 2, where all countries experienced massive drops across all analyzed passenger transport modes. Some effects of the transport volume drops are even noticeable to this day, which is best demonstrated by the erratic return to norms of rail transport analysed. The impact of COVID-19 on passenger travel varied significantly from country to country, generally visible in parts 1 and 3 of Question 2, but best visualized by part 2, where the drop in normalized maritime passenger transport volume across European countries varied from 77.3 percentage points for Belgium to as low as 8.8 percentage points for Latvia.\n",
    "\n",
    "As far as the CO2 emissions are concerned, most ship types show a decreasing trend, given by either lower time spent at sea or technological improvements such as carbon capture strategies and digital twins use for fuel efficiency. This is confirmed, for example, by container ships outperforming LNG carriers in emitted CO2, despite spending more time at sea. \n",
    "On the other hand, passenger vessels witnessed a great emissions reduction during the pandemic period, but later increased in 2022 to usual levels. Their contribution towards the total CO2 emissions is however not that relevant, despite the importance of such ships inside the maritime industry. \n",
    "\n",
    "The analysis carried out in the last Question supports the fact that, within the shipping industry, a significant reduction in emissions was observed in 2021, attributed to a combination of the COVID-19 pandemic and the implementation of stricter emission-reduction regulations. This data underscores the industry's dedication to sustainability and its ongoing efforts to adopt more eco-friendly practices. It highlights the essential role of regulations in steering the maritime industry and other emission-producing sectors toward a more sustainable future. The consistent trend in reducing emissions signals a collective commitment to align with environmental objectives and reduce the industry's carbon footprint over time.\n",
    "\n",
    "\n"
   ]
  },
  {
   "cell_type": "markdown",
   "metadata": {},
   "source": [
    "# 6. Contribution Statement"
   ]
  },
  {
   "cell_type": "markdown",
   "metadata": {},
   "source": [
    "**Nicola Bovo**: Background research & visualisation & Question 3 & Introduction\n",
    "\n",
    "**Zacharias Zervos**: Background research & conceptualisation & Question 4\n",
    "\n",
    "**Vaseileios Sideris**: Data analysis & Data modelling & Question 1 \n",
    "\n",
    "**Piotr Pietrzak**: Data analysis & Data modelling & Question 2\n",
    "\n",
    "**Davide Centorrino**: Data analysis & visualisation & Question 3 & Conclusion"
   ]
  },
  {
   "cell_type": "markdown",
   "metadata": {},
   "source": [
    "# 7. Data Used"
   ]
  },
  {
   "cell_type": "markdown",
   "metadata": {},
   "source": [
    "**Question 1**:\n",
    "    - Gross weight of goods transported: https://ec.europa.eu/eurostat/databrowser/bookmark/662cc15a-0555-4b7f-87c8-e48013aea8c0?lang=en\n",
    "    - Sea transport of goods: https://ec.europa.eu/eurostat/databrowser/view/TTR00009/default/table?lang=en\n",
    "\n",
    "**Question 2**:\n",
    "    - Maritime Transport: https://ec.europa.eu/eurostat/databrowser/bookmark/0d511ae5-24c1-4009-8c27-4992f3d7c652?lang=en\n",
    "    - Air Transport: https://ec.europa.eu/eurostat/databrowser/bookmark/e274c95c-b4af-4704-8630-9c7560979af0?lang=en\n",
    "    - Railway Transport :https://ec.europa.eu/eurostat/databrowser/bookmark/e8751a3b-5536-47f1-a543-672db0bc4528?lang=en \n",
    "    \n",
    "**Question 3**:\n",
    "    - CO2 emissions from maritime transport: https://data.europa.eu/data/datasets/co2-emissions-data?locale=en\n",
    "\n",
    "**Question 4**:\n",
    "    - CO2 emissions data from maritime transport: https://data.europa.eu/data/datasets/co2-emissions-data?locale=en\n",
    "    - Overall emissions: https://edgar.jrc.ec.europa.eu/emissions_reports"
   ]
  }
 ],
 "metadata": {
  "kernelspec": {
   "display_name": "Python 3",
   "language": "python",
   "name": "python3"
  },
  "language_info": {
   "codemirror_mode": {
    "name": "ipython",
    "version": 3
   },
   "file_extension": ".py",
   "mimetype": "text/x-python",
   "name": "python",
   "nbconvert_exporter": "python",
   "pygments_lexer": "ipython3",
   "version": "3.11.4"
  },
  "orig_nbformat": 4,
  "vscode": {
   "interpreter": {
    "hash": "31f2aee4e71d21fbe5cf8b01ff0e069b9275f58929596ceb00d14d90e3e16cd6"
   }
  }
 },
 "nbformat": 4,
 "nbformat_minor": 2
}
