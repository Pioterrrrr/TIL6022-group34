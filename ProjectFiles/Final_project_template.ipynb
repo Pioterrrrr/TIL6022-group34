{
 "cells": [
  {
   "cell_type": "markdown",
   "metadata": {},
   "source": [
    "# Project Group 34 - Final Notebook\n",
    "\n",
    "Members: Vasileios Sideris, Piotr Pietrzak, Davide Centorrino, Zacharias Zervos, Nicola Bovo\n",
    "\n",
    "Student numbers: 5842727, 5717086, 5851629, 5846307, 5619157"
   ]
  },
  {
   "cell_type": "markdown",
   "metadata": {},
   "source": [
    "# Research Objective\n",
    "\n",
    "In this comprehensive project, our objective is to analyze how the COVID-19 pandemic has specifically influenced the transportation of goods and passengers by sea within the European Economic Exclusive Area over a five-year period. We will examine changes in maritime transportation behavior and their direct impact on CO2 emissions, comparing maritime emissions to overall CO2 trends in the European region during the pandemic. This research aims to provide valuable insights into the adaptability and resilience of the maritime sector.\n",
    "\n",
    "Main research question:What are the multifaceted impacts of the COVID-19 pandemic on maritime transportation and environmental sustainability within the European Economic Exclusive Area \n",
    "Sub-research questions:\n",
    " 1. How did the COVID-19 pandemic impact the volume and patterns of goods transported by sea within the European Economic Exclusive Area from 2017 to 2022?\n",
    "\n",
    " 2. What were the changes in passenger maritime transportation behaviors during the COVID-19 pandemic in the European Economic Exclusive Area, and how do they differ across various modes of sea travel?\n",
    "\n",
    " 3. How did the alterations in maritime transportation practices during the COVID-19 pandemic correlate with fluctuations in CO2 emissions in the European Economic Exclusive Area?\n",
    "\n",
    " 4. How do the changes in maritime CO2 emissions within the European Economic Exclusive Area during the COVID-19 pandemic compare to the broader CO2 emission trends across Europe, and what insights can be gained from this comparison for sustainable transportation strategies?"
   ]
  },
  {
   "cell_type": "markdown",
   "metadata": {},
   "source": [
    "# Introduction\n",
    "WRITE HERE WHY THE RESEARCH OBJECTIVE IS RELEVANT"
   ]
  },
  {
   "cell_type": "code",
   "execution_count": 2,
   "outputs": [],
   "source": [
    "import pandas as pd\n",
    "import numpy as np\n",
    "import pycountry as pc\n",
    "import plotly_express as px\n",
    "import seaborn as sb\n",
    "import os\n",
    "import matplotlib.pyplot as plt\n",
    "import geopandas as gpd\n",
    "from plotly.subplots import make_subplots\n",
    "import plotly.graph_objects as go\n",
    "\n",
    "datapath = os.path.abspath(\"\") + \"\\\\DATA_PROCESSED\\\\\""
   ],
   "metadata": {
    "collapsed": false,
    "ExecuteTime": {
     "end_time": "2023-11-08T10:56:05.906323600Z",
     "start_time": "2023-11-08T10:56:05.764459400Z"
    }
   }
  },
  {
   "cell_type": "markdown",
   "metadata": {},
   "source": [
    "# 1. Analysis of the pattern of goods transported by sea in EEA\n",
    "This section focuses on the analysis of the pattern of goods transported by sea in European Economic Area (EEA) during the period 2018-2022. \n",
    "\n",
    "WRITE A PARAGRAPH ON WHAT'S THE FOCUS OF THE SECTION\n",
    "\n",
    "WRITE HOW THE DATA HAS BEEN PROCESSED"
   ]
  },
  {
   "cell_type": "markdown",
   "source": [
    "WRITE HERE WHAT CAN BE DEDUCTED FROM THE GRAPH (COULD ALSO GO AFTER THE FIGURE)"
   ],
   "metadata": {
    "collapsed": false
   }
  },
  {
   "cell_type": "code",
   "execution_count": 2,
   "outputs": [],
   "source": [
    "# Choropleth map displaying the impact on the imports/exports of goods"
   ],
   "metadata": {
    "collapsed": false,
    "ExecuteTime": {
     "end_time": "2023-11-03T12:31:42.857477500Z",
     "start_time": "2023-11-03T12:31:42.844706200Z"
    }
   }
  },
  {
   "cell_type": "markdown",
   "source": [
    "WRITE HERE WHAT CAN BE DEDUCTED FROM THE GRAPH (COULD ALSO GO AFTER THE FIGURE)"
   ],
   "metadata": {
    "collapsed": false
   }
  },
  {
   "cell_type": "code",
   "execution_count": 3,
   "outputs": [],
   "source": [
    "# Chronological representation of the changes in the transportation of goods from the top 10 most affected countries within the EEA. "
   ],
   "metadata": {
    "collapsed": false,
    "ExecuteTime": {
     "end_time": "2023-11-03T12:31:42.883204100Z",
     "start_time": "2023-11-03T12:31:42.856477100Z"
    }
   }
  },
  {
   "cell_type": "markdown",
   "source": [
    "WRITE HERE THE GENERAL CONCLUSIONS OF THE FIRST SECTION"
   ],
   "metadata": {
    "collapsed": false
   }
  },
  {
   "cell_type": "markdown",
   "metadata": {},
   "source": [
    "# 2. Analysis of the pattern of passenger transportation behaviors in EEA\n",
    "This section focuses on the analysis of the pattern of passenger travels in European Economic Area during the period 2018-2022 (extending into Q1 and Q2 of 2023 for some reporting countries). To conduct this analysis, three datasets from Eurostat were used, one for aviation, maritime and rail passenger transport data in European countries. They are available under the following links and for the purpose of this project, they were accessed on 20-10-2023:\n",
    "- Aviation passenger transport data: https://ec.europa.eu/eurostat/databrowser/view/avia_paoc__custom_8077441/default/table?lang=en\n",
    "- Maritime passenger transport data: https://ec.europa.eu/eurostat/databrowser/view/MAR_PA_QM__custom_8077490/default/table?lang=en\n",
    "- Rail passenger transport data: https://ec.europa.eu/eurostat/databrowser/view/rail_pa_quartal__custom_8373712/default/table?lang=en\n",
    "\n",
    "The focus of the analysis is to establish the general trends of the volume of passenger transport in European countries, visualize the impact of the COVID-19 pandemic on passenger transport and take a closer look at some countries most affected by the pandemic in terms of maritime passenger transport.\n",
    "\n",
    "The datasets were downloaded in the form of .csv files from the website and preprocessed in the dataprocessing.py file by cutting out the columns with irrelevant data and appending a column with the passenger numbers normalized through division by the number of passengers in the top quarter of 2019 in terms of transport volume, per country. \n",
    "\n",
    "In case of the maritime transport dataframe, the data was structured in a slightly different way from other transport modes - the passenger counts were given per reporting entity, as opposed to per country. Some countries had multiple reporting entities, such as Sweden or Denmark. Luckily, the reporting entity codes started with the code of their respective countries, so they only needed to be summed to obtain results of the same type as other transport modes. Additionally, several countries' data was missing in certain time periods: \n",
    "- Data for Bulgaria was missing entirely;\n",
    "- Data for Belgium, Montenegro and United Kingdom was missing from Q2 of 2020;\n",
    "- Data for France and EU27 (2020) was missing from Q1 of 2022;\n",
    "- Data for Sweden, Norway, Denmark, the Netherlands and Italy was missing from Q1 of 2023;\n",
    "- Data for Finland was missing from Q2 of 2023.\n",
    "\n",
    "Because in the specified periods the passenger count was equal to zero, their data was useless for this study, because the trends would be incomplete. Additionally, if the data was missing from at least Q2 of 2020, no valid passenger transport volume drop could be calculated. The decision was therefore made to cut out the data by simply deleting the passenger values for certain periods of time, so that the plots would not be cluttered with invalid information. Then, the unit of passenger counts was converted from thousands of passengers to passengers. Afterwards, since the data in this dataset started from the year 2017, only the data from years 2018-2023 was kept for easy comparison with other transport modes.\n",
    "\n",
    "In case of rail transport dataframe, first, the data in the unit of thousands of passengers was first separated from the data in the unit of millions of km travelled. Then, a similar operation to maritime passenger dataset was performed, where missing data for certain countries was removed. All countries affected were missing data entirely, over the entire time range of the dataset. Those countries were Austria, Belgium, Serbia, Bosnia and Herzegovina as well as all combined data for EU: EU27 (2020), EU28 and EU27 (2007). Then, the unit of passenger counts was converted from thousands of passengers to passengers. Afterwards, the dataset was cut to the time range of 2018-2023. \n",
    "\n",
    "**Load relevant processed datasets**"
   ]
  },
  {
   "cell_type": "code",
   "execution_count": 3,
   "outputs": [],
   "source": [
    "df_passengers_avia = pd.read_csv(datapath+\"df_passengers_avia.csv\").iloc[:,1:]\n",
    "df_passengers_mar = pd.read_csv(datapath+\"df_passengers_mar.csv\").iloc[:,1:]\n",
    "df_passengers_rail = pd.read_csv(datapath+\"df_passengers_rail.csv\").iloc[:,1:]"
   ],
   "metadata": {
    "collapsed": false,
    "ExecuteTime": {
     "end_time": "2023-11-08T10:56:09.171052500Z",
     "start_time": "2023-11-08T10:56:09.160895400Z"
    }
   }
  },
  {
   "cell_type": "markdown",
   "source": [
    "**Visualisation of general trends in passenger transport across European countries per transport mode**\n",
    "First, a simple collection of line plots were created to showcase the trends of passenger transport in Europe between 2018 and 2023. To do this, the normalized passenger counts for each country and each quarter of the time range were plotted together - for this, no additional data processing was needed. As mentioned in the first paragraph of this chapter, some countries had missing data in various parts of the time range, which can be seen in the graph."
   ],
   "metadata": {
    "collapsed": false
   }
  },
  {
   "cell_type": "code",
   "execution_count": 7,
   "outputs": [
    {
     "data": {
      "application/vnd.plotly.v1+json": {
       "data": [
        {
         "hovertemplate": "Country code=AT<br>Time period=%{x}<br>Normalized passenger transport volume [%]=%{y}<extra></extra>",
         "legendgroup": "AT",
         "line": {
          "color": "#636efa",
          "dash": "solid"
         },
         "marker": {
          "symbol": "circle"
         },
         "mode": "lines",
         "name": "AT",
         "orientation": "v",
         "showlegend": true,
         "x": [
          "2018-Q1",
          "2018-Q2",
          "2018-Q3",
          "2018-Q4",
          "2019-Q1",
          "2019-Q2",
          "2019-Q3",
          "2019-Q4",
          "2020-Q1",
          "2020-Q2",
          "2020-Q3",
          "2020-Q4",
          "2021-Q1",
          "2021-Q2",
          "2021-Q3",
          "2021-Q4",
          "2022-Q1",
          "2022-Q2",
          "2022-Q3",
          "2022-Q4",
          "2023-Q1",
          "2023-Q2"
         ],
         "xaxis": "x",
         "y": [
          60.52037395853517,
          76.05638442162372,
          89.6831428017826,
          75.41048246463863,
          72.72586708002325,
          90.39971904669638,
          100.0,
          82.19690951366015,
          59.12955822515016,
          1.7021507459794614,
          20.073590389459408,
          7.918872311567526,
          5.585855454369308,
          13.859223018794808,
          50.52184654136795,
          37.62427824065104,
          35.989430342956794,
          66.97303817089711,
          86.56621778725054,
          66.05337143964348,
          63.19678356907576,
          84.50589033133113
         ],
         "yaxis": "y",
         "type": "scatter"
        },
        {
         "hovertemplate": "Country code=BE<br>Time period=%{x}<br>Normalized passenger transport volume [%]=%{y}<extra></extra>",
         "legendgroup": "BE",
         "line": {
          "color": "#EF553B",
          "dash": "solid"
         },
         "marker": {
          "symbol": "circle"
         },
         "mode": "lines",
         "name": "BE",
         "orientation": "v",
         "showlegend": true,
         "x": [
          "2018-Q1",
          "2018-Q2",
          "2018-Q3",
          "2018-Q4",
          "2019-Q1",
          "2019-Q2",
          "2019-Q3",
          "2019-Q4",
          "2020-Q1",
          "2020-Q2",
          "2020-Q3",
          "2020-Q4",
          "2021-Q1",
          "2021-Q2",
          "2021-Q3",
          "2021-Q4",
          "2022-Q1",
          "2022-Q2",
          "2022-Q3",
          "2022-Q4",
          "2023-Q1",
          "2023-Q2"
         ],
         "xaxis": "x",
         "y": [
          66.14318453112708,
          87.85435980625127,
          97.775272829541,
          75.41790498355006,
          67.17475626614498,
          89.77840152843142,
          100.0,
          78.57114343248686,
          54.46900159744182,
          1.42473566638034,
          21.912356037513664,
          11.949409064105046,
          7.237320761898296,
          16.539975348553234,
          56.4010841023201,
          47.829552853780925,
          39.76906644521643,
          70.5553649135706,
          87.49208841030217,
          66.48525914978015,
          60.1474630240151,
          82.25689409407356
         ],
         "yaxis": "y",
         "type": "scatter"
        },
        {
         "hovertemplate": "Country code=BG<br>Time period=%{x}<br>Normalized passenger transport volume [%]=%{y}<extra></extra>",
         "legendgroup": "BG",
         "line": {
          "color": "#00cc96",
          "dash": "solid"
         },
         "marker": {
          "symbol": "circle"
         },
         "mode": "lines",
         "name": "BG",
         "orientation": "v",
         "showlegend": true,
         "x": [
          "2018-Q1",
          "2018-Q2",
          "2018-Q3",
          "2018-Q4",
          "2019-Q1",
          "2019-Q2",
          "2019-Q3",
          "2019-Q4",
          "2020-Q1",
          "2020-Q2",
          "2020-Q3",
          "2020-Q4",
          "2021-Q1",
          "2021-Q2",
          "2021-Q3",
          "2021-Q4",
          "2022-Q1",
          "2022-Q2",
          "2022-Q3",
          "2022-Q4",
          "2023-Q1"
         ],
         "xaxis": "x",
         "y": [
          33.00115257178983,
          63.30244737077989,
          108.05802758715878,
          36.34014035516345,
          34.21319722462617,
          59.70474569253065,
          100.0,
          38.36271346970116,
          29.936346783705982,
          5.228951683206958,
          27.50099352798814,
          11.283463648774172,
          8.582078896830943,
          15.845779865927264,
          52.48506931692075,
          23.191005656565338,
          22.15085522730572,
          44.22224804645824,
          71.78209967961202,
          36.505470551513135,
          35.73747936595066
         ],
         "yaxis": "y",
         "type": "scatter"
        },
        {
         "hovertemplate": "Country code=CH<br>Time period=%{x}<br>Normalized passenger transport volume [%]=%{y}<extra></extra>",
         "legendgroup": "CH",
         "line": {
          "color": "#ab63fa",
          "dash": "solid"
         },
         "marker": {
          "symbol": "circle"
         },
         "mode": "lines",
         "name": "CH",
         "orientation": "v",
         "showlegend": true,
         "x": [
          "2018-Q1",
          "2018-Q2",
          "2018-Q3",
          "2018-Q4",
          "2019-Q1",
          "2019-Q2",
          "2019-Q3",
          "2019-Q4",
          "2020-Q1",
          "2020-Q2",
          "2020-Q3",
          "2020-Q4",
          "2021-Q1",
          "2021-Q2",
          "2021-Q3",
          "2021-Q4",
          "2022-Q1",
          "2022-Q2",
          "2022-Q3",
          "2022-Q4",
          "2023-Q1",
          "2023-Q2"
         ],
         "xaxis": "x",
         "y": [
          74.98448825523563,
          89.23928981676252,
          98.98791037015684,
          80.88486604735736,
          77.59299890892198,
          91.71196275930878,
          100.0,
          81.25665757710807,
          60.28240048441143,
          2.225410551737576,
          24.145125573266466,
          11.457728894235553,
          7.8589918502889695,
          15.323997948643392,
          50.36994967286967,
          43.5763356511718,
          41.95145012364959,
          68.29627380400817,
          81.83234664763967,
          67.95078313241565,
          65.38321625232446,
          82.37846793915584
         ],
         "yaxis": "y",
         "type": "scatter"
        },
        {
         "hovertemplate": "Country code=CY<br>Time period=%{x}<br>Normalized passenger transport volume [%]=%{y}<extra></extra>",
         "legendgroup": "CY",
         "line": {
          "color": "#FFA15A",
          "dash": "solid"
         },
         "marker": {
          "symbol": "circle"
         },
         "mode": "lines",
         "name": "CY",
         "orientation": "v",
         "showlegend": true,
         "x": [
          "2018-Q1",
          "2018-Q2",
          "2018-Q3",
          "2018-Q4",
          "2019-Q1",
          "2019-Q2",
          "2019-Q3",
          "2019-Q4",
          "2020-Q1",
          "2020-Q2",
          "2020-Q3",
          "2020-Q4",
          "2021-Q1",
          "2021-Q2",
          "2021-Q3",
          "2021-Q4",
          "2022-Q1",
          "2022-Q2",
          "2022-Q3",
          "2022-Q4",
          "2023-Q1",
          "2023-Q2",
          "2023-Q3"
         ],
         "xaxis": "x",
         "y": [
          31.43286875838196,
          75.11340035519338,
          99.02818224330252,
          52.10938220359028,
          32.92221897051461,
          77.51059012519022,
          100.0,
          55.1347279936102,
          26.79493277572705,
          1.3392738179656347,
          17.395278441941024,
          8.01545664233074,
          2.8488810418188204,
          18.773415537340227,
          56.83334563532144,
          41.8060151769588,
          17.60949810954209,
          57.46499180404607,
          80.23066581425287,
          47.818456613796414,
          35.90025909637692,
          77.64024443303596,
          101.4252069386986
         ],
         "yaxis": "y",
         "type": "scatter"
        },
        {
         "hovertemplate": "Country code=CZ<br>Time period=%{x}<br>Normalized passenger transport volume [%]=%{y}<extra></extra>",
         "legendgroup": "CZ",
         "line": {
          "color": "#19d3f3",
          "dash": "solid"
         },
         "marker": {
          "symbol": "circle"
         },
         "mode": "lines",
         "name": "CZ",
         "orientation": "v",
         "showlegend": true,
         "x": [
          "2018-Q1",
          "2018-Q2",
          "2018-Q3",
          "2018-Q4",
          "2019-Q1",
          "2019-Q2",
          "2019-Q3",
          "2019-Q4",
          "2020-Q1",
          "2020-Q2",
          "2020-Q3",
          "2020-Q4",
          "2021-Q1",
          "2021-Q2",
          "2021-Q3",
          "2021-Q4",
          "2022-Q1",
          "2022-Q2",
          "2022-Q3",
          "2022-Q4",
          "2023-Q1"
         ],
         "xaxis": "x",
         "y": [
          50.02120115498218,
          73.28717524007746,
          95.48289295355576,
          62.391547028575374,
          51.699355327259134,
          76.98292274551332,
          100.0,
          67.14221356451472,
          40.52447086173159,
          0.7838910314227914,
          14.338553914143048,
          4.5891436845621225,
          4.04513308177782,
          9.051663668029953,
          34.909806030711884,
          26.9487014016722,
          22.42374441085537,
          48.28191829941832,
          69.01809806251393,
          42.064715067511095,
          35.98498043976713
         ],
         "yaxis": "y",
         "type": "scatter"
        },
        {
         "hovertemplate": "Country code=DE<br>Time period=%{x}<br>Normalized passenger transport volume [%]=%{y}<extra></extra>",
         "legendgroup": "DE",
         "line": {
          "color": "#FF6692",
          "dash": "solid"
         },
         "marker": {
          "symbol": "circle"
         },
         "mode": "lines",
         "name": "DE",
         "orientation": "v",
         "showlegend": true,
         "x": [
          "2018-Q1",
          "2018-Q2",
          "2018-Q3",
          "2018-Q4",
          "2019-Q1",
          "2019-Q2",
          "2019-Q3",
          "2019-Q4",
          "2020-Q1",
          "2020-Q2",
          "2020-Q3",
          "2020-Q4",
          "2021-Q1",
          "2021-Q2",
          "2021-Q3",
          "2021-Q4",
          "2022-Q1",
          "2022-Q2",
          "2022-Q3",
          "2022-Q4",
          "2023-Q1",
          "2023-Q2"
         ],
         "xaxis": "x",
         "y": [
          63.95840153677355,
          86.25211349817762,
          99.2344078838674,
          78.74661702698126,
          66.89427698136457,
          90.06512692926128,
          100.0,
          77.63849467359874,
          50.51314833464186,
          2.9320154501883,
          21.359242139086724,
          10.47546853301134,
          6.840858849344817,
          15.143453017899589,
          46.05475888986148,
          40.5562794930464,
          30.397007359324267,
          64.6488196717001,
          75.70088962394698,
          58.40746251419407,
          48.02034889893291,
          73.26358055884309
         ],
         "yaxis": "y",
         "type": "scatter"
        },
        {
         "hovertemplate": "Country code=DK<br>Time period=%{x}<br>Normalized passenger transport volume [%]=%{y}<extra></extra>",
         "legendgroup": "DK",
         "line": {
          "color": "#B6E880",
          "dash": "solid"
         },
         "marker": {
          "symbol": "circle"
         },
         "mode": "lines",
         "name": "DK",
         "orientation": "v",
         "showlegend": true,
         "x": [
          "2018-Q1",
          "2018-Q2",
          "2018-Q3",
          "2018-Q4",
          "2019-Q1",
          "2019-Q2",
          "2019-Q3",
          "2019-Q4",
          "2020-Q1",
          "2020-Q2",
          "2020-Q3",
          "2020-Q4",
          "2021-Q1",
          "2021-Q2",
          "2021-Q3",
          "2021-Q4",
          "2022-Q1",
          "2022-Q2",
          "2022-Q3",
          "2022-Q4",
          "2023-Q1",
          "2023-Q2"
         ],
         "xaxis": "x",
         "y": [
          68.66662330003783,
          90.856649672369,
          99.67602805046482,
          76.70949702067388,
          69.16688833983639,
          90.6200111436748,
          100.0,
          76.88650643471715,
          53.237076841407074,
          2.4423059275599184,
          18.82760254949313,
          9.309227682932637,
          4.607471992708211,
          10.484327803700957,
          44.28906994456428,
          45.33615138980365,
          36.81964244988928,
          71.95034830759795,
          83.98944719551496,
          65.20978993901954,
          58.481718836333954,
          82.55832908379091
         ],
         "yaxis": "y",
         "type": "scatter"
        },
        {
         "hovertemplate": "Country code=EE<br>Time period=%{x}<br>Normalized passenger transport volume [%]=%{y}<extra></extra>",
         "legendgroup": "EE",
         "line": {
          "color": "#FF97FF",
          "dash": "solid"
         },
         "marker": {
          "symbol": "circle"
         },
         "mode": "lines",
         "name": "EE",
         "orientation": "v",
         "showlegend": true,
         "x": [
          "2018-Q1",
          "2018-Q2",
          "2018-Q3",
          "2018-Q4",
          "2019-Q1",
          "2019-Q2",
          "2019-Q3",
          "2019-Q4",
          "2020-Q1",
          "2020-Q2",
          "2020-Q3",
          "2020-Q4",
          "2021-Q1",
          "2021-Q2",
          "2021-Q3",
          "2021-Q4",
          "2022-Q1",
          "2022-Q2",
          "2022-Q3",
          "2022-Q4",
          "2023-Q1",
          "2023-Q2"
         ],
         "xaxis": "x",
         "y": [
          58.15576804894573,
          84.91074368724739,
          94.25502283057136,
          76.82461045403159,
          66.05659296982002,
          92.618290045787,
          100.0,
          82.99746420204164,
          55.3293705809683,
          3.984705509749923,
          21.190272939113584,
          9.458484435989456,
          8.897106170022212,
          20.553911400184155,
          52.263026639511885,
          53.87888995391937,
          45.08172652394326,
          80.33246429642618,
          88.23654024032402,
          72.79218831603299,
          64.60013465527621,
          80.9877027432342
         ],
         "yaxis": "y",
         "type": "scatter"
        },
        {
         "hovertemplate": "Country code=EL<br>Time period=%{x}<br>Normalized passenger transport volume [%]=%{y}<extra></extra>",
         "legendgroup": "EL",
         "line": {
          "color": "#FECB52",
          "dash": "solid"
         },
         "marker": {
          "symbol": "circle"
         },
         "mode": "lines",
         "name": "EL",
         "orientation": "v",
         "showlegend": true,
         "x": [
          "2018-Q1",
          "2018-Q2",
          "2018-Q3",
          "2018-Q4",
          "2019-Q1",
          "2019-Q2",
          "2019-Q3",
          "2019-Q4",
          "2020-Q1",
          "2020-Q2",
          "2020-Q3",
          "2020-Q4",
          "2021-Q1",
          "2021-Q2",
          "2021-Q3",
          "2021-Q4",
          "2022-Q1",
          "2022-Q2",
          "2022-Q3",
          "2022-Q4"
         ],
         "xaxis": "x",
         "y": [
          18.60693008449987,
          61.15319884443911,
          96.39832193989194,
          32.77818497214798,
          19.936971856558085,
          61.39324627939568,
          100.0,
          34.65212067572479,
          17.45811184197302,
          1.983627885426928,
          36.76357772876727,
          10.571105571350865,
          3.214389876804813,
          16.13601029595479,
          75.41221979993557,
          29.406646392776874,
          14.008280015344427,
          63.59326650348257,
          108.8734297933454,
          36.459496337060514
         ],
         "yaxis": "y",
         "type": "scatter"
        },
        {
         "hovertemplate": "Country code=ES<br>Time period=%{x}<br>Normalized passenger transport volume [%]=%{y}<extra></extra>",
         "legendgroup": "ES",
         "line": {
          "color": "#636efa",
          "dash": "solid"
         },
         "marker": {
          "symbol": "circle"
         },
         "mode": "lines",
         "name": "ES",
         "orientation": "v",
         "showlegend": true,
         "x": [
          "2018-Q1",
          "2018-Q2",
          "2018-Q3",
          "2018-Q4",
          "2019-Q1",
          "2019-Q2",
          "2019-Q3",
          "2019-Q4",
          "2020-Q1",
          "2020-Q2",
          "2020-Q3",
          "2020-Q4",
          "2021-Q1",
          "2021-Q2",
          "2021-Q3",
          "2021-Q4",
          "2022-Q1",
          "2022-Q2",
          "2022-Q3",
          "2022-Q4",
          "2023-Q1"
         ],
         "xaxis": "x",
         "y": [
          56.20360471000512,
          83.0090733571344,
          97.60019825643916,
          67.97051894255698,
          59.32965135566806,
          86.83792985097983,
          100.0,
          69.1858937470985,
          46.78200015995464,
          1.2723895566613612,
          21.2494861191273,
          10.545381906621444,
          7.710562398328194,
          18.589754633203277,
          53.04367719053892,
          47.617052347124336,
          41.30800370987555,
          76.17746708858698,
          90.90809707983864,
          67.32192484754125,
          60.45170869560695
         ],
         "yaxis": "y",
         "type": "scatter"
        },
        {
         "hovertemplate": "Country code=EU27_2020<br>Time period=%{x}<br>Normalized passenger transport volume [%]=%{y}<extra></extra>",
         "legendgroup": "EU27_2020",
         "line": {
          "color": "#EF553B",
          "dash": "solid"
         },
         "marker": {
          "symbol": "circle"
         },
         "mode": "lines",
         "name": "EU27_2020",
         "orientation": "v",
         "showlegend": true,
         "x": [
          "2018-Q1",
          "2018-Q2",
          "2018-Q3",
          "2018-Q4",
          "2019-Q1",
          "2019-Q2",
          "2019-Q3",
          "2019-Q4",
          "2020-Q1",
          "2020-Q2",
          "2020-Q3",
          "2020-Q4",
          "2021-Q1",
          "2021-Q2",
          "2021-Q3",
          "2021-Q4",
          "2022-Q1",
          "2022-Q2",
          "2022-Q3",
          "2022-Q4"
         ],
         "xaxis": "x",
         "y": [
          58.933385621899575,
          81.99089926321271,
          97.04042523178752,
          70.17706050584994,
          61.92340356404173,
          86.05973538989927,
          100.0,
          72.1665418712006,
          48.77586738828485,
          2.256930663965654,
          23.035647629828027,
          11.529392561223595,
          7.795009170252258,
          16.14334862022121,
          49.69242218770518,
          41.98392724131536,
          35.696703247054145,
          69.49912383784583,
          85.96216413598518,
          62.40767550015014
         ],
         "yaxis": "y",
         "type": "scatter"
        },
        {
         "hovertemplate": "Country code=FI<br>Time period=%{x}<br>Normalized passenger transport volume [%]=%{y}<extra></extra>",
         "legendgroup": "FI",
         "line": {
          "color": "#00cc96",
          "dash": "solid"
         },
         "marker": {
          "symbol": "circle"
         },
         "mode": "lines",
         "name": "FI",
         "orientation": "v",
         "showlegend": true,
         "x": [
          "2018-Q1",
          "2018-Q2",
          "2018-Q3",
          "2018-Q4",
          "2019-Q1",
          "2019-Q2",
          "2019-Q3",
          "2019-Q4",
          "2020-Q1",
          "2020-Q2",
          "2020-Q3",
          "2020-Q4",
          "2021-Q1",
          "2021-Q2",
          "2021-Q3",
          "2021-Q4",
          "2022-Q1",
          "2022-Q2",
          "2022-Q3",
          "2022-Q4",
          "2023-Q1",
          "2023-Q2"
         ],
         "xaxis": "x",
         "y": [
          79.94703831559781,
          90.58305558932317,
          93.56546281960108,
          87.33713957137742,
          83.0757653538722,
          96.53642692797982,
          100.0,
          89.48283587187318,
          66.20159832835326,
          2.2911761009289693,
          10.71512062746346,
          6.831416980229867,
          5.938980265686467,
          7.218898204872139,
          20.73446140537703,
          38.2927908173543,
          36.15362438697278,
          55.81373196816784,
          65.06947417269953,
          61.88145527981999,
          61.61563250905346,
          66.10181176952031
         ],
         "yaxis": "y",
         "type": "scatter"
        },
        {
         "hovertemplate": "Country code=FR<br>Time period=%{x}<br>Normalized passenger transport volume [%]=%{y}<extra></extra>",
         "legendgroup": "FR",
         "line": {
          "color": "#ab63fa",
          "dash": "solid"
         },
         "marker": {
          "symbol": "circle"
         },
         "mode": "lines",
         "name": "FR",
         "orientation": "v",
         "showlegend": true,
         "x": [
          "2018-Q1",
          "2018-Q2",
          "2018-Q3",
          "2018-Q4",
          "2019-Q1",
          "2019-Q2",
          "2019-Q3",
          "2019-Q4",
          "2020-Q1",
          "2020-Q2",
          "2020-Q3",
          "2020-Q4",
          "2021-Q1",
          "2021-Q2",
          "2021-Q3",
          "2021-Q4",
          "2022-Q1",
          "2022-Q2",
          "2022-Q3",
          "2022-Q4",
          "2023-Q1",
          "2023-Q2"
         ],
         "xaxis": "x",
         "y": [
          66.74615080204123,
          85.39328921791878,
          96.91057548991316,
          75.45274757128006,
          69.95740669311374,
          91.03124881372256,
          100.0,
          77.00696406827629,
          56.39115850088788,
          2.5378519531773103,
          27.26310183641506,
          15.418863230963495,
          12.642486756010614,
          18.47615821492928,
          53.18669750679164,
          47.97441256543118,
          43.07771973914567,
          74.11466168294093,
          86.65794334374036,
          69.7102603445145,
          63.42528312655005,
          84.01481656131939
         ],
         "yaxis": "y",
         "type": "scatter"
        },
        {
         "hovertemplate": "Country code=HR<br>Time period=%{x}<br>Normalized passenger transport volume [%]=%{y}<extra></extra>",
         "legendgroup": "HR",
         "line": {
          "color": "#FFA15A",
          "dash": "solid"
         },
         "marker": {
          "symbol": "circle"
         },
         "mode": "lines",
         "name": "HR",
         "orientation": "v",
         "showlegend": true,
         "x": [
          "2018-Q1",
          "2018-Q2",
          "2018-Q3",
          "2018-Q4",
          "2019-Q1",
          "2019-Q2",
          "2019-Q3",
          "2019-Q4",
          "2020-Q1",
          "2020-Q2",
          "2020-Q3",
          "2020-Q4",
          "2021-Q1",
          "2021-Q2",
          "2021-Q3",
          "2021-Q4",
          "2022-Q1",
          "2022-Q2",
          "2022-Q3",
          "2022-Q4",
          "2023-Q1",
          "2023-Q2"
         ],
         "xaxis": "x",
         "y": [
          14.1220093039203,
          55.56566884329581,
          93.96820557158874,
          26.78453484997424,
          14.78564407172054,
          62.93935152016022,
          100.0,
          30.17069451019386,
          11.275665674929536,
          1.730722526458011,
          21.40038658373988,
          3.628239282692834,
          2.3552566406041304,
          9.269027174562892,
          57.65162413508395,
          17.974519603067698,
          10.733481686197097,
          51.45923913415732,
          93.67806228276191,
          28.386076488158547,
          16.01154154229182,
          61.12158209307482
         ],
         "yaxis": "y",
         "type": "scatter"
        },
        {
         "hovertemplate": "Country code=HU<br>Time period=%{x}<br>Normalized passenger transport volume [%]=%{y}<extra></extra>",
         "legendgroup": "HU",
         "line": {
          "color": "#19d3f3",
          "dash": "solid"
         },
         "marker": {
          "symbol": "circle"
         },
         "mode": "lines",
         "name": "HU",
         "orientation": "v",
         "showlegend": true,
         "x": [
          "2018-Q1",
          "2018-Q2",
          "2018-Q3",
          "2018-Q4",
          "2019-Q1",
          "2019-Q2",
          "2019-Q3",
          "2019-Q4",
          "2020-Q1",
          "2020-Q2",
          "2020-Q3",
          "2020-Q4",
          "2021-Q1",
          "2021-Q2",
          "2021-Q3",
          "2021-Q4",
          "2022-Q1",
          "2022-Q2",
          "2022-Q3",
          "2022-Q4",
          "2023-Q1",
          "2023-Q2"
         ],
         "xaxis": "x",
         "y": [
          61.94751916256395,
          80.80856682207664,
          92.55055581425503,
          74.10980420300126,
          65.993778435989,
          89.05621671169669,
          100.0,
          85.44281241768395,
          58.26161558416563,
          2.408236212291605,
          16.43909040717849,
          3.6818260033485046,
          3.7149970763786895,
          8.460132325465516,
          38.88014702104599,
          44.06168473983848,
          40.67248590993942,
          68.43159745526697,
          78.84898619251537,
          64.7243069957324,
          59.37012474933108,
          78.26766670553955
         ],
         "yaxis": "y",
         "type": "scatter"
        },
        {
         "hovertemplate": "Country code=IE<br>Time period=%{x}<br>Normalized passenger transport volume [%]=%{y}<extra></extra>",
         "legendgroup": "IE",
         "line": {
          "color": "#FF6692",
          "dash": "solid"
         },
         "marker": {
          "symbol": "circle"
         },
         "mode": "lines",
         "name": "IE",
         "orientation": "v",
         "showlegend": true,
         "x": [
          "2018-Q1",
          "2018-Q2",
          "2018-Q3",
          "2018-Q4",
          "2019-Q1",
          "2019-Q2",
          "2019-Q3",
          "2019-Q4",
          "2020-Q1",
          "2020-Q2",
          "2020-Q3",
          "2020-Q4",
          "2021-Q1",
          "2021-Q2",
          "2021-Q3",
          "2021-Q4",
          "2022-Q1",
          "2022-Q2",
          "2022-Q3",
          "2022-Q4",
          "2023-Q1",
          "2023-Q2"
         ],
         "xaxis": "x",
         "y": [
          59.65993478639584,
          86.31792129151121,
          95.8029776239441,
          72.44278679871924,
          64.09962992598088,
          90.35123097918532,
          100.0,
          73.62734354635609,
          51.023424764656525,
          1.409056503615365,
          12.513516282435512,
          6.538219295981837,
          3.602197879152958,
          5.122107999711238,
          30.837613975751744,
          39.09001820326708,
          40.49058474807431,
          78.734978846429,
          89.99493801335828,
          70.94718804696798,
          65.63909634676726,
          92.54725133260796
         ],
         "yaxis": "y",
         "type": "scatter"
        },
        {
         "hovertemplate": "Country code=IS<br>Time period=%{x}<br>Normalized passenger transport volume [%]=%{y}<extra></extra>",
         "legendgroup": "IS",
         "line": {
          "color": "#B6E880",
          "dash": "solid"
         },
         "marker": {
          "symbol": "circle"
         },
         "mode": "lines",
         "name": "IS",
         "orientation": "v",
         "showlegend": true,
         "x": [
          "2018-Q1",
          "2018-Q2",
          "2018-Q3",
          "2018-Q4",
          "2019-Q1",
          "2019-Q2",
          "2019-Q3",
          "2019-Q4",
          "2020-Q1",
          "2020-Q2",
          "2020-Q3",
          "2020-Q4",
          "2021-Q1",
          "2021-Q2",
          "2021-Q3",
          "2021-Q4",
          "2022-Q1",
          "2022-Q2",
          "2022-Q3",
          "2022-Q4",
          "2023-Q1",
          "2023-Q2"
         ],
         "xaxis": "x",
         "y": [
          76.74356595144091,
          109.78637868354296,
          142.63661744646097,
          89.16277643931554,
          70.23160311657104,
          79.34323223885755,
          100.0,
          62.50185681631612,
          42.859764590667154,
          2.5168347916970992,
          14.10468534935922,
          3.378191820955587,
          4.055327982684802,
          10.827142231101108,
          48.29100889420159,
          37.11060864484299,
          32.28029388104443,
          68.28520698615566,
          101.09178741973513,
          64.30378132155944,
          56.81257162373186,
          86.76979798249964
         ],
         "yaxis": "y",
         "type": "scatter"
        },
        {
         "hovertemplate": "Country code=IT<br>Time period=%{x}<br>Normalized passenger transport volume [%]=%{y}<extra></extra>",
         "legendgroup": "IT",
         "line": {
          "color": "#FF97FF",
          "dash": "solid"
         },
         "marker": {
          "symbol": "circle"
         },
         "mode": "lines",
         "name": "IT",
         "orientation": "v",
         "showlegend": true,
         "x": [
          "2018-Q1",
          "2018-Q2",
          "2018-Q3",
          "2018-Q4",
          "2019-Q1",
          "2019-Q2",
          "2019-Q3",
          "2019-Q4",
          "2020-Q1",
          "2020-Q2",
          "2020-Q3",
          "2020-Q4",
          "2021-Q1",
          "2021-Q2",
          "2021-Q3",
          "2021-Q4",
          "2022-Q1",
          "2022-Q2",
          "2022-Q3",
          "2022-Q4",
          "2023-Q1",
          "2023-Q2"
         ],
         "xaxis": "x",
         "y": [
          57.30238087241329,
          81.96454920726826,
          96.31247106196706,
          68.64738324796306,
          61.04687777334698,
          86.41492035307044,
          100.0,
          71.27776129316561,
          41.68267642456956,
          1.8726938226520815,
          26.399917361141437,
          10.20249079502982,
          6.222946491517624,
          15.968951627006092,
          53.03004552179855,
          43.23147059772855,
          35.1610270413525,
          73.62817183605566,
          90.21449660077865,
          63.70780497792789,
          57.90201649249903,
          87.893107660106
         ],
         "yaxis": "y",
         "type": "scatter"
        },
        {
         "hovertemplate": "Country code=LT<br>Time period=%{x}<br>Normalized passenger transport volume [%]=%{y}<extra></extra>",
         "legendgroup": "LT",
         "line": {
          "color": "#FECB52",
          "dash": "solid"
         },
         "marker": {
          "symbol": "circle"
         },
         "mode": "lines",
         "name": "LT",
         "orientation": "v",
         "showlegend": true,
         "x": [
          "2018-Q1",
          "2018-Q2",
          "2018-Q3",
          "2018-Q4",
          "2019-Q1",
          "2019-Q2",
          "2019-Q3",
          "2019-Q4",
          "2020-Q1",
          "2020-Q2",
          "2020-Q3",
          "2020-Q4",
          "2021-Q1",
          "2021-Q2",
          "2021-Q3",
          "2021-Q4",
          "2022-Q1",
          "2022-Q2",
          "2022-Q3",
          "2022-Q4",
          "2023-Q1",
          "2023-Q2"
         ],
         "xaxis": "x",
         "y": [
          67.84348833824446,
          94.10856843128586,
          99.88032042708966,
          81.67260304444181,
          72.61551220825015,
          97.00812052540375,
          100.0,
          87.6402143137648,
          60.67166658885756,
          2.6365206693048533,
          26.36410821142476,
          9.438209035560597,
          8.097402365580177,
          18.100285879842588,
          55.944735389507855,
          53.22363163517228,
          44.64965301711709,
          84.08080430824492,
          92.11268224496688,
          72.11586784167585,
          64.3285119144063,
          89.85409417832201
         ],
         "yaxis": "y",
         "type": "scatter"
        },
        {
         "hovertemplate": "Country code=LU<br>Time period=%{x}<br>Normalized passenger transport volume [%]=%{y}<extra></extra>",
         "legendgroup": "LU",
         "line": {
          "color": "#636efa",
          "dash": "solid"
         },
         "marker": {
          "symbol": "circle"
         },
         "mode": "lines",
         "name": "LU",
         "orientation": "v",
         "showlegend": true,
         "x": [
          "2018-Q1",
          "2018-Q2",
          "2018-Q3",
          "2018-Q4",
          "2019-Q1",
          "2019-Q2",
          "2019-Q3",
          "2019-Q4",
          "2020-Q1",
          "2020-Q2",
          "2020-Q3",
          "2020-Q4",
          "2021-Q1",
          "2021-Q2",
          "2021-Q3",
          "2021-Q4",
          "2022-Q1",
          "2022-Q2",
          "2022-Q3",
          "2022-Q4",
          "2023-Q1",
          "2023-Q2"
         ],
         "xaxis": "x",
         "y": [
          61.52304799980962,
          86.46272102044216,
          92.22809230305482,
          76.19967793880838,
          67.23146363326273,
          94.01418338449822,
          100.0,
          85.0549328510348,
          56.59797085584192,
          2.956458278797109,
          34.96117020854652,
          18.627035688504957,
          11.148394056939784,
          27.393366808659163,
          62.9010891379707,
          57.438264994486886,
          46.1788946796443,
          90.45620047119296,
          103.2406019212616,
          81.96711168225411,
          73.17714158793619,
          102.97256133837844
         ],
         "yaxis": "y",
         "type": "scatter"
        },
        {
         "hovertemplate": "Country code=LV<br>Time period=%{x}<br>Normalized passenger transport volume [%]=%{y}<extra></extra>",
         "legendgroup": "LV",
         "line": {
          "color": "#EF553B",
          "dash": "solid"
         },
         "marker": {
          "symbol": "circle"
         },
         "mode": "lines",
         "name": "LV",
         "orientation": "v",
         "showlegend": true,
         "x": [
          "2018-Q1",
          "2018-Q2",
          "2018-Q3",
          "2018-Q4",
          "2019-Q1",
          "2019-Q2",
          "2019-Q3",
          "2019-Q4",
          "2020-Q1",
          "2020-Q2",
          "2020-Q3",
          "2020-Q4",
          "2021-Q1",
          "2021-Q2",
          "2021-Q3",
          "2021-Q4",
          "2022-Q1",
          "2022-Q2",
          "2022-Q3",
          "2022-Q4",
          "2023-Q1",
          "2023-Q2"
         ],
         "xaxis": "x",
         "y": [
          56.26082008591456,
          78.64241661264874,
          88.7985509995227,
          69.64452383284804,
          59.538454163271005,
          88.50841741718583,
          100.0,
          76.50780880363668,
          52.01027973296039,
          2.79466170882844,
          20.226020730377943,
          8.137871811813357,
          4.3034813945587445,
          12.260561633585464,
          42.364380266747816,
          38.4553304750729,
          32.320547585450804,
          59.9744465681074,
          71.33746996012748,
          60.15261193174357,
          52.42859733335557,
          74.25281223229862
         ],
         "yaxis": "y",
         "type": "scatter"
        },
        {
         "hovertemplate": "Country code=ME<br>Time period=%{x}<br>Normalized passenger transport volume [%]=%{y}<extra></extra>",
         "legendgroup": "ME",
         "line": {
          "color": "#00cc96",
          "dash": "solid"
         },
         "marker": {
          "symbol": "circle"
         },
         "mode": "lines",
         "name": "ME",
         "orientation": "v",
         "showlegend": true,
         "x": [
          "2018-Q1",
          "2018-Q2",
          "2018-Q3",
          "2018-Q4",
          "2019-Q1",
          "2019-Q2",
          "2019-Q3",
          "2019-Q4",
          "2020-Q1",
          "2020-Q2",
          "2020-Q3",
          "2020-Q4",
          "2021-Q1",
          "2021-Q2",
          "2021-Q3",
          "2021-Q4",
          "2022-Q1",
          "2022-Q2",
          "2022-Q3",
          "2022-Q4",
          "2023-Q1",
          "2023-Q2"
         ],
         "xaxis": "x",
         "y": [
          18.636511372148,
          50.536047070817446,
          93.98317852725208,
          27.06096556282409,
          19.979064741080105,
          55.63096890654192,
          100.0,
          31.1549544311276,
          17.787955289270563,
          0.7178471133738581,
          15.8977024995265,
          6.279096775299824,
          5.116277982202692,
          17.192867047076273,
          62.16470265463136,
          17.573146750241424,
          13.24969622050767,
          39.48151329342176,
          66.77677293038286,
          29.24864556045465,
          23.638604118618584,
          51.794968523066586
         ],
         "yaxis": "y",
         "type": "scatter"
        },
        {
         "hovertemplate": "Country code=MK<br>Time period=%{x}<br>Normalized passenger transport volume [%]=%{y}<extra></extra>",
         "legendgroup": "MK",
         "line": {
          "color": "#ab63fa",
          "dash": "solid"
         },
         "marker": {
          "symbol": "circle"
         },
         "mode": "lines",
         "name": "MK",
         "orientation": "v",
         "showlegend": true,
         "x": [
          "2018-Q1",
          "2018-Q2",
          "2018-Q3",
          "2018-Q4",
          "2019-Q1",
          "2019-Q2",
          "2019-Q3",
          "2019-Q4",
          "2020-Q1",
          "2020-Q2",
          "2020-Q3",
          "2020-Q4",
          "2021-Q1",
          "2021-Q2",
          "2021-Q3",
          "2021-Q4",
          "2022-Q1",
          "2022-Q2",
          "2022-Q3",
          "2022-Q4",
          "2023-Q1"
         ],
         "xaxis": "x",
         "y": [
          58.35727599033069,
          73.73063222179718,
          92.61250335739808,
          67.3248523423108,
          61.60072601189943,
          81.75976494143883,
          100.0,
          75.87407654596312,
          51.97075875840028,
          0.3714164014661316,
          24.277989847770822,
          19.590112564401,
          20.13353626939491,
          30.58542170276378,
          72.18867085018815,
          48.85956987321922,
          44.4739262430512,
          72.31604849846306,
          103.29472664675288,
          69.53164635949527,
          66.88967929048344
         ],
         "yaxis": "y",
         "type": "scatter"
        },
        {
         "hovertemplate": "Country code=MT<br>Time period=%{x}<br>Normalized passenger transport volume [%]=%{y}<extra></extra>",
         "legendgroup": "MT",
         "line": {
          "color": "#FFA15A",
          "dash": "solid"
         },
         "marker": {
          "symbol": "circle"
         },
         "mode": "lines",
         "name": "MT",
         "orientation": "v",
         "showlegend": true,
         "x": [
          "2018-Q1",
          "2018-Q2",
          "2018-Q3",
          "2018-Q4",
          "2019-Q1",
          "2019-Q2",
          "2019-Q3",
          "2019-Q4",
          "2020-Q1",
          "2020-Q2",
          "2020-Q3",
          "2020-Q4",
          "2021-Q1",
          "2021-Q2",
          "2021-Q3",
          "2021-Q4",
          "2022-Q1",
          "2022-Q2",
          "2022-Q3",
          "2022-Q4",
          "2023-Q1",
          "2023-Q2"
         ],
         "xaxis": "x",
         "y": [
          49.09753491646727,
          79.46463161959552,
          93.06621176590816,
          63.416856988130895,
          50.38911019183482,
          85.93712501994658,
          100.0,
          70.1855021743346,
          42.31364446791731,
          0.3778647167250161,
          22.4191634622996,
          8.286260793666683,
          4.168532186978954,
          12.871943565724465,
          47.73547124404273,
          41.937203759213645,
          28.259732361880644,
          70.16682253970156,
          86.40964438750274,
          60.66265794447793,
          52.25795318950573,
          91.7920177649189
         ],
         "yaxis": "y",
         "type": "scatter"
        },
        {
         "hovertemplate": "Country code=NL<br>Time period=%{x}<br>Normalized passenger transport volume [%]=%{y}<extra></extra>",
         "legendgroup": "NL",
         "line": {
          "color": "#19d3f3",
          "dash": "solid"
         },
         "marker": {
          "symbol": "circle"
         },
         "mode": "lines",
         "name": "NL",
         "orientation": "v",
         "showlegend": true,
         "x": [
          "2018-Q1",
          "2018-Q2",
          "2018-Q3",
          "2018-Q4",
          "2019-Q1",
          "2019-Q2",
          "2019-Q3",
          "2019-Q4",
          "2020-Q1",
          "2020-Q2",
          "2020-Q3",
          "2020-Q4",
          "2021-Q1",
          "2021-Q2",
          "2021-Q3",
          "2021-Q4",
          "2022-Q1",
          "2022-Q2",
          "2022-Q3",
          "2022-Q4",
          "2023-Q1",
          "2023-Q2"
         ],
         "xaxis": "x",
         "y": [
          72.82076891768011,
          92.0137804805872,
          98.71465484977544,
          81.52677045614286,
          74.20113498238446,
          94.472556585559,
          100.0,
          83.11082642242596,
          59.15350234239921,
          3.820403149333918,
          23.761671376768174,
          15.494045930833648,
          9.129884677685816,
          16.730145368871007,
          52.04527849910369,
          48.101423117027416,
          43.834567682351896,
          75.20412967280761,
          81.04361135453784,
          65.4691977732238,
          61.13261151926792,
          82.19892720083404
         ],
         "yaxis": "y",
         "type": "scatter"
        },
        {
         "hovertemplate": "Country code=NO<br>Time period=%{x}<br>Normalized passenger transport volume [%]=%{y}<extra></extra>",
         "legendgroup": "NO",
         "line": {
          "color": "#FF6692",
          "dash": "solid"
         },
         "marker": {
          "symbol": "circle"
         },
         "mode": "lines",
         "name": "NO",
         "orientation": "v",
         "showlegend": true,
         "x": [
          "2018-Q1",
          "2018-Q2",
          "2018-Q3",
          "2018-Q4",
          "2019-Q1",
          "2019-Q2",
          "2019-Q3",
          "2019-Q4",
          "2020-Q1",
          "2020-Q2",
          "2020-Q3",
          "2020-Q4",
          "2021-Q1",
          "2021-Q2",
          "2021-Q3",
          "2021-Q4",
          "2022-Q1",
          "2022-Q2",
          "2022-Q3",
          "2022-Q4",
          "2023-Q1",
          "2023-Q2"
         ],
         "xaxis": "x",
         "y": [
          73.0053661989709,
          90.75604527782482,
          99.4187598933412,
          80.83979668928701,
          75.10466455648826,
          90.5298331907154,
          100.0,
          81.12122542633485,
          59.94265374915037,
          9.329319233278357,
          26.73753476607864,
          17.57679604722695,
          11.709539280007542,
          16.365527519247838,
          41.94320325150011,
          51.46966955864408,
          43.29829289025259,
          78.37070576675816,
          86.74415388884636,
          71.43121470699982,
          64.09973269985011,
          81.91044108606896
         ],
         "yaxis": "y",
         "type": "scatter"
        },
        {
         "hovertemplate": "Country code=PL<br>Time period=%{x}<br>Normalized passenger transport volume [%]=%{y}<extra></extra>",
         "legendgroup": "PL",
         "line": {
          "color": "#B6E880",
          "dash": "solid"
         },
         "marker": {
          "symbol": "circle"
         },
         "mode": "lines",
         "name": "PL",
         "orientation": "v",
         "showlegend": true,
         "x": [
          "2018-Q1",
          "2018-Q2",
          "2018-Q3",
          "2018-Q4",
          "2019-Q1",
          "2019-Q2",
          "2019-Q3",
          "2019-Q4",
          "2020-Q1",
          "2020-Q2",
          "2020-Q3",
          "2020-Q4",
          "2021-Q1",
          "2021-Q2",
          "2021-Q3",
          "2021-Q4",
          "2022-Q1",
          "2022-Q2",
          "2022-Q3",
          "2022-Q4",
          "2023-Q1",
          "2023-Q2"
         ],
         "xaxis": "x",
         "y": [
          56.245326965504375,
          78.03052972476453,
          95.92216894334786,
          66.11093719577039,
          60.31571772529205,
          84.0634460313768,
          100.0,
          73.42625196704118,
          51.14821585878628,
          0.7597023772933242,
          30.350555104368613,
          11.34073201689049,
          6.652295632850393,
          18.03269343620937,
          59.42014022691619,
          43.80712746589311,
          37.07304949808123,
          70.86520565143014,
          93.15000505046538,
          65.29699309101751,
          61.003786088824825,
          89.66145362955147
         ],
         "yaxis": "y",
         "type": "scatter"
        },
        {
         "hovertemplate": "Country code=PT<br>Time period=%{x}<br>Normalized passenger transport volume [%]=%{y}<extra></extra>",
         "legendgroup": "PT",
         "line": {
          "color": "#FF97FF",
          "dash": "solid"
         },
         "marker": {
          "symbol": "circle"
         },
         "mode": "lines",
         "name": "PT",
         "orientation": "v",
         "showlegend": true,
         "x": [
          "2018-Q1",
          "2018-Q2",
          "2018-Q3",
          "2018-Q4",
          "2019-Q1",
          "2019-Q2",
          "2019-Q3",
          "2019-Q4",
          "2020-Q1",
          "2020-Q2",
          "2020-Q3",
          "2020-Q4",
          "2021-Q1",
          "2021-Q2",
          "2021-Q3",
          "2021-Q4",
          "2022-Q1",
          "2022-Q2",
          "2022-Q3",
          "2022-Q4",
          "2023-Q1"
         ],
         "xaxis": "x",
         "y": [
          55.18509430456728,
          82.08818665088461,
          92.92724037171952,
          66.66513245011726,
          58.80330643644186,
          89.42809779705317,
          100.0,
          71.84705843264476,
          50.54322030579632,
          2.291287440241926,
          27.54821391881985,
          15.912116274451286,
          7.049839480411478,
          19.54129097514668,
          52.26987726403376,
          51.1751449005464,
          49.40417216516495,
          93.10638876283164,
          107.97988310433648,
          81.65515936368921,
          72.89958141490804
         ],
         "yaxis": "y",
         "type": "scatter"
        },
        {
         "hovertemplate": "Country code=RO<br>Time period=%{x}<br>Normalized passenger transport volume [%]=%{y}<extra></extra>",
         "legendgroup": "RO",
         "line": {
          "color": "#FECB52",
          "dash": "solid"
         },
         "marker": {
          "symbol": "circle"
         },
         "mode": "lines",
         "name": "RO",
         "orientation": "v",
         "showlegend": true,
         "x": [
          "2018-Q1",
          "2018-Q2",
          "2018-Q3",
          "2018-Q4",
          "2019-Q1",
          "2019-Q2",
          "2019-Q3",
          "2019-Q4",
          "2020-Q1",
          "2020-Q2",
          "2020-Q3",
          "2020-Q4",
          "2021-Q1",
          "2021-Q2",
          "2021-Q3",
          "2021-Q4",
          "2022-Q1",
          "2022-Q2",
          "2022-Q3",
          "2022-Q4",
          "2023-Q1"
         ],
         "xaxis": "x",
         "y": [
          59.73877213526821,
          77.06782179355704,
          92.80452799836576,
          71.93133901733131,
          65.60610901664785,
          84.8301003571539,
          100.0,
          77.8394860929483,
          54.31766831769602,
          3.133449639596209,
          28.78251210872408,
          14.740730446155432,
          12.480841204505044,
          28.98231614063732,
          70.95283811991804,
          45.658631021197095,
          43.682251614559966,
          82.94308933931477,
          96.1562916274256,
          74.59470271196756,
          70.46865659873137
         ],
         "yaxis": "y",
         "type": "scatter"
        },
        {
         "hovertemplate": "Country code=RS<br>Time period=%{x}<br>Normalized passenger transport volume [%]=%{y}<extra></extra>",
         "legendgroup": "RS",
         "line": {
          "color": "#636efa",
          "dash": "solid"
         },
         "marker": {
          "symbol": "circle"
         },
         "mode": "lines",
         "name": "RS",
         "orientation": "v",
         "showlegend": true,
         "x": [
          "2018-Q1",
          "2018-Q2",
          "2018-Q3",
          "2018-Q4",
          "2019-Q1",
          "2019-Q2",
          "2019-Q3",
          "2019-Q4",
          "2020-Q1",
          "2020-Q2",
          "2020-Q3",
          "2020-Q4",
          "2021-Q1",
          "2021-Q2",
          "2021-Q3",
          "2021-Q4",
          "2022-Q1",
          "2022-Q2"
         ],
         "xaxis": "x",
         "y": [
          47.09919220023147,
          67.35282496112976,
          86.35830771209127,
          57.36996294174723,
          51.92218935948844,
          77.87994061327316,
          100.0,
          71.8376918670579,
          47.621281023135104,
          4.423001835377187,
          23.824458446826668,
          14.77635286003203,
          13.507861727125004,
          30.655381629861704,
          74.32777264703475,
          41.98173975052899,
          37.083036204860825,
          70.16654002174396
         ],
         "yaxis": "y",
         "type": "scatter"
        },
        {
         "hovertemplate": "Country code=SE<br>Time period=%{x}<br>Normalized passenger transport volume [%]=%{y}<extra></extra>",
         "legendgroup": "SE",
         "line": {
          "color": "#EF553B",
          "dash": "solid"
         },
         "marker": {
          "symbol": "circle"
         },
         "mode": "lines",
         "name": "SE",
         "orientation": "v",
         "showlegend": true,
         "x": [
          "2018-Q1",
          "2018-Q2",
          "2018-Q3",
          "2018-Q4",
          "2019-Q1",
          "2019-Q2",
          "2019-Q3",
          "2019-Q4",
          "2020-Q1",
          "2020-Q2",
          "2020-Q3",
          "2020-Q4",
          "2021-Q1",
          "2021-Q2",
          "2021-Q3",
          "2021-Q4",
          "2022-Q1",
          "2022-Q2",
          "2022-Q3",
          "2022-Q4",
          "2023-Q1"
         ],
         "xaxis": "x",
         "y": [
          77.92527176386366,
          97.59069042751472,
          102.4757064783096,
          83.71400645003821,
          74.56220207766869,
          94.38552816792836,
          100.0,
          80.40237137909781,
          56.40897782014565,
          2.622199469716361,
          14.773854869310751,
          12.733633706037708,
          7.6488696830000515,
          13.128383697400258,
          38.2288567323992,
          41.28125688441831,
          33.31727820424279,
          65.46931810962836,
          73.19724366930718,
          60.56611697817827,
          55.29966932501959
         ],
         "yaxis": "y",
         "type": "scatter"
        },
        {
         "hovertemplate": "Country code=SI<br>Time period=%{x}<br>Normalized passenger transport volume [%]=%{y}<extra></extra>",
         "legendgroup": "SI",
         "line": {
          "color": "#00cc96",
          "dash": "solid"
         },
         "marker": {
          "symbol": "circle"
         },
         "mode": "lines",
         "name": "SI",
         "orientation": "v",
         "showlegend": true,
         "x": [
          "2018-Q1",
          "2018-Q2",
          "2018-Q3",
          "2018-Q4",
          "2019-Q1",
          "2019-Q2",
          "2019-Q3",
          "2019-Q4",
          "2020-Q1",
          "2020-Q2",
          "2020-Q3",
          "2020-Q4",
          "2021-Q1",
          "2021-Q2",
          "2021-Q3",
          "2021-Q4",
          "2022-Q1",
          "2022-Q2",
          "2022-Q3",
          "2022-Q4",
          "2023-Q1",
          "2023-Q2"
         ],
         "xaxis": "x",
         "y": [
          55.78015001321255,
          84.86943294463605,
          100.42229329141456,
          65.62298847459465,
          57.88179175672654,
          87.48382310095063,
          100.0,
          45.82517430396986,
          32.41173003042273,
          0.8964204164323416,
          11.976325828155597,
          3.464227879149248,
          3.110707582646168,
          8.666921883363711,
          34.26792332658025,
          24.98814258708423,
          21.339786024514357,
          43.44369761564366,
          61.99428133914233,
          37.33069308272409,
          34.00706024243328,
          56.53343451659021
         ],
         "yaxis": "y",
         "type": "scatter"
        },
        {
         "hovertemplate": "Country code=SK<br>Time period=%{x}<br>Normalized passenger transport volume [%]=%{y}<extra></extra>",
         "legendgroup": "SK",
         "line": {
          "color": "#ab63fa",
          "dash": "solid"
         },
         "marker": {
          "symbol": "circle"
         },
         "mode": "lines",
         "name": "SK",
         "orientation": "v",
         "showlegend": true,
         "x": [
          "2018-Q1",
          "2018-Q2",
          "2018-Q3",
          "2018-Q4",
          "2019-Q1",
          "2019-Q2",
          "2019-Q3",
          "2019-Q4",
          "2020-Q1",
          "2020-Q2",
          "2020-Q3",
          "2020-Q4",
          "2021-Q1",
          "2021-Q2",
          "2021-Q3",
          "2021-Q4",
          "2022-Q1",
          "2022-Q2",
          "2022-Q3",
          "2022-Q4",
          "2023-Q1",
          "2023-Q2"
         ],
         "xaxis": "x",
         "y": [
          37.45592418700769,
          57.115941653048345,
          101.05989468496276,
          45.96110779659845,
          40.52242483982257,
          59.7732008681141,
          100.0,
          45.24811288941921,
          29.236076885165104,
          0.4209142867024634,
          10.611397888511323,
          3.016610031732856,
          1.8293515948570287,
          4.734075207733478,
          32.015079591536754,
          16.939119607792275,
          16.524344374983787,
          42.8019160765393,
          80.17941601169014,
          28.45952980035105,
          26.252669623788403,
          52.76810804734853
         ],
         "yaxis": "y",
         "type": "scatter"
        },
        {
         "hovertemplate": "Country code=UK<br>Time period=%{x}<br>Normalized passenger transport volume [%]=%{y}<extra></extra>",
         "legendgroup": "UK",
         "line": {
          "color": "#FFA15A",
          "dash": "solid"
         },
         "marker": {
          "symbol": "circle"
         },
         "mode": "lines",
         "name": "UK",
         "orientation": "v",
         "showlegend": true,
         "x": [
          "2018-Q1",
          "2018-Q2",
          "2018-Q3",
          "2018-Q4",
          "2019-Q1",
          "2019-Q2",
          "2019-Q3",
          "2019-Q4",
          "2020-Q1",
          "2020-Q2",
          "2020-Q3"
         ],
         "xaxis": "x",
         "y": [
          64.50466829316446,
          86.84068901400576,
          99.2216433391384,
          74.37221758492595,
          67.02790183992803,
          89.4424193504698,
          100.0,
          74.7270384982022,
          53.44411917114868,
          1.59113401000732,
          17.755950193110053
         ],
         "yaxis": "y",
         "type": "scatter"
        }
       ],
       "layout": {
        "template": {
         "data": {
          "histogram2dcontour": [
           {
            "type": "histogram2dcontour",
            "colorbar": {
             "outlinewidth": 0,
             "ticks": ""
            },
            "colorscale": [
             [
              0.0,
              "#0d0887"
             ],
             [
              0.1111111111111111,
              "#46039f"
             ],
             [
              0.2222222222222222,
              "#7201a8"
             ],
             [
              0.3333333333333333,
              "#9c179e"
             ],
             [
              0.4444444444444444,
              "#bd3786"
             ],
             [
              0.5555555555555556,
              "#d8576b"
             ],
             [
              0.6666666666666666,
              "#ed7953"
             ],
             [
              0.7777777777777778,
              "#fb9f3a"
             ],
             [
              0.8888888888888888,
              "#fdca26"
             ],
             [
              1.0,
              "#f0f921"
             ]
            ]
           }
          ],
          "choropleth": [
           {
            "type": "choropleth",
            "colorbar": {
             "outlinewidth": 0,
             "ticks": ""
            }
           }
          ],
          "histogram2d": [
           {
            "type": "histogram2d",
            "colorbar": {
             "outlinewidth": 0,
             "ticks": ""
            },
            "colorscale": [
             [
              0.0,
              "#0d0887"
             ],
             [
              0.1111111111111111,
              "#46039f"
             ],
             [
              0.2222222222222222,
              "#7201a8"
             ],
             [
              0.3333333333333333,
              "#9c179e"
             ],
             [
              0.4444444444444444,
              "#bd3786"
             ],
             [
              0.5555555555555556,
              "#d8576b"
             ],
             [
              0.6666666666666666,
              "#ed7953"
             ],
             [
              0.7777777777777778,
              "#fb9f3a"
             ],
             [
              0.8888888888888888,
              "#fdca26"
             ],
             [
              1.0,
              "#f0f921"
             ]
            ]
           }
          ],
          "heatmap": [
           {
            "type": "heatmap",
            "colorbar": {
             "outlinewidth": 0,
             "ticks": ""
            },
            "colorscale": [
             [
              0.0,
              "#0d0887"
             ],
             [
              0.1111111111111111,
              "#46039f"
             ],
             [
              0.2222222222222222,
              "#7201a8"
             ],
             [
              0.3333333333333333,
              "#9c179e"
             ],
             [
              0.4444444444444444,
              "#bd3786"
             ],
             [
              0.5555555555555556,
              "#d8576b"
             ],
             [
              0.6666666666666666,
              "#ed7953"
             ],
             [
              0.7777777777777778,
              "#fb9f3a"
             ],
             [
              0.8888888888888888,
              "#fdca26"
             ],
             [
              1.0,
              "#f0f921"
             ]
            ]
           }
          ],
          "heatmapgl": [
           {
            "type": "heatmapgl",
            "colorbar": {
             "outlinewidth": 0,
             "ticks": ""
            },
            "colorscale": [
             [
              0.0,
              "#0d0887"
             ],
             [
              0.1111111111111111,
              "#46039f"
             ],
             [
              0.2222222222222222,
              "#7201a8"
             ],
             [
              0.3333333333333333,
              "#9c179e"
             ],
             [
              0.4444444444444444,
              "#bd3786"
             ],
             [
              0.5555555555555556,
              "#d8576b"
             ],
             [
              0.6666666666666666,
              "#ed7953"
             ],
             [
              0.7777777777777778,
              "#fb9f3a"
             ],
             [
              0.8888888888888888,
              "#fdca26"
             ],
             [
              1.0,
              "#f0f921"
             ]
            ]
           }
          ],
          "contourcarpet": [
           {
            "type": "contourcarpet",
            "colorbar": {
             "outlinewidth": 0,
             "ticks": ""
            }
           }
          ],
          "contour": [
           {
            "type": "contour",
            "colorbar": {
             "outlinewidth": 0,
             "ticks": ""
            },
            "colorscale": [
             [
              0.0,
              "#0d0887"
             ],
             [
              0.1111111111111111,
              "#46039f"
             ],
             [
              0.2222222222222222,
              "#7201a8"
             ],
             [
              0.3333333333333333,
              "#9c179e"
             ],
             [
              0.4444444444444444,
              "#bd3786"
             ],
             [
              0.5555555555555556,
              "#d8576b"
             ],
             [
              0.6666666666666666,
              "#ed7953"
             ],
             [
              0.7777777777777778,
              "#fb9f3a"
             ],
             [
              0.8888888888888888,
              "#fdca26"
             ],
             [
              1.0,
              "#f0f921"
             ]
            ]
           }
          ],
          "surface": [
           {
            "type": "surface",
            "colorbar": {
             "outlinewidth": 0,
             "ticks": ""
            },
            "colorscale": [
             [
              0.0,
              "#0d0887"
             ],
             [
              0.1111111111111111,
              "#46039f"
             ],
             [
              0.2222222222222222,
              "#7201a8"
             ],
             [
              0.3333333333333333,
              "#9c179e"
             ],
             [
              0.4444444444444444,
              "#bd3786"
             ],
             [
              0.5555555555555556,
              "#d8576b"
             ],
             [
              0.6666666666666666,
              "#ed7953"
             ],
             [
              0.7777777777777778,
              "#fb9f3a"
             ],
             [
              0.8888888888888888,
              "#fdca26"
             ],
             [
              1.0,
              "#f0f921"
             ]
            ]
           }
          ],
          "mesh3d": [
           {
            "type": "mesh3d",
            "colorbar": {
             "outlinewidth": 0,
             "ticks": ""
            }
           }
          ],
          "scatter": [
           {
            "fillpattern": {
             "fillmode": "overlay",
             "size": 10,
             "solidity": 0.2
            },
            "type": "scatter"
           }
          ],
          "parcoords": [
           {
            "type": "parcoords",
            "line": {
             "colorbar": {
              "outlinewidth": 0,
              "ticks": ""
             }
            }
           }
          ],
          "scatterpolargl": [
           {
            "type": "scatterpolargl",
            "marker": {
             "colorbar": {
              "outlinewidth": 0,
              "ticks": ""
             }
            }
           }
          ],
          "bar": [
           {
            "error_x": {
             "color": "#2a3f5f"
            },
            "error_y": {
             "color": "#2a3f5f"
            },
            "marker": {
             "line": {
              "color": "#E5ECF6",
              "width": 0.5
             },
             "pattern": {
              "fillmode": "overlay",
              "size": 10,
              "solidity": 0.2
             }
            },
            "type": "bar"
           }
          ],
          "scattergeo": [
           {
            "type": "scattergeo",
            "marker": {
             "colorbar": {
              "outlinewidth": 0,
              "ticks": ""
             }
            }
           }
          ],
          "scatterpolar": [
           {
            "type": "scatterpolar",
            "marker": {
             "colorbar": {
              "outlinewidth": 0,
              "ticks": ""
             }
            }
           }
          ],
          "histogram": [
           {
            "marker": {
             "pattern": {
              "fillmode": "overlay",
              "size": 10,
              "solidity": 0.2
             }
            },
            "type": "histogram"
           }
          ],
          "scattergl": [
           {
            "type": "scattergl",
            "marker": {
             "colorbar": {
              "outlinewidth": 0,
              "ticks": ""
             }
            }
           }
          ],
          "scatter3d": [
           {
            "type": "scatter3d",
            "line": {
             "colorbar": {
              "outlinewidth": 0,
              "ticks": ""
             }
            },
            "marker": {
             "colorbar": {
              "outlinewidth": 0,
              "ticks": ""
             }
            }
           }
          ],
          "scattermapbox": [
           {
            "type": "scattermapbox",
            "marker": {
             "colorbar": {
              "outlinewidth": 0,
              "ticks": ""
             }
            }
           }
          ],
          "scatterternary": [
           {
            "type": "scatterternary",
            "marker": {
             "colorbar": {
              "outlinewidth": 0,
              "ticks": ""
             }
            }
           }
          ],
          "scattercarpet": [
           {
            "type": "scattercarpet",
            "marker": {
             "colorbar": {
              "outlinewidth": 0,
              "ticks": ""
             }
            }
           }
          ],
          "carpet": [
           {
            "aaxis": {
             "endlinecolor": "#2a3f5f",
             "gridcolor": "white",
             "linecolor": "white",
             "minorgridcolor": "white",
             "startlinecolor": "#2a3f5f"
            },
            "baxis": {
             "endlinecolor": "#2a3f5f",
             "gridcolor": "white",
             "linecolor": "white",
             "minorgridcolor": "white",
             "startlinecolor": "#2a3f5f"
            },
            "type": "carpet"
           }
          ],
          "table": [
           {
            "cells": {
             "fill": {
              "color": "#EBF0F8"
             },
             "line": {
              "color": "white"
             }
            },
            "header": {
             "fill": {
              "color": "#C8D4E3"
             },
             "line": {
              "color": "white"
             }
            },
            "type": "table"
           }
          ],
          "barpolar": [
           {
            "marker": {
             "line": {
              "color": "#E5ECF6",
              "width": 0.5
             },
             "pattern": {
              "fillmode": "overlay",
              "size": 10,
              "solidity": 0.2
             }
            },
            "type": "barpolar"
           }
          ],
          "pie": [
           {
            "automargin": true,
            "type": "pie"
           }
          ]
         },
         "layout": {
          "autotypenumbers": "strict",
          "colorway": [
           "#636efa",
           "#EF553B",
           "#00cc96",
           "#ab63fa",
           "#FFA15A",
           "#19d3f3",
           "#FF6692",
           "#B6E880",
           "#FF97FF",
           "#FECB52"
          ],
          "font": {
           "color": "#2a3f5f"
          },
          "hovermode": "closest",
          "hoverlabel": {
           "align": "left"
          },
          "paper_bgcolor": "white",
          "plot_bgcolor": "#E5ECF6",
          "polar": {
           "bgcolor": "#E5ECF6",
           "angularaxis": {
            "gridcolor": "white",
            "linecolor": "white",
            "ticks": ""
           },
           "radialaxis": {
            "gridcolor": "white",
            "linecolor": "white",
            "ticks": ""
           }
          },
          "ternary": {
           "bgcolor": "#E5ECF6",
           "aaxis": {
            "gridcolor": "white",
            "linecolor": "white",
            "ticks": ""
           },
           "baxis": {
            "gridcolor": "white",
            "linecolor": "white",
            "ticks": ""
           },
           "caxis": {
            "gridcolor": "white",
            "linecolor": "white",
            "ticks": ""
           }
          },
          "coloraxis": {
           "colorbar": {
            "outlinewidth": 0,
            "ticks": ""
           }
          },
          "colorscale": {
           "sequential": [
            [
             0.0,
             "#0d0887"
            ],
            [
             0.1111111111111111,
             "#46039f"
            ],
            [
             0.2222222222222222,
             "#7201a8"
            ],
            [
             0.3333333333333333,
             "#9c179e"
            ],
            [
             0.4444444444444444,
             "#bd3786"
            ],
            [
             0.5555555555555556,
             "#d8576b"
            ],
            [
             0.6666666666666666,
             "#ed7953"
            ],
            [
             0.7777777777777778,
             "#fb9f3a"
            ],
            [
             0.8888888888888888,
             "#fdca26"
            ],
            [
             1.0,
             "#f0f921"
            ]
           ],
           "sequentialminus": [
            [
             0.0,
             "#0d0887"
            ],
            [
             0.1111111111111111,
             "#46039f"
            ],
            [
             0.2222222222222222,
             "#7201a8"
            ],
            [
             0.3333333333333333,
             "#9c179e"
            ],
            [
             0.4444444444444444,
             "#bd3786"
            ],
            [
             0.5555555555555556,
             "#d8576b"
            ],
            [
             0.6666666666666666,
             "#ed7953"
            ],
            [
             0.7777777777777778,
             "#fb9f3a"
            ],
            [
             0.8888888888888888,
             "#fdca26"
            ],
            [
             1.0,
             "#f0f921"
            ]
           ],
           "diverging": [
            [
             0,
             "#8e0152"
            ],
            [
             0.1,
             "#c51b7d"
            ],
            [
             0.2,
             "#de77ae"
            ],
            [
             0.3,
             "#f1b6da"
            ],
            [
             0.4,
             "#fde0ef"
            ],
            [
             0.5,
             "#f7f7f7"
            ],
            [
             0.6,
             "#e6f5d0"
            ],
            [
             0.7,
             "#b8e186"
            ],
            [
             0.8,
             "#7fbc41"
            ],
            [
             0.9,
             "#4d9221"
            ],
            [
             1,
             "#276419"
            ]
           ]
          },
          "xaxis": {
           "gridcolor": "white",
           "linecolor": "white",
           "ticks": "",
           "title": {
            "standoff": 15
           },
           "zerolinecolor": "white",
           "automargin": true,
           "zerolinewidth": 2
          },
          "yaxis": {
           "gridcolor": "white",
           "linecolor": "white",
           "ticks": "",
           "title": {
            "standoff": 15
           },
           "zerolinecolor": "white",
           "automargin": true,
           "zerolinewidth": 2
          },
          "scene": {
           "xaxis": {
            "backgroundcolor": "#E5ECF6",
            "gridcolor": "white",
            "linecolor": "white",
            "showbackground": true,
            "ticks": "",
            "zerolinecolor": "white",
            "gridwidth": 2
           },
           "yaxis": {
            "backgroundcolor": "#E5ECF6",
            "gridcolor": "white",
            "linecolor": "white",
            "showbackground": true,
            "ticks": "",
            "zerolinecolor": "white",
            "gridwidth": 2
           },
           "zaxis": {
            "backgroundcolor": "#E5ECF6",
            "gridcolor": "white",
            "linecolor": "white",
            "showbackground": true,
            "ticks": "",
            "zerolinecolor": "white",
            "gridwidth": 2
           }
          },
          "shapedefaults": {
           "line": {
            "color": "#2a3f5f"
           }
          },
          "annotationdefaults": {
           "arrowcolor": "#2a3f5f",
           "arrowhead": 0,
           "arrowwidth": 1
          },
          "geo": {
           "bgcolor": "white",
           "landcolor": "#E5ECF6",
           "subunitcolor": "white",
           "showland": true,
           "showlakes": true,
           "lakecolor": "white"
          },
          "title": {
           "x": 0.05
          },
          "mapbox": {
           "style": "light"
          }
         }
        },
        "xaxis": {
         "anchor": "y",
         "domain": [
          0.0,
          1.0
         ],
         "title": {
          "text": "Time period"
         }
        },
        "yaxis": {
         "anchor": "x",
         "domain": [
          0.0,
          1.0
         ],
         "title": {
          "text": "Normalized passenger transport volume [%]"
         }
        },
        "legend": {
         "title": {
          "text": "Country code"
         },
         "tracegroupgap": 0
        },
        "title": {
         "text": "Aviation passenger transport volume in Europe, normalized for highest quarter of 2019 per country"
        }
       },
       "config": {
        "plotlyServerURL": "https://plot.ly"
       }
      },
      "text/html": "<div>                            <div id=\"a7925aa1-7f21-4338-be42-43a50c81f89b\" class=\"plotly-graph-div\" style=\"height:525px; width:100%;\"></div>            <script type=\"text/javascript\">                require([\"plotly\"], function(Plotly) {                    window.PLOTLYENV=window.PLOTLYENV || {};                                    if (document.getElementById(\"a7925aa1-7f21-4338-be42-43a50c81f89b\")) {                    Plotly.newPlot(                        \"a7925aa1-7f21-4338-be42-43a50c81f89b\",                        [{\"hovertemplate\":\"Country code=AT\\u003cbr\\u003eTime period=%{x}\\u003cbr\\u003eNormalized passenger transport volume [%]=%{y}\\u003cextra\\u003e\\u003c\\u002fextra\\u003e\",\"legendgroup\":\"AT\",\"line\":{\"color\":\"#636efa\",\"dash\":\"solid\"},\"marker\":{\"symbol\":\"circle\"},\"mode\":\"lines\",\"name\":\"AT\",\"orientation\":\"v\",\"showlegend\":true,\"x\":[\"2018-Q1\",\"2018-Q2\",\"2018-Q3\",\"2018-Q4\",\"2019-Q1\",\"2019-Q2\",\"2019-Q3\",\"2019-Q4\",\"2020-Q1\",\"2020-Q2\",\"2020-Q3\",\"2020-Q4\",\"2021-Q1\",\"2021-Q2\",\"2021-Q3\",\"2021-Q4\",\"2022-Q1\",\"2022-Q2\",\"2022-Q3\",\"2022-Q4\",\"2023-Q1\",\"2023-Q2\"],\"xaxis\":\"x\",\"y\":[60.52037395853517,76.05638442162372,89.6831428017826,75.41048246463863,72.72586708002325,90.39971904669638,100.0,82.19690951366015,59.12955822515016,1.7021507459794614,20.073590389459408,7.918872311567526,5.585855454369308,13.859223018794808,50.52184654136795,37.62427824065104,35.989430342956794,66.97303817089711,86.56621778725054,66.05337143964348,63.19678356907576,84.50589033133113],\"yaxis\":\"y\",\"type\":\"scatter\"},{\"hovertemplate\":\"Country code=BE\\u003cbr\\u003eTime period=%{x}\\u003cbr\\u003eNormalized passenger transport volume [%]=%{y}\\u003cextra\\u003e\\u003c\\u002fextra\\u003e\",\"legendgroup\":\"BE\",\"line\":{\"color\":\"#EF553B\",\"dash\":\"solid\"},\"marker\":{\"symbol\":\"circle\"},\"mode\":\"lines\",\"name\":\"BE\",\"orientation\":\"v\",\"showlegend\":true,\"x\":[\"2018-Q1\",\"2018-Q2\",\"2018-Q3\",\"2018-Q4\",\"2019-Q1\",\"2019-Q2\",\"2019-Q3\",\"2019-Q4\",\"2020-Q1\",\"2020-Q2\",\"2020-Q3\",\"2020-Q4\",\"2021-Q1\",\"2021-Q2\",\"2021-Q3\",\"2021-Q4\",\"2022-Q1\",\"2022-Q2\",\"2022-Q3\",\"2022-Q4\",\"2023-Q1\",\"2023-Q2\"],\"xaxis\":\"x\",\"y\":[66.14318453112708,87.85435980625127,97.775272829541,75.41790498355006,67.17475626614498,89.77840152843142,100.0,78.57114343248686,54.46900159744182,1.42473566638034,21.912356037513664,11.949409064105046,7.237320761898296,16.539975348553234,56.4010841023201,47.829552853780925,39.76906644521643,70.5553649135706,87.49208841030217,66.48525914978015,60.1474630240151,82.25689409407356],\"yaxis\":\"y\",\"type\":\"scatter\"},{\"hovertemplate\":\"Country code=BG\\u003cbr\\u003eTime period=%{x}\\u003cbr\\u003eNormalized passenger transport volume [%]=%{y}\\u003cextra\\u003e\\u003c\\u002fextra\\u003e\",\"legendgroup\":\"BG\",\"line\":{\"color\":\"#00cc96\",\"dash\":\"solid\"},\"marker\":{\"symbol\":\"circle\"},\"mode\":\"lines\",\"name\":\"BG\",\"orientation\":\"v\",\"showlegend\":true,\"x\":[\"2018-Q1\",\"2018-Q2\",\"2018-Q3\",\"2018-Q4\",\"2019-Q1\",\"2019-Q2\",\"2019-Q3\",\"2019-Q4\",\"2020-Q1\",\"2020-Q2\",\"2020-Q3\",\"2020-Q4\",\"2021-Q1\",\"2021-Q2\",\"2021-Q3\",\"2021-Q4\",\"2022-Q1\",\"2022-Q2\",\"2022-Q3\",\"2022-Q4\",\"2023-Q1\"],\"xaxis\":\"x\",\"y\":[33.00115257178983,63.30244737077989,108.05802758715878,36.34014035516345,34.21319722462617,59.70474569253065,100.0,38.36271346970116,29.936346783705982,5.228951683206958,27.50099352798814,11.283463648774172,8.582078896830943,15.845779865927264,52.48506931692075,23.191005656565338,22.15085522730572,44.22224804645824,71.78209967961202,36.505470551513135,35.73747936595066],\"yaxis\":\"y\",\"type\":\"scatter\"},{\"hovertemplate\":\"Country code=CH\\u003cbr\\u003eTime period=%{x}\\u003cbr\\u003eNormalized passenger transport volume [%]=%{y}\\u003cextra\\u003e\\u003c\\u002fextra\\u003e\",\"legendgroup\":\"CH\",\"line\":{\"color\":\"#ab63fa\",\"dash\":\"solid\"},\"marker\":{\"symbol\":\"circle\"},\"mode\":\"lines\",\"name\":\"CH\",\"orientation\":\"v\",\"showlegend\":true,\"x\":[\"2018-Q1\",\"2018-Q2\",\"2018-Q3\",\"2018-Q4\",\"2019-Q1\",\"2019-Q2\",\"2019-Q3\",\"2019-Q4\",\"2020-Q1\",\"2020-Q2\",\"2020-Q3\",\"2020-Q4\",\"2021-Q1\",\"2021-Q2\",\"2021-Q3\",\"2021-Q4\",\"2022-Q1\",\"2022-Q2\",\"2022-Q3\",\"2022-Q4\",\"2023-Q1\",\"2023-Q2\"],\"xaxis\":\"x\",\"y\":[74.98448825523563,89.23928981676252,98.98791037015684,80.88486604735736,77.59299890892198,91.71196275930878,100.0,81.25665757710807,60.28240048441143,2.225410551737576,24.145125573266466,11.457728894235553,7.8589918502889695,15.323997948643392,50.36994967286967,43.5763356511718,41.95145012364959,68.29627380400817,81.83234664763967,67.95078313241565,65.38321625232446,82.37846793915584],\"yaxis\":\"y\",\"type\":\"scatter\"},{\"hovertemplate\":\"Country code=CY\\u003cbr\\u003eTime period=%{x}\\u003cbr\\u003eNormalized passenger transport volume [%]=%{y}\\u003cextra\\u003e\\u003c\\u002fextra\\u003e\",\"legendgroup\":\"CY\",\"line\":{\"color\":\"#FFA15A\",\"dash\":\"solid\"},\"marker\":{\"symbol\":\"circle\"},\"mode\":\"lines\",\"name\":\"CY\",\"orientation\":\"v\",\"showlegend\":true,\"x\":[\"2018-Q1\",\"2018-Q2\",\"2018-Q3\",\"2018-Q4\",\"2019-Q1\",\"2019-Q2\",\"2019-Q3\",\"2019-Q4\",\"2020-Q1\",\"2020-Q2\",\"2020-Q3\",\"2020-Q4\",\"2021-Q1\",\"2021-Q2\",\"2021-Q3\",\"2021-Q4\",\"2022-Q1\",\"2022-Q2\",\"2022-Q3\",\"2022-Q4\",\"2023-Q1\",\"2023-Q2\",\"2023-Q3\"],\"xaxis\":\"x\",\"y\":[31.43286875838196,75.11340035519338,99.02818224330252,52.10938220359028,32.92221897051461,77.51059012519022,100.0,55.1347279936102,26.79493277572705,1.3392738179656347,17.395278441941024,8.01545664233074,2.8488810418188204,18.773415537340227,56.83334563532144,41.8060151769588,17.60949810954209,57.46499180404607,80.23066581425287,47.818456613796414,35.90025909637692,77.64024443303596,101.4252069386986],\"yaxis\":\"y\",\"type\":\"scatter\"},{\"hovertemplate\":\"Country code=CZ\\u003cbr\\u003eTime period=%{x}\\u003cbr\\u003eNormalized passenger transport volume [%]=%{y}\\u003cextra\\u003e\\u003c\\u002fextra\\u003e\",\"legendgroup\":\"CZ\",\"line\":{\"color\":\"#19d3f3\",\"dash\":\"solid\"},\"marker\":{\"symbol\":\"circle\"},\"mode\":\"lines\",\"name\":\"CZ\",\"orientation\":\"v\",\"showlegend\":true,\"x\":[\"2018-Q1\",\"2018-Q2\",\"2018-Q3\",\"2018-Q4\",\"2019-Q1\",\"2019-Q2\",\"2019-Q3\",\"2019-Q4\",\"2020-Q1\",\"2020-Q2\",\"2020-Q3\",\"2020-Q4\",\"2021-Q1\",\"2021-Q2\",\"2021-Q3\",\"2021-Q4\",\"2022-Q1\",\"2022-Q2\",\"2022-Q3\",\"2022-Q4\",\"2023-Q1\"],\"xaxis\":\"x\",\"y\":[50.02120115498218,73.28717524007746,95.48289295355576,62.391547028575374,51.699355327259134,76.98292274551332,100.0,67.14221356451472,40.52447086173159,0.7838910314227914,14.338553914143048,4.5891436845621225,4.04513308177782,9.051663668029953,34.909806030711884,26.9487014016722,22.42374441085537,48.28191829941832,69.01809806251393,42.064715067511095,35.98498043976713],\"yaxis\":\"y\",\"type\":\"scatter\"},{\"hovertemplate\":\"Country code=DE\\u003cbr\\u003eTime period=%{x}\\u003cbr\\u003eNormalized passenger transport volume [%]=%{y}\\u003cextra\\u003e\\u003c\\u002fextra\\u003e\",\"legendgroup\":\"DE\",\"line\":{\"color\":\"#FF6692\",\"dash\":\"solid\"},\"marker\":{\"symbol\":\"circle\"},\"mode\":\"lines\",\"name\":\"DE\",\"orientation\":\"v\",\"showlegend\":true,\"x\":[\"2018-Q1\",\"2018-Q2\",\"2018-Q3\",\"2018-Q4\",\"2019-Q1\",\"2019-Q2\",\"2019-Q3\",\"2019-Q4\",\"2020-Q1\",\"2020-Q2\",\"2020-Q3\",\"2020-Q4\",\"2021-Q1\",\"2021-Q2\",\"2021-Q3\",\"2021-Q4\",\"2022-Q1\",\"2022-Q2\",\"2022-Q3\",\"2022-Q4\",\"2023-Q1\",\"2023-Q2\"],\"xaxis\":\"x\",\"y\":[63.95840153677355,86.25211349817762,99.2344078838674,78.74661702698126,66.89427698136457,90.06512692926128,100.0,77.63849467359874,50.51314833464186,2.9320154501883,21.359242139086724,10.47546853301134,6.840858849344817,15.143453017899589,46.05475888986148,40.5562794930464,30.397007359324267,64.6488196717001,75.70088962394698,58.40746251419407,48.02034889893291,73.26358055884309],\"yaxis\":\"y\",\"type\":\"scatter\"},{\"hovertemplate\":\"Country code=DK\\u003cbr\\u003eTime period=%{x}\\u003cbr\\u003eNormalized passenger transport volume [%]=%{y}\\u003cextra\\u003e\\u003c\\u002fextra\\u003e\",\"legendgroup\":\"DK\",\"line\":{\"color\":\"#B6E880\",\"dash\":\"solid\"},\"marker\":{\"symbol\":\"circle\"},\"mode\":\"lines\",\"name\":\"DK\",\"orientation\":\"v\",\"showlegend\":true,\"x\":[\"2018-Q1\",\"2018-Q2\",\"2018-Q3\",\"2018-Q4\",\"2019-Q1\",\"2019-Q2\",\"2019-Q3\",\"2019-Q4\",\"2020-Q1\",\"2020-Q2\",\"2020-Q3\",\"2020-Q4\",\"2021-Q1\",\"2021-Q2\",\"2021-Q3\",\"2021-Q4\",\"2022-Q1\",\"2022-Q2\",\"2022-Q3\",\"2022-Q4\",\"2023-Q1\",\"2023-Q2\"],\"xaxis\":\"x\",\"y\":[68.66662330003783,90.856649672369,99.67602805046482,76.70949702067388,69.16688833983639,90.6200111436748,100.0,76.88650643471715,53.237076841407074,2.4423059275599184,18.82760254949313,9.309227682932637,4.607471992708211,10.484327803700957,44.28906994456428,45.33615138980365,36.81964244988928,71.95034830759795,83.98944719551496,65.20978993901954,58.481718836333954,82.55832908379091],\"yaxis\":\"y\",\"type\":\"scatter\"},{\"hovertemplate\":\"Country code=EE\\u003cbr\\u003eTime period=%{x}\\u003cbr\\u003eNormalized passenger transport volume [%]=%{y}\\u003cextra\\u003e\\u003c\\u002fextra\\u003e\",\"legendgroup\":\"EE\",\"line\":{\"color\":\"#FF97FF\",\"dash\":\"solid\"},\"marker\":{\"symbol\":\"circle\"},\"mode\":\"lines\",\"name\":\"EE\",\"orientation\":\"v\",\"showlegend\":true,\"x\":[\"2018-Q1\",\"2018-Q2\",\"2018-Q3\",\"2018-Q4\",\"2019-Q1\",\"2019-Q2\",\"2019-Q3\",\"2019-Q4\",\"2020-Q1\",\"2020-Q2\",\"2020-Q3\",\"2020-Q4\",\"2021-Q1\",\"2021-Q2\",\"2021-Q3\",\"2021-Q4\",\"2022-Q1\",\"2022-Q2\",\"2022-Q3\",\"2022-Q4\",\"2023-Q1\",\"2023-Q2\"],\"xaxis\":\"x\",\"y\":[58.15576804894573,84.91074368724739,94.25502283057136,76.82461045403159,66.05659296982002,92.618290045787,100.0,82.99746420204164,55.3293705809683,3.984705509749923,21.190272939113584,9.458484435989456,8.897106170022212,20.553911400184155,52.263026639511885,53.87888995391937,45.08172652394326,80.33246429642618,88.23654024032402,72.79218831603299,64.60013465527621,80.9877027432342],\"yaxis\":\"y\",\"type\":\"scatter\"},{\"hovertemplate\":\"Country code=EL\\u003cbr\\u003eTime period=%{x}\\u003cbr\\u003eNormalized passenger transport volume [%]=%{y}\\u003cextra\\u003e\\u003c\\u002fextra\\u003e\",\"legendgroup\":\"EL\",\"line\":{\"color\":\"#FECB52\",\"dash\":\"solid\"},\"marker\":{\"symbol\":\"circle\"},\"mode\":\"lines\",\"name\":\"EL\",\"orientation\":\"v\",\"showlegend\":true,\"x\":[\"2018-Q1\",\"2018-Q2\",\"2018-Q3\",\"2018-Q4\",\"2019-Q1\",\"2019-Q2\",\"2019-Q3\",\"2019-Q4\",\"2020-Q1\",\"2020-Q2\",\"2020-Q3\",\"2020-Q4\",\"2021-Q1\",\"2021-Q2\",\"2021-Q3\",\"2021-Q4\",\"2022-Q1\",\"2022-Q2\",\"2022-Q3\",\"2022-Q4\"],\"xaxis\":\"x\",\"y\":[18.60693008449987,61.15319884443911,96.39832193989194,32.77818497214798,19.936971856558085,61.39324627939568,100.0,34.65212067572479,17.45811184197302,1.983627885426928,36.76357772876727,10.571105571350865,3.214389876804813,16.13601029595479,75.41221979993557,29.406646392776874,14.008280015344427,63.59326650348257,108.8734297933454,36.459496337060514],\"yaxis\":\"y\",\"type\":\"scatter\"},{\"hovertemplate\":\"Country code=ES\\u003cbr\\u003eTime period=%{x}\\u003cbr\\u003eNormalized passenger transport volume [%]=%{y}\\u003cextra\\u003e\\u003c\\u002fextra\\u003e\",\"legendgroup\":\"ES\",\"line\":{\"color\":\"#636efa\",\"dash\":\"solid\"},\"marker\":{\"symbol\":\"circle\"},\"mode\":\"lines\",\"name\":\"ES\",\"orientation\":\"v\",\"showlegend\":true,\"x\":[\"2018-Q1\",\"2018-Q2\",\"2018-Q3\",\"2018-Q4\",\"2019-Q1\",\"2019-Q2\",\"2019-Q3\",\"2019-Q4\",\"2020-Q1\",\"2020-Q2\",\"2020-Q3\",\"2020-Q4\",\"2021-Q1\",\"2021-Q2\",\"2021-Q3\",\"2021-Q4\",\"2022-Q1\",\"2022-Q2\",\"2022-Q3\",\"2022-Q4\",\"2023-Q1\"],\"xaxis\":\"x\",\"y\":[56.20360471000512,83.0090733571344,97.60019825643916,67.97051894255698,59.32965135566806,86.83792985097983,100.0,69.1858937470985,46.78200015995464,1.2723895566613612,21.2494861191273,10.545381906621444,7.710562398328194,18.589754633203277,53.04367719053892,47.617052347124336,41.30800370987555,76.17746708858698,90.90809707983864,67.32192484754125,60.45170869560695],\"yaxis\":\"y\",\"type\":\"scatter\"},{\"hovertemplate\":\"Country code=EU27_2020\\u003cbr\\u003eTime period=%{x}\\u003cbr\\u003eNormalized passenger transport volume [%]=%{y}\\u003cextra\\u003e\\u003c\\u002fextra\\u003e\",\"legendgroup\":\"EU27_2020\",\"line\":{\"color\":\"#EF553B\",\"dash\":\"solid\"},\"marker\":{\"symbol\":\"circle\"},\"mode\":\"lines\",\"name\":\"EU27_2020\",\"orientation\":\"v\",\"showlegend\":true,\"x\":[\"2018-Q1\",\"2018-Q2\",\"2018-Q3\",\"2018-Q4\",\"2019-Q1\",\"2019-Q2\",\"2019-Q3\",\"2019-Q4\",\"2020-Q1\",\"2020-Q2\",\"2020-Q3\",\"2020-Q4\",\"2021-Q1\",\"2021-Q2\",\"2021-Q3\",\"2021-Q4\",\"2022-Q1\",\"2022-Q2\",\"2022-Q3\",\"2022-Q4\"],\"xaxis\":\"x\",\"y\":[58.933385621899575,81.99089926321271,97.04042523178752,70.17706050584994,61.92340356404173,86.05973538989927,100.0,72.1665418712006,48.77586738828485,2.256930663965654,23.035647629828027,11.529392561223595,7.795009170252258,16.14334862022121,49.69242218770518,41.98392724131536,35.696703247054145,69.49912383784583,85.96216413598518,62.40767550015014],\"yaxis\":\"y\",\"type\":\"scatter\"},{\"hovertemplate\":\"Country code=FI\\u003cbr\\u003eTime period=%{x}\\u003cbr\\u003eNormalized passenger transport volume [%]=%{y}\\u003cextra\\u003e\\u003c\\u002fextra\\u003e\",\"legendgroup\":\"FI\",\"line\":{\"color\":\"#00cc96\",\"dash\":\"solid\"},\"marker\":{\"symbol\":\"circle\"},\"mode\":\"lines\",\"name\":\"FI\",\"orientation\":\"v\",\"showlegend\":true,\"x\":[\"2018-Q1\",\"2018-Q2\",\"2018-Q3\",\"2018-Q4\",\"2019-Q1\",\"2019-Q2\",\"2019-Q3\",\"2019-Q4\",\"2020-Q1\",\"2020-Q2\",\"2020-Q3\",\"2020-Q4\",\"2021-Q1\",\"2021-Q2\",\"2021-Q3\",\"2021-Q4\",\"2022-Q1\",\"2022-Q2\",\"2022-Q3\",\"2022-Q4\",\"2023-Q1\",\"2023-Q2\"],\"xaxis\":\"x\",\"y\":[79.94703831559781,90.58305558932317,93.56546281960108,87.33713957137742,83.0757653538722,96.53642692797982,100.0,89.48283587187318,66.20159832835326,2.2911761009289693,10.71512062746346,6.831416980229867,5.938980265686467,7.218898204872139,20.73446140537703,38.2927908173543,36.15362438697278,55.81373196816784,65.06947417269953,61.88145527981999,61.61563250905346,66.10181176952031],\"yaxis\":\"y\",\"type\":\"scatter\"},{\"hovertemplate\":\"Country code=FR\\u003cbr\\u003eTime period=%{x}\\u003cbr\\u003eNormalized passenger transport volume [%]=%{y}\\u003cextra\\u003e\\u003c\\u002fextra\\u003e\",\"legendgroup\":\"FR\",\"line\":{\"color\":\"#ab63fa\",\"dash\":\"solid\"},\"marker\":{\"symbol\":\"circle\"},\"mode\":\"lines\",\"name\":\"FR\",\"orientation\":\"v\",\"showlegend\":true,\"x\":[\"2018-Q1\",\"2018-Q2\",\"2018-Q3\",\"2018-Q4\",\"2019-Q1\",\"2019-Q2\",\"2019-Q3\",\"2019-Q4\",\"2020-Q1\",\"2020-Q2\",\"2020-Q3\",\"2020-Q4\",\"2021-Q1\",\"2021-Q2\",\"2021-Q3\",\"2021-Q4\",\"2022-Q1\",\"2022-Q2\",\"2022-Q3\",\"2022-Q4\",\"2023-Q1\",\"2023-Q2\"],\"xaxis\":\"x\",\"y\":[66.74615080204123,85.39328921791878,96.91057548991316,75.45274757128006,69.95740669311374,91.03124881372256,100.0,77.00696406827629,56.39115850088788,2.5378519531773103,27.26310183641506,15.418863230963495,12.642486756010614,18.47615821492928,53.18669750679164,47.97441256543118,43.07771973914567,74.11466168294093,86.65794334374036,69.7102603445145,63.42528312655005,84.01481656131939],\"yaxis\":\"y\",\"type\":\"scatter\"},{\"hovertemplate\":\"Country code=HR\\u003cbr\\u003eTime period=%{x}\\u003cbr\\u003eNormalized passenger transport volume [%]=%{y}\\u003cextra\\u003e\\u003c\\u002fextra\\u003e\",\"legendgroup\":\"HR\",\"line\":{\"color\":\"#FFA15A\",\"dash\":\"solid\"},\"marker\":{\"symbol\":\"circle\"},\"mode\":\"lines\",\"name\":\"HR\",\"orientation\":\"v\",\"showlegend\":true,\"x\":[\"2018-Q1\",\"2018-Q2\",\"2018-Q3\",\"2018-Q4\",\"2019-Q1\",\"2019-Q2\",\"2019-Q3\",\"2019-Q4\",\"2020-Q1\",\"2020-Q2\",\"2020-Q3\",\"2020-Q4\",\"2021-Q1\",\"2021-Q2\",\"2021-Q3\",\"2021-Q4\",\"2022-Q1\",\"2022-Q2\",\"2022-Q3\",\"2022-Q4\",\"2023-Q1\",\"2023-Q2\"],\"xaxis\":\"x\",\"y\":[14.1220093039203,55.56566884329581,93.96820557158874,26.78453484997424,14.78564407172054,62.93935152016022,100.0,30.17069451019386,11.275665674929536,1.730722526458011,21.40038658373988,3.628239282692834,2.3552566406041304,9.269027174562892,57.65162413508395,17.974519603067698,10.733481686197097,51.45923913415732,93.67806228276191,28.386076488158547,16.01154154229182,61.12158209307482],\"yaxis\":\"y\",\"type\":\"scatter\"},{\"hovertemplate\":\"Country code=HU\\u003cbr\\u003eTime period=%{x}\\u003cbr\\u003eNormalized passenger transport volume [%]=%{y}\\u003cextra\\u003e\\u003c\\u002fextra\\u003e\",\"legendgroup\":\"HU\",\"line\":{\"color\":\"#19d3f3\",\"dash\":\"solid\"},\"marker\":{\"symbol\":\"circle\"},\"mode\":\"lines\",\"name\":\"HU\",\"orientation\":\"v\",\"showlegend\":true,\"x\":[\"2018-Q1\",\"2018-Q2\",\"2018-Q3\",\"2018-Q4\",\"2019-Q1\",\"2019-Q2\",\"2019-Q3\",\"2019-Q4\",\"2020-Q1\",\"2020-Q2\",\"2020-Q3\",\"2020-Q4\",\"2021-Q1\",\"2021-Q2\",\"2021-Q3\",\"2021-Q4\",\"2022-Q1\",\"2022-Q2\",\"2022-Q3\",\"2022-Q4\",\"2023-Q1\",\"2023-Q2\"],\"xaxis\":\"x\",\"y\":[61.94751916256395,80.80856682207664,92.55055581425503,74.10980420300126,65.993778435989,89.05621671169669,100.0,85.44281241768395,58.26161558416563,2.408236212291605,16.43909040717849,3.6818260033485046,3.7149970763786895,8.460132325465516,38.88014702104599,44.06168473983848,40.67248590993942,68.43159745526697,78.84898619251537,64.7243069957324,59.37012474933108,78.26766670553955],\"yaxis\":\"y\",\"type\":\"scatter\"},{\"hovertemplate\":\"Country code=IE\\u003cbr\\u003eTime period=%{x}\\u003cbr\\u003eNormalized passenger transport volume [%]=%{y}\\u003cextra\\u003e\\u003c\\u002fextra\\u003e\",\"legendgroup\":\"IE\",\"line\":{\"color\":\"#FF6692\",\"dash\":\"solid\"},\"marker\":{\"symbol\":\"circle\"},\"mode\":\"lines\",\"name\":\"IE\",\"orientation\":\"v\",\"showlegend\":true,\"x\":[\"2018-Q1\",\"2018-Q2\",\"2018-Q3\",\"2018-Q4\",\"2019-Q1\",\"2019-Q2\",\"2019-Q3\",\"2019-Q4\",\"2020-Q1\",\"2020-Q2\",\"2020-Q3\",\"2020-Q4\",\"2021-Q1\",\"2021-Q2\",\"2021-Q3\",\"2021-Q4\",\"2022-Q1\",\"2022-Q2\",\"2022-Q3\",\"2022-Q4\",\"2023-Q1\",\"2023-Q2\"],\"xaxis\":\"x\",\"y\":[59.65993478639584,86.31792129151121,95.8029776239441,72.44278679871924,64.09962992598088,90.35123097918532,100.0,73.62734354635609,51.023424764656525,1.409056503615365,12.513516282435512,6.538219295981837,3.602197879152958,5.122107999711238,30.837613975751744,39.09001820326708,40.49058474807431,78.734978846429,89.99493801335828,70.94718804696798,65.63909634676726,92.54725133260796],\"yaxis\":\"y\",\"type\":\"scatter\"},{\"hovertemplate\":\"Country code=IS\\u003cbr\\u003eTime period=%{x}\\u003cbr\\u003eNormalized passenger transport volume [%]=%{y}\\u003cextra\\u003e\\u003c\\u002fextra\\u003e\",\"legendgroup\":\"IS\",\"line\":{\"color\":\"#B6E880\",\"dash\":\"solid\"},\"marker\":{\"symbol\":\"circle\"},\"mode\":\"lines\",\"name\":\"IS\",\"orientation\":\"v\",\"showlegend\":true,\"x\":[\"2018-Q1\",\"2018-Q2\",\"2018-Q3\",\"2018-Q4\",\"2019-Q1\",\"2019-Q2\",\"2019-Q3\",\"2019-Q4\",\"2020-Q1\",\"2020-Q2\",\"2020-Q3\",\"2020-Q4\",\"2021-Q1\",\"2021-Q2\",\"2021-Q3\",\"2021-Q4\",\"2022-Q1\",\"2022-Q2\",\"2022-Q3\",\"2022-Q4\",\"2023-Q1\",\"2023-Q2\"],\"xaxis\":\"x\",\"y\":[76.74356595144091,109.78637868354296,142.63661744646097,89.16277643931554,70.23160311657104,79.34323223885755,100.0,62.50185681631612,42.859764590667154,2.5168347916970992,14.10468534935922,3.378191820955587,4.055327982684802,10.827142231101108,48.29100889420159,37.11060864484299,32.28029388104443,68.28520698615566,101.09178741973513,64.30378132155944,56.81257162373186,86.76979798249964],\"yaxis\":\"y\",\"type\":\"scatter\"},{\"hovertemplate\":\"Country code=IT\\u003cbr\\u003eTime period=%{x}\\u003cbr\\u003eNormalized passenger transport volume [%]=%{y}\\u003cextra\\u003e\\u003c\\u002fextra\\u003e\",\"legendgroup\":\"IT\",\"line\":{\"color\":\"#FF97FF\",\"dash\":\"solid\"},\"marker\":{\"symbol\":\"circle\"},\"mode\":\"lines\",\"name\":\"IT\",\"orientation\":\"v\",\"showlegend\":true,\"x\":[\"2018-Q1\",\"2018-Q2\",\"2018-Q3\",\"2018-Q4\",\"2019-Q1\",\"2019-Q2\",\"2019-Q3\",\"2019-Q4\",\"2020-Q1\",\"2020-Q2\",\"2020-Q3\",\"2020-Q4\",\"2021-Q1\",\"2021-Q2\",\"2021-Q3\",\"2021-Q4\",\"2022-Q1\",\"2022-Q2\",\"2022-Q3\",\"2022-Q4\",\"2023-Q1\",\"2023-Q2\"],\"xaxis\":\"x\",\"y\":[57.30238087241329,81.96454920726826,96.31247106196706,68.64738324796306,61.04687777334698,86.41492035307044,100.0,71.27776129316561,41.68267642456956,1.8726938226520815,26.399917361141437,10.20249079502982,6.222946491517624,15.968951627006092,53.03004552179855,43.23147059772855,35.1610270413525,73.62817183605566,90.21449660077865,63.70780497792789,57.90201649249903,87.893107660106],\"yaxis\":\"y\",\"type\":\"scatter\"},{\"hovertemplate\":\"Country code=LT\\u003cbr\\u003eTime period=%{x}\\u003cbr\\u003eNormalized passenger transport volume [%]=%{y}\\u003cextra\\u003e\\u003c\\u002fextra\\u003e\",\"legendgroup\":\"LT\",\"line\":{\"color\":\"#FECB52\",\"dash\":\"solid\"},\"marker\":{\"symbol\":\"circle\"},\"mode\":\"lines\",\"name\":\"LT\",\"orientation\":\"v\",\"showlegend\":true,\"x\":[\"2018-Q1\",\"2018-Q2\",\"2018-Q3\",\"2018-Q4\",\"2019-Q1\",\"2019-Q2\",\"2019-Q3\",\"2019-Q4\",\"2020-Q1\",\"2020-Q2\",\"2020-Q3\",\"2020-Q4\",\"2021-Q1\",\"2021-Q2\",\"2021-Q3\",\"2021-Q4\",\"2022-Q1\",\"2022-Q2\",\"2022-Q3\",\"2022-Q4\",\"2023-Q1\",\"2023-Q2\"],\"xaxis\":\"x\",\"y\":[67.84348833824446,94.10856843128586,99.88032042708966,81.67260304444181,72.61551220825015,97.00812052540375,100.0,87.6402143137648,60.67166658885756,2.6365206693048533,26.36410821142476,9.438209035560597,8.097402365580177,18.100285879842588,55.944735389507855,53.22363163517228,44.64965301711709,84.08080430824492,92.11268224496688,72.11586784167585,64.3285119144063,89.85409417832201],\"yaxis\":\"y\",\"type\":\"scatter\"},{\"hovertemplate\":\"Country code=LU\\u003cbr\\u003eTime period=%{x}\\u003cbr\\u003eNormalized passenger transport volume [%]=%{y}\\u003cextra\\u003e\\u003c\\u002fextra\\u003e\",\"legendgroup\":\"LU\",\"line\":{\"color\":\"#636efa\",\"dash\":\"solid\"},\"marker\":{\"symbol\":\"circle\"},\"mode\":\"lines\",\"name\":\"LU\",\"orientation\":\"v\",\"showlegend\":true,\"x\":[\"2018-Q1\",\"2018-Q2\",\"2018-Q3\",\"2018-Q4\",\"2019-Q1\",\"2019-Q2\",\"2019-Q3\",\"2019-Q4\",\"2020-Q1\",\"2020-Q2\",\"2020-Q3\",\"2020-Q4\",\"2021-Q1\",\"2021-Q2\",\"2021-Q3\",\"2021-Q4\",\"2022-Q1\",\"2022-Q2\",\"2022-Q3\",\"2022-Q4\",\"2023-Q1\",\"2023-Q2\"],\"xaxis\":\"x\",\"y\":[61.52304799980962,86.46272102044216,92.22809230305482,76.19967793880838,67.23146363326273,94.01418338449822,100.0,85.0549328510348,56.59797085584192,2.956458278797109,34.96117020854652,18.627035688504957,11.148394056939784,27.393366808659163,62.9010891379707,57.438264994486886,46.1788946796443,90.45620047119296,103.2406019212616,81.96711168225411,73.17714158793619,102.97256133837844],\"yaxis\":\"y\",\"type\":\"scatter\"},{\"hovertemplate\":\"Country code=LV\\u003cbr\\u003eTime period=%{x}\\u003cbr\\u003eNormalized passenger transport volume [%]=%{y}\\u003cextra\\u003e\\u003c\\u002fextra\\u003e\",\"legendgroup\":\"LV\",\"line\":{\"color\":\"#EF553B\",\"dash\":\"solid\"},\"marker\":{\"symbol\":\"circle\"},\"mode\":\"lines\",\"name\":\"LV\",\"orientation\":\"v\",\"showlegend\":true,\"x\":[\"2018-Q1\",\"2018-Q2\",\"2018-Q3\",\"2018-Q4\",\"2019-Q1\",\"2019-Q2\",\"2019-Q3\",\"2019-Q4\",\"2020-Q1\",\"2020-Q2\",\"2020-Q3\",\"2020-Q4\",\"2021-Q1\",\"2021-Q2\",\"2021-Q3\",\"2021-Q4\",\"2022-Q1\",\"2022-Q2\",\"2022-Q3\",\"2022-Q4\",\"2023-Q1\",\"2023-Q2\"],\"xaxis\":\"x\",\"y\":[56.26082008591456,78.64241661264874,88.7985509995227,69.64452383284804,59.538454163271005,88.50841741718583,100.0,76.50780880363668,52.01027973296039,2.79466170882844,20.226020730377943,8.137871811813357,4.3034813945587445,12.260561633585464,42.364380266747816,38.4553304750729,32.320547585450804,59.9744465681074,71.33746996012748,60.15261193174357,52.42859733335557,74.25281223229862],\"yaxis\":\"y\",\"type\":\"scatter\"},{\"hovertemplate\":\"Country code=ME\\u003cbr\\u003eTime period=%{x}\\u003cbr\\u003eNormalized passenger transport volume [%]=%{y}\\u003cextra\\u003e\\u003c\\u002fextra\\u003e\",\"legendgroup\":\"ME\",\"line\":{\"color\":\"#00cc96\",\"dash\":\"solid\"},\"marker\":{\"symbol\":\"circle\"},\"mode\":\"lines\",\"name\":\"ME\",\"orientation\":\"v\",\"showlegend\":true,\"x\":[\"2018-Q1\",\"2018-Q2\",\"2018-Q3\",\"2018-Q4\",\"2019-Q1\",\"2019-Q2\",\"2019-Q3\",\"2019-Q4\",\"2020-Q1\",\"2020-Q2\",\"2020-Q3\",\"2020-Q4\",\"2021-Q1\",\"2021-Q2\",\"2021-Q3\",\"2021-Q4\",\"2022-Q1\",\"2022-Q2\",\"2022-Q3\",\"2022-Q4\",\"2023-Q1\",\"2023-Q2\"],\"xaxis\":\"x\",\"y\":[18.636511372148,50.536047070817446,93.98317852725208,27.06096556282409,19.979064741080105,55.63096890654192,100.0,31.1549544311276,17.787955289270563,0.7178471133738581,15.8977024995265,6.279096775299824,5.116277982202692,17.192867047076273,62.16470265463136,17.573146750241424,13.24969622050767,39.48151329342176,66.77677293038286,29.24864556045465,23.638604118618584,51.794968523066586],\"yaxis\":\"y\",\"type\":\"scatter\"},{\"hovertemplate\":\"Country code=MK\\u003cbr\\u003eTime period=%{x}\\u003cbr\\u003eNormalized passenger transport volume [%]=%{y}\\u003cextra\\u003e\\u003c\\u002fextra\\u003e\",\"legendgroup\":\"MK\",\"line\":{\"color\":\"#ab63fa\",\"dash\":\"solid\"},\"marker\":{\"symbol\":\"circle\"},\"mode\":\"lines\",\"name\":\"MK\",\"orientation\":\"v\",\"showlegend\":true,\"x\":[\"2018-Q1\",\"2018-Q2\",\"2018-Q3\",\"2018-Q4\",\"2019-Q1\",\"2019-Q2\",\"2019-Q3\",\"2019-Q4\",\"2020-Q1\",\"2020-Q2\",\"2020-Q3\",\"2020-Q4\",\"2021-Q1\",\"2021-Q2\",\"2021-Q3\",\"2021-Q4\",\"2022-Q1\",\"2022-Q2\",\"2022-Q3\",\"2022-Q4\",\"2023-Q1\"],\"xaxis\":\"x\",\"y\":[58.35727599033069,73.73063222179718,92.61250335739808,67.3248523423108,61.60072601189943,81.75976494143883,100.0,75.87407654596312,51.97075875840028,0.3714164014661316,24.277989847770822,19.590112564401,20.13353626939491,30.58542170276378,72.18867085018815,48.85956987321922,44.4739262430512,72.31604849846306,103.29472664675288,69.53164635949527,66.88967929048344],\"yaxis\":\"y\",\"type\":\"scatter\"},{\"hovertemplate\":\"Country code=MT\\u003cbr\\u003eTime period=%{x}\\u003cbr\\u003eNormalized passenger transport volume [%]=%{y}\\u003cextra\\u003e\\u003c\\u002fextra\\u003e\",\"legendgroup\":\"MT\",\"line\":{\"color\":\"#FFA15A\",\"dash\":\"solid\"},\"marker\":{\"symbol\":\"circle\"},\"mode\":\"lines\",\"name\":\"MT\",\"orientation\":\"v\",\"showlegend\":true,\"x\":[\"2018-Q1\",\"2018-Q2\",\"2018-Q3\",\"2018-Q4\",\"2019-Q1\",\"2019-Q2\",\"2019-Q3\",\"2019-Q4\",\"2020-Q1\",\"2020-Q2\",\"2020-Q3\",\"2020-Q4\",\"2021-Q1\",\"2021-Q2\",\"2021-Q3\",\"2021-Q4\",\"2022-Q1\",\"2022-Q2\",\"2022-Q3\",\"2022-Q4\",\"2023-Q1\",\"2023-Q2\"],\"xaxis\":\"x\",\"y\":[49.09753491646727,79.46463161959552,93.06621176590816,63.416856988130895,50.38911019183482,85.93712501994658,100.0,70.1855021743346,42.31364446791731,0.3778647167250161,22.4191634622996,8.286260793666683,4.168532186978954,12.871943565724465,47.73547124404273,41.937203759213645,28.259732361880644,70.16682253970156,86.40964438750274,60.66265794447793,52.25795318950573,91.7920177649189],\"yaxis\":\"y\",\"type\":\"scatter\"},{\"hovertemplate\":\"Country code=NL\\u003cbr\\u003eTime period=%{x}\\u003cbr\\u003eNormalized passenger transport volume [%]=%{y}\\u003cextra\\u003e\\u003c\\u002fextra\\u003e\",\"legendgroup\":\"NL\",\"line\":{\"color\":\"#19d3f3\",\"dash\":\"solid\"},\"marker\":{\"symbol\":\"circle\"},\"mode\":\"lines\",\"name\":\"NL\",\"orientation\":\"v\",\"showlegend\":true,\"x\":[\"2018-Q1\",\"2018-Q2\",\"2018-Q3\",\"2018-Q4\",\"2019-Q1\",\"2019-Q2\",\"2019-Q3\",\"2019-Q4\",\"2020-Q1\",\"2020-Q2\",\"2020-Q3\",\"2020-Q4\",\"2021-Q1\",\"2021-Q2\",\"2021-Q3\",\"2021-Q4\",\"2022-Q1\",\"2022-Q2\",\"2022-Q3\",\"2022-Q4\",\"2023-Q1\",\"2023-Q2\"],\"xaxis\":\"x\",\"y\":[72.82076891768011,92.0137804805872,98.71465484977544,81.52677045614286,74.20113498238446,94.472556585559,100.0,83.11082642242596,59.15350234239921,3.820403149333918,23.761671376768174,15.494045930833648,9.129884677685816,16.730145368871007,52.04527849910369,48.101423117027416,43.834567682351896,75.20412967280761,81.04361135453784,65.4691977732238,61.13261151926792,82.19892720083404],\"yaxis\":\"y\",\"type\":\"scatter\"},{\"hovertemplate\":\"Country code=NO\\u003cbr\\u003eTime period=%{x}\\u003cbr\\u003eNormalized passenger transport volume [%]=%{y}\\u003cextra\\u003e\\u003c\\u002fextra\\u003e\",\"legendgroup\":\"NO\",\"line\":{\"color\":\"#FF6692\",\"dash\":\"solid\"},\"marker\":{\"symbol\":\"circle\"},\"mode\":\"lines\",\"name\":\"NO\",\"orientation\":\"v\",\"showlegend\":true,\"x\":[\"2018-Q1\",\"2018-Q2\",\"2018-Q3\",\"2018-Q4\",\"2019-Q1\",\"2019-Q2\",\"2019-Q3\",\"2019-Q4\",\"2020-Q1\",\"2020-Q2\",\"2020-Q3\",\"2020-Q4\",\"2021-Q1\",\"2021-Q2\",\"2021-Q3\",\"2021-Q4\",\"2022-Q1\",\"2022-Q2\",\"2022-Q3\",\"2022-Q4\",\"2023-Q1\",\"2023-Q2\"],\"xaxis\":\"x\",\"y\":[73.0053661989709,90.75604527782482,99.4187598933412,80.83979668928701,75.10466455648826,90.5298331907154,100.0,81.12122542633485,59.94265374915037,9.329319233278357,26.73753476607864,17.57679604722695,11.709539280007542,16.365527519247838,41.94320325150011,51.46966955864408,43.29829289025259,78.37070576675816,86.74415388884636,71.43121470699982,64.09973269985011,81.91044108606896],\"yaxis\":\"y\",\"type\":\"scatter\"},{\"hovertemplate\":\"Country code=PL\\u003cbr\\u003eTime period=%{x}\\u003cbr\\u003eNormalized passenger transport volume [%]=%{y}\\u003cextra\\u003e\\u003c\\u002fextra\\u003e\",\"legendgroup\":\"PL\",\"line\":{\"color\":\"#B6E880\",\"dash\":\"solid\"},\"marker\":{\"symbol\":\"circle\"},\"mode\":\"lines\",\"name\":\"PL\",\"orientation\":\"v\",\"showlegend\":true,\"x\":[\"2018-Q1\",\"2018-Q2\",\"2018-Q3\",\"2018-Q4\",\"2019-Q1\",\"2019-Q2\",\"2019-Q3\",\"2019-Q4\",\"2020-Q1\",\"2020-Q2\",\"2020-Q3\",\"2020-Q4\",\"2021-Q1\",\"2021-Q2\",\"2021-Q3\",\"2021-Q4\",\"2022-Q1\",\"2022-Q2\",\"2022-Q3\",\"2022-Q4\",\"2023-Q1\",\"2023-Q2\"],\"xaxis\":\"x\",\"y\":[56.245326965504375,78.03052972476453,95.92216894334786,66.11093719577039,60.31571772529205,84.0634460313768,100.0,73.42625196704118,51.14821585878628,0.7597023772933242,30.350555104368613,11.34073201689049,6.652295632850393,18.03269343620937,59.42014022691619,43.80712746589311,37.07304949808123,70.86520565143014,93.15000505046538,65.29699309101751,61.003786088824825,89.66145362955147],\"yaxis\":\"y\",\"type\":\"scatter\"},{\"hovertemplate\":\"Country code=PT\\u003cbr\\u003eTime period=%{x}\\u003cbr\\u003eNormalized passenger transport volume [%]=%{y}\\u003cextra\\u003e\\u003c\\u002fextra\\u003e\",\"legendgroup\":\"PT\",\"line\":{\"color\":\"#FF97FF\",\"dash\":\"solid\"},\"marker\":{\"symbol\":\"circle\"},\"mode\":\"lines\",\"name\":\"PT\",\"orientation\":\"v\",\"showlegend\":true,\"x\":[\"2018-Q1\",\"2018-Q2\",\"2018-Q3\",\"2018-Q4\",\"2019-Q1\",\"2019-Q2\",\"2019-Q3\",\"2019-Q4\",\"2020-Q1\",\"2020-Q2\",\"2020-Q3\",\"2020-Q4\",\"2021-Q1\",\"2021-Q2\",\"2021-Q3\",\"2021-Q4\",\"2022-Q1\",\"2022-Q2\",\"2022-Q3\",\"2022-Q4\",\"2023-Q1\"],\"xaxis\":\"x\",\"y\":[55.18509430456728,82.08818665088461,92.92724037171952,66.66513245011726,58.80330643644186,89.42809779705317,100.0,71.84705843264476,50.54322030579632,2.291287440241926,27.54821391881985,15.912116274451286,7.049839480411478,19.54129097514668,52.26987726403376,51.1751449005464,49.40417216516495,93.10638876283164,107.97988310433648,81.65515936368921,72.89958141490804],\"yaxis\":\"y\",\"type\":\"scatter\"},{\"hovertemplate\":\"Country code=RO\\u003cbr\\u003eTime period=%{x}\\u003cbr\\u003eNormalized passenger transport volume [%]=%{y}\\u003cextra\\u003e\\u003c\\u002fextra\\u003e\",\"legendgroup\":\"RO\",\"line\":{\"color\":\"#FECB52\",\"dash\":\"solid\"},\"marker\":{\"symbol\":\"circle\"},\"mode\":\"lines\",\"name\":\"RO\",\"orientation\":\"v\",\"showlegend\":true,\"x\":[\"2018-Q1\",\"2018-Q2\",\"2018-Q3\",\"2018-Q4\",\"2019-Q1\",\"2019-Q2\",\"2019-Q3\",\"2019-Q4\",\"2020-Q1\",\"2020-Q2\",\"2020-Q3\",\"2020-Q4\",\"2021-Q1\",\"2021-Q2\",\"2021-Q3\",\"2021-Q4\",\"2022-Q1\",\"2022-Q2\",\"2022-Q3\",\"2022-Q4\",\"2023-Q1\"],\"xaxis\":\"x\",\"y\":[59.73877213526821,77.06782179355704,92.80452799836576,71.93133901733131,65.60610901664785,84.8301003571539,100.0,77.8394860929483,54.31766831769602,3.133449639596209,28.78251210872408,14.740730446155432,12.480841204505044,28.98231614063732,70.95283811991804,45.658631021197095,43.682251614559966,82.94308933931477,96.1562916274256,74.59470271196756,70.46865659873137],\"yaxis\":\"y\",\"type\":\"scatter\"},{\"hovertemplate\":\"Country code=RS\\u003cbr\\u003eTime period=%{x}\\u003cbr\\u003eNormalized passenger transport volume [%]=%{y}\\u003cextra\\u003e\\u003c\\u002fextra\\u003e\",\"legendgroup\":\"RS\",\"line\":{\"color\":\"#636efa\",\"dash\":\"solid\"},\"marker\":{\"symbol\":\"circle\"},\"mode\":\"lines\",\"name\":\"RS\",\"orientation\":\"v\",\"showlegend\":true,\"x\":[\"2018-Q1\",\"2018-Q2\",\"2018-Q3\",\"2018-Q4\",\"2019-Q1\",\"2019-Q2\",\"2019-Q3\",\"2019-Q4\",\"2020-Q1\",\"2020-Q2\",\"2020-Q3\",\"2020-Q4\",\"2021-Q1\",\"2021-Q2\",\"2021-Q3\",\"2021-Q4\",\"2022-Q1\",\"2022-Q2\"],\"xaxis\":\"x\",\"y\":[47.09919220023147,67.35282496112976,86.35830771209127,57.36996294174723,51.92218935948844,77.87994061327316,100.0,71.8376918670579,47.621281023135104,4.423001835377187,23.824458446826668,14.77635286003203,13.507861727125004,30.655381629861704,74.32777264703475,41.98173975052899,37.083036204860825,70.16654002174396],\"yaxis\":\"y\",\"type\":\"scatter\"},{\"hovertemplate\":\"Country code=SE\\u003cbr\\u003eTime period=%{x}\\u003cbr\\u003eNormalized passenger transport volume [%]=%{y}\\u003cextra\\u003e\\u003c\\u002fextra\\u003e\",\"legendgroup\":\"SE\",\"line\":{\"color\":\"#EF553B\",\"dash\":\"solid\"},\"marker\":{\"symbol\":\"circle\"},\"mode\":\"lines\",\"name\":\"SE\",\"orientation\":\"v\",\"showlegend\":true,\"x\":[\"2018-Q1\",\"2018-Q2\",\"2018-Q3\",\"2018-Q4\",\"2019-Q1\",\"2019-Q2\",\"2019-Q3\",\"2019-Q4\",\"2020-Q1\",\"2020-Q2\",\"2020-Q3\",\"2020-Q4\",\"2021-Q1\",\"2021-Q2\",\"2021-Q3\",\"2021-Q4\",\"2022-Q1\",\"2022-Q2\",\"2022-Q3\",\"2022-Q4\",\"2023-Q1\"],\"xaxis\":\"x\",\"y\":[77.92527176386366,97.59069042751472,102.4757064783096,83.71400645003821,74.56220207766869,94.38552816792836,100.0,80.40237137909781,56.40897782014565,2.622199469716361,14.773854869310751,12.733633706037708,7.6488696830000515,13.128383697400258,38.2288567323992,41.28125688441831,33.31727820424279,65.46931810962836,73.19724366930718,60.56611697817827,55.29966932501959],\"yaxis\":\"y\",\"type\":\"scatter\"},{\"hovertemplate\":\"Country code=SI\\u003cbr\\u003eTime period=%{x}\\u003cbr\\u003eNormalized passenger transport volume [%]=%{y}\\u003cextra\\u003e\\u003c\\u002fextra\\u003e\",\"legendgroup\":\"SI\",\"line\":{\"color\":\"#00cc96\",\"dash\":\"solid\"},\"marker\":{\"symbol\":\"circle\"},\"mode\":\"lines\",\"name\":\"SI\",\"orientation\":\"v\",\"showlegend\":true,\"x\":[\"2018-Q1\",\"2018-Q2\",\"2018-Q3\",\"2018-Q4\",\"2019-Q1\",\"2019-Q2\",\"2019-Q3\",\"2019-Q4\",\"2020-Q1\",\"2020-Q2\",\"2020-Q3\",\"2020-Q4\",\"2021-Q1\",\"2021-Q2\",\"2021-Q3\",\"2021-Q4\",\"2022-Q1\",\"2022-Q2\",\"2022-Q3\",\"2022-Q4\",\"2023-Q1\",\"2023-Q2\"],\"xaxis\":\"x\",\"y\":[55.78015001321255,84.86943294463605,100.42229329141456,65.62298847459465,57.88179175672654,87.48382310095063,100.0,45.82517430396986,32.41173003042273,0.8964204164323416,11.976325828155597,3.464227879149248,3.110707582646168,8.666921883363711,34.26792332658025,24.98814258708423,21.339786024514357,43.44369761564366,61.99428133914233,37.33069308272409,34.00706024243328,56.53343451659021],\"yaxis\":\"y\",\"type\":\"scatter\"},{\"hovertemplate\":\"Country code=SK\\u003cbr\\u003eTime period=%{x}\\u003cbr\\u003eNormalized passenger transport volume [%]=%{y}\\u003cextra\\u003e\\u003c\\u002fextra\\u003e\",\"legendgroup\":\"SK\",\"line\":{\"color\":\"#ab63fa\",\"dash\":\"solid\"},\"marker\":{\"symbol\":\"circle\"},\"mode\":\"lines\",\"name\":\"SK\",\"orientation\":\"v\",\"showlegend\":true,\"x\":[\"2018-Q1\",\"2018-Q2\",\"2018-Q3\",\"2018-Q4\",\"2019-Q1\",\"2019-Q2\",\"2019-Q3\",\"2019-Q4\",\"2020-Q1\",\"2020-Q2\",\"2020-Q3\",\"2020-Q4\",\"2021-Q1\",\"2021-Q2\",\"2021-Q3\",\"2021-Q4\",\"2022-Q1\",\"2022-Q2\",\"2022-Q3\",\"2022-Q4\",\"2023-Q1\",\"2023-Q2\"],\"xaxis\":\"x\",\"y\":[37.45592418700769,57.115941653048345,101.05989468496276,45.96110779659845,40.52242483982257,59.7732008681141,100.0,45.24811288941921,29.236076885165104,0.4209142867024634,10.611397888511323,3.016610031732856,1.8293515948570287,4.734075207733478,32.015079591536754,16.939119607792275,16.524344374983787,42.8019160765393,80.17941601169014,28.45952980035105,26.252669623788403,52.76810804734853],\"yaxis\":\"y\",\"type\":\"scatter\"},{\"hovertemplate\":\"Country code=UK\\u003cbr\\u003eTime period=%{x}\\u003cbr\\u003eNormalized passenger transport volume [%]=%{y}\\u003cextra\\u003e\\u003c\\u002fextra\\u003e\",\"legendgroup\":\"UK\",\"line\":{\"color\":\"#FFA15A\",\"dash\":\"solid\"},\"marker\":{\"symbol\":\"circle\"},\"mode\":\"lines\",\"name\":\"UK\",\"orientation\":\"v\",\"showlegend\":true,\"x\":[\"2018-Q1\",\"2018-Q2\",\"2018-Q3\",\"2018-Q4\",\"2019-Q1\",\"2019-Q2\",\"2019-Q3\",\"2019-Q4\",\"2020-Q1\",\"2020-Q2\",\"2020-Q3\"],\"xaxis\":\"x\",\"y\":[64.50466829316446,86.84068901400576,99.2216433391384,74.37221758492595,67.02790183992803,89.4424193504698,100.0,74.7270384982022,53.44411917114868,1.59113401000732,17.755950193110053],\"yaxis\":\"y\",\"type\":\"scatter\"}],                        {\"template\":{\"data\":{\"histogram2dcontour\":[{\"type\":\"histogram2dcontour\",\"colorbar\":{\"outlinewidth\":0,\"ticks\":\"\"},\"colorscale\":[[0.0,\"#0d0887\"],[0.1111111111111111,\"#46039f\"],[0.2222222222222222,\"#7201a8\"],[0.3333333333333333,\"#9c179e\"],[0.4444444444444444,\"#bd3786\"],[0.5555555555555556,\"#d8576b\"],[0.6666666666666666,\"#ed7953\"],[0.7777777777777778,\"#fb9f3a\"],[0.8888888888888888,\"#fdca26\"],[1.0,\"#f0f921\"]]}],\"choropleth\":[{\"type\":\"choropleth\",\"colorbar\":{\"outlinewidth\":0,\"ticks\":\"\"}}],\"histogram2d\":[{\"type\":\"histogram2d\",\"colorbar\":{\"outlinewidth\":0,\"ticks\":\"\"},\"colorscale\":[[0.0,\"#0d0887\"],[0.1111111111111111,\"#46039f\"],[0.2222222222222222,\"#7201a8\"],[0.3333333333333333,\"#9c179e\"],[0.4444444444444444,\"#bd3786\"],[0.5555555555555556,\"#d8576b\"],[0.6666666666666666,\"#ed7953\"],[0.7777777777777778,\"#fb9f3a\"],[0.8888888888888888,\"#fdca26\"],[1.0,\"#f0f921\"]]}],\"heatmap\":[{\"type\":\"heatmap\",\"colorbar\":{\"outlinewidth\":0,\"ticks\":\"\"},\"colorscale\":[[0.0,\"#0d0887\"],[0.1111111111111111,\"#46039f\"],[0.2222222222222222,\"#7201a8\"],[0.3333333333333333,\"#9c179e\"],[0.4444444444444444,\"#bd3786\"],[0.5555555555555556,\"#d8576b\"],[0.6666666666666666,\"#ed7953\"],[0.7777777777777778,\"#fb9f3a\"],[0.8888888888888888,\"#fdca26\"],[1.0,\"#f0f921\"]]}],\"heatmapgl\":[{\"type\":\"heatmapgl\",\"colorbar\":{\"outlinewidth\":0,\"ticks\":\"\"},\"colorscale\":[[0.0,\"#0d0887\"],[0.1111111111111111,\"#46039f\"],[0.2222222222222222,\"#7201a8\"],[0.3333333333333333,\"#9c179e\"],[0.4444444444444444,\"#bd3786\"],[0.5555555555555556,\"#d8576b\"],[0.6666666666666666,\"#ed7953\"],[0.7777777777777778,\"#fb9f3a\"],[0.8888888888888888,\"#fdca26\"],[1.0,\"#f0f921\"]]}],\"contourcarpet\":[{\"type\":\"contourcarpet\",\"colorbar\":{\"outlinewidth\":0,\"ticks\":\"\"}}],\"contour\":[{\"type\":\"contour\",\"colorbar\":{\"outlinewidth\":0,\"ticks\":\"\"},\"colorscale\":[[0.0,\"#0d0887\"],[0.1111111111111111,\"#46039f\"],[0.2222222222222222,\"#7201a8\"],[0.3333333333333333,\"#9c179e\"],[0.4444444444444444,\"#bd3786\"],[0.5555555555555556,\"#d8576b\"],[0.6666666666666666,\"#ed7953\"],[0.7777777777777778,\"#fb9f3a\"],[0.8888888888888888,\"#fdca26\"],[1.0,\"#f0f921\"]]}],\"surface\":[{\"type\":\"surface\",\"colorbar\":{\"outlinewidth\":0,\"ticks\":\"\"},\"colorscale\":[[0.0,\"#0d0887\"],[0.1111111111111111,\"#46039f\"],[0.2222222222222222,\"#7201a8\"],[0.3333333333333333,\"#9c179e\"],[0.4444444444444444,\"#bd3786\"],[0.5555555555555556,\"#d8576b\"],[0.6666666666666666,\"#ed7953\"],[0.7777777777777778,\"#fb9f3a\"],[0.8888888888888888,\"#fdca26\"],[1.0,\"#f0f921\"]]}],\"mesh3d\":[{\"type\":\"mesh3d\",\"colorbar\":{\"outlinewidth\":0,\"ticks\":\"\"}}],\"scatter\":[{\"fillpattern\":{\"fillmode\":\"overlay\",\"size\":10,\"solidity\":0.2},\"type\":\"scatter\"}],\"parcoords\":[{\"type\":\"parcoords\",\"line\":{\"colorbar\":{\"outlinewidth\":0,\"ticks\":\"\"}}}],\"scatterpolargl\":[{\"type\":\"scatterpolargl\",\"marker\":{\"colorbar\":{\"outlinewidth\":0,\"ticks\":\"\"}}}],\"bar\":[{\"error_x\":{\"color\":\"#2a3f5f\"},\"error_y\":{\"color\":\"#2a3f5f\"},\"marker\":{\"line\":{\"color\":\"#E5ECF6\",\"width\":0.5},\"pattern\":{\"fillmode\":\"overlay\",\"size\":10,\"solidity\":0.2}},\"type\":\"bar\"}],\"scattergeo\":[{\"type\":\"scattergeo\",\"marker\":{\"colorbar\":{\"outlinewidth\":0,\"ticks\":\"\"}}}],\"scatterpolar\":[{\"type\":\"scatterpolar\",\"marker\":{\"colorbar\":{\"outlinewidth\":0,\"ticks\":\"\"}}}],\"histogram\":[{\"marker\":{\"pattern\":{\"fillmode\":\"overlay\",\"size\":10,\"solidity\":0.2}},\"type\":\"histogram\"}],\"scattergl\":[{\"type\":\"scattergl\",\"marker\":{\"colorbar\":{\"outlinewidth\":0,\"ticks\":\"\"}}}],\"scatter3d\":[{\"type\":\"scatter3d\",\"line\":{\"colorbar\":{\"outlinewidth\":0,\"ticks\":\"\"}},\"marker\":{\"colorbar\":{\"outlinewidth\":0,\"ticks\":\"\"}}}],\"scattermapbox\":[{\"type\":\"scattermapbox\",\"marker\":{\"colorbar\":{\"outlinewidth\":0,\"ticks\":\"\"}}}],\"scatterternary\":[{\"type\":\"scatterternary\",\"marker\":{\"colorbar\":{\"outlinewidth\":0,\"ticks\":\"\"}}}],\"scattercarpet\":[{\"type\":\"scattercarpet\",\"marker\":{\"colorbar\":{\"outlinewidth\":0,\"ticks\":\"\"}}}],\"carpet\":[{\"aaxis\":{\"endlinecolor\":\"#2a3f5f\",\"gridcolor\":\"white\",\"linecolor\":\"white\",\"minorgridcolor\":\"white\",\"startlinecolor\":\"#2a3f5f\"},\"baxis\":{\"endlinecolor\":\"#2a3f5f\",\"gridcolor\":\"white\",\"linecolor\":\"white\",\"minorgridcolor\":\"white\",\"startlinecolor\":\"#2a3f5f\"},\"type\":\"carpet\"}],\"table\":[{\"cells\":{\"fill\":{\"color\":\"#EBF0F8\"},\"line\":{\"color\":\"white\"}},\"header\":{\"fill\":{\"color\":\"#C8D4E3\"},\"line\":{\"color\":\"white\"}},\"type\":\"table\"}],\"barpolar\":[{\"marker\":{\"line\":{\"color\":\"#E5ECF6\",\"width\":0.5},\"pattern\":{\"fillmode\":\"overlay\",\"size\":10,\"solidity\":0.2}},\"type\":\"barpolar\"}],\"pie\":[{\"automargin\":true,\"type\":\"pie\"}]},\"layout\":{\"autotypenumbers\":\"strict\",\"colorway\":[\"#636efa\",\"#EF553B\",\"#00cc96\",\"#ab63fa\",\"#FFA15A\",\"#19d3f3\",\"#FF6692\",\"#B6E880\",\"#FF97FF\",\"#FECB52\"],\"font\":{\"color\":\"#2a3f5f\"},\"hovermode\":\"closest\",\"hoverlabel\":{\"align\":\"left\"},\"paper_bgcolor\":\"white\",\"plot_bgcolor\":\"#E5ECF6\",\"polar\":{\"bgcolor\":\"#E5ECF6\",\"angularaxis\":{\"gridcolor\":\"white\",\"linecolor\":\"white\",\"ticks\":\"\"},\"radialaxis\":{\"gridcolor\":\"white\",\"linecolor\":\"white\",\"ticks\":\"\"}},\"ternary\":{\"bgcolor\":\"#E5ECF6\",\"aaxis\":{\"gridcolor\":\"white\",\"linecolor\":\"white\",\"ticks\":\"\"},\"baxis\":{\"gridcolor\":\"white\",\"linecolor\":\"white\",\"ticks\":\"\"},\"caxis\":{\"gridcolor\":\"white\",\"linecolor\":\"white\",\"ticks\":\"\"}},\"coloraxis\":{\"colorbar\":{\"outlinewidth\":0,\"ticks\":\"\"}},\"colorscale\":{\"sequential\":[[0.0,\"#0d0887\"],[0.1111111111111111,\"#46039f\"],[0.2222222222222222,\"#7201a8\"],[0.3333333333333333,\"#9c179e\"],[0.4444444444444444,\"#bd3786\"],[0.5555555555555556,\"#d8576b\"],[0.6666666666666666,\"#ed7953\"],[0.7777777777777778,\"#fb9f3a\"],[0.8888888888888888,\"#fdca26\"],[1.0,\"#f0f921\"]],\"sequentialminus\":[[0.0,\"#0d0887\"],[0.1111111111111111,\"#46039f\"],[0.2222222222222222,\"#7201a8\"],[0.3333333333333333,\"#9c179e\"],[0.4444444444444444,\"#bd3786\"],[0.5555555555555556,\"#d8576b\"],[0.6666666666666666,\"#ed7953\"],[0.7777777777777778,\"#fb9f3a\"],[0.8888888888888888,\"#fdca26\"],[1.0,\"#f0f921\"]],\"diverging\":[[0,\"#8e0152\"],[0.1,\"#c51b7d\"],[0.2,\"#de77ae\"],[0.3,\"#f1b6da\"],[0.4,\"#fde0ef\"],[0.5,\"#f7f7f7\"],[0.6,\"#e6f5d0\"],[0.7,\"#b8e186\"],[0.8,\"#7fbc41\"],[0.9,\"#4d9221\"],[1,\"#276419\"]]},\"xaxis\":{\"gridcolor\":\"white\",\"linecolor\":\"white\",\"ticks\":\"\",\"title\":{\"standoff\":15},\"zerolinecolor\":\"white\",\"automargin\":true,\"zerolinewidth\":2},\"yaxis\":{\"gridcolor\":\"white\",\"linecolor\":\"white\",\"ticks\":\"\",\"title\":{\"standoff\":15},\"zerolinecolor\":\"white\",\"automargin\":true,\"zerolinewidth\":2},\"scene\":{\"xaxis\":{\"backgroundcolor\":\"#E5ECF6\",\"gridcolor\":\"white\",\"linecolor\":\"white\",\"showbackground\":true,\"ticks\":\"\",\"zerolinecolor\":\"white\",\"gridwidth\":2},\"yaxis\":{\"backgroundcolor\":\"#E5ECF6\",\"gridcolor\":\"white\",\"linecolor\":\"white\",\"showbackground\":true,\"ticks\":\"\",\"zerolinecolor\":\"white\",\"gridwidth\":2},\"zaxis\":{\"backgroundcolor\":\"#E5ECF6\",\"gridcolor\":\"white\",\"linecolor\":\"white\",\"showbackground\":true,\"ticks\":\"\",\"zerolinecolor\":\"white\",\"gridwidth\":2}},\"shapedefaults\":{\"line\":{\"color\":\"#2a3f5f\"}},\"annotationdefaults\":{\"arrowcolor\":\"#2a3f5f\",\"arrowhead\":0,\"arrowwidth\":1},\"geo\":{\"bgcolor\":\"white\",\"landcolor\":\"#E5ECF6\",\"subunitcolor\":\"white\",\"showland\":true,\"showlakes\":true,\"lakecolor\":\"white\"},\"title\":{\"x\":0.05},\"mapbox\":{\"style\":\"light\"}}},\"xaxis\":{\"anchor\":\"y\",\"domain\":[0.0,1.0],\"title\":{\"text\":\"Time period\"}},\"yaxis\":{\"anchor\":\"x\",\"domain\":[0.0,1.0],\"title\":{\"text\":\"Normalized passenger transport volume [%]\"}},\"legend\":{\"title\":{\"text\":\"Country code\"},\"tracegroupgap\":0},\"title\":{\"text\":\"Aviation passenger transport volume in Europe, normalized for highest quarter of 2019 per country\"}},                        {\"responsive\": true}                    ).then(function(){\n                            \nvar gd = document.getElementById('a7925aa1-7f21-4338-be42-43a50c81f89b');\nvar x = new MutationObserver(function (mutations, observer) {{\n        var display = window.getComputedStyle(gd).display;\n        if (!display || display === 'none') {{\n            console.log([gd, 'removed!']);\n            Plotly.purge(gd);\n            observer.disconnect();\n        }}\n}});\n\n// Listen for the removal of the full notebook cells\nvar notebookContainer = gd.closest('#notebook-container');\nif (notebookContainer) {{\n    x.observe(notebookContainer, {childList: true});\n}}\n\n// Listen for the clearing of the current output cell\nvar outputEl = gd.closest('.output');\nif (outputEl) {{\n    x.observe(outputEl, {childList: true});\n}}\n\n                        })                };                });            </script>        </div>"
     },
     "metadata": {},
     "output_type": "display_data"
    },
    {
     "data": {
      "application/vnd.plotly.v1+json": {
       "data": [
        {
         "hovertemplate": "Country code=BE<br>Time period=%{x}<br>Normalized passenger transport volume [%]=%{y}<extra></extra>",
         "legendgroup": "BE",
         "line": {
          "color": "#636efa",
          "dash": "solid"
         },
         "marker": {
          "symbol": "circle"
         },
         "mode": "lines",
         "name": "BE",
         "orientation": "v",
         "showlegend": true,
         "x": [
          "2018-Q1",
          "2018-Q2",
          "2018-Q3",
          "2018-Q4",
          "2019-Q1",
          "2019-Q2",
          "2019-Q3",
          "2019-Q4",
          "2020-Q1",
          "2020-Q2"
         ],
         "xaxis": "x",
         "y": [
          57.7319587628866,
          84.5360824742268,
          105.15463917525771,
          88.65979381443299,
          53.608247422680414,
          78.35051546391753,
          100.0,
          84.5360824742268,
          32.98969072164948,
          1.0309278350515465
         ],
         "yaxis": "y",
         "type": "scatter"
        },
        {
         "hovertemplate": "Country code=DE<br>Time period=%{x}<br>Normalized passenger transport volume [%]=%{y}<extra></extra>",
         "legendgroup": "DE",
         "line": {
          "color": "#EF553B",
          "dash": "solid"
         },
         "marker": {
          "symbol": "circle"
         },
         "mode": "lines",
         "name": "DE",
         "orientation": "v",
         "showlegend": true,
         "x": [
          "2018-Q1",
          "2018-Q2",
          "2018-Q3",
          "2018-Q4",
          "2019-Q1",
          "2019-Q2",
          "2019-Q3",
          "2019-Q4",
          "2020-Q1",
          "2020-Q2",
          "2020-Q3",
          "2020-Q4",
          "2021-Q1",
          "2021-Q2",
          "2021-Q3",
          "2021-Q4",
          "2022-Q1",
          "2022-Q2",
          "2022-Q3",
          "2022-Q4",
          "2023-Q1",
          "2023-Q2"
         ],
         "xaxis": "x",
         "y": [
          37.32366249667288,
          78.64652648389672,
          108.29118977907903,
          45.0758583976577,
          37.037529944104335,
          82.3263241948363,
          100.0,
          48.96193771626297,
          29.57812084109662,
          20.18232632419484,
          65.26483896726111,
          25.166356135214265,
          10.992813414958745,
          29.358530742613787,
          83.28453553367048,
          41.08331115251531,
          28.340431195102475,
          71.57971785999467,
          95.58823529411764,
          42.8999201490551,
          31.9869576789992,
          0.0
         ],
         "yaxis": "y",
         "type": "scatter"
        },
        {
         "hovertemplate": "Country code=DK<br>Time period=%{x}<br>Normalized passenger transport volume [%]=%{y}<extra></extra>",
         "legendgroup": "DK",
         "line": {
          "color": "#00cc96",
          "dash": "solid"
         },
         "marker": {
          "symbol": "circle"
         },
         "mode": "lines",
         "name": "DK",
         "orientation": "v",
         "showlegend": true,
         "x": [
          "2018-Q1",
          "2018-Q2",
          "2018-Q3",
          "2018-Q4",
          "2019-Q1",
          "2019-Q2",
          "2019-Q3",
          "2019-Q4",
          "2020-Q1",
          "2020-Q2",
          "2020-Q3",
          "2020-Q4",
          "2021-Q1",
          "2021-Q2",
          "2021-Q3",
          "2021-Q4",
          "2022-Q1",
          "2022-Q2",
          "2022-Q3",
          "2022-Q4"
         ],
         "xaxis": "x",
         "y": [
          45.96004961717781,
          72.57795457461825,
          100.36357414773944,
          55.11784079729672,
          44.44159288250139,
          75.94850079130843,
          100.0,
          55.378758715086185,
          37.24282475726079,
          29.629154369305787,
          75.4052782411566,
          30.74126352709697,
          21.313999743359425,
          38.91526583686214,
          80.79045297061465,
          47.02938534582317,
          36.43868428931948,
          68.79250609521365,
          96.3086530647162,
          49.18944351768681
         ],
         "yaxis": "y",
         "type": "scatter"
        },
        {
         "hovertemplate": "Country code=EE<br>Time period=%{x}<br>Normalized passenger transport volume [%]=%{y}<extra></extra>",
         "legendgroup": "EE",
         "line": {
          "color": "#ab63fa",
          "dash": "solid"
         },
         "marker": {
          "symbol": "circle"
         },
         "mode": "lines",
         "name": "EE",
         "orientation": "v",
         "showlegend": true,
         "x": [
          "2018-Q1",
          "2018-Q2",
          "2018-Q3",
          "2018-Q4",
          "2019-Q1",
          "2019-Q2",
          "2019-Q3",
          "2019-Q4",
          "2020-Q1",
          "2020-Q2",
          "2020-Q3",
          "2020-Q4",
          "2021-Q1",
          "2021-Q2",
          "2021-Q3",
          "2021-Q4",
          "2022-Q1",
          "2022-Q2",
          "2022-Q3",
          "2022-Q4",
          "2023-Q1",
          "2023-Q2"
         ],
         "xaxis": "x",
         "y": [
          54.7985347985348,
          80.0,
          97.26495726495726,
          67.2039072039072,
          52.014652014652015,
          81.0989010989011,
          100.0,
          68.03418803418803,
          45.323565323565326,
          22.173382173382173,
          61.001221001221005,
          25.51892551892552,
          15.677655677655675,
          28.791208791208792,
          53.94383394383394,
          40.26862026862027,
          29.76800976800977,
          60.61050061050061,
          80.78144078144078,
          52.16117216117216,
          42.68620268620269,
          0.0
         ],
         "yaxis": "y",
         "type": "scatter"
        },
        {
         "hovertemplate": "Country code=EL<br>Time period=%{x}<br>Normalized passenger transport volume [%]=%{y}<extra></extra>",
         "legendgroup": "EL",
         "line": {
          "color": "#FFA15A",
          "dash": "solid"
         },
         "marker": {
          "symbol": "circle"
         },
         "mode": "lines",
         "name": "EL",
         "orientation": "v",
         "showlegend": true,
         "x": [
          "2018-Q1",
          "2018-Q2",
          "2018-Q3",
          "2018-Q4",
          "2019-Q1",
          "2019-Q2",
          "2019-Q3",
          "2019-Q4",
          "2020-Q1",
          "2020-Q2",
          "2020-Q3",
          "2020-Q4",
          "2021-Q1",
          "2021-Q2",
          "2021-Q3",
          "2021-Q4",
          "2022-Q1",
          "2022-Q2",
          "2022-Q3",
          "2022-Q4",
          "2023-Q1",
          "2023-Q2"
         ],
         "xaxis": "x",
         "y": [
          25.347654041831543,
          51.22668174109666,
          94.54494064443188,
          30.915771622385527,
          25.053702656868285,
          54.14358394573205,
          100.0,
          32.758620689655174,
          21.13623516110797,
          17.874505370265688,
          60.74053137365743,
          17.21311475409836,
          11.30016958733748,
          30.497456189937814,
          81.66760881854155,
          26.04296212549463,
          21.62803843979649,
          50.26568682871679,
          97.38835500282646,
          30.989259468626344,
          25.223289994347088,
          0.0
         ],
         "yaxis": "y",
         "type": "scatter"
        },
        {
         "hovertemplate": "Country code=ES<br>Time period=%{x}<br>Normalized passenger transport volume [%]=%{y}<extra></extra>",
         "legendgroup": "ES",
         "line": {
          "color": "#19d3f3",
          "dash": "solid"
         },
         "marker": {
          "symbol": "circle"
         },
         "mode": "lines",
         "name": "ES",
         "orientation": "v",
         "showlegend": true,
         "x": [
          "2018-Q1",
          "2018-Q2",
          "2018-Q3",
          "2018-Q4",
          "2019-Q1",
          "2019-Q2",
          "2019-Q3",
          "2019-Q4",
          "2020-Q1",
          "2020-Q2",
          "2020-Q3",
          "2020-Q4",
          "2021-Q1",
          "2021-Q2",
          "2021-Q3",
          "2021-Q4",
          "2022-Q1",
          "2022-Q2",
          "2022-Q3",
          "2022-Q4",
          "2023-Q1",
          "2023-Q2"
         ],
         "xaxis": "x",
         "y": [
          35.27008624602814,
          51.581177182629744,
          96.46946083623342,
          45.09002874867605,
          39.12341756191053,
          55.45972663539618,
          100.0,
          43.929994452009886,
          32.45069854239169,
          9.068442023503303,
          40.929036162808295,
          18.152014929137035,
          14.046502244414183,
          25.68719423009028,
          55.27815604983104,
          35.10364654259343,
          28.46118928733545,
          50.04287083270288,
          96.71155495032028,
          41.68053664195289,
          37.56493670247642,
          0.0
         ],
         "yaxis": "y",
         "type": "scatter"
        },
        {
         "hovertemplate": "Country code=EU<br>Time period=%{x}<br>Normalized passenger transport volume [%]=%{y}<extra></extra>",
         "legendgroup": "EU",
         "line": {
          "color": "#FF6692",
          "dash": "solid"
         },
         "marker": {
          "symbol": "circle"
         },
         "mode": "lines",
         "name": "EU",
         "orientation": "v",
         "showlegend": true,
         "x": [
          "2018-Q1",
          "2018-Q2",
          "2018-Q3",
          "2018-Q4",
          "2019-Q1",
          "2019-Q2",
          "2019-Q3",
          "2019-Q4",
          "2020-Q1",
          "2020-Q2",
          "2020-Q3",
          "2020-Q4",
          "2021-Q1",
          "2021-Q2",
          "2021-Q3",
          "2021-Q4"
         ],
         "xaxis": "x",
         "y": [
          33.782622648736506,
          63.06924645692931,
          101.4410385415696,
          42.55722227398366,
          34.30023706740375,
          66.32090023499694,
          100.0,
          42.28392186092736,
          28.96673809745644,
          19.282172324192263,
          61.44083149580214,
          21.8402227812458,
          16.13404142985807,
          32.50929117881508,
          79.87722185989213,
          36.17296603414184
         ],
         "yaxis": "y",
         "type": "scatter"
        },
        {
         "hovertemplate": "Country code=FI<br>Time period=%{x}<br>Normalized passenger transport volume [%]=%{y}<extra></extra>",
         "legendgroup": "FI",
         "line": {
          "color": "#B6E880",
          "dash": "solid"
         },
         "marker": {
          "symbol": "circle"
         },
         "mode": "lines",
         "name": "FI",
         "orientation": "v",
         "showlegend": true,
         "x": [
          "2018-Q1",
          "2018-Q2",
          "2018-Q3",
          "2018-Q4",
          "2019-Q1",
          "2019-Q2",
          "2019-Q3",
          "2019-Q4",
          "2020-Q1",
          "2020-Q2",
          "2020-Q3",
          "2020-Q4",
          "2021-Q1",
          "2021-Q2",
          "2021-Q3",
          "2021-Q4",
          "2022-Q1",
          "2022-Q2",
          "2022-Q3",
          "2022-Q4",
          "2023-Q1"
         ],
         "xaxis": "x",
         "y": [
          57.8036605657238,
          81.39767054908486,
          98.6855241264559,
          70.98169717138103,
          55.54076539101497,
          82.54575707154743,
          100.0,
          70.08319467554077,
          46.50582362728785,
          11.697171381031614,
          41.18136439267887,
          17.204658901830282,
          10.199667221297837,
          18.136439267886857,
          42.229617304492514,
          39.750415973377706,
          26.70549084858569,
          60.18302828618968,
          77.88685524126456,
          51.780366056572376,
          40.5324459234609
         ],
         "yaxis": "y",
         "type": "scatter"
        },
        {
         "hovertemplate": "Country code=FR<br>Time period=%{x}<br>Normalized passenger transport volume [%]=%{y}<extra></extra>",
         "legendgroup": "FR",
         "line": {
          "color": "#FF97FF",
          "dash": "solid"
         },
         "marker": {
          "symbol": "circle"
         },
         "mode": "lines",
         "name": "FR",
         "orientation": "v",
         "showlegend": true,
         "x": [
          "2018-Q1",
          "2018-Q2",
          "2018-Q3",
          "2018-Q4",
          "2019-Q1",
          "2019-Q2",
          "2019-Q3",
          "2019-Q4",
          "2020-Q1",
          "2020-Q2",
          "2020-Q3",
          "2020-Q4",
          "2021-Q1",
          "2021-Q2",
          "2021-Q3",
          "2021-Q4"
         ],
         "xaxis": "x",
         "y": [
          32.71163609988602,
          65.33001761475495,
          103.48150450730496,
          38.52450523261838,
          33.19863226608641,
          66.41798777328775,
          100.0,
          35.43674230649673,
          22.8680965703036,
          11.926225261630918,
          48.60636203502228,
          17.64583980934618,
          11.511760439332711,
          18.87887265568335,
          50.98435395295824,
          22.163506372396643
         ],
         "yaxis": "y",
         "type": "scatter"
        },
        {
         "hovertemplate": "Country code=HR<br>Time period=%{x}<br>Normalized passenger transport volume [%]=%{y}<extra></extra>",
         "legendgroup": "HR",
         "line": {
          "color": "#FECB52",
          "dash": "solid"
         },
         "marker": {
          "symbol": "circle"
         },
         "mode": "lines",
         "name": "HR",
         "orientation": "v",
         "showlegend": true,
         "x": [
          "2018-Q1",
          "2018-Q2",
          "2018-Q3",
          "2018-Q4",
          "2019-Q1",
          "2019-Q2",
          "2019-Q3",
          "2019-Q4",
          "2020-Q1",
          "2020-Q2",
          "2020-Q3",
          "2020-Q4",
          "2021-Q1",
          "2021-Q2",
          "2021-Q3",
          "2021-Q4",
          "2022-Q1",
          "2022-Q2",
          "2022-Q3",
          "2022-Q4",
          "2023-Q1",
          "2023-Q2"
         ],
         "xaxis": "x",
         "y": [
          15.172337360079796,
          47.589493516568766,
          96.61974952898149,
          22.15449407070819,
          15.959215338579186,
          48.67560678266652,
          100.0,
          22.94137204920758,
          14.097306882411615,
          16.3471129336141,
          57.331264546159815,
          14.573866784883077,
          13.099855923750416,
          29.635376260667183,
          85.33747090768037,
          19.63870109719605,
          16.236285049318408,
          44.940707081901806,
          96.76382577856587,
          22.5423916657431,
          16.41360966419151,
          48.60911005208911
         ],
         "yaxis": "y",
         "type": "scatter"
        },
        {
         "hovertemplate": "Country code=IE<br>Time period=%{x}<br>Normalized passenger transport volume [%]=%{y}<extra></extra>",
         "legendgroup": "IE",
         "line": {
          "color": "#636efa",
          "dash": "solid"
         },
         "marker": {
          "symbol": "circle"
         },
         "mode": "lines",
         "name": "IE",
         "orientation": "v",
         "showlegend": true,
         "x": [
          "2018-Q1",
          "2018-Q2",
          "2018-Q3",
          "2018-Q4",
          "2019-Q1",
          "2019-Q2",
          "2019-Q3",
          "2019-Q4",
          "2020-Q1",
          "2020-Q2",
          "2020-Q3",
          "2020-Q4",
          "2021-Q1",
          "2021-Q2",
          "2021-Q3",
          "2021-Q4",
          "2022-Q1",
          "2022-Q2",
          "2022-Q3",
          "2022-Q4",
          "2023-Q1",
          "2023-Q2"
         ],
         "xaxis": "x",
         "y": [
          35.41284403669725,
          69.44954128440367,
          101.46788990825688,
          41.559633027522935,
          32.018348623853214,
          69.26605504587155,
          100.0,
          41.37614678899082,
          25.504587155963304,
          8.073394495412844,
          25.68807339449541,
          15.412844036697248,
          8.623853211009175,
          12.477064220183486,
          41.74311926605505,
          30.825688073394492,
          24.95412844036697,
          59.90825688073394,
          89.54128440366972,
          40.73394495412844,
          30.18348623853211,
          62.38532110091743
         ],
         "yaxis": "y",
         "type": "scatter"
        },
        {
         "hovertemplate": "Country code=IT<br>Time period=%{x}<br>Normalized passenger transport volume [%]=%{y}<extra></extra>",
         "legendgroup": "IT",
         "line": {
          "color": "#EF553B",
          "dash": "solid"
         },
         "marker": {
          "symbol": "circle"
         },
         "mode": "lines",
         "name": "IT",
         "orientation": "v",
         "showlegend": true,
         "x": [
          "2018-Q1",
          "2018-Q2",
          "2018-Q3",
          "2018-Q4",
          "2019-Q1",
          "2019-Q2",
          "2019-Q3",
          "2019-Q4",
          "2020-Q1",
          "2020-Q2",
          "2020-Q3",
          "2020-Q4",
          "2021-Q1",
          "2021-Q2",
          "2021-Q3",
          "2021-Q4",
          "2022-Q1",
          "2022-Q2",
          "2022-Q3",
          "2022-Q4"
         ],
         "xaxis": "x",
         "y": [
          25.585031268912648,
          59.78414363526326,
          105.74440185596129,
          36.100463990316726,
          28.394190034294937,
          69.24046802501513,
          100.0,
          35.31369780108937,
          27.28969134557192,
          23.340730280411535,
          75.60520476094412,
          22.387532781924552,
          15.63949969739762,
          31.077264474480533,
          83.94190034294937,
          27.65281420213839,
          16.3909622755699,
          36.26689529957636,
          64.80734315109946,
          25.05043373007868
         ],
         "yaxis": "y",
         "type": "scatter"
        },
        {
         "hovertemplate": "Country code=LT<br>Time period=%{x}<br>Normalized passenger transport volume [%]=%{y}<extra></extra>",
         "legendgroup": "LT",
         "line": {
          "color": "#00cc96",
          "dash": "solid"
         },
         "marker": {
          "symbol": "circle"
         },
         "mode": "lines",
         "name": "LT",
         "orientation": "v",
         "showlegend": true,
         "x": [
          "2018-Q1",
          "2018-Q2",
          "2018-Q3",
          "2018-Q4",
          "2019-Q1",
          "2019-Q2",
          "2019-Q3",
          "2019-Q4",
          "2020-Q1",
          "2020-Q2",
          "2020-Q3",
          "2020-Q4",
          "2021-Q1",
          "2021-Q2",
          "2021-Q3",
          "2021-Q4",
          "2022-Q1",
          "2022-Q2",
          "2022-Q3",
          "2022-Q4",
          "2023-Q1",
          "2023-Q2"
         ],
         "xaxis": "x",
         "y": [
          53.09734513274336,
          71.68141592920354,
          95.57522123893806,
          65.48672566371681,
          57.52212389380531,
          80.53097345132744,
          100.0,
          65.48672566371681,
          58.4070796460177,
          71.68141592920354,
          82.30088495575221,
          60.17699115044248,
          56.63716814159292,
          67.2566371681416,
          92.03539823008848,
          61.06194690265487,
          53.98230088495576,
          73.45132743362832,
          102.65486725663716,
          69.02654867256638,
          61.06194690265487,
          0.0
         ],
         "yaxis": "y",
         "type": "scatter"
        },
        {
         "hovertemplate": "Country code=LV<br>Time period=%{x}<br>Normalized passenger transport volume [%]=%{y}<extra></extra>",
         "legendgroup": "LV",
         "line": {
          "color": "#ab63fa",
          "dash": "solid"
         },
         "marker": {
          "symbol": "circle"
         },
         "mode": "lines",
         "name": "LV",
         "orientation": "v",
         "showlegend": true,
         "x": [
          "2018-Q1",
          "2018-Q2",
          "2018-Q3",
          "2018-Q4",
          "2019-Q1",
          "2019-Q2",
          "2019-Q3",
          "2019-Q4",
          "2020-Q1",
          "2020-Q2",
          "2020-Q3",
          "2020-Q4",
          "2021-Q1",
          "2021-Q2",
          "2021-Q3",
          "2021-Q4",
          "2022-Q1",
          "2022-Q2",
          "2022-Q3",
          "2022-Q4",
          "2023-Q1",
          "2023-Q2"
         ],
         "xaxis": "x",
         "y": [
          59.22619047619048,
          79.76190476190476,
          98.21428571428572,
          65.77380952380952,
          55.65476190476191,
          83.33333333333333,
          100.0,
          68.1547619047619,
          45.833333333333336,
          11.607142857142858,
          58.92857142857143,
          13.095238095238097,
          11.011904761904765,
          13.69047619047619,
          19.642857142857142,
          16.964285714285715,
          16.964285714285715,
          21.726190476190474,
          28.27380952380953,
          19.34523809523809,
          17.55952380952381,
          22.02380952380953
         ],
         "yaxis": "y",
         "type": "scatter"
        },
        {
         "hovertemplate": "Country code=ME<br>Time period=%{x}<br>Normalized passenger transport volume [%]=%{y}<extra></extra>",
         "legendgroup": "ME",
         "line": {
          "color": "#FFA15A",
          "dash": "solid"
         },
         "marker": {
          "symbol": "circle"
         },
         "mode": "lines",
         "name": "ME",
         "orientation": "v",
         "showlegend": true,
         "x": [
          "2018-Q1",
          "2018-Q2",
          "2018-Q3",
          "2018-Q4",
          "2019-Q1",
          "2019-Q2",
          "2019-Q3",
          "2019-Q4",
          "2020-Q1",
          "2020-Q2"
         ],
         "xaxis": "x",
         "y": [
          0.0,
          16.666666666666668,
          133.33333333333334,
          16.666666666666668,
          16.666666666666668,
          16.666666666666668,
          100.0,
          16.666666666666668,
          0.0,
          0.0
         ],
         "yaxis": "y",
         "type": "scatter"
        },
        {
         "hovertemplate": "Country code=MT<br>Time period=%{x}<br>Normalized passenger transport volume [%]=%{y}<extra></extra>",
         "legendgroup": "MT",
         "line": {
          "color": "#19d3f3",
          "dash": "solid"
         },
         "marker": {
          "symbol": "circle"
         },
         "mode": "lines",
         "name": "MT",
         "orientation": "v",
         "showlegend": true,
         "x": [
          "2018-Q1",
          "2018-Q2",
          "2018-Q3",
          "2018-Q4",
          "2019-Q1",
          "2019-Q2",
          "2019-Q3",
          "2019-Q4",
          "2020-Q1",
          "2020-Q2",
          "2020-Q3",
          "2020-Q4",
          "2021-Q1",
          "2021-Q2",
          "2021-Q3",
          "2021-Q4",
          "2022-Q1",
          "2022-Q2",
          "2022-Q3",
          "2022-Q4",
          "2023-Q1",
          "2023-Q2"
         ],
         "xaxis": "x",
         "y": [
          62.42344706911637,
          86.7891513560805,
          96.2817147856518,
          72.30971128608924,
          60.19247594050744,
          89.06386701662292,
          100.0,
          74.54068241469817,
          54.89938757655293,
          26.15923009623797,
          60.27996500437445,
          41.51356080489938,
          32.808398950131235,
          44.663167104111984,
          81.10236220472441,
          61.15485564304462,
          50.874890638670166,
          77.95275590551181,
          93.21959755030622,
          75.67804024496938,
          64.56692913385827,
          0.0
         ],
         "yaxis": "y",
         "type": "scatter"
        },
        {
         "hovertemplate": "Country code=NL<br>Time period=%{x}<br>Normalized passenger transport volume [%]=%{y}<extra></extra>",
         "legendgroup": "NL",
         "line": {
          "color": "#FF6692",
          "dash": "solid"
         },
         "marker": {
          "symbol": "circle"
         },
         "mode": "lines",
         "name": "NL",
         "orientation": "v",
         "showlegend": true,
         "x": [
          "2018-Q1",
          "2018-Q2",
          "2018-Q3",
          "2018-Q4",
          "2019-Q1",
          "2019-Q2",
          "2019-Q3",
          "2019-Q4",
          "2020-Q1",
          "2020-Q2",
          "2020-Q3",
          "2020-Q4",
          "2021-Q1",
          "2021-Q2",
          "2021-Q3",
          "2021-Q4",
          "2022-Q1",
          "2022-Q2",
          "2022-Q3",
          "2022-Q4"
         ],
         "xaxis": "x",
         "y": [
          58.631415241057546,
          82.73716951788491,
          99.06687402799378,
          67.651632970451,
          57.23172628304821,
          83.51477449455676,
          100.0,
          71.69517884914464,
          45.25660964230171,
          17.573872472783826,
          56.14307931570762,
          31.57076205287714,
          17.107309486780714,
          29.393468118195955,
          52.87713841368585,
          38.25816485225506,
          31.2597200622084,
          84.13685847589424,
          116.95178849144637,
          78.69362363919129
         ],
         "yaxis": "y",
         "type": "scatter"
        },
        {
         "hovertemplate": "Country code=NO<br>Time period=%{x}<br>Normalized passenger transport volume [%]=%{y}<extra></extra>",
         "legendgroup": "NO",
         "line": {
          "color": "#B6E880",
          "dash": "solid"
         },
         "marker": {
          "symbol": "circle"
         },
         "mode": "lines",
         "name": "NO",
         "orientation": "v",
         "showlegend": true,
         "x": [
          "2018-Q1",
          "2018-Q2",
          "2018-Q3",
          "2018-Q4",
          "2019-Q1",
          "2019-Q2",
          "2019-Q3",
          "2019-Q4",
          "2020-Q1",
          "2020-Q2",
          "2020-Q3",
          "2020-Q4",
          "2021-Q1",
          "2021-Q2",
          "2021-Q3",
          "2021-Q4",
          "2022-Q1",
          "2022-Q2",
          "2022-Q3",
          "2022-Q4"
         ],
         "xaxis": "x",
         "y": [
          49.43157894736842,
          63.32631578947368,
          95.53684210526316,
          51.41052631578948,
          44.21052631578947,
          70.27368421052631,
          100.0,
          53.55789473684211,
          34.27368421052632,
          4.757894736842105,
          34.82105263157895,
          5.852631578947369,
          2.1052631578947367,
          3.1578947368421053,
          35.07368421052632,
          32.16842105263158,
          27.157894736842103,
          62.23157894736842,
          97.22105263157894,
          47.49473684210526
         ],
         "yaxis": "y",
         "type": "scatter"
        },
        {
         "hovertemplate": "Country code=PL<br>Time period=%{x}<br>Normalized passenger transport volume [%]=%{y}<extra></extra>",
         "legendgroup": "PL",
         "line": {
          "color": "#FF97FF",
          "dash": "solid"
         },
         "marker": {
          "symbol": "circle"
         },
         "mode": "lines",
         "name": "PL",
         "orientation": "v",
         "showlegend": true,
         "x": [
          "2018-Q1",
          "2018-Q2",
          "2018-Q3",
          "2018-Q4",
          "2019-Q1",
          "2019-Q2",
          "2019-Q3",
          "2019-Q4",
          "2020-Q1",
          "2020-Q2",
          "2020-Q3",
          "2020-Q4",
          "2021-Q1",
          "2021-Q2",
          "2021-Q3",
          "2021-Q4",
          "2022-Q1",
          "2022-Q2",
          "2022-Q3",
          "2022-Q4",
          "2023-Q1",
          "2023-Q2"
         ],
         "xaxis": "x",
         "y": [
          39.0677025527192,
          64.92785793562707,
          97.33629300776914,
          46.17092119866815,
          42.06437291897891,
          66.14872364039955,
          100.0,
          44.72807991120977,
          36.2930077691454,
          35.73806881243063,
          73.69589345172031,
          38.73473917869035,
          35.294117647058826,
          46.614872364039954,
          86.90344062153163,
          44.83906770255272,
          38.62375138734739,
          52.05327413984462,
          70.25527192008879,
          43.17425083240843,
          36.40399556048835,
          0.0
         ],
         "yaxis": "y",
         "type": "scatter"
        },
        {
         "hovertemplate": "Country code=PT<br>Time period=%{x}<br>Normalized passenger transport volume [%]=%{y}<extra></extra>",
         "legendgroup": "PT",
         "line": {
          "color": "#FECB52",
          "dash": "solid"
         },
         "marker": {
          "symbol": "circle"
         },
         "mode": "lines",
         "name": "PT",
         "orientation": "v",
         "showlegend": true,
         "x": [
          "2018-Q1",
          "2018-Q2",
          "2018-Q3",
          "2018-Q4",
          "2019-Q1",
          "2019-Q2",
          "2019-Q3",
          "2019-Q4",
          "2020-Q1",
          "2020-Q2",
          "2020-Q3",
          "2020-Q4",
          "2021-Q1",
          "2021-Q2",
          "2021-Q3",
          "2021-Q4",
          "2022-Q1",
          "2022-Q2",
          "2022-Q3",
          "2022-Q4",
          "2023-Q1",
          "2023-Q2"
         ],
         "xaxis": "x",
         "y": [
          16.571428571428573,
          54.85714285714285,
          97.14285714285714,
          37.142857142857146,
          19.428571428571427,
          64.57142857142857,
          100.0,
          35.42857142857143,
          48.57142857142857,
          37.142857142857146,
          153.71428571428572,
          69.14285714285714,
          38.285714285714285,
          85.14285714285714,
          194.28571428571428,
          82.85714285714286,
          49.142857142857146,
          124.57142857142856,
          217.7142857142857,
          90.28571428571428,
          65.14285714285714,
          0.0
         ],
         "yaxis": "y",
         "type": "scatter"
        },
        {
         "hovertemplate": "Country code=SE<br>Time period=%{x}<br>Normalized passenger transport volume [%]=%{y}<extra></extra>",
         "legendgroup": "SE",
         "line": {
          "color": "#636efa",
          "dash": "solid"
         },
         "marker": {
          "symbol": "circle"
         },
         "mode": "lines",
         "name": "SE",
         "orientation": "v",
         "showlegend": true,
         "x": [
          "2018-Q1",
          "2018-Q2",
          "2018-Q3",
          "2018-Q4",
          "2019-Q1",
          "2019-Q2",
          "2019-Q3",
          "2019-Q4",
          "2020-Q1",
          "2020-Q2",
          "2020-Q3",
          "2020-Q4",
          "2021-Q1",
          "2021-Q2",
          "2021-Q3",
          "2021-Q4",
          "2022-Q1",
          "2022-Q2",
          "2022-Q3",
          "2022-Q4"
         ],
         "xaxis": "x",
         "y": [
          48.62059021436124,
          74.74286263577814,
          100.77862155147554,
          58.74267038354321,
          46.85186965298472,
          77.96789387676631,
          100.0,
          58.76670191290974,
          39.58954147841969,
          20.431606267422858,
          45.17927520907431,
          23.97385369604922,
          16.84610208593675,
          31.75045659905797,
          70.5517639142555,
          44.006536575987695,
          32.57714120926656,
          64.3083725848313,
          93.02124387196,
          49.40401807171008
         ],
         "yaxis": "y",
         "type": "scatter"
        },
        {
         "hovertemplate": "Country code=TR<br>Time period=%{x}<br>Normalized passenger transport volume [%]=%{y}<extra></extra>",
         "legendgroup": "TR",
         "line": {
          "color": "#EF553B",
          "dash": "solid"
         },
         "marker": {
          "symbol": "circle"
         },
         "mode": "lines",
         "name": "TR",
         "orientation": "v",
         "showlegend": true,
         "x": [
          "2018-Q1",
          "2018-Q2",
          "2018-Q3",
          "2018-Q4",
          "2019-Q1",
          "2019-Q2",
          "2019-Q3",
          "2019-Q4",
          "2020-Q1",
          "2020-Q2",
          "2020-Q3",
          "2020-Q4",
          "2021-Q1",
          "2021-Q2",
          "2021-Q3",
          "2021-Q4",
          "2022-Q1",
          "2022-Q2",
          "2022-Q3",
          "2022-Q4",
          "2023-Q1",
          "2023-Q2"
         ],
         "xaxis": "x",
         "y": [
          12.073170731707316,
          39.8780487804878,
          77.4390243902439,
          22.01219512195122,
          13.414634146341465,
          52.68292682926829,
          100.0,
          30.54878048780488,
          14.51219512195122,
          6.585365853658536,
          9.146341463414634,
          7.2560975609756095,
          4.939024390243903,
          7.804878048780488,
          14.024390243902438,
          8.109756097560975,
          7.987804878048781,
          37.31707317073171,
          91.82926829268293,
          38.29268292682927,
          8.658536585365853,
          58.90243902439025
         ],
         "yaxis": "y",
         "type": "scatter"
        },
        {
         "hovertemplate": "Country code=UK<br>Time period=%{x}<br>Normalized passenger transport volume [%]=%{y}<extra></extra>",
         "legendgroup": "UK",
         "line": {
          "color": "#00cc96",
          "dash": "solid"
         },
         "marker": {
          "symbol": "circle"
         },
         "mode": "lines",
         "name": "UK",
         "orientation": "v",
         "showlegend": true,
         "x": [
          "2018-Q1",
          "2018-Q2",
          "2018-Q3",
          "2018-Q4",
          "2019-Q1",
          "2019-Q2",
          "2019-Q3",
          "2019-Q4",
          "2020-Q1",
          "2020-Q2"
         ],
         "xaxis": "x",
         "y": [
          46.80061428205784,
          77.66828768876375,
          107.89608395188124,
          54.42794983363194,
          44.88098285129255,
          75.72306117225493,
          100.0,
          51.3437420015357,
          35.01407729715895,
          14.781162016892756
         ],
         "yaxis": "y",
         "type": "scatter"
        }
       ],
       "layout": {
        "template": {
         "data": {
          "histogram2dcontour": [
           {
            "type": "histogram2dcontour",
            "colorbar": {
             "outlinewidth": 0,
             "ticks": ""
            },
            "colorscale": [
             [
              0.0,
              "#0d0887"
             ],
             [
              0.1111111111111111,
              "#46039f"
             ],
             [
              0.2222222222222222,
              "#7201a8"
             ],
             [
              0.3333333333333333,
              "#9c179e"
             ],
             [
              0.4444444444444444,
              "#bd3786"
             ],
             [
              0.5555555555555556,
              "#d8576b"
             ],
             [
              0.6666666666666666,
              "#ed7953"
             ],
             [
              0.7777777777777778,
              "#fb9f3a"
             ],
             [
              0.8888888888888888,
              "#fdca26"
             ],
             [
              1.0,
              "#f0f921"
             ]
            ]
           }
          ],
          "choropleth": [
           {
            "type": "choropleth",
            "colorbar": {
             "outlinewidth": 0,
             "ticks": ""
            }
           }
          ],
          "histogram2d": [
           {
            "type": "histogram2d",
            "colorbar": {
             "outlinewidth": 0,
             "ticks": ""
            },
            "colorscale": [
             [
              0.0,
              "#0d0887"
             ],
             [
              0.1111111111111111,
              "#46039f"
             ],
             [
              0.2222222222222222,
              "#7201a8"
             ],
             [
              0.3333333333333333,
              "#9c179e"
             ],
             [
              0.4444444444444444,
              "#bd3786"
             ],
             [
              0.5555555555555556,
              "#d8576b"
             ],
             [
              0.6666666666666666,
              "#ed7953"
             ],
             [
              0.7777777777777778,
              "#fb9f3a"
             ],
             [
              0.8888888888888888,
              "#fdca26"
             ],
             [
              1.0,
              "#f0f921"
             ]
            ]
           }
          ],
          "heatmap": [
           {
            "type": "heatmap",
            "colorbar": {
             "outlinewidth": 0,
             "ticks": ""
            },
            "colorscale": [
             [
              0.0,
              "#0d0887"
             ],
             [
              0.1111111111111111,
              "#46039f"
             ],
             [
              0.2222222222222222,
              "#7201a8"
             ],
             [
              0.3333333333333333,
              "#9c179e"
             ],
             [
              0.4444444444444444,
              "#bd3786"
             ],
             [
              0.5555555555555556,
              "#d8576b"
             ],
             [
              0.6666666666666666,
              "#ed7953"
             ],
             [
              0.7777777777777778,
              "#fb9f3a"
             ],
             [
              0.8888888888888888,
              "#fdca26"
             ],
             [
              1.0,
              "#f0f921"
             ]
            ]
           }
          ],
          "heatmapgl": [
           {
            "type": "heatmapgl",
            "colorbar": {
             "outlinewidth": 0,
             "ticks": ""
            },
            "colorscale": [
             [
              0.0,
              "#0d0887"
             ],
             [
              0.1111111111111111,
              "#46039f"
             ],
             [
              0.2222222222222222,
              "#7201a8"
             ],
             [
              0.3333333333333333,
              "#9c179e"
             ],
             [
              0.4444444444444444,
              "#bd3786"
             ],
             [
              0.5555555555555556,
              "#d8576b"
             ],
             [
              0.6666666666666666,
              "#ed7953"
             ],
             [
              0.7777777777777778,
              "#fb9f3a"
             ],
             [
              0.8888888888888888,
              "#fdca26"
             ],
             [
              1.0,
              "#f0f921"
             ]
            ]
           }
          ],
          "contourcarpet": [
           {
            "type": "contourcarpet",
            "colorbar": {
             "outlinewidth": 0,
             "ticks": ""
            }
           }
          ],
          "contour": [
           {
            "type": "contour",
            "colorbar": {
             "outlinewidth": 0,
             "ticks": ""
            },
            "colorscale": [
             [
              0.0,
              "#0d0887"
             ],
             [
              0.1111111111111111,
              "#46039f"
             ],
             [
              0.2222222222222222,
              "#7201a8"
             ],
             [
              0.3333333333333333,
              "#9c179e"
             ],
             [
              0.4444444444444444,
              "#bd3786"
             ],
             [
              0.5555555555555556,
              "#d8576b"
             ],
             [
              0.6666666666666666,
              "#ed7953"
             ],
             [
              0.7777777777777778,
              "#fb9f3a"
             ],
             [
              0.8888888888888888,
              "#fdca26"
             ],
             [
              1.0,
              "#f0f921"
             ]
            ]
           }
          ],
          "surface": [
           {
            "type": "surface",
            "colorbar": {
             "outlinewidth": 0,
             "ticks": ""
            },
            "colorscale": [
             [
              0.0,
              "#0d0887"
             ],
             [
              0.1111111111111111,
              "#46039f"
             ],
             [
              0.2222222222222222,
              "#7201a8"
             ],
             [
              0.3333333333333333,
              "#9c179e"
             ],
             [
              0.4444444444444444,
              "#bd3786"
             ],
             [
              0.5555555555555556,
              "#d8576b"
             ],
             [
              0.6666666666666666,
              "#ed7953"
             ],
             [
              0.7777777777777778,
              "#fb9f3a"
             ],
             [
              0.8888888888888888,
              "#fdca26"
             ],
             [
              1.0,
              "#f0f921"
             ]
            ]
           }
          ],
          "mesh3d": [
           {
            "type": "mesh3d",
            "colorbar": {
             "outlinewidth": 0,
             "ticks": ""
            }
           }
          ],
          "scatter": [
           {
            "fillpattern": {
             "fillmode": "overlay",
             "size": 10,
             "solidity": 0.2
            },
            "type": "scatter"
           }
          ],
          "parcoords": [
           {
            "type": "parcoords",
            "line": {
             "colorbar": {
              "outlinewidth": 0,
              "ticks": ""
             }
            }
           }
          ],
          "scatterpolargl": [
           {
            "type": "scatterpolargl",
            "marker": {
             "colorbar": {
              "outlinewidth": 0,
              "ticks": ""
             }
            }
           }
          ],
          "bar": [
           {
            "error_x": {
             "color": "#2a3f5f"
            },
            "error_y": {
             "color": "#2a3f5f"
            },
            "marker": {
             "line": {
              "color": "#E5ECF6",
              "width": 0.5
             },
             "pattern": {
              "fillmode": "overlay",
              "size": 10,
              "solidity": 0.2
             }
            },
            "type": "bar"
           }
          ],
          "scattergeo": [
           {
            "type": "scattergeo",
            "marker": {
             "colorbar": {
              "outlinewidth": 0,
              "ticks": ""
             }
            }
           }
          ],
          "scatterpolar": [
           {
            "type": "scatterpolar",
            "marker": {
             "colorbar": {
              "outlinewidth": 0,
              "ticks": ""
             }
            }
           }
          ],
          "histogram": [
           {
            "marker": {
             "pattern": {
              "fillmode": "overlay",
              "size": 10,
              "solidity": 0.2
             }
            },
            "type": "histogram"
           }
          ],
          "scattergl": [
           {
            "type": "scattergl",
            "marker": {
             "colorbar": {
              "outlinewidth": 0,
              "ticks": ""
             }
            }
           }
          ],
          "scatter3d": [
           {
            "type": "scatter3d",
            "line": {
             "colorbar": {
              "outlinewidth": 0,
              "ticks": ""
             }
            },
            "marker": {
             "colorbar": {
              "outlinewidth": 0,
              "ticks": ""
             }
            }
           }
          ],
          "scattermapbox": [
           {
            "type": "scattermapbox",
            "marker": {
             "colorbar": {
              "outlinewidth": 0,
              "ticks": ""
             }
            }
           }
          ],
          "scatterternary": [
           {
            "type": "scatterternary",
            "marker": {
             "colorbar": {
              "outlinewidth": 0,
              "ticks": ""
             }
            }
           }
          ],
          "scattercarpet": [
           {
            "type": "scattercarpet",
            "marker": {
             "colorbar": {
              "outlinewidth": 0,
              "ticks": ""
             }
            }
           }
          ],
          "carpet": [
           {
            "aaxis": {
             "endlinecolor": "#2a3f5f",
             "gridcolor": "white",
             "linecolor": "white",
             "minorgridcolor": "white",
             "startlinecolor": "#2a3f5f"
            },
            "baxis": {
             "endlinecolor": "#2a3f5f",
             "gridcolor": "white",
             "linecolor": "white",
             "minorgridcolor": "white",
             "startlinecolor": "#2a3f5f"
            },
            "type": "carpet"
           }
          ],
          "table": [
           {
            "cells": {
             "fill": {
              "color": "#EBF0F8"
             },
             "line": {
              "color": "white"
             }
            },
            "header": {
             "fill": {
              "color": "#C8D4E3"
             },
             "line": {
              "color": "white"
             }
            },
            "type": "table"
           }
          ],
          "barpolar": [
           {
            "marker": {
             "line": {
              "color": "#E5ECF6",
              "width": 0.5
             },
             "pattern": {
              "fillmode": "overlay",
              "size": 10,
              "solidity": 0.2
             }
            },
            "type": "barpolar"
           }
          ],
          "pie": [
           {
            "automargin": true,
            "type": "pie"
           }
          ]
         },
         "layout": {
          "autotypenumbers": "strict",
          "colorway": [
           "#636efa",
           "#EF553B",
           "#00cc96",
           "#ab63fa",
           "#FFA15A",
           "#19d3f3",
           "#FF6692",
           "#B6E880",
           "#FF97FF",
           "#FECB52"
          ],
          "font": {
           "color": "#2a3f5f"
          },
          "hovermode": "closest",
          "hoverlabel": {
           "align": "left"
          },
          "paper_bgcolor": "white",
          "plot_bgcolor": "#E5ECF6",
          "polar": {
           "bgcolor": "#E5ECF6",
           "angularaxis": {
            "gridcolor": "white",
            "linecolor": "white",
            "ticks": ""
           },
           "radialaxis": {
            "gridcolor": "white",
            "linecolor": "white",
            "ticks": ""
           }
          },
          "ternary": {
           "bgcolor": "#E5ECF6",
           "aaxis": {
            "gridcolor": "white",
            "linecolor": "white",
            "ticks": ""
           },
           "baxis": {
            "gridcolor": "white",
            "linecolor": "white",
            "ticks": ""
           },
           "caxis": {
            "gridcolor": "white",
            "linecolor": "white",
            "ticks": ""
           }
          },
          "coloraxis": {
           "colorbar": {
            "outlinewidth": 0,
            "ticks": ""
           }
          },
          "colorscale": {
           "sequential": [
            [
             0.0,
             "#0d0887"
            ],
            [
             0.1111111111111111,
             "#46039f"
            ],
            [
             0.2222222222222222,
             "#7201a8"
            ],
            [
             0.3333333333333333,
             "#9c179e"
            ],
            [
             0.4444444444444444,
             "#bd3786"
            ],
            [
             0.5555555555555556,
             "#d8576b"
            ],
            [
             0.6666666666666666,
             "#ed7953"
            ],
            [
             0.7777777777777778,
             "#fb9f3a"
            ],
            [
             0.8888888888888888,
             "#fdca26"
            ],
            [
             1.0,
             "#f0f921"
            ]
           ],
           "sequentialminus": [
            [
             0.0,
             "#0d0887"
            ],
            [
             0.1111111111111111,
             "#46039f"
            ],
            [
             0.2222222222222222,
             "#7201a8"
            ],
            [
             0.3333333333333333,
             "#9c179e"
            ],
            [
             0.4444444444444444,
             "#bd3786"
            ],
            [
             0.5555555555555556,
             "#d8576b"
            ],
            [
             0.6666666666666666,
             "#ed7953"
            ],
            [
             0.7777777777777778,
             "#fb9f3a"
            ],
            [
             0.8888888888888888,
             "#fdca26"
            ],
            [
             1.0,
             "#f0f921"
            ]
           ],
           "diverging": [
            [
             0,
             "#8e0152"
            ],
            [
             0.1,
             "#c51b7d"
            ],
            [
             0.2,
             "#de77ae"
            ],
            [
             0.3,
             "#f1b6da"
            ],
            [
             0.4,
             "#fde0ef"
            ],
            [
             0.5,
             "#f7f7f7"
            ],
            [
             0.6,
             "#e6f5d0"
            ],
            [
             0.7,
             "#b8e186"
            ],
            [
             0.8,
             "#7fbc41"
            ],
            [
             0.9,
             "#4d9221"
            ],
            [
             1,
             "#276419"
            ]
           ]
          },
          "xaxis": {
           "gridcolor": "white",
           "linecolor": "white",
           "ticks": "",
           "title": {
            "standoff": 15
           },
           "zerolinecolor": "white",
           "automargin": true,
           "zerolinewidth": 2
          },
          "yaxis": {
           "gridcolor": "white",
           "linecolor": "white",
           "ticks": "",
           "title": {
            "standoff": 15
           },
           "zerolinecolor": "white",
           "automargin": true,
           "zerolinewidth": 2
          },
          "scene": {
           "xaxis": {
            "backgroundcolor": "#E5ECF6",
            "gridcolor": "white",
            "linecolor": "white",
            "showbackground": true,
            "ticks": "",
            "zerolinecolor": "white",
            "gridwidth": 2
           },
           "yaxis": {
            "backgroundcolor": "#E5ECF6",
            "gridcolor": "white",
            "linecolor": "white",
            "showbackground": true,
            "ticks": "",
            "zerolinecolor": "white",
            "gridwidth": 2
           },
           "zaxis": {
            "backgroundcolor": "#E5ECF6",
            "gridcolor": "white",
            "linecolor": "white",
            "showbackground": true,
            "ticks": "",
            "zerolinecolor": "white",
            "gridwidth": 2
           }
          },
          "shapedefaults": {
           "line": {
            "color": "#2a3f5f"
           }
          },
          "annotationdefaults": {
           "arrowcolor": "#2a3f5f",
           "arrowhead": 0,
           "arrowwidth": 1
          },
          "geo": {
           "bgcolor": "white",
           "landcolor": "#E5ECF6",
           "subunitcolor": "white",
           "showland": true,
           "showlakes": true,
           "lakecolor": "white"
          },
          "title": {
           "x": 0.05
          },
          "mapbox": {
           "style": "light"
          }
         }
        },
        "xaxis": {
         "anchor": "y",
         "domain": [
          0.0,
          1.0
         ],
         "title": {
          "text": "Time period"
         },
         "tickangle": 30
        },
        "yaxis": {
         "anchor": "x",
         "domain": [
          0.0,
          1.0
         ],
         "title": {
          "text": "Normalized passenger transport volume [%]"
         }
        },
        "legend": {
         "title": {
          "text": "Country code"
         },
         "tracegroupgap": 0
        },
        "title": {
         "text": "Maritime passenger transport volume in Europe, normalized for highest quarter of 2019 per country"
        }
       },
       "config": {
        "plotlyServerURL": "https://plot.ly"
       }
      },
      "text/html": "<div>                            <div id=\"9ee3c549-7ff6-4953-ba08-8f3097027739\" class=\"plotly-graph-div\" style=\"height:525px; width:100%;\"></div>            <script type=\"text/javascript\">                require([\"plotly\"], function(Plotly) {                    window.PLOTLYENV=window.PLOTLYENV || {};                                    if (document.getElementById(\"9ee3c549-7ff6-4953-ba08-8f3097027739\")) {                    Plotly.newPlot(                        \"9ee3c549-7ff6-4953-ba08-8f3097027739\",                        [{\"hovertemplate\":\"Country code=BE\\u003cbr\\u003eTime period=%{x}\\u003cbr\\u003eNormalized passenger transport volume [%]=%{y}\\u003cextra\\u003e\\u003c\\u002fextra\\u003e\",\"legendgroup\":\"BE\",\"line\":{\"color\":\"#636efa\",\"dash\":\"solid\"},\"marker\":{\"symbol\":\"circle\"},\"mode\":\"lines\",\"name\":\"BE\",\"orientation\":\"v\",\"showlegend\":true,\"x\":[\"2018-Q1\",\"2018-Q2\",\"2018-Q3\",\"2018-Q4\",\"2019-Q1\",\"2019-Q2\",\"2019-Q3\",\"2019-Q4\",\"2020-Q1\",\"2020-Q2\"],\"xaxis\":\"x\",\"y\":[57.7319587628866,84.5360824742268,105.15463917525771,88.65979381443299,53.608247422680414,78.35051546391753,100.0,84.5360824742268,32.98969072164948,1.0309278350515465],\"yaxis\":\"y\",\"type\":\"scatter\"},{\"hovertemplate\":\"Country code=DE\\u003cbr\\u003eTime period=%{x}\\u003cbr\\u003eNormalized passenger transport volume [%]=%{y}\\u003cextra\\u003e\\u003c\\u002fextra\\u003e\",\"legendgroup\":\"DE\",\"line\":{\"color\":\"#EF553B\",\"dash\":\"solid\"},\"marker\":{\"symbol\":\"circle\"},\"mode\":\"lines\",\"name\":\"DE\",\"orientation\":\"v\",\"showlegend\":true,\"x\":[\"2018-Q1\",\"2018-Q2\",\"2018-Q3\",\"2018-Q4\",\"2019-Q1\",\"2019-Q2\",\"2019-Q3\",\"2019-Q4\",\"2020-Q1\",\"2020-Q2\",\"2020-Q3\",\"2020-Q4\",\"2021-Q1\",\"2021-Q2\",\"2021-Q3\",\"2021-Q4\",\"2022-Q1\",\"2022-Q2\",\"2022-Q3\",\"2022-Q4\",\"2023-Q1\",\"2023-Q2\"],\"xaxis\":\"x\",\"y\":[37.32366249667288,78.64652648389672,108.29118977907903,45.0758583976577,37.037529944104335,82.3263241948363,100.0,48.96193771626297,29.57812084109662,20.18232632419484,65.26483896726111,25.166356135214265,10.992813414958745,29.358530742613787,83.28453553367048,41.08331115251531,28.340431195102475,71.57971785999467,95.58823529411764,42.8999201490551,31.9869576789992,0.0],\"yaxis\":\"y\",\"type\":\"scatter\"},{\"hovertemplate\":\"Country code=DK\\u003cbr\\u003eTime period=%{x}\\u003cbr\\u003eNormalized passenger transport volume [%]=%{y}\\u003cextra\\u003e\\u003c\\u002fextra\\u003e\",\"legendgroup\":\"DK\",\"line\":{\"color\":\"#00cc96\",\"dash\":\"solid\"},\"marker\":{\"symbol\":\"circle\"},\"mode\":\"lines\",\"name\":\"DK\",\"orientation\":\"v\",\"showlegend\":true,\"x\":[\"2018-Q1\",\"2018-Q2\",\"2018-Q3\",\"2018-Q4\",\"2019-Q1\",\"2019-Q2\",\"2019-Q3\",\"2019-Q4\",\"2020-Q1\",\"2020-Q2\",\"2020-Q3\",\"2020-Q4\",\"2021-Q1\",\"2021-Q2\",\"2021-Q3\",\"2021-Q4\",\"2022-Q1\",\"2022-Q2\",\"2022-Q3\",\"2022-Q4\"],\"xaxis\":\"x\",\"y\":[45.96004961717781,72.57795457461825,100.36357414773944,55.11784079729672,44.44159288250139,75.94850079130843,100.0,55.378758715086185,37.24282475726079,29.629154369305787,75.4052782411566,30.74126352709697,21.313999743359425,38.91526583686214,80.79045297061465,47.02938534582317,36.43868428931948,68.79250609521365,96.3086530647162,49.18944351768681],\"yaxis\":\"y\",\"type\":\"scatter\"},{\"hovertemplate\":\"Country code=EE\\u003cbr\\u003eTime period=%{x}\\u003cbr\\u003eNormalized passenger transport volume [%]=%{y}\\u003cextra\\u003e\\u003c\\u002fextra\\u003e\",\"legendgroup\":\"EE\",\"line\":{\"color\":\"#ab63fa\",\"dash\":\"solid\"},\"marker\":{\"symbol\":\"circle\"},\"mode\":\"lines\",\"name\":\"EE\",\"orientation\":\"v\",\"showlegend\":true,\"x\":[\"2018-Q1\",\"2018-Q2\",\"2018-Q3\",\"2018-Q4\",\"2019-Q1\",\"2019-Q2\",\"2019-Q3\",\"2019-Q4\",\"2020-Q1\",\"2020-Q2\",\"2020-Q3\",\"2020-Q4\",\"2021-Q1\",\"2021-Q2\",\"2021-Q3\",\"2021-Q4\",\"2022-Q1\",\"2022-Q2\",\"2022-Q3\",\"2022-Q4\",\"2023-Q1\",\"2023-Q2\"],\"xaxis\":\"x\",\"y\":[54.7985347985348,80.0,97.26495726495726,67.2039072039072,52.014652014652015,81.0989010989011,100.0,68.03418803418803,45.323565323565326,22.173382173382173,61.001221001221005,25.51892551892552,15.677655677655675,28.791208791208792,53.94383394383394,40.26862026862027,29.76800976800977,60.61050061050061,80.78144078144078,52.16117216117216,42.68620268620269,0.0],\"yaxis\":\"y\",\"type\":\"scatter\"},{\"hovertemplate\":\"Country code=EL\\u003cbr\\u003eTime period=%{x}\\u003cbr\\u003eNormalized passenger transport volume [%]=%{y}\\u003cextra\\u003e\\u003c\\u002fextra\\u003e\",\"legendgroup\":\"EL\",\"line\":{\"color\":\"#FFA15A\",\"dash\":\"solid\"},\"marker\":{\"symbol\":\"circle\"},\"mode\":\"lines\",\"name\":\"EL\",\"orientation\":\"v\",\"showlegend\":true,\"x\":[\"2018-Q1\",\"2018-Q2\",\"2018-Q3\",\"2018-Q4\",\"2019-Q1\",\"2019-Q2\",\"2019-Q3\",\"2019-Q4\",\"2020-Q1\",\"2020-Q2\",\"2020-Q3\",\"2020-Q4\",\"2021-Q1\",\"2021-Q2\",\"2021-Q3\",\"2021-Q4\",\"2022-Q1\",\"2022-Q2\",\"2022-Q3\",\"2022-Q4\",\"2023-Q1\",\"2023-Q2\"],\"xaxis\":\"x\",\"y\":[25.347654041831543,51.22668174109666,94.54494064443188,30.915771622385527,25.053702656868285,54.14358394573205,100.0,32.758620689655174,21.13623516110797,17.874505370265688,60.74053137365743,17.21311475409836,11.30016958733748,30.497456189937814,81.66760881854155,26.04296212549463,21.62803843979649,50.26568682871679,97.38835500282646,30.989259468626344,25.223289994347088,0.0],\"yaxis\":\"y\",\"type\":\"scatter\"},{\"hovertemplate\":\"Country code=ES\\u003cbr\\u003eTime period=%{x}\\u003cbr\\u003eNormalized passenger transport volume [%]=%{y}\\u003cextra\\u003e\\u003c\\u002fextra\\u003e\",\"legendgroup\":\"ES\",\"line\":{\"color\":\"#19d3f3\",\"dash\":\"solid\"},\"marker\":{\"symbol\":\"circle\"},\"mode\":\"lines\",\"name\":\"ES\",\"orientation\":\"v\",\"showlegend\":true,\"x\":[\"2018-Q1\",\"2018-Q2\",\"2018-Q3\",\"2018-Q4\",\"2019-Q1\",\"2019-Q2\",\"2019-Q3\",\"2019-Q4\",\"2020-Q1\",\"2020-Q2\",\"2020-Q3\",\"2020-Q4\",\"2021-Q1\",\"2021-Q2\",\"2021-Q3\",\"2021-Q4\",\"2022-Q1\",\"2022-Q2\",\"2022-Q3\",\"2022-Q4\",\"2023-Q1\",\"2023-Q2\"],\"xaxis\":\"x\",\"y\":[35.27008624602814,51.581177182629744,96.46946083623342,45.09002874867605,39.12341756191053,55.45972663539618,100.0,43.929994452009886,32.45069854239169,9.068442023503303,40.929036162808295,18.152014929137035,14.046502244414183,25.68719423009028,55.27815604983104,35.10364654259343,28.46118928733545,50.04287083270288,96.71155495032028,41.68053664195289,37.56493670247642,0.0],\"yaxis\":\"y\",\"type\":\"scatter\"},{\"hovertemplate\":\"Country code=EU\\u003cbr\\u003eTime period=%{x}\\u003cbr\\u003eNormalized passenger transport volume [%]=%{y}\\u003cextra\\u003e\\u003c\\u002fextra\\u003e\",\"legendgroup\":\"EU\",\"line\":{\"color\":\"#FF6692\",\"dash\":\"solid\"},\"marker\":{\"symbol\":\"circle\"},\"mode\":\"lines\",\"name\":\"EU\",\"orientation\":\"v\",\"showlegend\":true,\"x\":[\"2018-Q1\",\"2018-Q2\",\"2018-Q3\",\"2018-Q4\",\"2019-Q1\",\"2019-Q2\",\"2019-Q3\",\"2019-Q4\",\"2020-Q1\",\"2020-Q2\",\"2020-Q3\",\"2020-Q4\",\"2021-Q1\",\"2021-Q2\",\"2021-Q3\",\"2021-Q4\"],\"xaxis\":\"x\",\"y\":[33.782622648736506,63.06924645692931,101.4410385415696,42.55722227398366,34.30023706740375,66.32090023499694,100.0,42.28392186092736,28.96673809745644,19.282172324192263,61.44083149580214,21.8402227812458,16.13404142985807,32.50929117881508,79.87722185989213,36.17296603414184],\"yaxis\":\"y\",\"type\":\"scatter\"},{\"hovertemplate\":\"Country code=FI\\u003cbr\\u003eTime period=%{x}\\u003cbr\\u003eNormalized passenger transport volume [%]=%{y}\\u003cextra\\u003e\\u003c\\u002fextra\\u003e\",\"legendgroup\":\"FI\",\"line\":{\"color\":\"#B6E880\",\"dash\":\"solid\"},\"marker\":{\"symbol\":\"circle\"},\"mode\":\"lines\",\"name\":\"FI\",\"orientation\":\"v\",\"showlegend\":true,\"x\":[\"2018-Q1\",\"2018-Q2\",\"2018-Q3\",\"2018-Q4\",\"2019-Q1\",\"2019-Q2\",\"2019-Q3\",\"2019-Q4\",\"2020-Q1\",\"2020-Q2\",\"2020-Q3\",\"2020-Q4\",\"2021-Q1\",\"2021-Q2\",\"2021-Q3\",\"2021-Q4\",\"2022-Q1\",\"2022-Q2\",\"2022-Q3\",\"2022-Q4\",\"2023-Q1\"],\"xaxis\":\"x\",\"y\":[57.8036605657238,81.39767054908486,98.6855241264559,70.98169717138103,55.54076539101497,82.54575707154743,100.0,70.08319467554077,46.50582362728785,11.697171381031614,41.18136439267887,17.204658901830282,10.199667221297837,18.136439267886857,42.229617304492514,39.750415973377706,26.70549084858569,60.18302828618968,77.88685524126456,51.780366056572376,40.5324459234609],\"yaxis\":\"y\",\"type\":\"scatter\"},{\"hovertemplate\":\"Country code=FR\\u003cbr\\u003eTime period=%{x}\\u003cbr\\u003eNormalized passenger transport volume [%]=%{y}\\u003cextra\\u003e\\u003c\\u002fextra\\u003e\",\"legendgroup\":\"FR\",\"line\":{\"color\":\"#FF97FF\",\"dash\":\"solid\"},\"marker\":{\"symbol\":\"circle\"},\"mode\":\"lines\",\"name\":\"FR\",\"orientation\":\"v\",\"showlegend\":true,\"x\":[\"2018-Q1\",\"2018-Q2\",\"2018-Q3\",\"2018-Q4\",\"2019-Q1\",\"2019-Q2\",\"2019-Q3\",\"2019-Q4\",\"2020-Q1\",\"2020-Q2\",\"2020-Q3\",\"2020-Q4\",\"2021-Q1\",\"2021-Q2\",\"2021-Q3\",\"2021-Q4\"],\"xaxis\":\"x\",\"y\":[32.71163609988602,65.33001761475495,103.48150450730496,38.52450523261838,33.19863226608641,66.41798777328775,100.0,35.43674230649673,22.8680965703036,11.926225261630918,48.60636203502228,17.64583980934618,11.511760439332711,18.87887265568335,50.98435395295824,22.163506372396643],\"yaxis\":\"y\",\"type\":\"scatter\"},{\"hovertemplate\":\"Country code=HR\\u003cbr\\u003eTime period=%{x}\\u003cbr\\u003eNormalized passenger transport volume [%]=%{y}\\u003cextra\\u003e\\u003c\\u002fextra\\u003e\",\"legendgroup\":\"HR\",\"line\":{\"color\":\"#FECB52\",\"dash\":\"solid\"},\"marker\":{\"symbol\":\"circle\"},\"mode\":\"lines\",\"name\":\"HR\",\"orientation\":\"v\",\"showlegend\":true,\"x\":[\"2018-Q1\",\"2018-Q2\",\"2018-Q3\",\"2018-Q4\",\"2019-Q1\",\"2019-Q2\",\"2019-Q3\",\"2019-Q4\",\"2020-Q1\",\"2020-Q2\",\"2020-Q3\",\"2020-Q4\",\"2021-Q1\",\"2021-Q2\",\"2021-Q3\",\"2021-Q4\",\"2022-Q1\",\"2022-Q2\",\"2022-Q3\",\"2022-Q4\",\"2023-Q1\",\"2023-Q2\"],\"xaxis\":\"x\",\"y\":[15.172337360079796,47.589493516568766,96.61974952898149,22.15449407070819,15.959215338579186,48.67560678266652,100.0,22.94137204920758,14.097306882411615,16.3471129336141,57.331264546159815,14.573866784883077,13.099855923750416,29.635376260667183,85.33747090768037,19.63870109719605,16.236285049318408,44.940707081901806,96.76382577856587,22.5423916657431,16.41360966419151,48.60911005208911],\"yaxis\":\"y\",\"type\":\"scatter\"},{\"hovertemplate\":\"Country code=IE\\u003cbr\\u003eTime period=%{x}\\u003cbr\\u003eNormalized passenger transport volume [%]=%{y}\\u003cextra\\u003e\\u003c\\u002fextra\\u003e\",\"legendgroup\":\"IE\",\"line\":{\"color\":\"#636efa\",\"dash\":\"solid\"},\"marker\":{\"symbol\":\"circle\"},\"mode\":\"lines\",\"name\":\"IE\",\"orientation\":\"v\",\"showlegend\":true,\"x\":[\"2018-Q1\",\"2018-Q2\",\"2018-Q3\",\"2018-Q4\",\"2019-Q1\",\"2019-Q2\",\"2019-Q3\",\"2019-Q4\",\"2020-Q1\",\"2020-Q2\",\"2020-Q3\",\"2020-Q4\",\"2021-Q1\",\"2021-Q2\",\"2021-Q3\",\"2021-Q4\",\"2022-Q1\",\"2022-Q2\",\"2022-Q3\",\"2022-Q4\",\"2023-Q1\",\"2023-Q2\"],\"xaxis\":\"x\",\"y\":[35.41284403669725,69.44954128440367,101.46788990825688,41.559633027522935,32.018348623853214,69.26605504587155,100.0,41.37614678899082,25.504587155963304,8.073394495412844,25.68807339449541,15.412844036697248,8.623853211009175,12.477064220183486,41.74311926605505,30.825688073394492,24.95412844036697,59.90825688073394,89.54128440366972,40.73394495412844,30.18348623853211,62.38532110091743],\"yaxis\":\"y\",\"type\":\"scatter\"},{\"hovertemplate\":\"Country code=IT\\u003cbr\\u003eTime period=%{x}\\u003cbr\\u003eNormalized passenger transport volume [%]=%{y}\\u003cextra\\u003e\\u003c\\u002fextra\\u003e\",\"legendgroup\":\"IT\",\"line\":{\"color\":\"#EF553B\",\"dash\":\"solid\"},\"marker\":{\"symbol\":\"circle\"},\"mode\":\"lines\",\"name\":\"IT\",\"orientation\":\"v\",\"showlegend\":true,\"x\":[\"2018-Q1\",\"2018-Q2\",\"2018-Q3\",\"2018-Q4\",\"2019-Q1\",\"2019-Q2\",\"2019-Q3\",\"2019-Q4\",\"2020-Q1\",\"2020-Q2\",\"2020-Q3\",\"2020-Q4\",\"2021-Q1\",\"2021-Q2\",\"2021-Q3\",\"2021-Q4\",\"2022-Q1\",\"2022-Q2\",\"2022-Q3\",\"2022-Q4\"],\"xaxis\":\"x\",\"y\":[25.585031268912648,59.78414363526326,105.74440185596129,36.100463990316726,28.394190034294937,69.24046802501513,100.0,35.31369780108937,27.28969134557192,23.340730280411535,75.60520476094412,22.387532781924552,15.63949969739762,31.077264474480533,83.94190034294937,27.65281420213839,16.3909622755699,36.26689529957636,64.80734315109946,25.05043373007868],\"yaxis\":\"y\",\"type\":\"scatter\"},{\"hovertemplate\":\"Country code=LT\\u003cbr\\u003eTime period=%{x}\\u003cbr\\u003eNormalized passenger transport volume [%]=%{y}\\u003cextra\\u003e\\u003c\\u002fextra\\u003e\",\"legendgroup\":\"LT\",\"line\":{\"color\":\"#00cc96\",\"dash\":\"solid\"},\"marker\":{\"symbol\":\"circle\"},\"mode\":\"lines\",\"name\":\"LT\",\"orientation\":\"v\",\"showlegend\":true,\"x\":[\"2018-Q1\",\"2018-Q2\",\"2018-Q3\",\"2018-Q4\",\"2019-Q1\",\"2019-Q2\",\"2019-Q3\",\"2019-Q4\",\"2020-Q1\",\"2020-Q2\",\"2020-Q3\",\"2020-Q4\",\"2021-Q1\",\"2021-Q2\",\"2021-Q3\",\"2021-Q4\",\"2022-Q1\",\"2022-Q2\",\"2022-Q3\",\"2022-Q4\",\"2023-Q1\",\"2023-Q2\"],\"xaxis\":\"x\",\"y\":[53.09734513274336,71.68141592920354,95.57522123893806,65.48672566371681,57.52212389380531,80.53097345132744,100.0,65.48672566371681,58.4070796460177,71.68141592920354,82.30088495575221,60.17699115044248,56.63716814159292,67.2566371681416,92.03539823008848,61.06194690265487,53.98230088495576,73.45132743362832,102.65486725663716,69.02654867256638,61.06194690265487,0.0],\"yaxis\":\"y\",\"type\":\"scatter\"},{\"hovertemplate\":\"Country code=LV\\u003cbr\\u003eTime period=%{x}\\u003cbr\\u003eNormalized passenger transport volume [%]=%{y}\\u003cextra\\u003e\\u003c\\u002fextra\\u003e\",\"legendgroup\":\"LV\",\"line\":{\"color\":\"#ab63fa\",\"dash\":\"solid\"},\"marker\":{\"symbol\":\"circle\"},\"mode\":\"lines\",\"name\":\"LV\",\"orientation\":\"v\",\"showlegend\":true,\"x\":[\"2018-Q1\",\"2018-Q2\",\"2018-Q3\",\"2018-Q4\",\"2019-Q1\",\"2019-Q2\",\"2019-Q3\",\"2019-Q4\",\"2020-Q1\",\"2020-Q2\",\"2020-Q3\",\"2020-Q4\",\"2021-Q1\",\"2021-Q2\",\"2021-Q3\",\"2021-Q4\",\"2022-Q1\",\"2022-Q2\",\"2022-Q3\",\"2022-Q4\",\"2023-Q1\",\"2023-Q2\"],\"xaxis\":\"x\",\"y\":[59.22619047619048,79.76190476190476,98.21428571428572,65.77380952380952,55.65476190476191,83.33333333333333,100.0,68.1547619047619,45.833333333333336,11.607142857142858,58.92857142857143,13.095238095238097,11.011904761904765,13.69047619047619,19.642857142857142,16.964285714285715,16.964285714285715,21.726190476190474,28.27380952380953,19.34523809523809,17.55952380952381,22.02380952380953],\"yaxis\":\"y\",\"type\":\"scatter\"},{\"hovertemplate\":\"Country code=ME\\u003cbr\\u003eTime period=%{x}\\u003cbr\\u003eNormalized passenger transport volume [%]=%{y}\\u003cextra\\u003e\\u003c\\u002fextra\\u003e\",\"legendgroup\":\"ME\",\"line\":{\"color\":\"#FFA15A\",\"dash\":\"solid\"},\"marker\":{\"symbol\":\"circle\"},\"mode\":\"lines\",\"name\":\"ME\",\"orientation\":\"v\",\"showlegend\":true,\"x\":[\"2018-Q1\",\"2018-Q2\",\"2018-Q3\",\"2018-Q4\",\"2019-Q1\",\"2019-Q2\",\"2019-Q3\",\"2019-Q4\",\"2020-Q1\",\"2020-Q2\"],\"xaxis\":\"x\",\"y\":[0.0,16.666666666666668,133.33333333333334,16.666666666666668,16.666666666666668,16.666666666666668,100.0,16.666666666666668,0.0,0.0],\"yaxis\":\"y\",\"type\":\"scatter\"},{\"hovertemplate\":\"Country code=MT\\u003cbr\\u003eTime period=%{x}\\u003cbr\\u003eNormalized passenger transport volume [%]=%{y}\\u003cextra\\u003e\\u003c\\u002fextra\\u003e\",\"legendgroup\":\"MT\",\"line\":{\"color\":\"#19d3f3\",\"dash\":\"solid\"},\"marker\":{\"symbol\":\"circle\"},\"mode\":\"lines\",\"name\":\"MT\",\"orientation\":\"v\",\"showlegend\":true,\"x\":[\"2018-Q1\",\"2018-Q2\",\"2018-Q3\",\"2018-Q4\",\"2019-Q1\",\"2019-Q2\",\"2019-Q3\",\"2019-Q4\",\"2020-Q1\",\"2020-Q2\",\"2020-Q3\",\"2020-Q4\",\"2021-Q1\",\"2021-Q2\",\"2021-Q3\",\"2021-Q4\",\"2022-Q1\",\"2022-Q2\",\"2022-Q3\",\"2022-Q4\",\"2023-Q1\",\"2023-Q2\"],\"xaxis\":\"x\",\"y\":[62.42344706911637,86.7891513560805,96.2817147856518,72.30971128608924,60.19247594050744,89.06386701662292,100.0,74.54068241469817,54.89938757655293,26.15923009623797,60.27996500437445,41.51356080489938,32.808398950131235,44.663167104111984,81.10236220472441,61.15485564304462,50.874890638670166,77.95275590551181,93.21959755030622,75.67804024496938,64.56692913385827,0.0],\"yaxis\":\"y\",\"type\":\"scatter\"},{\"hovertemplate\":\"Country code=NL\\u003cbr\\u003eTime period=%{x}\\u003cbr\\u003eNormalized passenger transport volume [%]=%{y}\\u003cextra\\u003e\\u003c\\u002fextra\\u003e\",\"legendgroup\":\"NL\",\"line\":{\"color\":\"#FF6692\",\"dash\":\"solid\"},\"marker\":{\"symbol\":\"circle\"},\"mode\":\"lines\",\"name\":\"NL\",\"orientation\":\"v\",\"showlegend\":true,\"x\":[\"2018-Q1\",\"2018-Q2\",\"2018-Q3\",\"2018-Q4\",\"2019-Q1\",\"2019-Q2\",\"2019-Q3\",\"2019-Q4\",\"2020-Q1\",\"2020-Q2\",\"2020-Q3\",\"2020-Q4\",\"2021-Q1\",\"2021-Q2\",\"2021-Q3\",\"2021-Q4\",\"2022-Q1\",\"2022-Q2\",\"2022-Q3\",\"2022-Q4\"],\"xaxis\":\"x\",\"y\":[58.631415241057546,82.73716951788491,99.06687402799378,67.651632970451,57.23172628304821,83.51477449455676,100.0,71.69517884914464,45.25660964230171,17.573872472783826,56.14307931570762,31.57076205287714,17.107309486780714,29.393468118195955,52.87713841368585,38.25816485225506,31.2597200622084,84.13685847589424,116.95178849144637,78.69362363919129],\"yaxis\":\"y\",\"type\":\"scatter\"},{\"hovertemplate\":\"Country code=NO\\u003cbr\\u003eTime period=%{x}\\u003cbr\\u003eNormalized passenger transport volume [%]=%{y}\\u003cextra\\u003e\\u003c\\u002fextra\\u003e\",\"legendgroup\":\"NO\",\"line\":{\"color\":\"#B6E880\",\"dash\":\"solid\"},\"marker\":{\"symbol\":\"circle\"},\"mode\":\"lines\",\"name\":\"NO\",\"orientation\":\"v\",\"showlegend\":true,\"x\":[\"2018-Q1\",\"2018-Q2\",\"2018-Q3\",\"2018-Q4\",\"2019-Q1\",\"2019-Q2\",\"2019-Q3\",\"2019-Q4\",\"2020-Q1\",\"2020-Q2\",\"2020-Q3\",\"2020-Q4\",\"2021-Q1\",\"2021-Q2\",\"2021-Q3\",\"2021-Q4\",\"2022-Q1\",\"2022-Q2\",\"2022-Q3\",\"2022-Q4\"],\"xaxis\":\"x\",\"y\":[49.43157894736842,63.32631578947368,95.53684210526316,51.41052631578948,44.21052631578947,70.27368421052631,100.0,53.55789473684211,34.27368421052632,4.757894736842105,34.82105263157895,5.852631578947369,2.1052631578947367,3.1578947368421053,35.07368421052632,32.16842105263158,27.157894736842103,62.23157894736842,97.22105263157894,47.49473684210526],\"yaxis\":\"y\",\"type\":\"scatter\"},{\"hovertemplate\":\"Country code=PL\\u003cbr\\u003eTime period=%{x}\\u003cbr\\u003eNormalized passenger transport volume [%]=%{y}\\u003cextra\\u003e\\u003c\\u002fextra\\u003e\",\"legendgroup\":\"PL\",\"line\":{\"color\":\"#FF97FF\",\"dash\":\"solid\"},\"marker\":{\"symbol\":\"circle\"},\"mode\":\"lines\",\"name\":\"PL\",\"orientation\":\"v\",\"showlegend\":true,\"x\":[\"2018-Q1\",\"2018-Q2\",\"2018-Q3\",\"2018-Q4\",\"2019-Q1\",\"2019-Q2\",\"2019-Q3\",\"2019-Q4\",\"2020-Q1\",\"2020-Q2\",\"2020-Q3\",\"2020-Q4\",\"2021-Q1\",\"2021-Q2\",\"2021-Q3\",\"2021-Q4\",\"2022-Q1\",\"2022-Q2\",\"2022-Q3\",\"2022-Q4\",\"2023-Q1\",\"2023-Q2\"],\"xaxis\":\"x\",\"y\":[39.0677025527192,64.92785793562707,97.33629300776914,46.17092119866815,42.06437291897891,66.14872364039955,100.0,44.72807991120977,36.2930077691454,35.73806881243063,73.69589345172031,38.73473917869035,35.294117647058826,46.614872364039954,86.90344062153163,44.83906770255272,38.62375138734739,52.05327413984462,70.25527192008879,43.17425083240843,36.40399556048835,0.0],\"yaxis\":\"y\",\"type\":\"scatter\"},{\"hovertemplate\":\"Country code=PT\\u003cbr\\u003eTime period=%{x}\\u003cbr\\u003eNormalized passenger transport volume [%]=%{y}\\u003cextra\\u003e\\u003c\\u002fextra\\u003e\",\"legendgroup\":\"PT\",\"line\":{\"color\":\"#FECB52\",\"dash\":\"solid\"},\"marker\":{\"symbol\":\"circle\"},\"mode\":\"lines\",\"name\":\"PT\",\"orientation\":\"v\",\"showlegend\":true,\"x\":[\"2018-Q1\",\"2018-Q2\",\"2018-Q3\",\"2018-Q4\",\"2019-Q1\",\"2019-Q2\",\"2019-Q3\",\"2019-Q4\",\"2020-Q1\",\"2020-Q2\",\"2020-Q3\",\"2020-Q4\",\"2021-Q1\",\"2021-Q2\",\"2021-Q3\",\"2021-Q4\",\"2022-Q1\",\"2022-Q2\",\"2022-Q3\",\"2022-Q4\",\"2023-Q1\",\"2023-Q2\"],\"xaxis\":\"x\",\"y\":[16.571428571428573,54.85714285714285,97.14285714285714,37.142857142857146,19.428571428571427,64.57142857142857,100.0,35.42857142857143,48.57142857142857,37.142857142857146,153.71428571428572,69.14285714285714,38.285714285714285,85.14285714285714,194.28571428571428,82.85714285714286,49.142857142857146,124.57142857142856,217.7142857142857,90.28571428571428,65.14285714285714,0.0],\"yaxis\":\"y\",\"type\":\"scatter\"},{\"hovertemplate\":\"Country code=SE\\u003cbr\\u003eTime period=%{x}\\u003cbr\\u003eNormalized passenger transport volume [%]=%{y}\\u003cextra\\u003e\\u003c\\u002fextra\\u003e\",\"legendgroup\":\"SE\",\"line\":{\"color\":\"#636efa\",\"dash\":\"solid\"},\"marker\":{\"symbol\":\"circle\"},\"mode\":\"lines\",\"name\":\"SE\",\"orientation\":\"v\",\"showlegend\":true,\"x\":[\"2018-Q1\",\"2018-Q2\",\"2018-Q3\",\"2018-Q4\",\"2019-Q1\",\"2019-Q2\",\"2019-Q3\",\"2019-Q4\",\"2020-Q1\",\"2020-Q2\",\"2020-Q3\",\"2020-Q4\",\"2021-Q1\",\"2021-Q2\",\"2021-Q3\",\"2021-Q4\",\"2022-Q1\",\"2022-Q2\",\"2022-Q3\",\"2022-Q4\"],\"xaxis\":\"x\",\"y\":[48.62059021436124,74.74286263577814,100.77862155147554,58.74267038354321,46.85186965298472,77.96789387676631,100.0,58.76670191290974,39.58954147841969,20.431606267422858,45.17927520907431,23.97385369604922,16.84610208593675,31.75045659905797,70.5517639142555,44.006536575987695,32.57714120926656,64.3083725848313,93.02124387196,49.40401807171008],\"yaxis\":\"y\",\"type\":\"scatter\"},{\"hovertemplate\":\"Country code=TR\\u003cbr\\u003eTime period=%{x}\\u003cbr\\u003eNormalized passenger transport volume [%]=%{y}\\u003cextra\\u003e\\u003c\\u002fextra\\u003e\",\"legendgroup\":\"TR\",\"line\":{\"color\":\"#EF553B\",\"dash\":\"solid\"},\"marker\":{\"symbol\":\"circle\"},\"mode\":\"lines\",\"name\":\"TR\",\"orientation\":\"v\",\"showlegend\":true,\"x\":[\"2018-Q1\",\"2018-Q2\",\"2018-Q3\",\"2018-Q4\",\"2019-Q1\",\"2019-Q2\",\"2019-Q3\",\"2019-Q4\",\"2020-Q1\",\"2020-Q2\",\"2020-Q3\",\"2020-Q4\",\"2021-Q1\",\"2021-Q2\",\"2021-Q3\",\"2021-Q4\",\"2022-Q1\",\"2022-Q2\",\"2022-Q3\",\"2022-Q4\",\"2023-Q1\",\"2023-Q2\"],\"xaxis\":\"x\",\"y\":[12.073170731707316,39.8780487804878,77.4390243902439,22.01219512195122,13.414634146341465,52.68292682926829,100.0,30.54878048780488,14.51219512195122,6.585365853658536,9.146341463414634,7.2560975609756095,4.939024390243903,7.804878048780488,14.024390243902438,8.109756097560975,7.987804878048781,37.31707317073171,91.82926829268293,38.29268292682927,8.658536585365853,58.90243902439025],\"yaxis\":\"y\",\"type\":\"scatter\"},{\"hovertemplate\":\"Country code=UK\\u003cbr\\u003eTime period=%{x}\\u003cbr\\u003eNormalized passenger transport volume [%]=%{y}\\u003cextra\\u003e\\u003c\\u002fextra\\u003e\",\"legendgroup\":\"UK\",\"line\":{\"color\":\"#00cc96\",\"dash\":\"solid\"},\"marker\":{\"symbol\":\"circle\"},\"mode\":\"lines\",\"name\":\"UK\",\"orientation\":\"v\",\"showlegend\":true,\"x\":[\"2018-Q1\",\"2018-Q2\",\"2018-Q3\",\"2018-Q4\",\"2019-Q1\",\"2019-Q2\",\"2019-Q3\",\"2019-Q4\",\"2020-Q1\",\"2020-Q2\"],\"xaxis\":\"x\",\"y\":[46.80061428205784,77.66828768876375,107.89608395188124,54.42794983363194,44.88098285129255,75.72306117225493,100.0,51.3437420015357,35.01407729715895,14.781162016892756],\"yaxis\":\"y\",\"type\":\"scatter\"}],                        {\"template\":{\"data\":{\"histogram2dcontour\":[{\"type\":\"histogram2dcontour\",\"colorbar\":{\"outlinewidth\":0,\"ticks\":\"\"},\"colorscale\":[[0.0,\"#0d0887\"],[0.1111111111111111,\"#46039f\"],[0.2222222222222222,\"#7201a8\"],[0.3333333333333333,\"#9c179e\"],[0.4444444444444444,\"#bd3786\"],[0.5555555555555556,\"#d8576b\"],[0.6666666666666666,\"#ed7953\"],[0.7777777777777778,\"#fb9f3a\"],[0.8888888888888888,\"#fdca26\"],[1.0,\"#f0f921\"]]}],\"choropleth\":[{\"type\":\"choropleth\",\"colorbar\":{\"outlinewidth\":0,\"ticks\":\"\"}}],\"histogram2d\":[{\"type\":\"histogram2d\",\"colorbar\":{\"outlinewidth\":0,\"ticks\":\"\"},\"colorscale\":[[0.0,\"#0d0887\"],[0.1111111111111111,\"#46039f\"],[0.2222222222222222,\"#7201a8\"],[0.3333333333333333,\"#9c179e\"],[0.4444444444444444,\"#bd3786\"],[0.5555555555555556,\"#d8576b\"],[0.6666666666666666,\"#ed7953\"],[0.7777777777777778,\"#fb9f3a\"],[0.8888888888888888,\"#fdca26\"],[1.0,\"#f0f921\"]]}],\"heatmap\":[{\"type\":\"heatmap\",\"colorbar\":{\"outlinewidth\":0,\"ticks\":\"\"},\"colorscale\":[[0.0,\"#0d0887\"],[0.1111111111111111,\"#46039f\"],[0.2222222222222222,\"#7201a8\"],[0.3333333333333333,\"#9c179e\"],[0.4444444444444444,\"#bd3786\"],[0.5555555555555556,\"#d8576b\"],[0.6666666666666666,\"#ed7953\"],[0.7777777777777778,\"#fb9f3a\"],[0.8888888888888888,\"#fdca26\"],[1.0,\"#f0f921\"]]}],\"heatmapgl\":[{\"type\":\"heatmapgl\",\"colorbar\":{\"outlinewidth\":0,\"ticks\":\"\"},\"colorscale\":[[0.0,\"#0d0887\"],[0.1111111111111111,\"#46039f\"],[0.2222222222222222,\"#7201a8\"],[0.3333333333333333,\"#9c179e\"],[0.4444444444444444,\"#bd3786\"],[0.5555555555555556,\"#d8576b\"],[0.6666666666666666,\"#ed7953\"],[0.7777777777777778,\"#fb9f3a\"],[0.8888888888888888,\"#fdca26\"],[1.0,\"#f0f921\"]]}],\"contourcarpet\":[{\"type\":\"contourcarpet\",\"colorbar\":{\"outlinewidth\":0,\"ticks\":\"\"}}],\"contour\":[{\"type\":\"contour\",\"colorbar\":{\"outlinewidth\":0,\"ticks\":\"\"},\"colorscale\":[[0.0,\"#0d0887\"],[0.1111111111111111,\"#46039f\"],[0.2222222222222222,\"#7201a8\"],[0.3333333333333333,\"#9c179e\"],[0.4444444444444444,\"#bd3786\"],[0.5555555555555556,\"#d8576b\"],[0.6666666666666666,\"#ed7953\"],[0.7777777777777778,\"#fb9f3a\"],[0.8888888888888888,\"#fdca26\"],[1.0,\"#f0f921\"]]}],\"surface\":[{\"type\":\"surface\",\"colorbar\":{\"outlinewidth\":0,\"ticks\":\"\"},\"colorscale\":[[0.0,\"#0d0887\"],[0.1111111111111111,\"#46039f\"],[0.2222222222222222,\"#7201a8\"],[0.3333333333333333,\"#9c179e\"],[0.4444444444444444,\"#bd3786\"],[0.5555555555555556,\"#d8576b\"],[0.6666666666666666,\"#ed7953\"],[0.7777777777777778,\"#fb9f3a\"],[0.8888888888888888,\"#fdca26\"],[1.0,\"#f0f921\"]]}],\"mesh3d\":[{\"type\":\"mesh3d\",\"colorbar\":{\"outlinewidth\":0,\"ticks\":\"\"}}],\"scatter\":[{\"fillpattern\":{\"fillmode\":\"overlay\",\"size\":10,\"solidity\":0.2},\"type\":\"scatter\"}],\"parcoords\":[{\"type\":\"parcoords\",\"line\":{\"colorbar\":{\"outlinewidth\":0,\"ticks\":\"\"}}}],\"scatterpolargl\":[{\"type\":\"scatterpolargl\",\"marker\":{\"colorbar\":{\"outlinewidth\":0,\"ticks\":\"\"}}}],\"bar\":[{\"error_x\":{\"color\":\"#2a3f5f\"},\"error_y\":{\"color\":\"#2a3f5f\"},\"marker\":{\"line\":{\"color\":\"#E5ECF6\",\"width\":0.5},\"pattern\":{\"fillmode\":\"overlay\",\"size\":10,\"solidity\":0.2}},\"type\":\"bar\"}],\"scattergeo\":[{\"type\":\"scattergeo\",\"marker\":{\"colorbar\":{\"outlinewidth\":0,\"ticks\":\"\"}}}],\"scatterpolar\":[{\"type\":\"scatterpolar\",\"marker\":{\"colorbar\":{\"outlinewidth\":0,\"ticks\":\"\"}}}],\"histogram\":[{\"marker\":{\"pattern\":{\"fillmode\":\"overlay\",\"size\":10,\"solidity\":0.2}},\"type\":\"histogram\"}],\"scattergl\":[{\"type\":\"scattergl\",\"marker\":{\"colorbar\":{\"outlinewidth\":0,\"ticks\":\"\"}}}],\"scatter3d\":[{\"type\":\"scatter3d\",\"line\":{\"colorbar\":{\"outlinewidth\":0,\"ticks\":\"\"}},\"marker\":{\"colorbar\":{\"outlinewidth\":0,\"ticks\":\"\"}}}],\"scattermapbox\":[{\"type\":\"scattermapbox\",\"marker\":{\"colorbar\":{\"outlinewidth\":0,\"ticks\":\"\"}}}],\"scatterternary\":[{\"type\":\"scatterternary\",\"marker\":{\"colorbar\":{\"outlinewidth\":0,\"ticks\":\"\"}}}],\"scattercarpet\":[{\"type\":\"scattercarpet\",\"marker\":{\"colorbar\":{\"outlinewidth\":0,\"ticks\":\"\"}}}],\"carpet\":[{\"aaxis\":{\"endlinecolor\":\"#2a3f5f\",\"gridcolor\":\"white\",\"linecolor\":\"white\",\"minorgridcolor\":\"white\",\"startlinecolor\":\"#2a3f5f\"},\"baxis\":{\"endlinecolor\":\"#2a3f5f\",\"gridcolor\":\"white\",\"linecolor\":\"white\",\"minorgridcolor\":\"white\",\"startlinecolor\":\"#2a3f5f\"},\"type\":\"carpet\"}],\"table\":[{\"cells\":{\"fill\":{\"color\":\"#EBF0F8\"},\"line\":{\"color\":\"white\"}},\"header\":{\"fill\":{\"color\":\"#C8D4E3\"},\"line\":{\"color\":\"white\"}},\"type\":\"table\"}],\"barpolar\":[{\"marker\":{\"line\":{\"color\":\"#E5ECF6\",\"width\":0.5},\"pattern\":{\"fillmode\":\"overlay\",\"size\":10,\"solidity\":0.2}},\"type\":\"barpolar\"}],\"pie\":[{\"automargin\":true,\"type\":\"pie\"}]},\"layout\":{\"autotypenumbers\":\"strict\",\"colorway\":[\"#636efa\",\"#EF553B\",\"#00cc96\",\"#ab63fa\",\"#FFA15A\",\"#19d3f3\",\"#FF6692\",\"#B6E880\",\"#FF97FF\",\"#FECB52\"],\"font\":{\"color\":\"#2a3f5f\"},\"hovermode\":\"closest\",\"hoverlabel\":{\"align\":\"left\"},\"paper_bgcolor\":\"white\",\"plot_bgcolor\":\"#E5ECF6\",\"polar\":{\"bgcolor\":\"#E5ECF6\",\"angularaxis\":{\"gridcolor\":\"white\",\"linecolor\":\"white\",\"ticks\":\"\"},\"radialaxis\":{\"gridcolor\":\"white\",\"linecolor\":\"white\",\"ticks\":\"\"}},\"ternary\":{\"bgcolor\":\"#E5ECF6\",\"aaxis\":{\"gridcolor\":\"white\",\"linecolor\":\"white\",\"ticks\":\"\"},\"baxis\":{\"gridcolor\":\"white\",\"linecolor\":\"white\",\"ticks\":\"\"},\"caxis\":{\"gridcolor\":\"white\",\"linecolor\":\"white\",\"ticks\":\"\"}},\"coloraxis\":{\"colorbar\":{\"outlinewidth\":0,\"ticks\":\"\"}},\"colorscale\":{\"sequential\":[[0.0,\"#0d0887\"],[0.1111111111111111,\"#46039f\"],[0.2222222222222222,\"#7201a8\"],[0.3333333333333333,\"#9c179e\"],[0.4444444444444444,\"#bd3786\"],[0.5555555555555556,\"#d8576b\"],[0.6666666666666666,\"#ed7953\"],[0.7777777777777778,\"#fb9f3a\"],[0.8888888888888888,\"#fdca26\"],[1.0,\"#f0f921\"]],\"sequentialminus\":[[0.0,\"#0d0887\"],[0.1111111111111111,\"#46039f\"],[0.2222222222222222,\"#7201a8\"],[0.3333333333333333,\"#9c179e\"],[0.4444444444444444,\"#bd3786\"],[0.5555555555555556,\"#d8576b\"],[0.6666666666666666,\"#ed7953\"],[0.7777777777777778,\"#fb9f3a\"],[0.8888888888888888,\"#fdca26\"],[1.0,\"#f0f921\"]],\"diverging\":[[0,\"#8e0152\"],[0.1,\"#c51b7d\"],[0.2,\"#de77ae\"],[0.3,\"#f1b6da\"],[0.4,\"#fde0ef\"],[0.5,\"#f7f7f7\"],[0.6,\"#e6f5d0\"],[0.7,\"#b8e186\"],[0.8,\"#7fbc41\"],[0.9,\"#4d9221\"],[1,\"#276419\"]]},\"xaxis\":{\"gridcolor\":\"white\",\"linecolor\":\"white\",\"ticks\":\"\",\"title\":{\"standoff\":15},\"zerolinecolor\":\"white\",\"automargin\":true,\"zerolinewidth\":2},\"yaxis\":{\"gridcolor\":\"white\",\"linecolor\":\"white\",\"ticks\":\"\",\"title\":{\"standoff\":15},\"zerolinecolor\":\"white\",\"automargin\":true,\"zerolinewidth\":2},\"scene\":{\"xaxis\":{\"backgroundcolor\":\"#E5ECF6\",\"gridcolor\":\"white\",\"linecolor\":\"white\",\"showbackground\":true,\"ticks\":\"\",\"zerolinecolor\":\"white\",\"gridwidth\":2},\"yaxis\":{\"backgroundcolor\":\"#E5ECF6\",\"gridcolor\":\"white\",\"linecolor\":\"white\",\"showbackground\":true,\"ticks\":\"\",\"zerolinecolor\":\"white\",\"gridwidth\":2},\"zaxis\":{\"backgroundcolor\":\"#E5ECF6\",\"gridcolor\":\"white\",\"linecolor\":\"white\",\"showbackground\":true,\"ticks\":\"\",\"zerolinecolor\":\"white\",\"gridwidth\":2}},\"shapedefaults\":{\"line\":{\"color\":\"#2a3f5f\"}},\"annotationdefaults\":{\"arrowcolor\":\"#2a3f5f\",\"arrowhead\":0,\"arrowwidth\":1},\"geo\":{\"bgcolor\":\"white\",\"landcolor\":\"#E5ECF6\",\"subunitcolor\":\"white\",\"showland\":true,\"showlakes\":true,\"lakecolor\":\"white\"},\"title\":{\"x\":0.05},\"mapbox\":{\"style\":\"light\"}}},\"xaxis\":{\"anchor\":\"y\",\"domain\":[0.0,1.0],\"title\":{\"text\":\"Time period\"},\"tickangle\":30},\"yaxis\":{\"anchor\":\"x\",\"domain\":[0.0,1.0],\"title\":{\"text\":\"Normalized passenger transport volume [%]\"}},\"legend\":{\"title\":{\"text\":\"Country code\"},\"tracegroupgap\":0},\"title\":{\"text\":\"Maritime passenger transport volume in Europe, normalized for highest quarter of 2019 per country\"}},                        {\"responsive\": true}                    ).then(function(){\n                            \nvar gd = document.getElementById('9ee3c549-7ff6-4953-ba08-8f3097027739');\nvar x = new MutationObserver(function (mutations, observer) {{\n        var display = window.getComputedStyle(gd).display;\n        if (!display || display === 'none') {{\n            console.log([gd, 'removed!']);\n            Plotly.purge(gd);\n            observer.disconnect();\n        }}\n}});\n\n// Listen for the removal of the full notebook cells\nvar notebookContainer = gd.closest('#notebook-container');\nif (notebookContainer) {{\n    x.observe(notebookContainer, {childList: true});\n}}\n\n// Listen for the clearing of the current output cell\nvar outputEl = gd.closest('.output');\nif (outputEl) {{\n    x.observe(outputEl, {childList: true});\n}}\n\n                        })                };                });            </script>        </div>"
     },
     "metadata": {},
     "output_type": "display_data"
    },
    {
     "data": {
      "application/vnd.plotly.v1+json": {
       "data": [
        {
         "hovertemplate": "Country code=BG<br>Time period=%{x}<br>Normalized passenger transport volume [%]=%{y}<extra></extra>",
         "legendgroup": "BG",
         "line": {
          "color": "#636efa",
          "dash": "solid"
         },
         "marker": {
          "symbol": "circle"
         },
         "mode": "lines",
         "name": "BG",
         "orientation": "v",
         "showlegend": true,
         "x": [
          "2018-Q1",
          "2018-Q2",
          "2018-Q3",
          "2018-Q4",
          "2019-Q1",
          "2019-Q2",
          "2019-Q3",
          "2019-Q4",
          "2020-Q1",
          "2020-Q2",
          "2020-Q3",
          "2020-Q4",
          "2021-Q1",
          "2021-Q2",
          "2021-Q3",
          "2021-Q4",
          "2022-Q1",
          "2022-Q2",
          "2022-Q3",
          "2022-Q4",
          "2023-Q1",
          "2023-Q2"
         ],
         "xaxis": "x",
         "y": [
          85.77207175518818,
          98.4171649665846,
          99.36686598663384,
          91.57580021104468,
          87.19662328526205,
          98.20612029546254,
          100.0,
          89.71157228279986,
          80.72458670418573,
          62.13506858951811,
          82.00844178684488,
          70.31304959549772,
          65.08969398522687,
          76.39817094618361,
          85.9655293703834,
          74.0239183960605,
          72.8631727048892,
          102.95462539570876,
          123.21491382342596,
          106.63032008441787,
          88.77945831867746,
          100.12310939148786
         ],
         "yaxis": "y",
         "type": "scatter"
        },
        {
         "hovertemplate": "Country code=CH<br>Time period=%{x}<br>Normalized passenger transport volume [%]=%{y}<extra></extra>",
         "legendgroup": "CH",
         "line": {
          "color": "#EF553B",
          "dash": "solid"
         },
         "marker": {
          "symbol": "circle"
         },
         "mode": "lines",
         "name": "CH",
         "orientation": "v",
         "showlegend": true,
         "x": [
          "2018-Q1",
          "2018-Q2",
          "2018-Q3",
          "2018-Q4",
          "2019-Q1",
          "2019-Q2",
          "2019-Q3",
          "2019-Q4",
          "2020-Q1",
          "2020-Q2",
          "2020-Q3",
          "2020-Q4",
          "2021-Q1",
          "2021-Q2",
          "2021-Q3",
          "2021-Q4",
          "2022-Q1",
          "2022-Q2",
          "2022-Q3",
          "2022-Q4",
          "2023-Q1",
          "2023-Q2"
         ],
         "xaxis": "x",
         "y": [
          90.35129804360574,
          93.87494002878618,
          92.24143839528456,
          97.17012024704331,
          94.41410979872518,
          96.0316191085422,
          97.3483204252435,
          100.0,
          85.4553623784393,
          41.02487948641794,
          73.12680389603466,
          63.25116325116325,
          55.20321674167828,
          59.84251368866754,
          71.11481726866342,
          77.32973886820041,
          71.4811176349638,
          84.17673802289187,
          88.13826506134198,
          91.27961435653744,
          91.4441068287222,
          94.21001728694036
         ],
         "yaxis": "y",
         "type": "scatter"
        },
        {
         "hovertemplate": "Country code=CZ<br>Time period=%{x}<br>Normalized passenger transport volume [%]=%{y}<extra></extra>",
         "legendgroup": "CZ",
         "line": {
          "color": "#00cc96",
          "dash": "solid"
         },
         "marker": {
          "symbol": "circle"
         },
         "mode": "lines",
         "name": "CZ",
         "orientation": "v",
         "showlegend": true,
         "x": [
          "2018-Q1",
          "2018-Q2",
          "2018-Q3",
          "2018-Q4",
          "2019-Q1",
          "2019-Q2",
          "2019-Q3",
          "2019-Q4",
          "2020-Q1",
          "2020-Q2",
          "2020-Q3",
          "2020-Q4",
          "2021-Q1",
          "2021-Q2",
          "2021-Q3",
          "2021-Q4",
          "2022-Q1",
          "2022-Q2",
          "2022-Q3",
          "2022-Q4",
          "2023-Q1",
          "2023-Q2"
         ],
         "xaxis": "x",
         "y": [
          90.273920600987,
          98.10992787356896,
          94.03008930890492,
          96.48158877944496,
          94.297816227448,
          100.0,
          98.3416914746958,
          95.3827096361711,
          77.89654552356596,
          51.81514854848055,
          78.02641305868015,
          50.28271163413319,
          45.383708617210445,
          64.95774310203592,
          77.56088789434777,
          79.46694371740824,
          75.64883818505125,
          90.83734590717468,
          90.93924197318736,
          93.2628718706919,
          83.20313280453936,
          93.24688817406246
         ],
         "yaxis": "y",
         "type": "scatter"
        },
        {
         "hovertemplate": "Country code=DE<br>Time period=%{x}<br>Normalized passenger transport volume [%]=%{y}<extra></extra>",
         "legendgroup": "DE",
         "line": {
          "color": "#ab63fa",
          "dash": "solid"
         },
         "marker": {
          "symbol": "circle"
         },
         "mode": "lines",
         "name": "DE",
         "orientation": "v",
         "showlegend": true,
         "x": [
          "2018-Q1",
          "2018-Q2",
          "2018-Q3",
          "2018-Q4",
          "2019-Q1",
          "2019-Q2",
          "2019-Q3",
          "2019-Q4",
          "2020-Q1",
          "2020-Q2",
          "2020-Q3",
          "2020-Q4",
          "2021-Q1",
          "2021-Q2",
          "2021-Q3",
          "2021-Q4",
          "2022-Q1",
          "2022-Q2",
          "2022-Q3",
          "2022-Q4",
          "2023-Q1",
          "2023-Q2"
         ],
         "xaxis": "x",
         "y": [
          94.84160912864856,
          95.76396506850789,
          95.20377599965585,
          100.49216515024412,
          96.91593534232432,
          97.52021896711192,
          98.33287625561935,
          100.0,
          83.35430513432708,
          39.65821341765073,
          64.52861844227915,
          54.59134563678992,
          43.38205244025725,
          52.76558903873868,
          70.4840721860145,
          69.44892559850294,
          63.26493299778452,
          88.18911187111485,
          99.49506356068916,
          89.18164268353014,
          80.44567765804135,
          92.638897851197
         ],
         "yaxis": "y",
         "type": "scatter"
        },
        {
         "hovertemplate": "Country code=DK<br>Time period=%{x}<br>Normalized passenger transport volume [%]=%{y}<extra></extra>",
         "legendgroup": "DK",
         "line": {
          "color": "#FFA15A",
          "dash": "solid"
         },
         "marker": {
          "symbol": "circle"
         },
         "mode": "lines",
         "name": "DK",
         "orientation": "v",
         "showlegend": true,
         "x": [
          "2018-Q1",
          "2018-Q2",
          "2018-Q3",
          "2018-Q4",
          "2019-Q1",
          "2019-Q2",
          "2019-Q3",
          "2019-Q4",
          "2020-Q1",
          "2020-Q2",
          "2020-Q3",
          "2020-Q4",
          "2021-Q1",
          "2021-Q2",
          "2021-Q3",
          "2021-Q4",
          "2022-Q1",
          "2022-Q2",
          "2022-Q3",
          "2022-Q4",
          "2023-Q1",
          "2023-Q2"
         ],
         "xaxis": "x",
         "y": [
          92.5266638026038,
          98.71677531426865,
          92.54907820759476,
          99.5685227039244,
          94.54396025178848,
          96.10549713282404,
          95.24627827483796,
          100.0,
          78.65588284737657,
          43.52690662532454,
          69.09427125165773,
          58.82473803164167,
          36.7147953751611,
          59.82217905373854,
          74.45691764574033,
          78.80531221398286,
          71.55612006649606,
          90.68307899209891,
          91.20981750938604,
          91.93268207034389,
          90.47574574593273,
          96.11857220240208
         ],
         "yaxis": "y",
         "type": "scatter"
        },
        {
         "hovertemplate": "Country code=EE<br>Time period=%{x}<br>Normalized passenger transport volume [%]=%{y}<extra></extra>",
         "legendgroup": "EE",
         "line": {
          "color": "#19d3f3",
          "dash": "solid"
         },
         "marker": {
          "symbol": "circle"
         },
         "mode": "lines",
         "name": "EE",
         "orientation": "v",
         "showlegend": true,
         "x": [
          "2018-Q1",
          "2018-Q2",
          "2018-Q3",
          "2018-Q4",
          "2019-Q1",
          "2019-Q2",
          "2019-Q3",
          "2019-Q4",
          "2020-Q1",
          "2020-Q2",
          "2020-Q3",
          "2020-Q4",
          "2021-Q1",
          "2021-Q2",
          "2021-Q3",
          "2021-Q4",
          "2022-Q1",
          "2022-Q2",
          "2022-Q3",
          "2022-Q4",
          "2023-Q1",
          "2023-Q2"
         ],
         "xaxis": "x",
         "y": [
          86.22283865002312,
          94.59084604715672,
          87.74849745723532,
          90.15256588072124,
          90.47619047619048,
          100.0,
          97.31853906611188,
          99.2602866389274,
          83.21775312066575,
          45.21497919556172,
          77.3462783171521,
          70.92001849283403,
          55.570966250577904,
          70.68885806749884,
          81.13730929264909,
          73.5552473416551,
          69.1169671752196,
          91.44706426259825,
          84.92834026814609,
          84.09616273693943,
          82.89412852519649,
          95.79288025889969
         ],
         "yaxis": "y",
         "type": "scatter"
        },
        {
         "hovertemplate": "Country code=EL<br>Time period=%{x}<br>Normalized passenger transport volume [%]=%{y}<extra></extra>",
         "legendgroup": "EL",
         "line": {
          "color": "#FF6692",
          "dash": "solid"
         },
         "marker": {
          "symbol": "circle"
         },
         "mode": "lines",
         "name": "EL",
         "orientation": "v",
         "showlegend": true,
         "x": [
          "2018-Q1",
          "2018-Q2",
          "2018-Q3",
          "2018-Q4",
          "2019-Q1",
          "2019-Q2",
          "2019-Q3",
          "2019-Q4",
          "2020-Q1",
          "2020-Q2",
          "2020-Q3",
          "2020-Q4",
          "2021-Q1",
          "2021-Q2",
          "2021-Q3",
          "2021-Q4",
          "2022-Q1",
          "2022-Q2",
          "2022-Q3",
          "2022-Q4",
          "2023-Q1",
          "2023-Q2"
         ],
         "xaxis": "x",
         "y": [
          68.45612031220256,
          72.4728726442033,
          76.54673519893394,
          102.15115172282503,
          90.50066628593184,
          91.96649533599847,
          90.74814391776128,
          100.0,
          75.34742052160671,
          28.7835522558538,
          56.71045117075957,
          33.71406815153246,
          25.928041119360365,
          40.14848657909766,
          57.24347991623834,
          67.58043023034456,
          59.05197030268418,
          75.30934703978679,
          75.15705311250714,
          83.11441081286884,
          59.98477060727203,
          59.98477060727203
         ],
         "yaxis": "y",
         "type": "scatter"
        },
        {
         "hovertemplate": "Country code=ES<br>Time period=%{x}<br>Normalized passenger transport volume [%]=%{y}<extra></extra>",
         "legendgroup": "ES",
         "line": {
          "color": "#B6E880",
          "dash": "solid"
         },
         "marker": {
          "symbol": "circle"
         },
         "mode": "lines",
         "name": "ES",
         "orientation": "v",
         "showlegend": true,
         "x": [
          "2018-Q1",
          "2018-Q2",
          "2018-Q3",
          "2018-Q4",
          "2019-Q1",
          "2019-Q2",
          "2019-Q3",
          "2019-Q4",
          "2020-Q1",
          "2020-Q2",
          "2020-Q3",
          "2020-Q4",
          "2021-Q1",
          "2021-Q2",
          "2021-Q3",
          "2021-Q4",
          "2022-Q1",
          "2022-Q2",
          "2022-Q3",
          "2022-Q4",
          "2023-Q1",
          "2023-Q2"
         ],
         "xaxis": "x",
         "y": [
          90.520544643933,
          98.34257139414387,
          84.53488372093024,
          99.57163513676346,
          97.27557537052655,
          96.60682009880708,
          83.93842631642366,
          100.0,
          79.22340040968791,
          21.115797083986024,
          46.71948427521388,
          51.445957344258346,
          49.32341245933245,
          60.57778045547656,
          60.21026629714424,
          73.52753343776358,
          72.64007711772503,
          81.24171586938185,
          76.88757681648391,
          95.53138932401494,
          97.2093023255814,
          98.97096035666948
         ],
         "yaxis": "y",
         "type": "scatter"
        },
        {
         "hovertemplate": "Country code=FI<br>Time period=%{x}<br>Normalized passenger transport volume [%]=%{y}<extra></extra>",
         "legendgroup": "FI",
         "line": {
          "color": "#FF97FF",
          "dash": "solid"
         },
         "marker": {
          "symbol": "circle"
         },
         "mode": "lines",
         "name": "FI",
         "orientation": "v",
         "showlegend": true,
         "x": [
          "2018-Q1",
          "2018-Q2",
          "2018-Q3",
          "2018-Q4",
          "2019-Q1",
          "2019-Q2",
          "2019-Q3",
          "2019-Q4",
          "2020-Q1",
          "2020-Q2",
          "2020-Q3",
          "2020-Q4",
          "2021-Q1",
          "2021-Q2",
          "2021-Q3",
          "2021-Q4",
          "2022-Q1",
          "2022-Q2",
          "2022-Q3",
          "2022-Q4",
          "2023-Q1",
          "2023-Q2"
         ],
         "xaxis": "x",
         "y": [
          88.29448731206746,
          82.90907644578793,
          83.90342852597247,
          92.92816800572749,
          89.70248985760878,
          89.19735900087503,
          90.21159812266328,
          100.0,
          74.54458674727547,
          42.864529472595656,
          59.01678466311351,
          60.42876461697558,
          42.08098003341023,
          48.456765571553575,
          60.09466231803357,
          68.15686898416992,
          60.27364569246679,
          76.65659056558746,
          82.0221143902633,
          83.68467106833188,
          78.66120435923952,
          82.2925781560735
         ],
         "yaxis": "y",
         "type": "scatter"
        },
        {
         "hovertemplate": "Country code=FR<br>Time period=%{x}<br>Normalized passenger transport volume [%]=%{y}<extra></extra>",
         "legendgroup": "FR",
         "line": {
          "color": "#FECB52",
          "dash": "solid"
         },
         "marker": {
          "symbol": "circle"
         },
         "mode": "lines",
         "name": "FR",
         "orientation": "v",
         "showlegend": true,
         "x": [
          "2018-Q1",
          "2018-Q2",
          "2018-Q3",
          "2018-Q4",
          "2019-Q1",
          "2019-Q2",
          "2019-Q3",
          "2019-Q4",
          "2020-Q1",
          "2020-Q2",
          "2020-Q3",
          "2020-Q4",
          "2021-Q1",
          "2021-Q2",
          "2021-Q3",
          "2021-Q4",
          "2022-Q1",
          "2022-Q2",
          "2022-Q3",
          "2022-Q4",
          "2023-Q1",
          "2023-Q2"
         ],
         "xaxis": "x",
         "y": [
          97.8339339560197,
          81.7206736780172,
          86.38582040155917,
          100.78988012061484,
          99.03478708538648,
          100.0,
          89.27322203427227,
          83.92998455541664,
          72.00882547620799,
          23.936162388762227,
          60.598073104361255,
          56.40185335000368,
          56.75810840626609,
          57.89365301169376,
          67.4301684195043,
          81.03405162903582,
          76.99080679561668,
          87.37368537177319,
          80.39479296903728,
          91.31749650658232,
          84.22534382584394,
          63.83937633301464
         ],
         "yaxis": "y",
         "type": "scatter"
        },
        {
         "hovertemplate": "Country code=HR<br>Time period=%{x}<br>Normalized passenger transport volume [%]=%{y}<extra></extra>",
         "legendgroup": "HR",
         "line": {
          "color": "#636efa",
          "dash": "solid"
         },
         "marker": {
          "symbol": "circle"
         },
         "mode": "lines",
         "name": "HR",
         "orientation": "v",
         "showlegend": true,
         "x": [
          "2018-Q1",
          "2018-Q2",
          "2018-Q3",
          "2018-Q4",
          "2019-Q1",
          "2019-Q2",
          "2019-Q3",
          "2019-Q4",
          "2020-Q1",
          "2020-Q2",
          "2020-Q3",
          "2020-Q4",
          "2021-Q1",
          "2021-Q2",
          "2021-Q3",
          "2021-Q4",
          "2022-Q1",
          "2022-Q2",
          "2022-Q3",
          "2022-Q4",
          "2023-Q1",
          "2023-Q2"
         ],
         "xaxis": "x",
         "y": [
          95.38038496791934,
          95.96700274977086,
          77.69019248395966,
          102.07149404216317,
          94.51879010082492,
          93.05224564619616,
          75.87534372135656,
          100.0,
          87.27772685609533,
          31.109074243813016,
          57.03024747937672,
          64.71127406049496,
          56.92025664527956,
          62.05316223648029,
          55.36205316223648,
          73.74885426214482,
          76.62694775435381,
          85.6461961503208,
          84.56461961503209,
          93.78551787351054,
          110.26581118240146,
          113.38221814848762
         ],
         "yaxis": "y",
         "type": "scatter"
        },
        {
         "hovertemplate": "Country code=HU<br>Time period=%{x}<br>Normalized passenger transport volume [%]=%{y}<extra></extra>",
         "legendgroup": "HU",
         "line": {
          "color": "#EF553B",
          "dash": "solid"
         },
         "marker": {
          "symbol": "circle"
         },
         "mode": "lines",
         "name": "HU",
         "orientation": "v",
         "showlegend": true,
         "x": [
          "2018-Q1",
          "2018-Q2",
          "2018-Q3",
          "2018-Q4",
          "2019-Q1",
          "2019-Q2",
          "2019-Q3",
          "2019-Q4",
          "2020-Q1",
          "2020-Q2",
          "2020-Q3",
          "2020-Q4",
          "2021-Q1",
          "2021-Q2",
          "2021-Q3",
          "2021-Q4",
          "2022-Q1",
          "2022-Q2",
          "2022-Q3",
          "2022-Q4",
          "2023-Q1",
          "2023-Q2"
         ],
         "xaxis": "x",
         "y": [
          98.67391770252894,
          102.41105872267468,
          95.85297899699955,
          99.50707243891983,
          97.70681525932277,
          100.0,
          96.13159022717532,
          99.66245177882554,
          91.59344192027432,
          40.97728246892413,
          78.1477711101586,
          59.12987569652808,
          51.74667809687098,
          63.8421560222889,
          79.32651093013287,
          83.22438919845692,
          83.1065152164595,
          94.60994427775395,
          98.28279039862838,
          102.81290184312044,
          100.54114873553364,
          124.18827689669952
         ],
         "yaxis": "y",
         "type": "scatter"
        },
        {
         "hovertemplate": "Country code=IE<br>Time period=%{x}<br>Normalized passenger transport volume [%]=%{y}<extra></extra>",
         "legendgroup": "IE",
         "line": {
          "color": "#00cc96",
          "dash": "solid"
         },
         "marker": {
          "symbol": "circle"
         },
         "mode": "lines",
         "name": "IE",
         "orientation": "v",
         "showlegend": true,
         "x": [
          "2018-Q1",
          "2018-Q2",
          "2018-Q3",
          "2018-Q4",
          "2019-Q1",
          "2019-Q2",
          "2019-Q3",
          "2019-Q4",
          "2020-Q1",
          "2020-Q2",
          "2020-Q3",
          "2020-Q4",
          "2021-Q1",
          "2021-Q2",
          "2021-Q3",
          "2021-Q4",
          "2022-Q1",
          "2022-Q2",
          "2022-Q3",
          "2022-Q4",
          "2023-Q1",
          "2023-Q2"
         ],
         "xaxis": "x",
         "y": [
          85.31143476913542,
          92.93461419274868,
          96.36659436008676,
          96.9321351100093,
          91.83452122714596,
          96.28137589092036,
          99.70560892469786,
          100.0,
          75.890920359467,
          9.26557173845677,
          27.41710567090177,
          26.332506972420205,
          13.046172916021073,
          30.105361016423924,
          43.98822435698792,
          47.74558413387047,
          50.05422993492408,
          66.09079640533002,
          78.01363495506662,
          83.5450883173226,
          74.13232104121475,
          80.90331577316392
         ],
         "yaxis": "y",
         "type": "scatter"
        },
        {
         "hovertemplate": "Country code=IT<br>Time period=%{x}<br>Normalized passenger transport volume [%]=%{y}<extra></extra>",
         "legendgroup": "IT",
         "line": {
          "color": "#ab63fa",
          "dash": "solid"
         },
         "marker": {
          "symbol": "circle"
         },
         "mode": "lines",
         "name": "IT",
         "orientation": "v",
         "showlegend": true,
         "x": [
          "2018-Q1",
          "2018-Q2",
          "2018-Q3",
          "2018-Q4",
          "2019-Q1",
          "2019-Q2",
          "2019-Q3",
          "2019-Q4",
          "2020-Q1",
          "2020-Q2",
          "2020-Q3",
          "2020-Q4",
          "2021-Q1",
          "2021-Q2",
          "2021-Q3",
          "2021-Q4",
          "2022-Q1",
          "2022-Q2",
          "2022-Q3",
          "2022-Q4",
          "2023-Q1",
          "2023-Q2"
         ],
         "xaxis": "x",
         "y": [
          90.96769557240808,
          93.95380492217684,
          84.04350656487517,
          97.36094554493114,
          92.238398390274,
          95.27523439943865,
          85.87727530203499,
          100.0,
          63.09593256736078,
          19.4359195475182,
          41.49398466363998,
          37.61254977553453,
          35.5661517910738,
          47.13732552142778,
          53.86537144596343,
          66.47221447231593,
          59.16715279715255,
          75.7399751439369,
          67.66344552379503,
          82.84931645826464,
          80.46727707746807,
          88.2161970223451
         ],
         "yaxis": "y",
         "type": "scatter"
        },
        {
         "hovertemplate": "Country code=LT<br>Time period=%{x}<br>Normalized passenger transport volume [%]=%{y}<extra></extra>",
         "legendgroup": "LT",
         "line": {
          "color": "#FFA15A",
          "dash": "solid"
         },
         "marker": {
          "symbol": "circle"
         },
         "mode": "lines",
         "name": "LT",
         "orientation": "v",
         "showlegend": true,
         "x": [
          "2018-Q1",
          "2018-Q2",
          "2018-Q3",
          "2018-Q4",
          "2019-Q1",
          "2019-Q2",
          "2019-Q3",
          "2019-Q4",
          "2020-Q1",
          "2020-Q2",
          "2020-Q3",
          "2020-Q4",
          "2021-Q1",
          "2021-Q2",
          "2021-Q3",
          "2021-Q4",
          "2022-Q1",
          "2022-Q2",
          "2022-Q3",
          "2022-Q4",
          "2023-Q1",
          "2023-Q2"
         ],
         "xaxis": "x",
         "y": [
          73.23308270676692,
          90.45112781954889,
          94.43609022556392,
          92.63157894736842,
          90.30075187969923,
          100.0,
          96.76691729323308,
          88.19548872180451,
          74.28571428571429,
          43.08270676691729,
          76.69172932330827,
          49.32330827067669,
          39.02255639097744,
          78.64661654135338,
          90.52631578947368,
          88.64661654135338,
          69.54887218045113,
          89.84962406015038,
          97.14285714285714,
          79.09774436090225,
          74.13533834586467,
          93.7593984962406
         ],
         "yaxis": "y",
         "type": "scatter"
        },
        {
         "hovertemplate": "Country code=LU<br>Time period=%{x}<br>Normalized passenger transport volume [%]=%{y}<extra></extra>",
         "legendgroup": "LU",
         "line": {
          "color": "#19d3f3",
          "dash": "solid"
         },
         "marker": {
          "symbol": "circle"
         },
         "mode": "lines",
         "name": "LU",
         "orientation": "v",
         "showlegend": true,
         "x": [
          "2018-Q1",
          "2018-Q2",
          "2018-Q3",
          "2018-Q4",
          "2019-Q1",
          "2019-Q2",
          "2019-Q3",
          "2019-Q4",
          "2020-Q1",
          "2020-Q2",
          "2020-Q3",
          "2020-Q4",
          "2021-Q1",
          "2021-Q2",
          "2021-Q3",
          "2021-Q4",
          "2022-Q1",
          "2022-Q2",
          "2022-Q3",
          "2022-Q4",
          "2023-Q1",
          "2023-Q2"
         ],
         "xaxis": "x",
         "y": [
          95.42641509433962,
          87.44150943396227,
          71.96981132075472,
          97.3433962264151,
          97.5245283018868,
          94.17358490566038,
          85.88679245283019,
          100.0,
          83.9245283018868,
          20.316981132075476,
          49.94716981132076,
          65.10188679245283,
          57.22264150943396,
          62.59622641509434,
          57.26792452830189,
          73.4188679245283,
          79.33584905660378,
          75.42641509433962,
          80.33207547169812,
          97.50943396226415,
          105.26792452830188,
          103.33584905660378
         ],
         "yaxis": "y",
         "type": "scatter"
        },
        {
         "hovertemplate": "Country code=LV<br>Time period=%{x}<br>Normalized passenger transport volume [%]=%{y}<extra></extra>",
         "legendgroup": "LV",
         "line": {
          "color": "#FF6692",
          "dash": "solid"
         },
         "marker": {
          "symbol": "circle"
         },
         "mode": "lines",
         "name": "LV",
         "orientation": "v",
         "showlegend": true,
         "x": [
          "2018-Q1",
          "2018-Q2",
          "2018-Q3",
          "2018-Q4",
          "2019-Q1",
          "2019-Q2",
          "2019-Q3",
          "2019-Q4",
          "2020-Q1",
          "2020-Q2",
          "2020-Q3",
          "2020-Q4",
          "2021-Q1",
          "2021-Q2",
          "2021-Q3",
          "2021-Q4",
          "2022-Q1",
          "2022-Q2",
          "2022-Q3",
          "2022-Q4",
          "2023-Q1",
          "2023-Q2"
         ],
         "xaxis": "x",
         "y": [
          74.33409436834094,
          91.47640791476408,
          98.5159817351598,
          82.72450532724505,
          77.53044140030441,
          92.67503805175038,
          100.0,
          84.11339421613394,
          71.44216133942162,
          44.577625570776256,
          78.32952815829528,
          50.38051750380517,
          36.60578386605784,
          51.67427701674277,
          68.96879756468797,
          52.872907153729074,
          53.78614916286149,
          77.07382039573821,
          91.99010654490108,
          75.76103500761035,
          70.50989345509893,
          85.882800608828
         ],
         "yaxis": "y",
         "type": "scatter"
        },
        {
         "hovertemplate": "Country code=ME<br>Time period=%{x}<br>Normalized passenger transport volume [%]=%{y}<extra></extra>",
         "legendgroup": "ME",
         "line": {
          "color": "#B6E880",
          "dash": "solid"
         },
         "marker": {
          "symbol": "circle"
         },
         "mode": "lines",
         "name": "ME",
         "orientation": "v",
         "showlegend": true,
         "x": [
          "2018-Q1",
          "2018-Q2",
          "2018-Q3",
          "2018-Q4",
          "2019-Q1",
          "2019-Q2",
          "2019-Q3",
          "2019-Q4",
          "2020-Q1",
          "2020-Q2",
          "2020-Q3",
          "2020-Q4",
          "2021-Q1",
          "2021-Q2",
          "2021-Q3",
          "2021-Q4",
          "2022-Q1",
          "2022-Q2",
          "2022-Q3",
          "2022-Q4",
          "2023-Q1",
          "2023-Q2"
         ],
         "xaxis": "x",
         "y": [
          58.1039755351682,
          78.89908256880734,
          100.30581039755351,
          65.74923547400611,
          58.71559633027523,
          78.2874617737003,
          100.0,
          64.52599388379205,
          47.09480122324159,
          17.431192660550458,
          50.15290519877676,
          29.96941896024465,
          20.795107033639145,
          41.28440366972477,
          69.1131498470948,
          38.53211009174312,
          38.53211009174312,
          65.4434250764526,
          82.56880733944953,
          50.15290519877676,
          44.95412844036697,
          68.19571865443424
         ],
         "yaxis": "y",
         "type": "scatter"
        },
        {
         "hovertemplate": "Country code=MK<br>Time period=%{x}<br>Normalized passenger transport volume [%]=%{y}<extra></extra>",
         "legendgroup": "MK",
         "line": {
          "color": "#FF97FF",
          "dash": "solid"
         },
         "marker": {
          "symbol": "circle"
         },
         "mode": "lines",
         "name": "MK",
         "orientation": "v",
         "showlegend": true,
         "x": [
          "2018-Q1",
          "2018-Q2",
          "2018-Q3",
          "2018-Q4",
          "2019-Q1",
          "2019-Q2",
          "2019-Q3",
          "2019-Q4",
          "2020-Q1",
          "2020-Q2",
          "2020-Q3",
          "2020-Q4",
          "2021-Q1",
          "2021-Q2",
          "2021-Q3",
          "2021-Q4",
          "2022-Q1",
          "2022-Q2",
          "2022-Q3",
          "2022-Q4",
          "2023-Q1",
          "2023-Q2"
         ],
         "xaxis": "x",
         "y": [
          89.1891891891892,
          100.0,
          83.78378378378379,
          91.89189189189187,
          87.83783783783784,
          99.32432432432432,
          83.78378378378379,
          100.0,
          62.83783783783784,
          18.91891891891892,
          45.94594594594594,
          43.24324324324324,
          39.86486486486486,
          43.24324324324324,
          44.5945945945946,
          43.24324324324324,
          41.21621621621622,
          70.94594594594595,
          72.97297297297297,
          88.51351351351352,
          68.91891891891892,
          49.32432432432432
         ],
         "yaxis": "y",
         "type": "scatter"
        },
        {
         "hovertemplate": "Country code=NL<br>Time period=%{x}<br>Normalized passenger transport volume [%]=%{y}<extra></extra>",
         "legendgroup": "NL",
         "line": {
          "color": "#FECB52",
          "dash": "solid"
         },
         "marker": {
          "symbol": "circle"
         },
         "mode": "lines",
         "name": "NL",
         "orientation": "v",
         "showlegend": true,
         "x": [
          "2018-Q1",
          "2018-Q2",
          "2018-Q3",
          "2018-Q4",
          "2019-Q1",
          "2019-Q2",
          "2019-Q3",
          "2019-Q4",
          "2020-Q1",
          "2020-Q2",
          "2020-Q3",
          "2020-Q4",
          "2021-Q1",
          "2021-Q2",
          "2021-Q3",
          "2021-Q4",
          "2022-Q1",
          "2022-Q2",
          "2022-Q3",
          "2022-Q4",
          "2023-Q1",
          "2023-Q2"
         ],
         "xaxis": "x",
         "y": [
          95.4256882531596,
          95.68629371999609,
          90.56529832467916,
          100.19398452042716,
          95.23170373273244,
          95.49230919956892,
          90.37131380425198,
          100.0,
          77.74566473988439,
          20.350739688449103,
          40.48594102086803,
          39.27696678749878,
          30.34486136964828,
          44.1207014793769,
          58.54021749779563,
          69.9578720485941,
          62.43754286274125,
          83.95414911335358,
          74.68599980405604,
          91.3970804349956,
          85.47565396296659,
          89.14274517487999
         ],
         "yaxis": "y",
         "type": "scatter"
        },
        {
         "hovertemplate": "Country code=NO<br>Time period=%{x}<br>Normalized passenger transport volume [%]=%{y}<extra></extra>",
         "legendgroup": "NO",
         "line": {
          "color": "#636efa",
          "dash": "solid"
         },
         "marker": {
          "symbol": "circle"
         },
         "mode": "lines",
         "name": "NO",
         "orientation": "v",
         "showlegend": true,
         "x": [
          "2018-Q1",
          "2018-Q2",
          "2018-Q3",
          "2018-Q4",
          "2019-Q1",
          "2019-Q2",
          "2019-Q3",
          "2019-Q4",
          "2020-Q1",
          "2020-Q2",
          "2020-Q3",
          "2020-Q4",
          "2021-Q1",
          "2021-Q2",
          "2021-Q3",
          "2021-Q4",
          "2022-Q1",
          "2022-Q2",
          "2022-Q3",
          "2022-Q4",
          "2023-Q1",
          "2023-Q2"
         ],
         "xaxis": "x",
         "y": [
          89.04223786587625,
          94.42386068914412,
          84.77676917376806,
          96.48944053353094,
          96.73490181548722,
          95.34086698777324,
          84.45257502778807,
          100.0,
          80.7011856243053,
          32.36846980363097,
          43.65042608373472,
          40.0842904779548,
          32.07206372730641,
          40.73731011485735,
          50.416821044831416,
          68.52074842534272,
          63.38458688403112,
          80.22878844016303,
          77.96406076324564,
          88.31511670989255,
          89.49147832530566,
          90.50574286772878
         ],
         "yaxis": "y",
         "type": "scatter"
        },
        {
         "hovertemplate": "Country code=PL<br>Time period=%{x}<br>Normalized passenger transport volume [%]=%{y}<extra></extra>",
         "legendgroup": "PL",
         "line": {
          "color": "#EF553B",
          "dash": "solid"
         },
         "marker": {
          "symbol": "circle"
         },
         "mode": "lines",
         "name": "PL",
         "orientation": "v",
         "showlegend": true,
         "x": [
          "2018-Q1",
          "2018-Q2",
          "2018-Q3",
          "2018-Q4",
          "2019-Q1",
          "2019-Q2",
          "2019-Q3",
          "2019-Q4",
          "2020-Q1",
          "2020-Q2",
          "2020-Q3",
          "2020-Q4",
          "2021-Q1",
          "2021-Q2",
          "2021-Q3",
          "2021-Q4",
          "2022-Q1",
          "2022-Q2",
          "2022-Q3",
          "2022-Q4",
          "2023-Q1",
          "2023-Q2"
         ],
         "xaxis": "x",
         "y": [
          82.02695159875609,
          88.0529007711848,
          88.614487338672,
          91.67872236208096,
          90.27646462460274,
          92.95795505029218,
          96.04497249023204,
          100.0,
          81.28424481984804,
          33.674689874354975,
          66.95068745941882,
          48.97649993734836,
          47.71777142401495,
          59.78106097713785,
          81.19881075785709,
          82.72523266542882,
          78.70071878524155,
          96.37190016745076,
          100.69144634171349,
          103.10979985647076,
          97.17839771264538,
          103.47317940013896
         ],
         "yaxis": "y",
         "type": "scatter"
        },
        {
         "hovertemplate": "Country code=PT<br>Time period=%{x}<br>Normalized passenger transport volume [%]=%{y}<extra></extra>",
         "legendgroup": "PT",
         "line": {
          "color": "#00cc96",
          "dash": "solid"
         },
         "marker": {
          "symbol": "circle"
         },
         "mode": "lines",
         "name": "PT",
         "orientation": "v",
         "showlegend": true,
         "x": [
          "2018-Q1",
          "2018-Q2",
          "2018-Q3",
          "2018-Q4",
          "2019-Q1",
          "2019-Q2",
          "2019-Q3",
          "2019-Q4",
          "2020-Q1",
          "2020-Q2",
          "2020-Q3",
          "2020-Q4",
          "2021-Q1",
          "2021-Q2",
          "2021-Q3",
          "2021-Q4",
          "2022-Q1",
          "2022-Q2",
          "2022-Q3",
          "2022-Q4",
          "2023-Q1",
          "2023-Q2"
         ],
         "xaxis": "x",
         "y": [
          71.98204631235336,
          76.58267877180455,
          75.0076507191676,
          77.30286646944813,
          75.789044170152,
          87.80577374273182,
          94.11812710394776,
          100.0,
          80.63449964296643,
          25.87575232071815,
          56.21952463531572,
          57.69050290727328,
          38.50249923492808,
          57.44976027746608,
          66.99785779863308,
          81.13842701213915,
          76.62756299092115,
          88.61572987860859,
          91.06191982046312,
          93.69784759767418,
          90.40293787616037,
          100.00204019177802
         ],
         "yaxis": "y",
         "type": "scatter"
        },
        {
         "hovertemplate": "Country code=RO<br>Time period=%{x}<br>Normalized passenger transport volume [%]=%{y}<extra></extra>",
         "legendgroup": "RO",
         "line": {
          "color": "#ab63fa",
          "dash": "solid"
         },
         "marker": {
          "symbol": "circle"
         },
         "mode": "lines",
         "name": "RO",
         "orientation": "v",
         "showlegend": true,
         "x": [
          "2018-Q1",
          "2018-Q2",
          "2018-Q3",
          "2018-Q4",
          "2019-Q1",
          "2019-Q2",
          "2019-Q3",
          "2019-Q4",
          "2020-Q1",
          "2020-Q2",
          "2020-Q3",
          "2020-Q4",
          "2021-Q1",
          "2021-Q2",
          "2021-Q3",
          "2021-Q4",
          "2022-Q1",
          "2022-Q2",
          "2022-Q3",
          "2022-Q4",
          "2023-Q1",
          "2023-Q2"
         ],
         "xaxis": "x",
         "y": [
          88.25155494125778,
          94.24671734623358,
          94.28703063810184,
          95.91108039622208,
          94.94932043307992,
          97.9612992398065,
          100.0,
          98.18590186592952,
          85.79820317899102,
          52.21723105275282,
          78.30568993319511,
          66.37871458189358,
          69.58074176457038,
          72.77700990555172,
          85.87882976272748,
          74.45289103893113,
          83.88044229440221,
          104.37111264685556,
          106.89357290946786,
          104.05436535360516,
          102.66067726330338,
          105.53443906933886
         ],
         "yaxis": "y",
         "type": "scatter"
        },
        {
         "hovertemplate": "Country code=SE<br>Time period=%{x}<br>Normalized passenger transport volume [%]=%{y}<extra></extra>",
         "legendgroup": "SE",
         "line": {
          "color": "#FFA15A",
          "dash": "solid"
         },
         "marker": {
          "symbol": "circle"
         },
         "mode": "lines",
         "name": "SE",
         "orientation": "v",
         "showlegend": true,
         "x": [
          "2018-Q1",
          "2018-Q2",
          "2018-Q3",
          "2018-Q4",
          "2019-Q1",
          "2019-Q2",
          "2019-Q3",
          "2019-Q4",
          "2020-Q1",
          "2020-Q2",
          "2020-Q3",
          "2020-Q4",
          "2021-Q1",
          "2021-Q2",
          "2021-Q3",
          "2021-Q4",
          "2022-Q1",
          "2022-Q2",
          "2022-Q3",
          "2022-Q4",
          "2023-Q1",
          "2023-Q2"
         ],
         "xaxis": "x",
         "y": [
          88.42927225754013,
          90.36401637202822,
          82.62503991407588,
          96.34241922842465,
          95.62686870446169,
          97.01297570321344,
          91.40903944962118,
          100.0,
          91.59772417196436,
          44.44831490028738,
          55.52410810183169,
          53.95657348544225,
          45.48608087317484,
          51.89845859096055,
          61.895846033266565,
          79.46529652529827,
          null,
          null,
          null,
          null,
          null,
          null
         ],
         "yaxis": "y",
         "type": "scatter"
        },
        {
         "hovertemplate": "Country code=SI<br>Time period=%{x}<br>Normalized passenger transport volume [%]=%{y}<extra></extra>",
         "legendgroup": "SI",
         "line": {
          "color": "#19d3f3",
          "dash": "solid"
         },
         "marker": {
          "symbol": "circle"
         },
         "mode": "lines",
         "name": "SI",
         "orientation": "v",
         "showlegend": true,
         "x": [
          "2018-Q1",
          "2018-Q2",
          "2018-Q3",
          "2018-Q4",
          "2019-Q1",
          "2019-Q2",
          "2019-Q3",
          "2019-Q4",
          "2020-Q1",
          "2020-Q2",
          "2020-Q3",
          "2020-Q4",
          "2021-Q1",
          "2021-Q2",
          "2021-Q3",
          "2021-Q4",
          "2022-Q1",
          "2022-Q2",
          "2022-Q3",
          "2022-Q4",
          "2023-Q1",
          "2023-Q2"
         ],
         "xaxis": "x",
         "y": [
          93.17086993482572,
          89.68546330405213,
          90.05383961462171,
          98.44148483989798,
          92.85916690280531,
          90.59223576083876,
          92.29243411731368,
          100.0,
          78.74752054406348,
          39.019552281099465,
          60.2436950977614,
          46.5287616888637,
          70.0198356474922,
          79.11589685463304,
          87.10682913006518,
          94.24766222725984,
          93.56758288466987,
          97.4497024652876,
          96.91130631907056,
          106.20572400113346,
          103.6270898271465,
          93.9926324737886
         ],
         "yaxis": "y",
         "type": "scatter"
        },
        {
         "hovertemplate": "Country code=SK<br>Time period=%{x}<br>Normalized passenger transport volume [%]=%{y}<extra></extra>",
         "legendgroup": "SK",
         "line": {
          "color": "#FF6692",
          "dash": "solid"
         },
         "marker": {
          "symbol": "circle"
         },
         "mode": "lines",
         "name": "SK",
         "orientation": "v",
         "showlegend": true,
         "x": [
          "2018-Q1",
          "2018-Q2",
          "2018-Q3",
          "2018-Q4",
          "2019-Q1",
          "2019-Q2",
          "2019-Q3",
          "2019-Q4",
          "2020-Q1",
          "2020-Q2",
          "2020-Q3",
          "2020-Q4",
          "2021-Q1",
          "2021-Q2",
          "2021-Q3",
          "2021-Q4",
          "2022-Q1",
          "2022-Q2",
          "2022-Q3",
          "2022-Q4",
          "2023-Q1",
          "2023-Q2"
         ],
         "xaxis": "x",
         "y": [
          86.71993192133132,
          93.92019667170952,
          95.4803328290469,
          94.22276853252647,
          93.80673222390318,
          96.70953101361572,
          100.0,
          97.52269288956128,
          77.16527987897126,
          37.52363842662633,
          72.54633131618759,
          44.70026475037822,
          30.994704992435704,
          53.90979576399395,
          72.72125567322239,
          61.55446293494705,
          64.6321860816944,
          85.96822995461422,
          84.63975037821483,
          86.30389561270802,
          81.07980332829047,
          87.3250756429652
         ],
         "yaxis": "y",
         "type": "scatter"
        },
        {
         "hovertemplate": "Country code=TR<br>Time period=%{x}<br>Normalized passenger transport volume [%]=%{y}<extra></extra>",
         "legendgroup": "TR",
         "line": {
          "color": "#B6E880",
          "dash": "solid"
         },
         "marker": {
          "symbol": "circle"
         },
         "mode": "lines",
         "name": "TR",
         "orientation": "v",
         "showlegend": true,
         "x": [
          "2018-Q1",
          "2018-Q2",
          "2018-Q3",
          "2018-Q4",
          "2019-Q1",
          "2019-Q2",
          "2019-Q3",
          "2019-Q4",
          "2020-Q1",
          "2020-Q2",
          "2020-Q3",
          "2020-Q4",
          "2021-Q1",
          "2021-Q2",
          "2021-Q3",
          "2021-Q4",
          "2022-Q1",
          "2022-Q2",
          "2022-Q3",
          "2022-Q4",
          "2023-Q1",
          "2023-Q2"
         ],
         "xaxis": "x",
         "y": [
          43.96826012726991,
          48.457628433959336,
          47.48564333385069,
          55.19944125407419,
          52.57255936675462,
          81.89313984168865,
          84.64224740027937,
          100.0,
          79.59413316777899,
          18.095219618190285,
          50.19594909203787,
          45.087692068912,
          42.05727145739562,
          43.80335247555487,
          76.78876299860313,
          101.27657923327642,
          98.11811268042835,
          117.2435200993326,
          109.9759428837498,
          132.77588080086915,
          115.44311656060842,
          122.56518702467794
         ],
         "yaxis": "y",
         "type": "scatter"
        },
        {
         "hovertemplate": "Country code=UK<br>Time period=%{x}<br>Normalized passenger transport volume [%]=%{y}<extra></extra>",
         "legendgroup": "UK",
         "line": {
          "color": "#FF97FF",
          "dash": "solid"
         },
         "marker": {
          "symbol": "circle"
         },
         "mode": "lines",
         "name": "UK",
         "orientation": "v",
         "showlegend": true,
         "x": [
          "2018-Q1",
          "2018-Q2",
          "2018-Q3",
          "2018-Q4",
          "2019-Q1",
          "2019-Q2",
          "2019-Q3",
          "2019-Q4",
          "2020-Q1",
          "2020-Q2",
          "2020-Q3"
         ],
         "xaxis": "x",
         "y": [
          92.46648799236792,
          92.96506966816924,
          94.26197431574585,
          97.55045574638122,
          96.02276933881345,
          95.14596787670204,
          97.3918065071572,
          100.0,
          84.93318751705479,
          7.666777368580258,
          29.09923192614984
         ],
         "yaxis": "y",
         "type": "scatter"
        }
       ],
       "layout": {
        "template": {
         "data": {
          "histogram2dcontour": [
           {
            "type": "histogram2dcontour",
            "colorbar": {
             "outlinewidth": 0,
             "ticks": ""
            },
            "colorscale": [
             [
              0.0,
              "#0d0887"
             ],
             [
              0.1111111111111111,
              "#46039f"
             ],
             [
              0.2222222222222222,
              "#7201a8"
             ],
             [
              0.3333333333333333,
              "#9c179e"
             ],
             [
              0.4444444444444444,
              "#bd3786"
             ],
             [
              0.5555555555555556,
              "#d8576b"
             ],
             [
              0.6666666666666666,
              "#ed7953"
             ],
             [
              0.7777777777777778,
              "#fb9f3a"
             ],
             [
              0.8888888888888888,
              "#fdca26"
             ],
             [
              1.0,
              "#f0f921"
             ]
            ]
           }
          ],
          "choropleth": [
           {
            "type": "choropleth",
            "colorbar": {
             "outlinewidth": 0,
             "ticks": ""
            }
           }
          ],
          "histogram2d": [
           {
            "type": "histogram2d",
            "colorbar": {
             "outlinewidth": 0,
             "ticks": ""
            },
            "colorscale": [
             [
              0.0,
              "#0d0887"
             ],
             [
              0.1111111111111111,
              "#46039f"
             ],
             [
              0.2222222222222222,
              "#7201a8"
             ],
             [
              0.3333333333333333,
              "#9c179e"
             ],
             [
              0.4444444444444444,
              "#bd3786"
             ],
             [
              0.5555555555555556,
              "#d8576b"
             ],
             [
              0.6666666666666666,
              "#ed7953"
             ],
             [
              0.7777777777777778,
              "#fb9f3a"
             ],
             [
              0.8888888888888888,
              "#fdca26"
             ],
             [
              1.0,
              "#f0f921"
             ]
            ]
           }
          ],
          "heatmap": [
           {
            "type": "heatmap",
            "colorbar": {
             "outlinewidth": 0,
             "ticks": ""
            },
            "colorscale": [
             [
              0.0,
              "#0d0887"
             ],
             [
              0.1111111111111111,
              "#46039f"
             ],
             [
              0.2222222222222222,
              "#7201a8"
             ],
             [
              0.3333333333333333,
              "#9c179e"
             ],
             [
              0.4444444444444444,
              "#bd3786"
             ],
             [
              0.5555555555555556,
              "#d8576b"
             ],
             [
              0.6666666666666666,
              "#ed7953"
             ],
             [
              0.7777777777777778,
              "#fb9f3a"
             ],
             [
              0.8888888888888888,
              "#fdca26"
             ],
             [
              1.0,
              "#f0f921"
             ]
            ]
           }
          ],
          "heatmapgl": [
           {
            "type": "heatmapgl",
            "colorbar": {
             "outlinewidth": 0,
             "ticks": ""
            },
            "colorscale": [
             [
              0.0,
              "#0d0887"
             ],
             [
              0.1111111111111111,
              "#46039f"
             ],
             [
              0.2222222222222222,
              "#7201a8"
             ],
             [
              0.3333333333333333,
              "#9c179e"
             ],
             [
              0.4444444444444444,
              "#bd3786"
             ],
             [
              0.5555555555555556,
              "#d8576b"
             ],
             [
              0.6666666666666666,
              "#ed7953"
             ],
             [
              0.7777777777777778,
              "#fb9f3a"
             ],
             [
              0.8888888888888888,
              "#fdca26"
             ],
             [
              1.0,
              "#f0f921"
             ]
            ]
           }
          ],
          "contourcarpet": [
           {
            "type": "contourcarpet",
            "colorbar": {
             "outlinewidth": 0,
             "ticks": ""
            }
           }
          ],
          "contour": [
           {
            "type": "contour",
            "colorbar": {
             "outlinewidth": 0,
             "ticks": ""
            },
            "colorscale": [
             [
              0.0,
              "#0d0887"
             ],
             [
              0.1111111111111111,
              "#46039f"
             ],
             [
              0.2222222222222222,
              "#7201a8"
             ],
             [
              0.3333333333333333,
              "#9c179e"
             ],
             [
              0.4444444444444444,
              "#bd3786"
             ],
             [
              0.5555555555555556,
              "#d8576b"
             ],
             [
              0.6666666666666666,
              "#ed7953"
             ],
             [
              0.7777777777777778,
              "#fb9f3a"
             ],
             [
              0.8888888888888888,
              "#fdca26"
             ],
             [
              1.0,
              "#f0f921"
             ]
            ]
           }
          ],
          "surface": [
           {
            "type": "surface",
            "colorbar": {
             "outlinewidth": 0,
             "ticks": ""
            },
            "colorscale": [
             [
              0.0,
              "#0d0887"
             ],
             [
              0.1111111111111111,
              "#46039f"
             ],
             [
              0.2222222222222222,
              "#7201a8"
             ],
             [
              0.3333333333333333,
              "#9c179e"
             ],
             [
              0.4444444444444444,
              "#bd3786"
             ],
             [
              0.5555555555555556,
              "#d8576b"
             ],
             [
              0.6666666666666666,
              "#ed7953"
             ],
             [
              0.7777777777777778,
              "#fb9f3a"
             ],
             [
              0.8888888888888888,
              "#fdca26"
             ],
             [
              1.0,
              "#f0f921"
             ]
            ]
           }
          ],
          "mesh3d": [
           {
            "type": "mesh3d",
            "colorbar": {
             "outlinewidth": 0,
             "ticks": ""
            }
           }
          ],
          "scatter": [
           {
            "fillpattern": {
             "fillmode": "overlay",
             "size": 10,
             "solidity": 0.2
            },
            "type": "scatter"
           }
          ],
          "parcoords": [
           {
            "type": "parcoords",
            "line": {
             "colorbar": {
              "outlinewidth": 0,
              "ticks": ""
             }
            }
           }
          ],
          "scatterpolargl": [
           {
            "type": "scatterpolargl",
            "marker": {
             "colorbar": {
              "outlinewidth": 0,
              "ticks": ""
             }
            }
           }
          ],
          "bar": [
           {
            "error_x": {
             "color": "#2a3f5f"
            },
            "error_y": {
             "color": "#2a3f5f"
            },
            "marker": {
             "line": {
              "color": "#E5ECF6",
              "width": 0.5
             },
             "pattern": {
              "fillmode": "overlay",
              "size": 10,
              "solidity": 0.2
             }
            },
            "type": "bar"
           }
          ],
          "scattergeo": [
           {
            "type": "scattergeo",
            "marker": {
             "colorbar": {
              "outlinewidth": 0,
              "ticks": ""
             }
            }
           }
          ],
          "scatterpolar": [
           {
            "type": "scatterpolar",
            "marker": {
             "colorbar": {
              "outlinewidth": 0,
              "ticks": ""
             }
            }
           }
          ],
          "histogram": [
           {
            "marker": {
             "pattern": {
              "fillmode": "overlay",
              "size": 10,
              "solidity": 0.2
             }
            },
            "type": "histogram"
           }
          ],
          "scattergl": [
           {
            "type": "scattergl",
            "marker": {
             "colorbar": {
              "outlinewidth": 0,
              "ticks": ""
             }
            }
           }
          ],
          "scatter3d": [
           {
            "type": "scatter3d",
            "line": {
             "colorbar": {
              "outlinewidth": 0,
              "ticks": ""
             }
            },
            "marker": {
             "colorbar": {
              "outlinewidth": 0,
              "ticks": ""
             }
            }
           }
          ],
          "scattermapbox": [
           {
            "type": "scattermapbox",
            "marker": {
             "colorbar": {
              "outlinewidth": 0,
              "ticks": ""
             }
            }
           }
          ],
          "scatterternary": [
           {
            "type": "scatterternary",
            "marker": {
             "colorbar": {
              "outlinewidth": 0,
              "ticks": ""
             }
            }
           }
          ],
          "scattercarpet": [
           {
            "type": "scattercarpet",
            "marker": {
             "colorbar": {
              "outlinewidth": 0,
              "ticks": ""
             }
            }
           }
          ],
          "carpet": [
           {
            "aaxis": {
             "endlinecolor": "#2a3f5f",
             "gridcolor": "white",
             "linecolor": "white",
             "minorgridcolor": "white",
             "startlinecolor": "#2a3f5f"
            },
            "baxis": {
             "endlinecolor": "#2a3f5f",
             "gridcolor": "white",
             "linecolor": "white",
             "minorgridcolor": "white",
             "startlinecolor": "#2a3f5f"
            },
            "type": "carpet"
           }
          ],
          "table": [
           {
            "cells": {
             "fill": {
              "color": "#EBF0F8"
             },
             "line": {
              "color": "white"
             }
            },
            "header": {
             "fill": {
              "color": "#C8D4E3"
             },
             "line": {
              "color": "white"
             }
            },
            "type": "table"
           }
          ],
          "barpolar": [
           {
            "marker": {
             "line": {
              "color": "#E5ECF6",
              "width": 0.5
             },
             "pattern": {
              "fillmode": "overlay",
              "size": 10,
              "solidity": 0.2
             }
            },
            "type": "barpolar"
           }
          ],
          "pie": [
           {
            "automargin": true,
            "type": "pie"
           }
          ]
         },
         "layout": {
          "autotypenumbers": "strict",
          "colorway": [
           "#636efa",
           "#EF553B",
           "#00cc96",
           "#ab63fa",
           "#FFA15A",
           "#19d3f3",
           "#FF6692",
           "#B6E880",
           "#FF97FF",
           "#FECB52"
          ],
          "font": {
           "color": "#2a3f5f"
          },
          "hovermode": "closest",
          "hoverlabel": {
           "align": "left"
          },
          "paper_bgcolor": "white",
          "plot_bgcolor": "#E5ECF6",
          "polar": {
           "bgcolor": "#E5ECF6",
           "angularaxis": {
            "gridcolor": "white",
            "linecolor": "white",
            "ticks": ""
           },
           "radialaxis": {
            "gridcolor": "white",
            "linecolor": "white",
            "ticks": ""
           }
          },
          "ternary": {
           "bgcolor": "#E5ECF6",
           "aaxis": {
            "gridcolor": "white",
            "linecolor": "white",
            "ticks": ""
           },
           "baxis": {
            "gridcolor": "white",
            "linecolor": "white",
            "ticks": ""
           },
           "caxis": {
            "gridcolor": "white",
            "linecolor": "white",
            "ticks": ""
           }
          },
          "coloraxis": {
           "colorbar": {
            "outlinewidth": 0,
            "ticks": ""
           }
          },
          "colorscale": {
           "sequential": [
            [
             0.0,
             "#0d0887"
            ],
            [
             0.1111111111111111,
             "#46039f"
            ],
            [
             0.2222222222222222,
             "#7201a8"
            ],
            [
             0.3333333333333333,
             "#9c179e"
            ],
            [
             0.4444444444444444,
             "#bd3786"
            ],
            [
             0.5555555555555556,
             "#d8576b"
            ],
            [
             0.6666666666666666,
             "#ed7953"
            ],
            [
             0.7777777777777778,
             "#fb9f3a"
            ],
            [
             0.8888888888888888,
             "#fdca26"
            ],
            [
             1.0,
             "#f0f921"
            ]
           ],
           "sequentialminus": [
            [
             0.0,
             "#0d0887"
            ],
            [
             0.1111111111111111,
             "#46039f"
            ],
            [
             0.2222222222222222,
             "#7201a8"
            ],
            [
             0.3333333333333333,
             "#9c179e"
            ],
            [
             0.4444444444444444,
             "#bd3786"
            ],
            [
             0.5555555555555556,
             "#d8576b"
            ],
            [
             0.6666666666666666,
             "#ed7953"
            ],
            [
             0.7777777777777778,
             "#fb9f3a"
            ],
            [
             0.8888888888888888,
             "#fdca26"
            ],
            [
             1.0,
             "#f0f921"
            ]
           ],
           "diverging": [
            [
             0,
             "#8e0152"
            ],
            [
             0.1,
             "#c51b7d"
            ],
            [
             0.2,
             "#de77ae"
            ],
            [
             0.3,
             "#f1b6da"
            ],
            [
             0.4,
             "#fde0ef"
            ],
            [
             0.5,
             "#f7f7f7"
            ],
            [
             0.6,
             "#e6f5d0"
            ],
            [
             0.7,
             "#b8e186"
            ],
            [
             0.8,
             "#7fbc41"
            ],
            [
             0.9,
             "#4d9221"
            ],
            [
             1,
             "#276419"
            ]
           ]
          },
          "xaxis": {
           "gridcolor": "white",
           "linecolor": "white",
           "ticks": "",
           "title": {
            "standoff": 15
           },
           "zerolinecolor": "white",
           "automargin": true,
           "zerolinewidth": 2
          },
          "yaxis": {
           "gridcolor": "white",
           "linecolor": "white",
           "ticks": "",
           "title": {
            "standoff": 15
           },
           "zerolinecolor": "white",
           "automargin": true,
           "zerolinewidth": 2
          },
          "scene": {
           "xaxis": {
            "backgroundcolor": "#E5ECF6",
            "gridcolor": "white",
            "linecolor": "white",
            "showbackground": true,
            "ticks": "",
            "zerolinecolor": "white",
            "gridwidth": 2
           },
           "yaxis": {
            "backgroundcolor": "#E5ECF6",
            "gridcolor": "white",
            "linecolor": "white",
            "showbackground": true,
            "ticks": "",
            "zerolinecolor": "white",
            "gridwidth": 2
           },
           "zaxis": {
            "backgroundcolor": "#E5ECF6",
            "gridcolor": "white",
            "linecolor": "white",
            "showbackground": true,
            "ticks": "",
            "zerolinecolor": "white",
            "gridwidth": 2
           }
          },
          "shapedefaults": {
           "line": {
            "color": "#2a3f5f"
           }
          },
          "annotationdefaults": {
           "arrowcolor": "#2a3f5f",
           "arrowhead": 0,
           "arrowwidth": 1
          },
          "geo": {
           "bgcolor": "white",
           "landcolor": "#E5ECF6",
           "subunitcolor": "white",
           "showland": true,
           "showlakes": true,
           "lakecolor": "white"
          },
          "title": {
           "x": 0.05
          },
          "mapbox": {
           "style": "light"
          }
         }
        },
        "xaxis": {
         "anchor": "y",
         "domain": [
          0.0,
          1.0
         ],
         "title": {
          "text": "Time period"
         },
         "tickangle": 30
        },
        "yaxis": {
         "anchor": "x",
         "domain": [
          0.0,
          1.0
         ],
         "title": {
          "text": "Normalized passenger transport volume [%]"
         }
        },
        "legend": {
         "title": {
          "text": "Country code"
         },
         "tracegroupgap": 0
        },
        "title": {
         "text": "Rail passenger transport volume in Europe, normalized for highest quarter of 2019 per country"
        }
       },
       "config": {
        "plotlyServerURL": "https://plot.ly"
       }
      },
      "text/html": "<div>                            <div id=\"93546e3b-96b0-42c5-8176-3f0331ed6bb8\" class=\"plotly-graph-div\" style=\"height:525px; width:100%;\"></div>            <script type=\"text/javascript\">                require([\"plotly\"], function(Plotly) {                    window.PLOTLYENV=window.PLOTLYENV || {};                                    if (document.getElementById(\"93546e3b-96b0-42c5-8176-3f0331ed6bb8\")) {                    Plotly.newPlot(                        \"93546e3b-96b0-42c5-8176-3f0331ed6bb8\",                        [{\"hovertemplate\":\"Country code=BG\\u003cbr\\u003eTime period=%{x}\\u003cbr\\u003eNormalized passenger transport volume [%]=%{y}\\u003cextra\\u003e\\u003c\\u002fextra\\u003e\",\"legendgroup\":\"BG\",\"line\":{\"color\":\"#636efa\",\"dash\":\"solid\"},\"marker\":{\"symbol\":\"circle\"},\"mode\":\"lines\",\"name\":\"BG\",\"orientation\":\"v\",\"showlegend\":true,\"x\":[\"2018-Q1\",\"2018-Q2\",\"2018-Q3\",\"2018-Q4\",\"2019-Q1\",\"2019-Q2\",\"2019-Q3\",\"2019-Q4\",\"2020-Q1\",\"2020-Q2\",\"2020-Q3\",\"2020-Q4\",\"2021-Q1\",\"2021-Q2\",\"2021-Q3\",\"2021-Q4\",\"2022-Q1\",\"2022-Q2\",\"2022-Q3\",\"2022-Q4\",\"2023-Q1\",\"2023-Q2\"],\"xaxis\":\"x\",\"y\":[85.77207175518818,98.4171649665846,99.36686598663384,91.57580021104468,87.19662328526205,98.20612029546254,100.0,89.71157228279986,80.72458670418573,62.13506858951811,82.00844178684488,70.31304959549772,65.08969398522687,76.39817094618361,85.9655293703834,74.0239183960605,72.8631727048892,102.95462539570876,123.21491382342596,106.63032008441787,88.77945831867746,100.12310939148786],\"yaxis\":\"y\",\"type\":\"scatter\"},{\"hovertemplate\":\"Country code=CH\\u003cbr\\u003eTime period=%{x}\\u003cbr\\u003eNormalized passenger transport volume [%]=%{y}\\u003cextra\\u003e\\u003c\\u002fextra\\u003e\",\"legendgroup\":\"CH\",\"line\":{\"color\":\"#EF553B\",\"dash\":\"solid\"},\"marker\":{\"symbol\":\"circle\"},\"mode\":\"lines\",\"name\":\"CH\",\"orientation\":\"v\",\"showlegend\":true,\"x\":[\"2018-Q1\",\"2018-Q2\",\"2018-Q3\",\"2018-Q4\",\"2019-Q1\",\"2019-Q2\",\"2019-Q3\",\"2019-Q4\",\"2020-Q1\",\"2020-Q2\",\"2020-Q3\",\"2020-Q4\",\"2021-Q1\",\"2021-Q2\",\"2021-Q3\",\"2021-Q4\",\"2022-Q1\",\"2022-Q2\",\"2022-Q3\",\"2022-Q4\",\"2023-Q1\",\"2023-Q2\"],\"xaxis\":\"x\",\"y\":[90.35129804360574,93.87494002878618,92.24143839528456,97.17012024704331,94.41410979872518,96.0316191085422,97.3483204252435,100.0,85.4553623784393,41.02487948641794,73.12680389603466,63.25116325116325,55.20321674167828,59.84251368866754,71.11481726866342,77.32973886820041,71.4811176349638,84.17673802289187,88.13826506134198,91.27961435653744,91.4441068287222,94.21001728694036],\"yaxis\":\"y\",\"type\":\"scatter\"},{\"hovertemplate\":\"Country code=CZ\\u003cbr\\u003eTime period=%{x}\\u003cbr\\u003eNormalized passenger transport volume [%]=%{y}\\u003cextra\\u003e\\u003c\\u002fextra\\u003e\",\"legendgroup\":\"CZ\",\"line\":{\"color\":\"#00cc96\",\"dash\":\"solid\"},\"marker\":{\"symbol\":\"circle\"},\"mode\":\"lines\",\"name\":\"CZ\",\"orientation\":\"v\",\"showlegend\":true,\"x\":[\"2018-Q1\",\"2018-Q2\",\"2018-Q3\",\"2018-Q4\",\"2019-Q1\",\"2019-Q2\",\"2019-Q3\",\"2019-Q4\",\"2020-Q1\",\"2020-Q2\",\"2020-Q3\",\"2020-Q4\",\"2021-Q1\",\"2021-Q2\",\"2021-Q3\",\"2021-Q4\",\"2022-Q1\",\"2022-Q2\",\"2022-Q3\",\"2022-Q4\",\"2023-Q1\",\"2023-Q2\"],\"xaxis\":\"x\",\"y\":[90.273920600987,98.10992787356896,94.03008930890492,96.48158877944496,94.297816227448,100.0,98.3416914746958,95.3827096361711,77.89654552356596,51.81514854848055,78.02641305868015,50.28271163413319,45.383708617210445,64.95774310203592,77.56088789434777,79.46694371740824,75.64883818505125,90.83734590717468,90.93924197318736,93.2628718706919,83.20313280453936,93.24688817406246],\"yaxis\":\"y\",\"type\":\"scatter\"},{\"hovertemplate\":\"Country code=DE\\u003cbr\\u003eTime period=%{x}\\u003cbr\\u003eNormalized passenger transport volume [%]=%{y}\\u003cextra\\u003e\\u003c\\u002fextra\\u003e\",\"legendgroup\":\"DE\",\"line\":{\"color\":\"#ab63fa\",\"dash\":\"solid\"},\"marker\":{\"symbol\":\"circle\"},\"mode\":\"lines\",\"name\":\"DE\",\"orientation\":\"v\",\"showlegend\":true,\"x\":[\"2018-Q1\",\"2018-Q2\",\"2018-Q3\",\"2018-Q4\",\"2019-Q1\",\"2019-Q2\",\"2019-Q3\",\"2019-Q4\",\"2020-Q1\",\"2020-Q2\",\"2020-Q3\",\"2020-Q4\",\"2021-Q1\",\"2021-Q2\",\"2021-Q3\",\"2021-Q4\",\"2022-Q1\",\"2022-Q2\",\"2022-Q3\",\"2022-Q4\",\"2023-Q1\",\"2023-Q2\"],\"xaxis\":\"x\",\"y\":[94.84160912864856,95.76396506850789,95.20377599965585,100.49216515024412,96.91593534232432,97.52021896711192,98.33287625561935,100.0,83.35430513432708,39.65821341765073,64.52861844227915,54.59134563678992,43.38205244025725,52.76558903873868,70.4840721860145,69.44892559850294,63.26493299778452,88.18911187111485,99.49506356068916,89.18164268353014,80.44567765804135,92.638897851197],\"yaxis\":\"y\",\"type\":\"scatter\"},{\"hovertemplate\":\"Country code=DK\\u003cbr\\u003eTime period=%{x}\\u003cbr\\u003eNormalized passenger transport volume [%]=%{y}\\u003cextra\\u003e\\u003c\\u002fextra\\u003e\",\"legendgroup\":\"DK\",\"line\":{\"color\":\"#FFA15A\",\"dash\":\"solid\"},\"marker\":{\"symbol\":\"circle\"},\"mode\":\"lines\",\"name\":\"DK\",\"orientation\":\"v\",\"showlegend\":true,\"x\":[\"2018-Q1\",\"2018-Q2\",\"2018-Q3\",\"2018-Q4\",\"2019-Q1\",\"2019-Q2\",\"2019-Q3\",\"2019-Q4\",\"2020-Q1\",\"2020-Q2\",\"2020-Q3\",\"2020-Q4\",\"2021-Q1\",\"2021-Q2\",\"2021-Q3\",\"2021-Q4\",\"2022-Q1\",\"2022-Q2\",\"2022-Q3\",\"2022-Q4\",\"2023-Q1\",\"2023-Q2\"],\"xaxis\":\"x\",\"y\":[92.5266638026038,98.71677531426865,92.54907820759476,99.5685227039244,94.54396025178848,96.10549713282404,95.24627827483796,100.0,78.65588284737657,43.52690662532454,69.09427125165773,58.82473803164167,36.7147953751611,59.82217905373854,74.45691764574033,78.80531221398286,71.55612006649606,90.68307899209891,91.20981750938604,91.93268207034389,90.47574574593273,96.11857220240208],\"yaxis\":\"y\",\"type\":\"scatter\"},{\"hovertemplate\":\"Country code=EE\\u003cbr\\u003eTime period=%{x}\\u003cbr\\u003eNormalized passenger transport volume [%]=%{y}\\u003cextra\\u003e\\u003c\\u002fextra\\u003e\",\"legendgroup\":\"EE\",\"line\":{\"color\":\"#19d3f3\",\"dash\":\"solid\"},\"marker\":{\"symbol\":\"circle\"},\"mode\":\"lines\",\"name\":\"EE\",\"orientation\":\"v\",\"showlegend\":true,\"x\":[\"2018-Q1\",\"2018-Q2\",\"2018-Q3\",\"2018-Q4\",\"2019-Q1\",\"2019-Q2\",\"2019-Q3\",\"2019-Q4\",\"2020-Q1\",\"2020-Q2\",\"2020-Q3\",\"2020-Q4\",\"2021-Q1\",\"2021-Q2\",\"2021-Q3\",\"2021-Q4\",\"2022-Q1\",\"2022-Q2\",\"2022-Q3\",\"2022-Q4\",\"2023-Q1\",\"2023-Q2\"],\"xaxis\":\"x\",\"y\":[86.22283865002312,94.59084604715672,87.74849745723532,90.15256588072124,90.47619047619048,100.0,97.31853906611188,99.2602866389274,83.21775312066575,45.21497919556172,77.3462783171521,70.92001849283403,55.570966250577904,70.68885806749884,81.13730929264909,73.5552473416551,69.1169671752196,91.44706426259825,84.92834026814609,84.09616273693943,82.89412852519649,95.79288025889969],\"yaxis\":\"y\",\"type\":\"scatter\"},{\"hovertemplate\":\"Country code=EL\\u003cbr\\u003eTime period=%{x}\\u003cbr\\u003eNormalized passenger transport volume [%]=%{y}\\u003cextra\\u003e\\u003c\\u002fextra\\u003e\",\"legendgroup\":\"EL\",\"line\":{\"color\":\"#FF6692\",\"dash\":\"solid\"},\"marker\":{\"symbol\":\"circle\"},\"mode\":\"lines\",\"name\":\"EL\",\"orientation\":\"v\",\"showlegend\":true,\"x\":[\"2018-Q1\",\"2018-Q2\",\"2018-Q3\",\"2018-Q4\",\"2019-Q1\",\"2019-Q2\",\"2019-Q3\",\"2019-Q4\",\"2020-Q1\",\"2020-Q2\",\"2020-Q3\",\"2020-Q4\",\"2021-Q1\",\"2021-Q2\",\"2021-Q3\",\"2021-Q4\",\"2022-Q1\",\"2022-Q2\",\"2022-Q3\",\"2022-Q4\",\"2023-Q1\",\"2023-Q2\"],\"xaxis\":\"x\",\"y\":[68.45612031220256,72.4728726442033,76.54673519893394,102.15115172282503,90.50066628593184,91.96649533599847,90.74814391776128,100.0,75.34742052160671,28.7835522558538,56.71045117075957,33.71406815153246,25.928041119360365,40.14848657909766,57.24347991623834,67.58043023034456,59.05197030268418,75.30934703978679,75.15705311250714,83.11441081286884,59.98477060727203,59.98477060727203],\"yaxis\":\"y\",\"type\":\"scatter\"},{\"hovertemplate\":\"Country code=ES\\u003cbr\\u003eTime period=%{x}\\u003cbr\\u003eNormalized passenger transport volume [%]=%{y}\\u003cextra\\u003e\\u003c\\u002fextra\\u003e\",\"legendgroup\":\"ES\",\"line\":{\"color\":\"#B6E880\",\"dash\":\"solid\"},\"marker\":{\"symbol\":\"circle\"},\"mode\":\"lines\",\"name\":\"ES\",\"orientation\":\"v\",\"showlegend\":true,\"x\":[\"2018-Q1\",\"2018-Q2\",\"2018-Q3\",\"2018-Q4\",\"2019-Q1\",\"2019-Q2\",\"2019-Q3\",\"2019-Q4\",\"2020-Q1\",\"2020-Q2\",\"2020-Q3\",\"2020-Q4\",\"2021-Q1\",\"2021-Q2\",\"2021-Q3\",\"2021-Q4\",\"2022-Q1\",\"2022-Q2\",\"2022-Q3\",\"2022-Q4\",\"2023-Q1\",\"2023-Q2\"],\"xaxis\":\"x\",\"y\":[90.520544643933,98.34257139414387,84.53488372093024,99.57163513676346,97.27557537052655,96.60682009880708,83.93842631642366,100.0,79.22340040968791,21.115797083986024,46.71948427521388,51.445957344258346,49.32341245933245,60.57778045547656,60.21026629714424,73.52753343776358,72.64007711772503,81.24171586938185,76.88757681648391,95.53138932401494,97.2093023255814,98.97096035666948],\"yaxis\":\"y\",\"type\":\"scatter\"},{\"hovertemplate\":\"Country code=FI\\u003cbr\\u003eTime period=%{x}\\u003cbr\\u003eNormalized passenger transport volume [%]=%{y}\\u003cextra\\u003e\\u003c\\u002fextra\\u003e\",\"legendgroup\":\"FI\",\"line\":{\"color\":\"#FF97FF\",\"dash\":\"solid\"},\"marker\":{\"symbol\":\"circle\"},\"mode\":\"lines\",\"name\":\"FI\",\"orientation\":\"v\",\"showlegend\":true,\"x\":[\"2018-Q1\",\"2018-Q2\",\"2018-Q3\",\"2018-Q4\",\"2019-Q1\",\"2019-Q2\",\"2019-Q3\",\"2019-Q4\",\"2020-Q1\",\"2020-Q2\",\"2020-Q3\",\"2020-Q4\",\"2021-Q1\",\"2021-Q2\",\"2021-Q3\",\"2021-Q4\",\"2022-Q1\",\"2022-Q2\",\"2022-Q3\",\"2022-Q4\",\"2023-Q1\",\"2023-Q2\"],\"xaxis\":\"x\",\"y\":[88.29448731206746,82.90907644578793,83.90342852597247,92.92816800572749,89.70248985760878,89.19735900087503,90.21159812266328,100.0,74.54458674727547,42.864529472595656,59.01678466311351,60.42876461697558,42.08098003341023,48.456765571553575,60.09466231803357,68.15686898416992,60.27364569246679,76.65659056558746,82.0221143902633,83.68467106833188,78.66120435923952,82.2925781560735],\"yaxis\":\"y\",\"type\":\"scatter\"},{\"hovertemplate\":\"Country code=FR\\u003cbr\\u003eTime period=%{x}\\u003cbr\\u003eNormalized passenger transport volume [%]=%{y}\\u003cextra\\u003e\\u003c\\u002fextra\\u003e\",\"legendgroup\":\"FR\",\"line\":{\"color\":\"#FECB52\",\"dash\":\"solid\"},\"marker\":{\"symbol\":\"circle\"},\"mode\":\"lines\",\"name\":\"FR\",\"orientation\":\"v\",\"showlegend\":true,\"x\":[\"2018-Q1\",\"2018-Q2\",\"2018-Q3\",\"2018-Q4\",\"2019-Q1\",\"2019-Q2\",\"2019-Q3\",\"2019-Q4\",\"2020-Q1\",\"2020-Q2\",\"2020-Q3\",\"2020-Q4\",\"2021-Q1\",\"2021-Q2\",\"2021-Q3\",\"2021-Q4\",\"2022-Q1\",\"2022-Q2\",\"2022-Q3\",\"2022-Q4\",\"2023-Q1\",\"2023-Q2\"],\"xaxis\":\"x\",\"y\":[97.8339339560197,81.7206736780172,86.38582040155917,100.78988012061484,99.03478708538648,100.0,89.27322203427227,83.92998455541664,72.00882547620799,23.936162388762227,60.598073104361255,56.40185335000368,56.75810840626609,57.89365301169376,67.4301684195043,81.03405162903582,76.99080679561668,87.37368537177319,80.39479296903728,91.31749650658232,84.22534382584394,63.83937633301464],\"yaxis\":\"y\",\"type\":\"scatter\"},{\"hovertemplate\":\"Country code=HR\\u003cbr\\u003eTime period=%{x}\\u003cbr\\u003eNormalized passenger transport volume [%]=%{y}\\u003cextra\\u003e\\u003c\\u002fextra\\u003e\",\"legendgroup\":\"HR\",\"line\":{\"color\":\"#636efa\",\"dash\":\"solid\"},\"marker\":{\"symbol\":\"circle\"},\"mode\":\"lines\",\"name\":\"HR\",\"orientation\":\"v\",\"showlegend\":true,\"x\":[\"2018-Q1\",\"2018-Q2\",\"2018-Q3\",\"2018-Q4\",\"2019-Q1\",\"2019-Q2\",\"2019-Q3\",\"2019-Q4\",\"2020-Q1\",\"2020-Q2\",\"2020-Q3\",\"2020-Q4\",\"2021-Q1\",\"2021-Q2\",\"2021-Q3\",\"2021-Q4\",\"2022-Q1\",\"2022-Q2\",\"2022-Q3\",\"2022-Q4\",\"2023-Q1\",\"2023-Q2\"],\"xaxis\":\"x\",\"y\":[95.38038496791934,95.96700274977086,77.69019248395966,102.07149404216317,94.51879010082492,93.05224564619616,75.87534372135656,100.0,87.27772685609533,31.109074243813016,57.03024747937672,64.71127406049496,56.92025664527956,62.05316223648029,55.36205316223648,73.74885426214482,76.62694775435381,85.6461961503208,84.56461961503209,93.78551787351054,110.26581118240146,113.38221814848762],\"yaxis\":\"y\",\"type\":\"scatter\"},{\"hovertemplate\":\"Country code=HU\\u003cbr\\u003eTime period=%{x}\\u003cbr\\u003eNormalized passenger transport volume [%]=%{y}\\u003cextra\\u003e\\u003c\\u002fextra\\u003e\",\"legendgroup\":\"HU\",\"line\":{\"color\":\"#EF553B\",\"dash\":\"solid\"},\"marker\":{\"symbol\":\"circle\"},\"mode\":\"lines\",\"name\":\"HU\",\"orientation\":\"v\",\"showlegend\":true,\"x\":[\"2018-Q1\",\"2018-Q2\",\"2018-Q3\",\"2018-Q4\",\"2019-Q1\",\"2019-Q2\",\"2019-Q3\",\"2019-Q4\",\"2020-Q1\",\"2020-Q2\",\"2020-Q3\",\"2020-Q4\",\"2021-Q1\",\"2021-Q2\",\"2021-Q3\",\"2021-Q4\",\"2022-Q1\",\"2022-Q2\",\"2022-Q3\",\"2022-Q4\",\"2023-Q1\",\"2023-Q2\"],\"xaxis\":\"x\",\"y\":[98.67391770252894,102.41105872267468,95.85297899699955,99.50707243891983,97.70681525932277,100.0,96.13159022717532,99.66245177882554,91.59344192027432,40.97728246892413,78.1477711101586,59.12987569652808,51.74667809687098,63.8421560222889,79.32651093013287,83.22438919845692,83.1065152164595,94.60994427775395,98.28279039862838,102.81290184312044,100.54114873553364,124.18827689669952],\"yaxis\":\"y\",\"type\":\"scatter\"},{\"hovertemplate\":\"Country code=IE\\u003cbr\\u003eTime period=%{x}\\u003cbr\\u003eNormalized passenger transport volume [%]=%{y}\\u003cextra\\u003e\\u003c\\u002fextra\\u003e\",\"legendgroup\":\"IE\",\"line\":{\"color\":\"#00cc96\",\"dash\":\"solid\"},\"marker\":{\"symbol\":\"circle\"},\"mode\":\"lines\",\"name\":\"IE\",\"orientation\":\"v\",\"showlegend\":true,\"x\":[\"2018-Q1\",\"2018-Q2\",\"2018-Q3\",\"2018-Q4\",\"2019-Q1\",\"2019-Q2\",\"2019-Q3\",\"2019-Q4\",\"2020-Q1\",\"2020-Q2\",\"2020-Q3\",\"2020-Q4\",\"2021-Q1\",\"2021-Q2\",\"2021-Q3\",\"2021-Q4\",\"2022-Q1\",\"2022-Q2\",\"2022-Q3\",\"2022-Q4\",\"2023-Q1\",\"2023-Q2\"],\"xaxis\":\"x\",\"y\":[85.31143476913542,92.93461419274868,96.36659436008676,96.9321351100093,91.83452122714596,96.28137589092036,99.70560892469786,100.0,75.890920359467,9.26557173845677,27.41710567090177,26.332506972420205,13.046172916021073,30.105361016423924,43.98822435698792,47.74558413387047,50.05422993492408,66.09079640533002,78.01363495506662,83.5450883173226,74.13232104121475,80.90331577316392],\"yaxis\":\"y\",\"type\":\"scatter\"},{\"hovertemplate\":\"Country code=IT\\u003cbr\\u003eTime period=%{x}\\u003cbr\\u003eNormalized passenger transport volume [%]=%{y}\\u003cextra\\u003e\\u003c\\u002fextra\\u003e\",\"legendgroup\":\"IT\",\"line\":{\"color\":\"#ab63fa\",\"dash\":\"solid\"},\"marker\":{\"symbol\":\"circle\"},\"mode\":\"lines\",\"name\":\"IT\",\"orientation\":\"v\",\"showlegend\":true,\"x\":[\"2018-Q1\",\"2018-Q2\",\"2018-Q3\",\"2018-Q4\",\"2019-Q1\",\"2019-Q2\",\"2019-Q3\",\"2019-Q4\",\"2020-Q1\",\"2020-Q2\",\"2020-Q3\",\"2020-Q4\",\"2021-Q1\",\"2021-Q2\",\"2021-Q3\",\"2021-Q4\",\"2022-Q1\",\"2022-Q2\",\"2022-Q3\",\"2022-Q4\",\"2023-Q1\",\"2023-Q2\"],\"xaxis\":\"x\",\"y\":[90.96769557240808,93.95380492217684,84.04350656487517,97.36094554493114,92.238398390274,95.27523439943865,85.87727530203499,100.0,63.09593256736078,19.4359195475182,41.49398466363998,37.61254977553453,35.5661517910738,47.13732552142778,53.86537144596343,66.47221447231593,59.16715279715255,75.7399751439369,67.66344552379503,82.84931645826464,80.46727707746807,88.2161970223451],\"yaxis\":\"y\",\"type\":\"scatter\"},{\"hovertemplate\":\"Country code=LT\\u003cbr\\u003eTime period=%{x}\\u003cbr\\u003eNormalized passenger transport volume [%]=%{y}\\u003cextra\\u003e\\u003c\\u002fextra\\u003e\",\"legendgroup\":\"LT\",\"line\":{\"color\":\"#FFA15A\",\"dash\":\"solid\"},\"marker\":{\"symbol\":\"circle\"},\"mode\":\"lines\",\"name\":\"LT\",\"orientation\":\"v\",\"showlegend\":true,\"x\":[\"2018-Q1\",\"2018-Q2\",\"2018-Q3\",\"2018-Q4\",\"2019-Q1\",\"2019-Q2\",\"2019-Q3\",\"2019-Q4\",\"2020-Q1\",\"2020-Q2\",\"2020-Q3\",\"2020-Q4\",\"2021-Q1\",\"2021-Q2\",\"2021-Q3\",\"2021-Q4\",\"2022-Q1\",\"2022-Q2\",\"2022-Q3\",\"2022-Q4\",\"2023-Q1\",\"2023-Q2\"],\"xaxis\":\"x\",\"y\":[73.23308270676692,90.45112781954889,94.43609022556392,92.63157894736842,90.30075187969923,100.0,96.76691729323308,88.19548872180451,74.28571428571429,43.08270676691729,76.69172932330827,49.32330827067669,39.02255639097744,78.64661654135338,90.52631578947368,88.64661654135338,69.54887218045113,89.84962406015038,97.14285714285714,79.09774436090225,74.13533834586467,93.7593984962406],\"yaxis\":\"y\",\"type\":\"scatter\"},{\"hovertemplate\":\"Country code=LU\\u003cbr\\u003eTime period=%{x}\\u003cbr\\u003eNormalized passenger transport volume [%]=%{y}\\u003cextra\\u003e\\u003c\\u002fextra\\u003e\",\"legendgroup\":\"LU\",\"line\":{\"color\":\"#19d3f3\",\"dash\":\"solid\"},\"marker\":{\"symbol\":\"circle\"},\"mode\":\"lines\",\"name\":\"LU\",\"orientation\":\"v\",\"showlegend\":true,\"x\":[\"2018-Q1\",\"2018-Q2\",\"2018-Q3\",\"2018-Q4\",\"2019-Q1\",\"2019-Q2\",\"2019-Q3\",\"2019-Q4\",\"2020-Q1\",\"2020-Q2\",\"2020-Q3\",\"2020-Q4\",\"2021-Q1\",\"2021-Q2\",\"2021-Q3\",\"2021-Q4\",\"2022-Q1\",\"2022-Q2\",\"2022-Q3\",\"2022-Q4\",\"2023-Q1\",\"2023-Q2\"],\"xaxis\":\"x\",\"y\":[95.42641509433962,87.44150943396227,71.96981132075472,97.3433962264151,97.5245283018868,94.17358490566038,85.88679245283019,100.0,83.9245283018868,20.316981132075476,49.94716981132076,65.10188679245283,57.22264150943396,62.59622641509434,57.26792452830189,73.4188679245283,79.33584905660378,75.42641509433962,80.33207547169812,97.50943396226415,105.26792452830188,103.33584905660378],\"yaxis\":\"y\",\"type\":\"scatter\"},{\"hovertemplate\":\"Country code=LV\\u003cbr\\u003eTime period=%{x}\\u003cbr\\u003eNormalized passenger transport volume [%]=%{y}\\u003cextra\\u003e\\u003c\\u002fextra\\u003e\",\"legendgroup\":\"LV\",\"line\":{\"color\":\"#FF6692\",\"dash\":\"solid\"},\"marker\":{\"symbol\":\"circle\"},\"mode\":\"lines\",\"name\":\"LV\",\"orientation\":\"v\",\"showlegend\":true,\"x\":[\"2018-Q1\",\"2018-Q2\",\"2018-Q3\",\"2018-Q4\",\"2019-Q1\",\"2019-Q2\",\"2019-Q3\",\"2019-Q4\",\"2020-Q1\",\"2020-Q2\",\"2020-Q3\",\"2020-Q4\",\"2021-Q1\",\"2021-Q2\",\"2021-Q3\",\"2021-Q4\",\"2022-Q1\",\"2022-Q2\",\"2022-Q3\",\"2022-Q4\",\"2023-Q1\",\"2023-Q2\"],\"xaxis\":\"x\",\"y\":[74.33409436834094,91.47640791476408,98.5159817351598,82.72450532724505,77.53044140030441,92.67503805175038,100.0,84.11339421613394,71.44216133942162,44.577625570776256,78.32952815829528,50.38051750380517,36.60578386605784,51.67427701674277,68.96879756468797,52.872907153729074,53.78614916286149,77.07382039573821,91.99010654490108,75.76103500761035,70.50989345509893,85.882800608828],\"yaxis\":\"y\",\"type\":\"scatter\"},{\"hovertemplate\":\"Country code=ME\\u003cbr\\u003eTime period=%{x}\\u003cbr\\u003eNormalized passenger transport volume [%]=%{y}\\u003cextra\\u003e\\u003c\\u002fextra\\u003e\",\"legendgroup\":\"ME\",\"line\":{\"color\":\"#B6E880\",\"dash\":\"solid\"},\"marker\":{\"symbol\":\"circle\"},\"mode\":\"lines\",\"name\":\"ME\",\"orientation\":\"v\",\"showlegend\":true,\"x\":[\"2018-Q1\",\"2018-Q2\",\"2018-Q3\",\"2018-Q4\",\"2019-Q1\",\"2019-Q2\",\"2019-Q3\",\"2019-Q4\",\"2020-Q1\",\"2020-Q2\",\"2020-Q3\",\"2020-Q4\",\"2021-Q1\",\"2021-Q2\",\"2021-Q3\",\"2021-Q4\",\"2022-Q1\",\"2022-Q2\",\"2022-Q3\",\"2022-Q4\",\"2023-Q1\",\"2023-Q2\"],\"xaxis\":\"x\",\"y\":[58.1039755351682,78.89908256880734,100.30581039755351,65.74923547400611,58.71559633027523,78.2874617737003,100.0,64.52599388379205,47.09480122324159,17.431192660550458,50.15290519877676,29.96941896024465,20.795107033639145,41.28440366972477,69.1131498470948,38.53211009174312,38.53211009174312,65.4434250764526,82.56880733944953,50.15290519877676,44.95412844036697,68.19571865443424],\"yaxis\":\"y\",\"type\":\"scatter\"},{\"hovertemplate\":\"Country code=MK\\u003cbr\\u003eTime period=%{x}\\u003cbr\\u003eNormalized passenger transport volume [%]=%{y}\\u003cextra\\u003e\\u003c\\u002fextra\\u003e\",\"legendgroup\":\"MK\",\"line\":{\"color\":\"#FF97FF\",\"dash\":\"solid\"},\"marker\":{\"symbol\":\"circle\"},\"mode\":\"lines\",\"name\":\"MK\",\"orientation\":\"v\",\"showlegend\":true,\"x\":[\"2018-Q1\",\"2018-Q2\",\"2018-Q3\",\"2018-Q4\",\"2019-Q1\",\"2019-Q2\",\"2019-Q3\",\"2019-Q4\",\"2020-Q1\",\"2020-Q2\",\"2020-Q3\",\"2020-Q4\",\"2021-Q1\",\"2021-Q2\",\"2021-Q3\",\"2021-Q4\",\"2022-Q1\",\"2022-Q2\",\"2022-Q3\",\"2022-Q4\",\"2023-Q1\",\"2023-Q2\"],\"xaxis\":\"x\",\"y\":[89.1891891891892,100.0,83.78378378378379,91.89189189189187,87.83783783783784,99.32432432432432,83.78378378378379,100.0,62.83783783783784,18.91891891891892,45.94594594594594,43.24324324324324,39.86486486486486,43.24324324324324,44.5945945945946,43.24324324324324,41.21621621621622,70.94594594594595,72.97297297297297,88.51351351351352,68.91891891891892,49.32432432432432],\"yaxis\":\"y\",\"type\":\"scatter\"},{\"hovertemplate\":\"Country code=NL\\u003cbr\\u003eTime period=%{x}\\u003cbr\\u003eNormalized passenger transport volume [%]=%{y}\\u003cextra\\u003e\\u003c\\u002fextra\\u003e\",\"legendgroup\":\"NL\",\"line\":{\"color\":\"#FECB52\",\"dash\":\"solid\"},\"marker\":{\"symbol\":\"circle\"},\"mode\":\"lines\",\"name\":\"NL\",\"orientation\":\"v\",\"showlegend\":true,\"x\":[\"2018-Q1\",\"2018-Q2\",\"2018-Q3\",\"2018-Q4\",\"2019-Q1\",\"2019-Q2\",\"2019-Q3\",\"2019-Q4\",\"2020-Q1\",\"2020-Q2\",\"2020-Q3\",\"2020-Q4\",\"2021-Q1\",\"2021-Q2\",\"2021-Q3\",\"2021-Q4\",\"2022-Q1\",\"2022-Q2\",\"2022-Q3\",\"2022-Q4\",\"2023-Q1\",\"2023-Q2\"],\"xaxis\":\"x\",\"y\":[95.4256882531596,95.68629371999609,90.56529832467916,100.19398452042716,95.23170373273244,95.49230919956892,90.37131380425198,100.0,77.74566473988439,20.350739688449103,40.48594102086803,39.27696678749878,30.34486136964828,44.1207014793769,58.54021749779563,69.9578720485941,62.43754286274125,83.95414911335358,74.68599980405604,91.3970804349956,85.47565396296659,89.14274517487999],\"yaxis\":\"y\",\"type\":\"scatter\"},{\"hovertemplate\":\"Country code=NO\\u003cbr\\u003eTime period=%{x}\\u003cbr\\u003eNormalized passenger transport volume [%]=%{y}\\u003cextra\\u003e\\u003c\\u002fextra\\u003e\",\"legendgroup\":\"NO\",\"line\":{\"color\":\"#636efa\",\"dash\":\"solid\"},\"marker\":{\"symbol\":\"circle\"},\"mode\":\"lines\",\"name\":\"NO\",\"orientation\":\"v\",\"showlegend\":true,\"x\":[\"2018-Q1\",\"2018-Q2\",\"2018-Q3\",\"2018-Q4\",\"2019-Q1\",\"2019-Q2\",\"2019-Q3\",\"2019-Q4\",\"2020-Q1\",\"2020-Q2\",\"2020-Q3\",\"2020-Q4\",\"2021-Q1\",\"2021-Q2\",\"2021-Q3\",\"2021-Q4\",\"2022-Q1\",\"2022-Q2\",\"2022-Q3\",\"2022-Q4\",\"2023-Q1\",\"2023-Q2\"],\"xaxis\":\"x\",\"y\":[89.04223786587625,94.42386068914412,84.77676917376806,96.48944053353094,96.73490181548722,95.34086698777324,84.45257502778807,100.0,80.7011856243053,32.36846980363097,43.65042608373472,40.0842904779548,32.07206372730641,40.73731011485735,50.416821044831416,68.52074842534272,63.38458688403112,80.22878844016303,77.96406076324564,88.31511670989255,89.49147832530566,90.50574286772878],\"yaxis\":\"y\",\"type\":\"scatter\"},{\"hovertemplate\":\"Country code=PL\\u003cbr\\u003eTime period=%{x}\\u003cbr\\u003eNormalized passenger transport volume [%]=%{y}\\u003cextra\\u003e\\u003c\\u002fextra\\u003e\",\"legendgroup\":\"PL\",\"line\":{\"color\":\"#EF553B\",\"dash\":\"solid\"},\"marker\":{\"symbol\":\"circle\"},\"mode\":\"lines\",\"name\":\"PL\",\"orientation\":\"v\",\"showlegend\":true,\"x\":[\"2018-Q1\",\"2018-Q2\",\"2018-Q3\",\"2018-Q4\",\"2019-Q1\",\"2019-Q2\",\"2019-Q3\",\"2019-Q4\",\"2020-Q1\",\"2020-Q2\",\"2020-Q3\",\"2020-Q4\",\"2021-Q1\",\"2021-Q2\",\"2021-Q3\",\"2021-Q4\",\"2022-Q1\",\"2022-Q2\",\"2022-Q3\",\"2022-Q4\",\"2023-Q1\",\"2023-Q2\"],\"xaxis\":\"x\",\"y\":[82.02695159875609,88.0529007711848,88.614487338672,91.67872236208096,90.27646462460274,92.95795505029218,96.04497249023204,100.0,81.28424481984804,33.674689874354975,66.95068745941882,48.97649993734836,47.71777142401495,59.78106097713785,81.19881075785709,82.72523266542882,78.70071878524155,96.37190016745076,100.69144634171349,103.10979985647076,97.17839771264538,103.47317940013896],\"yaxis\":\"y\",\"type\":\"scatter\"},{\"hovertemplate\":\"Country code=PT\\u003cbr\\u003eTime period=%{x}\\u003cbr\\u003eNormalized passenger transport volume [%]=%{y}\\u003cextra\\u003e\\u003c\\u002fextra\\u003e\",\"legendgroup\":\"PT\",\"line\":{\"color\":\"#00cc96\",\"dash\":\"solid\"},\"marker\":{\"symbol\":\"circle\"},\"mode\":\"lines\",\"name\":\"PT\",\"orientation\":\"v\",\"showlegend\":true,\"x\":[\"2018-Q1\",\"2018-Q2\",\"2018-Q3\",\"2018-Q4\",\"2019-Q1\",\"2019-Q2\",\"2019-Q3\",\"2019-Q4\",\"2020-Q1\",\"2020-Q2\",\"2020-Q3\",\"2020-Q4\",\"2021-Q1\",\"2021-Q2\",\"2021-Q3\",\"2021-Q4\",\"2022-Q1\",\"2022-Q2\",\"2022-Q3\",\"2022-Q4\",\"2023-Q1\",\"2023-Q2\"],\"xaxis\":\"x\",\"y\":[71.98204631235336,76.58267877180455,75.0076507191676,77.30286646944813,75.789044170152,87.80577374273182,94.11812710394776,100.0,80.63449964296643,25.87575232071815,56.21952463531572,57.69050290727328,38.50249923492808,57.44976027746608,66.99785779863308,81.13842701213915,76.62756299092115,88.61572987860859,91.06191982046312,93.69784759767418,90.40293787616037,100.00204019177802],\"yaxis\":\"y\",\"type\":\"scatter\"},{\"hovertemplate\":\"Country code=RO\\u003cbr\\u003eTime period=%{x}\\u003cbr\\u003eNormalized passenger transport volume [%]=%{y}\\u003cextra\\u003e\\u003c\\u002fextra\\u003e\",\"legendgroup\":\"RO\",\"line\":{\"color\":\"#ab63fa\",\"dash\":\"solid\"},\"marker\":{\"symbol\":\"circle\"},\"mode\":\"lines\",\"name\":\"RO\",\"orientation\":\"v\",\"showlegend\":true,\"x\":[\"2018-Q1\",\"2018-Q2\",\"2018-Q3\",\"2018-Q4\",\"2019-Q1\",\"2019-Q2\",\"2019-Q3\",\"2019-Q4\",\"2020-Q1\",\"2020-Q2\",\"2020-Q3\",\"2020-Q4\",\"2021-Q1\",\"2021-Q2\",\"2021-Q3\",\"2021-Q4\",\"2022-Q1\",\"2022-Q2\",\"2022-Q3\",\"2022-Q4\",\"2023-Q1\",\"2023-Q2\"],\"xaxis\":\"x\",\"y\":[88.25155494125778,94.24671734623358,94.28703063810184,95.91108039622208,94.94932043307992,97.9612992398065,100.0,98.18590186592952,85.79820317899102,52.21723105275282,78.30568993319511,66.37871458189358,69.58074176457038,72.77700990555172,85.87882976272748,74.45289103893113,83.88044229440221,104.37111264685556,106.89357290946786,104.05436535360516,102.66067726330338,105.53443906933886],\"yaxis\":\"y\",\"type\":\"scatter\"},{\"hovertemplate\":\"Country code=SE\\u003cbr\\u003eTime period=%{x}\\u003cbr\\u003eNormalized passenger transport volume [%]=%{y}\\u003cextra\\u003e\\u003c\\u002fextra\\u003e\",\"legendgroup\":\"SE\",\"line\":{\"color\":\"#FFA15A\",\"dash\":\"solid\"},\"marker\":{\"symbol\":\"circle\"},\"mode\":\"lines\",\"name\":\"SE\",\"orientation\":\"v\",\"showlegend\":true,\"x\":[\"2018-Q1\",\"2018-Q2\",\"2018-Q3\",\"2018-Q4\",\"2019-Q1\",\"2019-Q2\",\"2019-Q3\",\"2019-Q4\",\"2020-Q1\",\"2020-Q2\",\"2020-Q3\",\"2020-Q4\",\"2021-Q1\",\"2021-Q2\",\"2021-Q3\",\"2021-Q4\",\"2022-Q1\",\"2022-Q2\",\"2022-Q3\",\"2022-Q4\",\"2023-Q1\",\"2023-Q2\"],\"xaxis\":\"x\",\"y\":[88.42927225754013,90.36401637202822,82.62503991407588,96.34241922842465,95.62686870446169,97.01297570321344,91.40903944962118,100.0,91.59772417196436,44.44831490028738,55.52410810183169,53.95657348544225,45.48608087317484,51.89845859096055,61.895846033266565,79.46529652529827,null,null,null,null,null,null],\"yaxis\":\"y\",\"type\":\"scatter\"},{\"hovertemplate\":\"Country code=SI\\u003cbr\\u003eTime period=%{x}\\u003cbr\\u003eNormalized passenger transport volume [%]=%{y}\\u003cextra\\u003e\\u003c\\u002fextra\\u003e\",\"legendgroup\":\"SI\",\"line\":{\"color\":\"#19d3f3\",\"dash\":\"solid\"},\"marker\":{\"symbol\":\"circle\"},\"mode\":\"lines\",\"name\":\"SI\",\"orientation\":\"v\",\"showlegend\":true,\"x\":[\"2018-Q1\",\"2018-Q2\",\"2018-Q3\",\"2018-Q4\",\"2019-Q1\",\"2019-Q2\",\"2019-Q3\",\"2019-Q4\",\"2020-Q1\",\"2020-Q2\",\"2020-Q3\",\"2020-Q4\",\"2021-Q1\",\"2021-Q2\",\"2021-Q3\",\"2021-Q4\",\"2022-Q1\",\"2022-Q2\",\"2022-Q3\",\"2022-Q4\",\"2023-Q1\",\"2023-Q2\"],\"xaxis\":\"x\",\"y\":[93.17086993482572,89.68546330405213,90.05383961462171,98.44148483989798,92.85916690280531,90.59223576083876,92.29243411731368,100.0,78.74752054406348,39.019552281099465,60.2436950977614,46.5287616888637,70.0198356474922,79.11589685463304,87.10682913006518,94.24766222725984,93.56758288466987,97.4497024652876,96.91130631907056,106.20572400113346,103.6270898271465,93.9926324737886],\"yaxis\":\"y\",\"type\":\"scatter\"},{\"hovertemplate\":\"Country code=SK\\u003cbr\\u003eTime period=%{x}\\u003cbr\\u003eNormalized passenger transport volume [%]=%{y}\\u003cextra\\u003e\\u003c\\u002fextra\\u003e\",\"legendgroup\":\"SK\",\"line\":{\"color\":\"#FF6692\",\"dash\":\"solid\"},\"marker\":{\"symbol\":\"circle\"},\"mode\":\"lines\",\"name\":\"SK\",\"orientation\":\"v\",\"showlegend\":true,\"x\":[\"2018-Q1\",\"2018-Q2\",\"2018-Q3\",\"2018-Q4\",\"2019-Q1\",\"2019-Q2\",\"2019-Q3\",\"2019-Q4\",\"2020-Q1\",\"2020-Q2\",\"2020-Q3\",\"2020-Q4\",\"2021-Q1\",\"2021-Q2\",\"2021-Q3\",\"2021-Q4\",\"2022-Q1\",\"2022-Q2\",\"2022-Q3\",\"2022-Q4\",\"2023-Q1\",\"2023-Q2\"],\"xaxis\":\"x\",\"y\":[86.71993192133132,93.92019667170952,95.4803328290469,94.22276853252647,93.80673222390318,96.70953101361572,100.0,97.52269288956128,77.16527987897126,37.52363842662633,72.54633131618759,44.70026475037822,30.994704992435704,53.90979576399395,72.72125567322239,61.55446293494705,64.6321860816944,85.96822995461422,84.63975037821483,86.30389561270802,81.07980332829047,87.3250756429652],\"yaxis\":\"y\",\"type\":\"scatter\"},{\"hovertemplate\":\"Country code=TR\\u003cbr\\u003eTime period=%{x}\\u003cbr\\u003eNormalized passenger transport volume [%]=%{y}\\u003cextra\\u003e\\u003c\\u002fextra\\u003e\",\"legendgroup\":\"TR\",\"line\":{\"color\":\"#B6E880\",\"dash\":\"solid\"},\"marker\":{\"symbol\":\"circle\"},\"mode\":\"lines\",\"name\":\"TR\",\"orientation\":\"v\",\"showlegend\":true,\"x\":[\"2018-Q1\",\"2018-Q2\",\"2018-Q3\",\"2018-Q4\",\"2019-Q1\",\"2019-Q2\",\"2019-Q3\",\"2019-Q4\",\"2020-Q1\",\"2020-Q2\",\"2020-Q3\",\"2020-Q4\",\"2021-Q1\",\"2021-Q2\",\"2021-Q3\",\"2021-Q4\",\"2022-Q1\",\"2022-Q2\",\"2022-Q3\",\"2022-Q4\",\"2023-Q1\",\"2023-Q2\"],\"xaxis\":\"x\",\"y\":[43.96826012726991,48.457628433959336,47.48564333385069,55.19944125407419,52.57255936675462,81.89313984168865,84.64224740027937,100.0,79.59413316777899,18.095219618190285,50.19594909203787,45.087692068912,42.05727145739562,43.80335247555487,76.78876299860313,101.27657923327642,98.11811268042835,117.2435200993326,109.9759428837498,132.77588080086915,115.44311656060842,122.56518702467794],\"yaxis\":\"y\",\"type\":\"scatter\"},{\"hovertemplate\":\"Country code=UK\\u003cbr\\u003eTime period=%{x}\\u003cbr\\u003eNormalized passenger transport volume [%]=%{y}\\u003cextra\\u003e\\u003c\\u002fextra\\u003e\",\"legendgroup\":\"UK\",\"line\":{\"color\":\"#FF97FF\",\"dash\":\"solid\"},\"marker\":{\"symbol\":\"circle\"},\"mode\":\"lines\",\"name\":\"UK\",\"orientation\":\"v\",\"showlegend\":true,\"x\":[\"2018-Q1\",\"2018-Q2\",\"2018-Q3\",\"2018-Q4\",\"2019-Q1\",\"2019-Q2\",\"2019-Q3\",\"2019-Q4\",\"2020-Q1\",\"2020-Q2\",\"2020-Q3\"],\"xaxis\":\"x\",\"y\":[92.46648799236792,92.96506966816924,94.26197431574585,97.55045574638122,96.02276933881345,95.14596787670204,97.3918065071572,100.0,84.93318751705479,7.666777368580258,29.09923192614984],\"yaxis\":\"y\",\"type\":\"scatter\"}],                        {\"template\":{\"data\":{\"histogram2dcontour\":[{\"type\":\"histogram2dcontour\",\"colorbar\":{\"outlinewidth\":0,\"ticks\":\"\"},\"colorscale\":[[0.0,\"#0d0887\"],[0.1111111111111111,\"#46039f\"],[0.2222222222222222,\"#7201a8\"],[0.3333333333333333,\"#9c179e\"],[0.4444444444444444,\"#bd3786\"],[0.5555555555555556,\"#d8576b\"],[0.6666666666666666,\"#ed7953\"],[0.7777777777777778,\"#fb9f3a\"],[0.8888888888888888,\"#fdca26\"],[1.0,\"#f0f921\"]]}],\"choropleth\":[{\"type\":\"choropleth\",\"colorbar\":{\"outlinewidth\":0,\"ticks\":\"\"}}],\"histogram2d\":[{\"type\":\"histogram2d\",\"colorbar\":{\"outlinewidth\":0,\"ticks\":\"\"},\"colorscale\":[[0.0,\"#0d0887\"],[0.1111111111111111,\"#46039f\"],[0.2222222222222222,\"#7201a8\"],[0.3333333333333333,\"#9c179e\"],[0.4444444444444444,\"#bd3786\"],[0.5555555555555556,\"#d8576b\"],[0.6666666666666666,\"#ed7953\"],[0.7777777777777778,\"#fb9f3a\"],[0.8888888888888888,\"#fdca26\"],[1.0,\"#f0f921\"]]}],\"heatmap\":[{\"type\":\"heatmap\",\"colorbar\":{\"outlinewidth\":0,\"ticks\":\"\"},\"colorscale\":[[0.0,\"#0d0887\"],[0.1111111111111111,\"#46039f\"],[0.2222222222222222,\"#7201a8\"],[0.3333333333333333,\"#9c179e\"],[0.4444444444444444,\"#bd3786\"],[0.5555555555555556,\"#d8576b\"],[0.6666666666666666,\"#ed7953\"],[0.7777777777777778,\"#fb9f3a\"],[0.8888888888888888,\"#fdca26\"],[1.0,\"#f0f921\"]]}],\"heatmapgl\":[{\"type\":\"heatmapgl\",\"colorbar\":{\"outlinewidth\":0,\"ticks\":\"\"},\"colorscale\":[[0.0,\"#0d0887\"],[0.1111111111111111,\"#46039f\"],[0.2222222222222222,\"#7201a8\"],[0.3333333333333333,\"#9c179e\"],[0.4444444444444444,\"#bd3786\"],[0.5555555555555556,\"#d8576b\"],[0.6666666666666666,\"#ed7953\"],[0.7777777777777778,\"#fb9f3a\"],[0.8888888888888888,\"#fdca26\"],[1.0,\"#f0f921\"]]}],\"contourcarpet\":[{\"type\":\"contourcarpet\",\"colorbar\":{\"outlinewidth\":0,\"ticks\":\"\"}}],\"contour\":[{\"type\":\"contour\",\"colorbar\":{\"outlinewidth\":0,\"ticks\":\"\"},\"colorscale\":[[0.0,\"#0d0887\"],[0.1111111111111111,\"#46039f\"],[0.2222222222222222,\"#7201a8\"],[0.3333333333333333,\"#9c179e\"],[0.4444444444444444,\"#bd3786\"],[0.5555555555555556,\"#d8576b\"],[0.6666666666666666,\"#ed7953\"],[0.7777777777777778,\"#fb9f3a\"],[0.8888888888888888,\"#fdca26\"],[1.0,\"#f0f921\"]]}],\"surface\":[{\"type\":\"surface\",\"colorbar\":{\"outlinewidth\":0,\"ticks\":\"\"},\"colorscale\":[[0.0,\"#0d0887\"],[0.1111111111111111,\"#46039f\"],[0.2222222222222222,\"#7201a8\"],[0.3333333333333333,\"#9c179e\"],[0.4444444444444444,\"#bd3786\"],[0.5555555555555556,\"#d8576b\"],[0.6666666666666666,\"#ed7953\"],[0.7777777777777778,\"#fb9f3a\"],[0.8888888888888888,\"#fdca26\"],[1.0,\"#f0f921\"]]}],\"mesh3d\":[{\"type\":\"mesh3d\",\"colorbar\":{\"outlinewidth\":0,\"ticks\":\"\"}}],\"scatter\":[{\"fillpattern\":{\"fillmode\":\"overlay\",\"size\":10,\"solidity\":0.2},\"type\":\"scatter\"}],\"parcoords\":[{\"type\":\"parcoords\",\"line\":{\"colorbar\":{\"outlinewidth\":0,\"ticks\":\"\"}}}],\"scatterpolargl\":[{\"type\":\"scatterpolargl\",\"marker\":{\"colorbar\":{\"outlinewidth\":0,\"ticks\":\"\"}}}],\"bar\":[{\"error_x\":{\"color\":\"#2a3f5f\"},\"error_y\":{\"color\":\"#2a3f5f\"},\"marker\":{\"line\":{\"color\":\"#E5ECF6\",\"width\":0.5},\"pattern\":{\"fillmode\":\"overlay\",\"size\":10,\"solidity\":0.2}},\"type\":\"bar\"}],\"scattergeo\":[{\"type\":\"scattergeo\",\"marker\":{\"colorbar\":{\"outlinewidth\":0,\"ticks\":\"\"}}}],\"scatterpolar\":[{\"type\":\"scatterpolar\",\"marker\":{\"colorbar\":{\"outlinewidth\":0,\"ticks\":\"\"}}}],\"histogram\":[{\"marker\":{\"pattern\":{\"fillmode\":\"overlay\",\"size\":10,\"solidity\":0.2}},\"type\":\"histogram\"}],\"scattergl\":[{\"type\":\"scattergl\",\"marker\":{\"colorbar\":{\"outlinewidth\":0,\"ticks\":\"\"}}}],\"scatter3d\":[{\"type\":\"scatter3d\",\"line\":{\"colorbar\":{\"outlinewidth\":0,\"ticks\":\"\"}},\"marker\":{\"colorbar\":{\"outlinewidth\":0,\"ticks\":\"\"}}}],\"scattermapbox\":[{\"type\":\"scattermapbox\",\"marker\":{\"colorbar\":{\"outlinewidth\":0,\"ticks\":\"\"}}}],\"scatterternary\":[{\"type\":\"scatterternary\",\"marker\":{\"colorbar\":{\"outlinewidth\":0,\"ticks\":\"\"}}}],\"scattercarpet\":[{\"type\":\"scattercarpet\",\"marker\":{\"colorbar\":{\"outlinewidth\":0,\"ticks\":\"\"}}}],\"carpet\":[{\"aaxis\":{\"endlinecolor\":\"#2a3f5f\",\"gridcolor\":\"white\",\"linecolor\":\"white\",\"minorgridcolor\":\"white\",\"startlinecolor\":\"#2a3f5f\"},\"baxis\":{\"endlinecolor\":\"#2a3f5f\",\"gridcolor\":\"white\",\"linecolor\":\"white\",\"minorgridcolor\":\"white\",\"startlinecolor\":\"#2a3f5f\"},\"type\":\"carpet\"}],\"table\":[{\"cells\":{\"fill\":{\"color\":\"#EBF0F8\"},\"line\":{\"color\":\"white\"}},\"header\":{\"fill\":{\"color\":\"#C8D4E3\"},\"line\":{\"color\":\"white\"}},\"type\":\"table\"}],\"barpolar\":[{\"marker\":{\"line\":{\"color\":\"#E5ECF6\",\"width\":0.5},\"pattern\":{\"fillmode\":\"overlay\",\"size\":10,\"solidity\":0.2}},\"type\":\"barpolar\"}],\"pie\":[{\"automargin\":true,\"type\":\"pie\"}]},\"layout\":{\"autotypenumbers\":\"strict\",\"colorway\":[\"#636efa\",\"#EF553B\",\"#00cc96\",\"#ab63fa\",\"#FFA15A\",\"#19d3f3\",\"#FF6692\",\"#B6E880\",\"#FF97FF\",\"#FECB52\"],\"font\":{\"color\":\"#2a3f5f\"},\"hovermode\":\"closest\",\"hoverlabel\":{\"align\":\"left\"},\"paper_bgcolor\":\"white\",\"plot_bgcolor\":\"#E5ECF6\",\"polar\":{\"bgcolor\":\"#E5ECF6\",\"angularaxis\":{\"gridcolor\":\"white\",\"linecolor\":\"white\",\"ticks\":\"\"},\"radialaxis\":{\"gridcolor\":\"white\",\"linecolor\":\"white\",\"ticks\":\"\"}},\"ternary\":{\"bgcolor\":\"#E5ECF6\",\"aaxis\":{\"gridcolor\":\"white\",\"linecolor\":\"white\",\"ticks\":\"\"},\"baxis\":{\"gridcolor\":\"white\",\"linecolor\":\"white\",\"ticks\":\"\"},\"caxis\":{\"gridcolor\":\"white\",\"linecolor\":\"white\",\"ticks\":\"\"}},\"coloraxis\":{\"colorbar\":{\"outlinewidth\":0,\"ticks\":\"\"}},\"colorscale\":{\"sequential\":[[0.0,\"#0d0887\"],[0.1111111111111111,\"#46039f\"],[0.2222222222222222,\"#7201a8\"],[0.3333333333333333,\"#9c179e\"],[0.4444444444444444,\"#bd3786\"],[0.5555555555555556,\"#d8576b\"],[0.6666666666666666,\"#ed7953\"],[0.7777777777777778,\"#fb9f3a\"],[0.8888888888888888,\"#fdca26\"],[1.0,\"#f0f921\"]],\"sequentialminus\":[[0.0,\"#0d0887\"],[0.1111111111111111,\"#46039f\"],[0.2222222222222222,\"#7201a8\"],[0.3333333333333333,\"#9c179e\"],[0.4444444444444444,\"#bd3786\"],[0.5555555555555556,\"#d8576b\"],[0.6666666666666666,\"#ed7953\"],[0.7777777777777778,\"#fb9f3a\"],[0.8888888888888888,\"#fdca26\"],[1.0,\"#f0f921\"]],\"diverging\":[[0,\"#8e0152\"],[0.1,\"#c51b7d\"],[0.2,\"#de77ae\"],[0.3,\"#f1b6da\"],[0.4,\"#fde0ef\"],[0.5,\"#f7f7f7\"],[0.6,\"#e6f5d0\"],[0.7,\"#b8e186\"],[0.8,\"#7fbc41\"],[0.9,\"#4d9221\"],[1,\"#276419\"]]},\"xaxis\":{\"gridcolor\":\"white\",\"linecolor\":\"white\",\"ticks\":\"\",\"title\":{\"standoff\":15},\"zerolinecolor\":\"white\",\"automargin\":true,\"zerolinewidth\":2},\"yaxis\":{\"gridcolor\":\"white\",\"linecolor\":\"white\",\"ticks\":\"\",\"title\":{\"standoff\":15},\"zerolinecolor\":\"white\",\"automargin\":true,\"zerolinewidth\":2},\"scene\":{\"xaxis\":{\"backgroundcolor\":\"#E5ECF6\",\"gridcolor\":\"white\",\"linecolor\":\"white\",\"showbackground\":true,\"ticks\":\"\",\"zerolinecolor\":\"white\",\"gridwidth\":2},\"yaxis\":{\"backgroundcolor\":\"#E5ECF6\",\"gridcolor\":\"white\",\"linecolor\":\"white\",\"showbackground\":true,\"ticks\":\"\",\"zerolinecolor\":\"white\",\"gridwidth\":2},\"zaxis\":{\"backgroundcolor\":\"#E5ECF6\",\"gridcolor\":\"white\",\"linecolor\":\"white\",\"showbackground\":true,\"ticks\":\"\",\"zerolinecolor\":\"white\",\"gridwidth\":2}},\"shapedefaults\":{\"line\":{\"color\":\"#2a3f5f\"}},\"annotationdefaults\":{\"arrowcolor\":\"#2a3f5f\",\"arrowhead\":0,\"arrowwidth\":1},\"geo\":{\"bgcolor\":\"white\",\"landcolor\":\"#E5ECF6\",\"subunitcolor\":\"white\",\"showland\":true,\"showlakes\":true,\"lakecolor\":\"white\"},\"title\":{\"x\":0.05},\"mapbox\":{\"style\":\"light\"}}},\"xaxis\":{\"anchor\":\"y\",\"domain\":[0.0,1.0],\"title\":{\"text\":\"Time period\"},\"tickangle\":30},\"yaxis\":{\"anchor\":\"x\",\"domain\":[0.0,1.0],\"title\":{\"text\":\"Normalized passenger transport volume [%]\"}},\"legend\":{\"title\":{\"text\":\"Country code\"},\"tracegroupgap\":0},\"title\":{\"text\":\"Rail passenger transport volume in Europe, normalized for highest quarter of 2019 per country\"}},                        {\"responsive\": true}                    ).then(function(){\n                            \nvar gd = document.getElementById('93546e3b-96b0-42c5-8176-3f0331ed6bb8');\nvar x = new MutationObserver(function (mutations, observer) {{\n        var display = window.getComputedStyle(gd).display;\n        if (!display || display === 'none') {{\n            console.log([gd, 'removed!']);\n            Plotly.purge(gd);\n            observer.disconnect();\n        }}\n}});\n\n// Listen for the removal of the full notebook cells\nvar notebookContainer = gd.closest('#notebook-container');\nif (notebookContainer) {{\n    x.observe(notebookContainer, {childList: true});\n}}\n\n// Listen for the clearing of the current output cell\nvar outputEl = gd.closest('.output');\nif (outputEl) {{\n    x.observe(outputEl, {childList: true});\n}}\n\n                        })                };                });            </script>        </div>"
     },
     "metadata": {},
     "output_type": "display_data"
    }
   ],
   "source": [
    "Q1_fig1a = px.line(df_passengers_avia, \n",
    "                   x='Time_period', \n",
    "                   y='Norm_2019', \n",
    "                   color='Geo',\n",
    "                   title='Aviation passenger transport volume in Europe, normalized for highest quarter of 2019 per country',\n",
    "                   labels={'Time_period':'Time period','Norm_2019':'Normalized passenger transport volume [%]','Geo':'Country code'})\n",
    "Q1_fig1b = px.line(df_passengers_mar, \n",
    "                   x='Time_period', \n",
    "                   y='Norm_2019', \n",
    "                   color='Geo',\n",
    "                   title='Maritime passenger transport volume in Europe, normalized for highest quarter of 2019 per country',\n",
    "                   labels={'Time_period':'Time period','Norm_2019':'Normalized passenger transport volume [%]','Geo':'Country code'})\n",
    "Q1_fig1b.update_xaxes(tickangle=30)\n",
    "Q1_fig1c = px.line(df_passengers_rail, \n",
    "                   x='Time_period', \n",
    "                   y='Norm_2019', \n",
    "                   color='Geo',\n",
    "                   title='Rail passenger transport volume in Europe, normalized for highest quarter of 2019 per country',\n",
    "                   labels={'Time_period':'Time period','Norm_2019':'Normalized passenger transport volume [%]','Geo':'Country code'})\n",
    "Q1_fig1c.update_xaxes(tickangle=30)\n",
    "Q1_fig1a.show()\n",
    "Q1_fig1b.show()\n",
    "Q1_fig1c.show()"
   ],
   "metadata": {
    "collapsed": false,
    "ExecuteTime": {
     "end_time": "2023-11-08T14:00:20.714541300Z",
     "start_time": "2023-11-08T14:00:20.496374800Z"
    }
   }
  },
  {
   "cell_type": "markdown",
   "source": [
    "From the normalized passenger transport graphs it can be deduced that the three transport modes differed significantly from each other in terms of general trends in European countries. While aviation and maritime transport saw significant peaks in every third quarter of a year (likely attributable to people preferring to go on vacations and travel by air or by water during summer), rail transport was more or less constant for most depicted countries. \n",
    "\n",
    "All three transport modes saw a significant dip in Q2 of 2020, when the first COVID-19 regulations were introduced, but it is clear that the most significantly regulated mode of transport was air travel - all European countries saw aviation passenger transport drop to below 10% of their respective 2019 norms. On the other hand, for other transport modes, these regulations varied from country to country in terms of severity, because of a much broader observed spread of normalized passenger transport volume readings for these countries. This is especially visible in rail travel, where some countries maintained over 50% of their 2019 norm in Q2 of 2020. Maritime passenger transport in most countries was subject to much less significant reductions in volume when comparing the graphs before and after the introduction of COVID-19 measures in Q2 of 2020, especially when compared to other means of transport. This is probably due to its much smaller absolute volume of passengers and a tendency of transport areas on ferries to be less cramped. Lastly, it can be observed that after the first introduction of COVID-19 regulations in europe, the rail transport patterns were climbing back up to the numbers before those regulations were introduced. However, the paces at which they were returning to their norms differed greatly from country to country, resulting in a much wider spread of each country's line depicting the normalized transport volume."
   ],
   "metadata": {
    "collapsed": false
   }
  },
  {
   "cell_type": "markdown",
   "source": [
    "**Bar graph of drop in normalized maritime passenger transport volume**\n",
    "\n",
    "The next part of this chapter focuses on the magnitude of drop in normalized maritime passenger transport volume. In order to perform this analysis, some additional data processing was required. For every country in the maritime passenger transport dataframe, the difference between normalized passenger transport volumes in Q2 of 2019 and in Q2 of 2020 was calculated. The intention of this action was to pick 3 top countries in terms of the drop in maritime passenger volume when the COVID-19 regulations were introduced in Europe. Then, for each of the three countries a separate line graph would be created, where the trends in all three listed means of travel would be compared for those countries. While the top country in terms of the drop in maritime passenger volume was Belgium, for each quarter after Q1 of 2020, the numbers of passengers transported through maritime means of transport in that country kept repeating 2000 or 4000, all the way until Q2 of 2023 when the database ends. This, together with the fact that there was no data provided on the passenger travel by rail in Belgium, led to the conclusion that this country needs to be disregarded in this analysis, with the top 3 countries being selected as those coming after Belgium.\n",
    "This is why, for clarity on the bar graph, the dataframe with the maritime passenger volume drop was split into three parts, one being Belgium, second being the top three countries coming after Belgium, and the third being the rest. The top three countries after Belgium were given a distinguishing blue color in the bar graph, as can be seen below."
   ],
   "metadata": {
    "collapsed": false
   }
  },
  {
   "cell_type": "code",
   "execution_count": 8,
   "outputs": [
    {
     "name": "stderr",
     "output_type": "stream",
     "text": [
      "C:\\Users\\Bepis\\AppData\\Local\\Temp\\ipykernel_20160\\4007129789.py:9: FutureWarning:\n",
      "\n",
      "The behavior of DataFrame concatenation with empty or all-NA entries is deprecated. In a future version, this will no longer exclude empty or all-NA columns when determining the result dtypes. To retain the old behavior, exclude the relevant entries before the concat operation.\n",
      "\n"
     ]
    },
    {
     "data": {
      "application/vnd.plotly.v1+json": {
       "data": [
        {
         "marker": {
          "color": [
           "lightslategray"
          ]
         },
         "name": "Rest",
         "showlegend": false,
         "x": [
          "BE"
         ],
         "y": [
          77.31958762886599
         ],
         "type": "bar"
        },
        {
         "marker": {
          "color": [
           "darkblue",
           "darkblue",
           "darkblue"
          ]
         },
         "name": "Selected 3",
         "showlegend": false,
         "x": [
          "LV",
          "FI",
          "NL"
         ],
         "y": [
          71.72619047619047,
          70.84858569051582,
          65.94090202177293
         ],
         "type": "bar"
        },
        {
         "marker": {
          "color": [
           "lightslategray",
           "lightslategray",
           "lightslategray",
           "lightslategray",
           "lightslategray",
           "lightslategray",
           "lightslategray",
           "lightslategray",
           "lightslategray",
           "lightslategray",
           "lightslategray",
           "lightslategray",
           "lightslategray",
           "lightslategray",
           "lightslategray",
           "lightslategray",
           "lightslategray",
           "lightslategray",
           "lightslategray"
          ]
         },
         "name": "Rest",
         "showlegend": false,
         "x": [
          "NO",
          "MT",
          "DE",
          "IE",
          "UK",
          "EE",
          "SE",
          "FR",
          "EU",
          "ES",
          "DK",
          "TR",
          "IT",
          "EL",
          "HR",
          "PL",
          "PT",
          "ME",
          "LT"
         ],
         "y": [
          65.51578947368421,
          62.90463692038495,
          62.14399787064146,
          61.19266055045871,
          60.94189915536217,
          58.92551892551892,
          57.536287609343454,
          54.49176251165683,
          47.03872791080468,
          46.39128461189288,
          46.319346422002646,
          46.09756097560975,
          45.8997377446036,
          36.26907857546636,
          32.32849384905242,
          30.41065482796892,
          27.428571428571423,
          16.666666666666668,
          8.849557522123902
         ],
         "type": "bar"
        }
       ],
       "layout": {
        "template": {
         "data": {
          "histogram2dcontour": [
           {
            "type": "histogram2dcontour",
            "colorbar": {
             "outlinewidth": 0,
             "ticks": ""
            },
            "colorscale": [
             [
              0.0,
              "#0d0887"
             ],
             [
              0.1111111111111111,
              "#46039f"
             ],
             [
              0.2222222222222222,
              "#7201a8"
             ],
             [
              0.3333333333333333,
              "#9c179e"
             ],
             [
              0.4444444444444444,
              "#bd3786"
             ],
             [
              0.5555555555555556,
              "#d8576b"
             ],
             [
              0.6666666666666666,
              "#ed7953"
             ],
             [
              0.7777777777777778,
              "#fb9f3a"
             ],
             [
              0.8888888888888888,
              "#fdca26"
             ],
             [
              1.0,
              "#f0f921"
             ]
            ]
           }
          ],
          "choropleth": [
           {
            "type": "choropleth",
            "colorbar": {
             "outlinewidth": 0,
             "ticks": ""
            }
           }
          ],
          "histogram2d": [
           {
            "type": "histogram2d",
            "colorbar": {
             "outlinewidth": 0,
             "ticks": ""
            },
            "colorscale": [
             [
              0.0,
              "#0d0887"
             ],
             [
              0.1111111111111111,
              "#46039f"
             ],
             [
              0.2222222222222222,
              "#7201a8"
             ],
             [
              0.3333333333333333,
              "#9c179e"
             ],
             [
              0.4444444444444444,
              "#bd3786"
             ],
             [
              0.5555555555555556,
              "#d8576b"
             ],
             [
              0.6666666666666666,
              "#ed7953"
             ],
             [
              0.7777777777777778,
              "#fb9f3a"
             ],
             [
              0.8888888888888888,
              "#fdca26"
             ],
             [
              1.0,
              "#f0f921"
             ]
            ]
           }
          ],
          "heatmap": [
           {
            "type": "heatmap",
            "colorbar": {
             "outlinewidth": 0,
             "ticks": ""
            },
            "colorscale": [
             [
              0.0,
              "#0d0887"
             ],
             [
              0.1111111111111111,
              "#46039f"
             ],
             [
              0.2222222222222222,
              "#7201a8"
             ],
             [
              0.3333333333333333,
              "#9c179e"
             ],
             [
              0.4444444444444444,
              "#bd3786"
             ],
             [
              0.5555555555555556,
              "#d8576b"
             ],
             [
              0.6666666666666666,
              "#ed7953"
             ],
             [
              0.7777777777777778,
              "#fb9f3a"
             ],
             [
              0.8888888888888888,
              "#fdca26"
             ],
             [
              1.0,
              "#f0f921"
             ]
            ]
           }
          ],
          "heatmapgl": [
           {
            "type": "heatmapgl",
            "colorbar": {
             "outlinewidth": 0,
             "ticks": ""
            },
            "colorscale": [
             [
              0.0,
              "#0d0887"
             ],
             [
              0.1111111111111111,
              "#46039f"
             ],
             [
              0.2222222222222222,
              "#7201a8"
             ],
             [
              0.3333333333333333,
              "#9c179e"
             ],
             [
              0.4444444444444444,
              "#bd3786"
             ],
             [
              0.5555555555555556,
              "#d8576b"
             ],
             [
              0.6666666666666666,
              "#ed7953"
             ],
             [
              0.7777777777777778,
              "#fb9f3a"
             ],
             [
              0.8888888888888888,
              "#fdca26"
             ],
             [
              1.0,
              "#f0f921"
             ]
            ]
           }
          ],
          "contourcarpet": [
           {
            "type": "contourcarpet",
            "colorbar": {
             "outlinewidth": 0,
             "ticks": ""
            }
           }
          ],
          "contour": [
           {
            "type": "contour",
            "colorbar": {
             "outlinewidth": 0,
             "ticks": ""
            },
            "colorscale": [
             [
              0.0,
              "#0d0887"
             ],
             [
              0.1111111111111111,
              "#46039f"
             ],
             [
              0.2222222222222222,
              "#7201a8"
             ],
             [
              0.3333333333333333,
              "#9c179e"
             ],
             [
              0.4444444444444444,
              "#bd3786"
             ],
             [
              0.5555555555555556,
              "#d8576b"
             ],
             [
              0.6666666666666666,
              "#ed7953"
             ],
             [
              0.7777777777777778,
              "#fb9f3a"
             ],
             [
              0.8888888888888888,
              "#fdca26"
             ],
             [
              1.0,
              "#f0f921"
             ]
            ]
           }
          ],
          "surface": [
           {
            "type": "surface",
            "colorbar": {
             "outlinewidth": 0,
             "ticks": ""
            },
            "colorscale": [
             [
              0.0,
              "#0d0887"
             ],
             [
              0.1111111111111111,
              "#46039f"
             ],
             [
              0.2222222222222222,
              "#7201a8"
             ],
             [
              0.3333333333333333,
              "#9c179e"
             ],
             [
              0.4444444444444444,
              "#bd3786"
             ],
             [
              0.5555555555555556,
              "#d8576b"
             ],
             [
              0.6666666666666666,
              "#ed7953"
             ],
             [
              0.7777777777777778,
              "#fb9f3a"
             ],
             [
              0.8888888888888888,
              "#fdca26"
             ],
             [
              1.0,
              "#f0f921"
             ]
            ]
           }
          ],
          "mesh3d": [
           {
            "type": "mesh3d",
            "colorbar": {
             "outlinewidth": 0,
             "ticks": ""
            }
           }
          ],
          "scatter": [
           {
            "fillpattern": {
             "fillmode": "overlay",
             "size": 10,
             "solidity": 0.2
            },
            "type": "scatter"
           }
          ],
          "parcoords": [
           {
            "type": "parcoords",
            "line": {
             "colorbar": {
              "outlinewidth": 0,
              "ticks": ""
             }
            }
           }
          ],
          "scatterpolargl": [
           {
            "type": "scatterpolargl",
            "marker": {
             "colorbar": {
              "outlinewidth": 0,
              "ticks": ""
             }
            }
           }
          ],
          "bar": [
           {
            "error_x": {
             "color": "#2a3f5f"
            },
            "error_y": {
             "color": "#2a3f5f"
            },
            "marker": {
             "line": {
              "color": "#E5ECF6",
              "width": 0.5
             },
             "pattern": {
              "fillmode": "overlay",
              "size": 10,
              "solidity": 0.2
             }
            },
            "type": "bar"
           }
          ],
          "scattergeo": [
           {
            "type": "scattergeo",
            "marker": {
             "colorbar": {
              "outlinewidth": 0,
              "ticks": ""
             }
            }
           }
          ],
          "scatterpolar": [
           {
            "type": "scatterpolar",
            "marker": {
             "colorbar": {
              "outlinewidth": 0,
              "ticks": ""
             }
            }
           }
          ],
          "histogram": [
           {
            "marker": {
             "pattern": {
              "fillmode": "overlay",
              "size": 10,
              "solidity": 0.2
             }
            },
            "type": "histogram"
           }
          ],
          "scattergl": [
           {
            "type": "scattergl",
            "marker": {
             "colorbar": {
              "outlinewidth": 0,
              "ticks": ""
             }
            }
           }
          ],
          "scatter3d": [
           {
            "type": "scatter3d",
            "line": {
             "colorbar": {
              "outlinewidth": 0,
              "ticks": ""
             }
            },
            "marker": {
             "colorbar": {
              "outlinewidth": 0,
              "ticks": ""
             }
            }
           }
          ],
          "scattermapbox": [
           {
            "type": "scattermapbox",
            "marker": {
             "colorbar": {
              "outlinewidth": 0,
              "ticks": ""
             }
            }
           }
          ],
          "scatterternary": [
           {
            "type": "scatterternary",
            "marker": {
             "colorbar": {
              "outlinewidth": 0,
              "ticks": ""
             }
            }
           }
          ],
          "scattercarpet": [
           {
            "type": "scattercarpet",
            "marker": {
             "colorbar": {
              "outlinewidth": 0,
              "ticks": ""
             }
            }
           }
          ],
          "carpet": [
           {
            "aaxis": {
             "endlinecolor": "#2a3f5f",
             "gridcolor": "white",
             "linecolor": "white",
             "minorgridcolor": "white",
             "startlinecolor": "#2a3f5f"
            },
            "baxis": {
             "endlinecolor": "#2a3f5f",
             "gridcolor": "white",
             "linecolor": "white",
             "minorgridcolor": "white",
             "startlinecolor": "#2a3f5f"
            },
            "type": "carpet"
           }
          ],
          "table": [
           {
            "cells": {
             "fill": {
              "color": "#EBF0F8"
             },
             "line": {
              "color": "white"
             }
            },
            "header": {
             "fill": {
              "color": "#C8D4E3"
             },
             "line": {
              "color": "white"
             }
            },
            "type": "table"
           }
          ],
          "barpolar": [
           {
            "marker": {
             "line": {
              "color": "#E5ECF6",
              "width": 0.5
             },
             "pattern": {
              "fillmode": "overlay",
              "size": 10,
              "solidity": 0.2
             }
            },
            "type": "barpolar"
           }
          ],
          "pie": [
           {
            "automargin": true,
            "type": "pie"
           }
          ]
         },
         "layout": {
          "autotypenumbers": "strict",
          "colorway": [
           "#636efa",
           "#EF553B",
           "#00cc96",
           "#ab63fa",
           "#FFA15A",
           "#19d3f3",
           "#FF6692",
           "#B6E880",
           "#FF97FF",
           "#FECB52"
          ],
          "font": {
           "color": "#2a3f5f"
          },
          "hovermode": "closest",
          "hoverlabel": {
           "align": "left"
          },
          "paper_bgcolor": "white",
          "plot_bgcolor": "#E5ECF6",
          "polar": {
           "bgcolor": "#E5ECF6",
           "angularaxis": {
            "gridcolor": "white",
            "linecolor": "white",
            "ticks": ""
           },
           "radialaxis": {
            "gridcolor": "white",
            "linecolor": "white",
            "ticks": ""
           }
          },
          "ternary": {
           "bgcolor": "#E5ECF6",
           "aaxis": {
            "gridcolor": "white",
            "linecolor": "white",
            "ticks": ""
           },
           "baxis": {
            "gridcolor": "white",
            "linecolor": "white",
            "ticks": ""
           },
           "caxis": {
            "gridcolor": "white",
            "linecolor": "white",
            "ticks": ""
           }
          },
          "coloraxis": {
           "colorbar": {
            "outlinewidth": 0,
            "ticks": ""
           }
          },
          "colorscale": {
           "sequential": [
            [
             0.0,
             "#0d0887"
            ],
            [
             0.1111111111111111,
             "#46039f"
            ],
            [
             0.2222222222222222,
             "#7201a8"
            ],
            [
             0.3333333333333333,
             "#9c179e"
            ],
            [
             0.4444444444444444,
             "#bd3786"
            ],
            [
             0.5555555555555556,
             "#d8576b"
            ],
            [
             0.6666666666666666,
             "#ed7953"
            ],
            [
             0.7777777777777778,
             "#fb9f3a"
            ],
            [
             0.8888888888888888,
             "#fdca26"
            ],
            [
             1.0,
             "#f0f921"
            ]
           ],
           "sequentialminus": [
            [
             0.0,
             "#0d0887"
            ],
            [
             0.1111111111111111,
             "#46039f"
            ],
            [
             0.2222222222222222,
             "#7201a8"
            ],
            [
             0.3333333333333333,
             "#9c179e"
            ],
            [
             0.4444444444444444,
             "#bd3786"
            ],
            [
             0.5555555555555556,
             "#d8576b"
            ],
            [
             0.6666666666666666,
             "#ed7953"
            ],
            [
             0.7777777777777778,
             "#fb9f3a"
            ],
            [
             0.8888888888888888,
             "#fdca26"
            ],
            [
             1.0,
             "#f0f921"
            ]
           ],
           "diverging": [
            [
             0,
             "#8e0152"
            ],
            [
             0.1,
             "#c51b7d"
            ],
            [
             0.2,
             "#de77ae"
            ],
            [
             0.3,
             "#f1b6da"
            ],
            [
             0.4,
             "#fde0ef"
            ],
            [
             0.5,
             "#f7f7f7"
            ],
            [
             0.6,
             "#e6f5d0"
            ],
            [
             0.7,
             "#b8e186"
            ],
            [
             0.8,
             "#7fbc41"
            ],
            [
             0.9,
             "#4d9221"
            ],
            [
             1,
             "#276419"
            ]
           ]
          },
          "xaxis": {
           "gridcolor": "white",
           "linecolor": "white",
           "ticks": "",
           "title": {
            "standoff": 15
           },
           "zerolinecolor": "white",
           "automargin": true,
           "zerolinewidth": 2
          },
          "yaxis": {
           "gridcolor": "white",
           "linecolor": "white",
           "ticks": "",
           "title": {
            "standoff": 15
           },
           "zerolinecolor": "white",
           "automargin": true,
           "zerolinewidth": 2
          },
          "scene": {
           "xaxis": {
            "backgroundcolor": "#E5ECF6",
            "gridcolor": "white",
            "linecolor": "white",
            "showbackground": true,
            "ticks": "",
            "zerolinecolor": "white",
            "gridwidth": 2
           },
           "yaxis": {
            "backgroundcolor": "#E5ECF6",
            "gridcolor": "white",
            "linecolor": "white",
            "showbackground": true,
            "ticks": "",
            "zerolinecolor": "white",
            "gridwidth": 2
           },
           "zaxis": {
            "backgroundcolor": "#E5ECF6",
            "gridcolor": "white",
            "linecolor": "white",
            "showbackground": true,
            "ticks": "",
            "zerolinecolor": "white",
            "gridwidth": 2
           }
          },
          "shapedefaults": {
           "line": {
            "color": "#2a3f5f"
           }
          },
          "annotationdefaults": {
           "arrowcolor": "#2a3f5f",
           "arrowhead": 0,
           "arrowwidth": 1
          },
          "geo": {
           "bgcolor": "white",
           "landcolor": "#E5ECF6",
           "subunitcolor": "white",
           "showland": true,
           "showlakes": true,
           "lakecolor": "white"
          },
          "title": {
           "x": 0.05
          },
          "mapbox": {
           "style": "light"
          }
         }
        },
        "title": {
         "text": "Bar chart of percentage point drop in normalized maritime passenger volume (Q2 of 2019 vs Q2 of 2020)"
        },
        "xaxis": {
         "title": {
          "text": "Country code"
         }
        },
        "yaxis": {
         "title": {
          "text": "Drop in normalized passenger transport volume"
         }
        }
       },
       "config": {
        "plotlyServerURL": "https://plot.ly"
       }
      },
      "text/html": "<div>                            <div id=\"db89af0c-a393-4107-a624-c12fc59930ec\" class=\"plotly-graph-div\" style=\"height:525px; width:100%;\"></div>            <script type=\"text/javascript\">                require([\"plotly\"], function(Plotly) {                    window.PLOTLYENV=window.PLOTLYENV || {};                                    if (document.getElementById(\"db89af0c-a393-4107-a624-c12fc59930ec\")) {                    Plotly.newPlot(                        \"db89af0c-a393-4107-a624-c12fc59930ec\",                        [{\"marker\":{\"color\":[\"lightslategray\"]},\"name\":\"Rest\",\"showlegend\":false,\"x\":[\"BE\"],\"y\":[77.31958762886599],\"type\":\"bar\"},{\"marker\":{\"color\":[\"darkblue\",\"darkblue\",\"darkblue\"]},\"name\":\"Selected 3\",\"showlegend\":false,\"x\":[\"LV\",\"FI\",\"NL\"],\"y\":[71.72619047619047,70.84858569051582,65.94090202177293],\"type\":\"bar\"},{\"marker\":{\"color\":[\"lightslategray\",\"lightslategray\",\"lightslategray\",\"lightslategray\",\"lightslategray\",\"lightslategray\",\"lightslategray\",\"lightslategray\",\"lightslategray\",\"lightslategray\",\"lightslategray\",\"lightslategray\",\"lightslategray\",\"lightslategray\",\"lightslategray\",\"lightslategray\",\"lightslategray\",\"lightslategray\",\"lightslategray\"]},\"name\":\"Rest\",\"showlegend\":false,\"x\":[\"NO\",\"MT\",\"DE\",\"IE\",\"UK\",\"EE\",\"SE\",\"FR\",\"EU\",\"ES\",\"DK\",\"TR\",\"IT\",\"EL\",\"HR\",\"PL\",\"PT\",\"ME\",\"LT\"],\"y\":[65.51578947368421,62.90463692038495,62.14399787064146,61.19266055045871,60.94189915536217,58.92551892551892,57.536287609343454,54.49176251165683,47.03872791080468,46.39128461189288,46.319346422002646,46.09756097560975,45.8997377446036,36.26907857546636,32.32849384905242,30.41065482796892,27.428571428571423,16.666666666666668,8.849557522123902],\"type\":\"bar\"}],                        {\"template\":{\"data\":{\"histogram2dcontour\":[{\"type\":\"histogram2dcontour\",\"colorbar\":{\"outlinewidth\":0,\"ticks\":\"\"},\"colorscale\":[[0.0,\"#0d0887\"],[0.1111111111111111,\"#46039f\"],[0.2222222222222222,\"#7201a8\"],[0.3333333333333333,\"#9c179e\"],[0.4444444444444444,\"#bd3786\"],[0.5555555555555556,\"#d8576b\"],[0.6666666666666666,\"#ed7953\"],[0.7777777777777778,\"#fb9f3a\"],[0.8888888888888888,\"#fdca26\"],[1.0,\"#f0f921\"]]}],\"choropleth\":[{\"type\":\"choropleth\",\"colorbar\":{\"outlinewidth\":0,\"ticks\":\"\"}}],\"histogram2d\":[{\"type\":\"histogram2d\",\"colorbar\":{\"outlinewidth\":0,\"ticks\":\"\"},\"colorscale\":[[0.0,\"#0d0887\"],[0.1111111111111111,\"#46039f\"],[0.2222222222222222,\"#7201a8\"],[0.3333333333333333,\"#9c179e\"],[0.4444444444444444,\"#bd3786\"],[0.5555555555555556,\"#d8576b\"],[0.6666666666666666,\"#ed7953\"],[0.7777777777777778,\"#fb9f3a\"],[0.8888888888888888,\"#fdca26\"],[1.0,\"#f0f921\"]]}],\"heatmap\":[{\"type\":\"heatmap\",\"colorbar\":{\"outlinewidth\":0,\"ticks\":\"\"},\"colorscale\":[[0.0,\"#0d0887\"],[0.1111111111111111,\"#46039f\"],[0.2222222222222222,\"#7201a8\"],[0.3333333333333333,\"#9c179e\"],[0.4444444444444444,\"#bd3786\"],[0.5555555555555556,\"#d8576b\"],[0.6666666666666666,\"#ed7953\"],[0.7777777777777778,\"#fb9f3a\"],[0.8888888888888888,\"#fdca26\"],[1.0,\"#f0f921\"]]}],\"heatmapgl\":[{\"type\":\"heatmapgl\",\"colorbar\":{\"outlinewidth\":0,\"ticks\":\"\"},\"colorscale\":[[0.0,\"#0d0887\"],[0.1111111111111111,\"#46039f\"],[0.2222222222222222,\"#7201a8\"],[0.3333333333333333,\"#9c179e\"],[0.4444444444444444,\"#bd3786\"],[0.5555555555555556,\"#d8576b\"],[0.6666666666666666,\"#ed7953\"],[0.7777777777777778,\"#fb9f3a\"],[0.8888888888888888,\"#fdca26\"],[1.0,\"#f0f921\"]]}],\"contourcarpet\":[{\"type\":\"contourcarpet\",\"colorbar\":{\"outlinewidth\":0,\"ticks\":\"\"}}],\"contour\":[{\"type\":\"contour\",\"colorbar\":{\"outlinewidth\":0,\"ticks\":\"\"},\"colorscale\":[[0.0,\"#0d0887\"],[0.1111111111111111,\"#46039f\"],[0.2222222222222222,\"#7201a8\"],[0.3333333333333333,\"#9c179e\"],[0.4444444444444444,\"#bd3786\"],[0.5555555555555556,\"#d8576b\"],[0.6666666666666666,\"#ed7953\"],[0.7777777777777778,\"#fb9f3a\"],[0.8888888888888888,\"#fdca26\"],[1.0,\"#f0f921\"]]}],\"surface\":[{\"type\":\"surface\",\"colorbar\":{\"outlinewidth\":0,\"ticks\":\"\"},\"colorscale\":[[0.0,\"#0d0887\"],[0.1111111111111111,\"#46039f\"],[0.2222222222222222,\"#7201a8\"],[0.3333333333333333,\"#9c179e\"],[0.4444444444444444,\"#bd3786\"],[0.5555555555555556,\"#d8576b\"],[0.6666666666666666,\"#ed7953\"],[0.7777777777777778,\"#fb9f3a\"],[0.8888888888888888,\"#fdca26\"],[1.0,\"#f0f921\"]]}],\"mesh3d\":[{\"type\":\"mesh3d\",\"colorbar\":{\"outlinewidth\":0,\"ticks\":\"\"}}],\"scatter\":[{\"fillpattern\":{\"fillmode\":\"overlay\",\"size\":10,\"solidity\":0.2},\"type\":\"scatter\"}],\"parcoords\":[{\"type\":\"parcoords\",\"line\":{\"colorbar\":{\"outlinewidth\":0,\"ticks\":\"\"}}}],\"scatterpolargl\":[{\"type\":\"scatterpolargl\",\"marker\":{\"colorbar\":{\"outlinewidth\":0,\"ticks\":\"\"}}}],\"bar\":[{\"error_x\":{\"color\":\"#2a3f5f\"},\"error_y\":{\"color\":\"#2a3f5f\"},\"marker\":{\"line\":{\"color\":\"#E5ECF6\",\"width\":0.5},\"pattern\":{\"fillmode\":\"overlay\",\"size\":10,\"solidity\":0.2}},\"type\":\"bar\"}],\"scattergeo\":[{\"type\":\"scattergeo\",\"marker\":{\"colorbar\":{\"outlinewidth\":0,\"ticks\":\"\"}}}],\"scatterpolar\":[{\"type\":\"scatterpolar\",\"marker\":{\"colorbar\":{\"outlinewidth\":0,\"ticks\":\"\"}}}],\"histogram\":[{\"marker\":{\"pattern\":{\"fillmode\":\"overlay\",\"size\":10,\"solidity\":0.2}},\"type\":\"histogram\"}],\"scattergl\":[{\"type\":\"scattergl\",\"marker\":{\"colorbar\":{\"outlinewidth\":0,\"ticks\":\"\"}}}],\"scatter3d\":[{\"type\":\"scatter3d\",\"line\":{\"colorbar\":{\"outlinewidth\":0,\"ticks\":\"\"}},\"marker\":{\"colorbar\":{\"outlinewidth\":0,\"ticks\":\"\"}}}],\"scattermapbox\":[{\"type\":\"scattermapbox\",\"marker\":{\"colorbar\":{\"outlinewidth\":0,\"ticks\":\"\"}}}],\"scatterternary\":[{\"type\":\"scatterternary\",\"marker\":{\"colorbar\":{\"outlinewidth\":0,\"ticks\":\"\"}}}],\"scattercarpet\":[{\"type\":\"scattercarpet\",\"marker\":{\"colorbar\":{\"outlinewidth\":0,\"ticks\":\"\"}}}],\"carpet\":[{\"aaxis\":{\"endlinecolor\":\"#2a3f5f\",\"gridcolor\":\"white\",\"linecolor\":\"white\",\"minorgridcolor\":\"white\",\"startlinecolor\":\"#2a3f5f\"},\"baxis\":{\"endlinecolor\":\"#2a3f5f\",\"gridcolor\":\"white\",\"linecolor\":\"white\",\"minorgridcolor\":\"white\",\"startlinecolor\":\"#2a3f5f\"},\"type\":\"carpet\"}],\"table\":[{\"cells\":{\"fill\":{\"color\":\"#EBF0F8\"},\"line\":{\"color\":\"white\"}},\"header\":{\"fill\":{\"color\":\"#C8D4E3\"},\"line\":{\"color\":\"white\"}},\"type\":\"table\"}],\"barpolar\":[{\"marker\":{\"line\":{\"color\":\"#E5ECF6\",\"width\":0.5},\"pattern\":{\"fillmode\":\"overlay\",\"size\":10,\"solidity\":0.2}},\"type\":\"barpolar\"}],\"pie\":[{\"automargin\":true,\"type\":\"pie\"}]},\"layout\":{\"autotypenumbers\":\"strict\",\"colorway\":[\"#636efa\",\"#EF553B\",\"#00cc96\",\"#ab63fa\",\"#FFA15A\",\"#19d3f3\",\"#FF6692\",\"#B6E880\",\"#FF97FF\",\"#FECB52\"],\"font\":{\"color\":\"#2a3f5f\"},\"hovermode\":\"closest\",\"hoverlabel\":{\"align\":\"left\"},\"paper_bgcolor\":\"white\",\"plot_bgcolor\":\"#E5ECF6\",\"polar\":{\"bgcolor\":\"#E5ECF6\",\"angularaxis\":{\"gridcolor\":\"white\",\"linecolor\":\"white\",\"ticks\":\"\"},\"radialaxis\":{\"gridcolor\":\"white\",\"linecolor\":\"white\",\"ticks\":\"\"}},\"ternary\":{\"bgcolor\":\"#E5ECF6\",\"aaxis\":{\"gridcolor\":\"white\",\"linecolor\":\"white\",\"ticks\":\"\"},\"baxis\":{\"gridcolor\":\"white\",\"linecolor\":\"white\",\"ticks\":\"\"},\"caxis\":{\"gridcolor\":\"white\",\"linecolor\":\"white\",\"ticks\":\"\"}},\"coloraxis\":{\"colorbar\":{\"outlinewidth\":0,\"ticks\":\"\"}},\"colorscale\":{\"sequential\":[[0.0,\"#0d0887\"],[0.1111111111111111,\"#46039f\"],[0.2222222222222222,\"#7201a8\"],[0.3333333333333333,\"#9c179e\"],[0.4444444444444444,\"#bd3786\"],[0.5555555555555556,\"#d8576b\"],[0.6666666666666666,\"#ed7953\"],[0.7777777777777778,\"#fb9f3a\"],[0.8888888888888888,\"#fdca26\"],[1.0,\"#f0f921\"]],\"sequentialminus\":[[0.0,\"#0d0887\"],[0.1111111111111111,\"#46039f\"],[0.2222222222222222,\"#7201a8\"],[0.3333333333333333,\"#9c179e\"],[0.4444444444444444,\"#bd3786\"],[0.5555555555555556,\"#d8576b\"],[0.6666666666666666,\"#ed7953\"],[0.7777777777777778,\"#fb9f3a\"],[0.8888888888888888,\"#fdca26\"],[1.0,\"#f0f921\"]],\"diverging\":[[0,\"#8e0152\"],[0.1,\"#c51b7d\"],[0.2,\"#de77ae\"],[0.3,\"#f1b6da\"],[0.4,\"#fde0ef\"],[0.5,\"#f7f7f7\"],[0.6,\"#e6f5d0\"],[0.7,\"#b8e186\"],[0.8,\"#7fbc41\"],[0.9,\"#4d9221\"],[1,\"#276419\"]]},\"xaxis\":{\"gridcolor\":\"white\",\"linecolor\":\"white\",\"ticks\":\"\",\"title\":{\"standoff\":15},\"zerolinecolor\":\"white\",\"automargin\":true,\"zerolinewidth\":2},\"yaxis\":{\"gridcolor\":\"white\",\"linecolor\":\"white\",\"ticks\":\"\",\"title\":{\"standoff\":15},\"zerolinecolor\":\"white\",\"automargin\":true,\"zerolinewidth\":2},\"scene\":{\"xaxis\":{\"backgroundcolor\":\"#E5ECF6\",\"gridcolor\":\"white\",\"linecolor\":\"white\",\"showbackground\":true,\"ticks\":\"\",\"zerolinecolor\":\"white\",\"gridwidth\":2},\"yaxis\":{\"backgroundcolor\":\"#E5ECF6\",\"gridcolor\":\"white\",\"linecolor\":\"white\",\"showbackground\":true,\"ticks\":\"\",\"zerolinecolor\":\"white\",\"gridwidth\":2},\"zaxis\":{\"backgroundcolor\":\"#E5ECF6\",\"gridcolor\":\"white\",\"linecolor\":\"white\",\"showbackground\":true,\"ticks\":\"\",\"zerolinecolor\":\"white\",\"gridwidth\":2}},\"shapedefaults\":{\"line\":{\"color\":\"#2a3f5f\"}},\"annotationdefaults\":{\"arrowcolor\":\"#2a3f5f\",\"arrowhead\":0,\"arrowwidth\":1},\"geo\":{\"bgcolor\":\"white\",\"landcolor\":\"#E5ECF6\",\"subunitcolor\":\"white\",\"showland\":true,\"showlakes\":true,\"lakecolor\":\"white\"},\"title\":{\"x\":0.05},\"mapbox\":{\"style\":\"light\"}}},\"title\":{\"text\":\"Bar chart of percentage point drop in normalized maritime passenger volume (Q2 of 2019 vs Q2 of 2020)\"},\"xaxis\":{\"title\":{\"text\":\"Country code\"}},\"yaxis\":{\"title\":{\"text\":\"Drop in normalized passenger transport volume\"}}},                        {\"responsive\": true}                    ).then(function(){\n                            \nvar gd = document.getElementById('db89af0c-a393-4107-a624-c12fc59930ec');\nvar x = new MutationObserver(function (mutations, observer) {{\n        var display = window.getComputedStyle(gd).display;\n        if (!display || display === 'none') {{\n            console.log([gd, 'removed!']);\n            Plotly.purge(gd);\n            observer.disconnect();\n        }}\n}});\n\n// Listen for the removal of the full notebook cells\nvar notebookContainer = gd.closest('#notebook-container');\nif (notebookContainer) {{\n    x.observe(notebookContainer, {childList: true});\n}}\n\n// Listen for the clearing of the current output cell\nvar outputEl = gd.closest('.output');\nif (outputEl) {{\n    x.observe(outputEl, {childList: true});\n}}\n\n                        })                };                });            </script>        </div>"
     },
     "metadata": {},
     "output_type": "display_data"
    }
   ],
   "source": [
    "mar_countries = list(df_passengers_mar['Geo'].unique())\n",
    "mar_per_diff = pd.DataFrame(columns=['Geo','Passenger_drop'])\n",
    "diff_index=0\n",
    "for country in mar_countries:\n",
    "    per_mq1 = df_passengers_mar[(df_passengers_mar['Geo'] == country) &\n",
    "                                 (df_passengers_mar['Time_period'] == '2019-Q2')]['Norm_2019'].to_numpy()[0]\n",
    "    per_mq2 = df_passengers_mar[(df_passengers_mar['Geo'] == country) &\n",
    "                                 (df_passengers_mar['Time_period'] == '2020-Q2')]['Norm_2019'].to_numpy()[0]\n",
    "    mar_per_diff = pd.concat([mar_per_diff,pd.DataFrame({'Geo':country,'Passenger_drop':per_mq1-per_mq2},index=[diff_index])])\n",
    "    diff_index += 1\n",
    "# print(mar_per_diff)\n",
    "mar_per_diff = mar_per_diff.sort_values(by='Passenger_drop',ascending=False)\n",
    "mar_per_diff_rest1 = mar_per_diff.iloc[:1,:]\n",
    "mar_per_diff_top = mar_per_diff.iloc[1:4,:]\n",
    "mar_per_diff_rest2 = mar_per_diff.iloc[4:,:]\n",
    "\n",
    "Q1_bardata = [go.Bar(x=mar_per_diff_rest1['Geo'],y=mar_per_diff_rest1['Passenger_drop'], name='Rest', marker_color=['lightslategray',]*len(mar_per_diff_rest1), showlegend=False),\n",
    "              go.Bar(x=mar_per_diff_top['Geo'],y=mar_per_diff_top['Passenger_drop'], name='Selected 3', marker_color=['darkblue',]*3, showlegend=False),\n",
    "              go.Bar(x=mar_per_diff_rest2['Geo'],y=mar_per_diff_rest2['Passenger_drop'], name='Rest', marker_color=['lightslategray',]*len(mar_per_diff_rest2), showlegend=False)]\n",
    "\n",
    "Q1_fig2 = go.Figure(data = Q1_bardata)\n",
    "Q1_fig2.update_layout(\n",
    "    title='Bar chart of percentage point drop in normalized maritime passenger volume (Q2 of 2019 vs Q2 of 2020)',\n",
    "    xaxis_title='Country code',\n",
    "    yaxis_title='Drop in normalized passenger transport volume')\n",
    "Q1_fig2.show()"
   ],
   "metadata": {
    "collapsed": false,
    "ExecuteTime": {
     "end_time": "2023-11-08T14:05:11.553175300Z",
     "start_time": "2023-11-08T14:05:11.507154200Z"
    }
   }
  },
  {
   "cell_type": "markdown",
   "source": [
    "It is clear that the top three countries in terms of the magnitude of maritime passenger volume drop due to the COVID-19 pandemic after Belgium was removed from the analysis are Latvia (LV), Finland (FI) and the Netherlands (NL). The difference between the normalized passenger transport through maritime means in these countries equaled 71.7, 70.8 and 65.9 percentage points, respectively. Across Europe, these volume drops differed significantly from country to country and ranged from 77.3 percentage points in Belgium to as low as 8.8 percentage points in Lithuania. These differences can be attributed to the varying severity of COVID-19 related regulations these countries introduced, as well as the different views on social responsibility the inhabitants of those countries may have had at that time, both of which would cause the decline in the number of passengers transported."
   ],
   "metadata": {
    "collapsed": false
   }
  },
  {
   "cell_type": "markdown",
   "source": [
    "**Visualisation of combined modes of transport for countries with highest maritime passenger transport volume drop**\n",
    "\n",
    "The third part of this chapter focuses on the three countries with the highest drop in normalized maritime passenger transport volume between Q2 of 2019 and Q2 of 2020, as depicted on the previous bar graph. The chosen countries were Latvia, Finland and the Netherlands, due to lack of relevant data for Belgium. Since the intention of this chapter was to showcase the combined trends in all three transport modes for each of the chosen countries, some data processing was necessary. A nested for loop was created which, for every country from the list, for every quarter from the time range and for every mode of transport, appended a relevant row to a new dataframe, which combined all of the necessary data. "
   ],
   "metadata": {
    "collapsed": false
   }
  },
  {
   "cell_type": "code",
   "execution_count": 9,
   "outputs": [
    {
     "name": "stderr",
     "output_type": "stream",
     "text": [
      "C:\\Users\\Bepis\\AppData\\Local\\Temp\\ipykernel_20160\\2599343862.py:18: FutureWarning:\n",
      "\n",
      "The behavior of DataFrame concatenation with empty or all-NA entries is deprecated. In a future version, this will no longer exclude empty or all-NA columns when determining the result dtypes. To retain the old behavior, exclude the relevant entries before the concat operation.\n",
      "\n"
     ]
    },
    {
     "data": {
      "application/vnd.plotly.v1+json": {
       "data": [
        {
         "hovertemplate": "Means of travel=Aviation<br>Time period=%{x}<br>Normalized passenger transport volume [%]=%{y}<extra></extra>",
         "legendgroup": "Aviation",
         "line": {
          "color": "#636efa",
          "dash": "solid"
         },
         "marker": {
          "symbol": "circle"
         },
         "mode": "lines",
         "name": "Aviation",
         "orientation": "v",
         "showlegend": true,
         "x": [
          "2018-Q1",
          "2018-Q2",
          "2018-Q3",
          "2018-Q4",
          "2019-Q1",
          "2019-Q2",
          "2019-Q3",
          "2019-Q4",
          "2020-Q1",
          "2020-Q2",
          "2020-Q3",
          "2020-Q4",
          "2021-Q1",
          "2021-Q2",
          "2021-Q3",
          "2021-Q4",
          "2022-Q1",
          "2022-Q2",
          "2022-Q3",
          "2022-Q4",
          "2023-Q1",
          "2023-Q2"
         ],
         "xaxis": "x",
         "y": [
          56.26082008591456,
          78.64241661264874,
          88.7985509995227,
          69.64452383284804,
          59.538454163271005,
          88.50841741718583,
          100.0,
          76.50780880363668,
          52.01027973296039,
          2.79466170882844,
          20.226020730377943,
          8.137871811813357,
          4.3034813945587445,
          12.260561633585464,
          42.364380266747816,
          38.4553304750729,
          32.320547585450804,
          59.9744465681074,
          71.33746996012748,
          60.15261193174357,
          52.42859733335557,
          74.25281223229862
         ],
         "yaxis": "y",
         "type": "scatter"
        },
        {
         "hovertemplate": "Means of travel=Maritime<br>Time period=%{x}<br>Normalized passenger transport volume [%]=%{y}<extra></extra>",
         "legendgroup": "Maritime",
         "line": {
          "color": "#EF553B",
          "dash": "solid"
         },
         "marker": {
          "symbol": "circle"
         },
         "mode": "lines",
         "name": "Maritime",
         "orientation": "v",
         "showlegend": true,
         "x": [
          "2018-Q1",
          "2018-Q2",
          "2018-Q3",
          "2018-Q4",
          "2019-Q1",
          "2019-Q2",
          "2019-Q3",
          "2019-Q4",
          "2020-Q1",
          "2020-Q2",
          "2020-Q3",
          "2020-Q4",
          "2021-Q1",
          "2021-Q2",
          "2021-Q3",
          "2021-Q4",
          "2022-Q1",
          "2022-Q2",
          "2022-Q3",
          "2022-Q4",
          "2023-Q1",
          "2023-Q2"
         ],
         "xaxis": "x",
         "y": [
          59.22619047619048,
          79.76190476190476,
          98.21428571428572,
          65.77380952380952,
          55.65476190476191,
          83.33333333333333,
          100.0,
          68.1547619047619,
          45.833333333333336,
          11.607142857142858,
          58.92857142857143,
          13.095238095238097,
          11.011904761904765,
          13.69047619047619,
          19.642857142857142,
          16.964285714285715,
          16.964285714285715,
          21.726190476190474,
          28.27380952380953,
          19.34523809523809,
          17.55952380952381,
          22.02380952380953
         ],
         "yaxis": "y",
         "type": "scatter"
        },
        {
         "hovertemplate": "Means of travel=Rail<br>Time period=%{x}<br>Normalized passenger transport volume [%]=%{y}<extra></extra>",
         "legendgroup": "Rail",
         "line": {
          "color": "#00cc96",
          "dash": "solid"
         },
         "marker": {
          "symbol": "circle"
         },
         "mode": "lines",
         "name": "Rail",
         "orientation": "v",
         "showlegend": true,
         "x": [
          "2018-Q1",
          "2018-Q2",
          "2018-Q3",
          "2018-Q4",
          "2019-Q1",
          "2019-Q2",
          "2019-Q3",
          "2019-Q4",
          "2020-Q1",
          "2020-Q2",
          "2020-Q3",
          "2020-Q4",
          "2021-Q1",
          "2021-Q2",
          "2021-Q3",
          "2021-Q4",
          "2022-Q1",
          "2022-Q2",
          "2022-Q3",
          "2022-Q4",
          "2023-Q1",
          "2023-Q2"
         ],
         "xaxis": "x",
         "y": [
          74.33409436834094,
          91.47640791476408,
          98.5159817351598,
          82.72450532724505,
          77.53044140030441,
          92.67503805175038,
          100.0,
          84.11339421613394,
          71.44216133942162,
          44.577625570776256,
          78.32952815829528,
          50.38051750380517,
          36.60578386605784,
          51.67427701674277,
          68.96879756468797,
          52.872907153729074,
          53.78614916286149,
          77.07382039573821,
          91.99010654490108,
          75.76103500761035,
          70.50989345509893,
          85.882800608828
         ],
         "yaxis": "y",
         "type": "scatter"
        }
       ],
       "layout": {
        "template": {
         "data": {
          "histogram2dcontour": [
           {
            "type": "histogram2dcontour",
            "colorbar": {
             "outlinewidth": 0,
             "ticks": ""
            },
            "colorscale": [
             [
              0.0,
              "#0d0887"
             ],
             [
              0.1111111111111111,
              "#46039f"
             ],
             [
              0.2222222222222222,
              "#7201a8"
             ],
             [
              0.3333333333333333,
              "#9c179e"
             ],
             [
              0.4444444444444444,
              "#bd3786"
             ],
             [
              0.5555555555555556,
              "#d8576b"
             ],
             [
              0.6666666666666666,
              "#ed7953"
             ],
             [
              0.7777777777777778,
              "#fb9f3a"
             ],
             [
              0.8888888888888888,
              "#fdca26"
             ],
             [
              1.0,
              "#f0f921"
             ]
            ]
           }
          ],
          "choropleth": [
           {
            "type": "choropleth",
            "colorbar": {
             "outlinewidth": 0,
             "ticks": ""
            }
           }
          ],
          "histogram2d": [
           {
            "type": "histogram2d",
            "colorbar": {
             "outlinewidth": 0,
             "ticks": ""
            },
            "colorscale": [
             [
              0.0,
              "#0d0887"
             ],
             [
              0.1111111111111111,
              "#46039f"
             ],
             [
              0.2222222222222222,
              "#7201a8"
             ],
             [
              0.3333333333333333,
              "#9c179e"
             ],
             [
              0.4444444444444444,
              "#bd3786"
             ],
             [
              0.5555555555555556,
              "#d8576b"
             ],
             [
              0.6666666666666666,
              "#ed7953"
             ],
             [
              0.7777777777777778,
              "#fb9f3a"
             ],
             [
              0.8888888888888888,
              "#fdca26"
             ],
             [
              1.0,
              "#f0f921"
             ]
            ]
           }
          ],
          "heatmap": [
           {
            "type": "heatmap",
            "colorbar": {
             "outlinewidth": 0,
             "ticks": ""
            },
            "colorscale": [
             [
              0.0,
              "#0d0887"
             ],
             [
              0.1111111111111111,
              "#46039f"
             ],
             [
              0.2222222222222222,
              "#7201a8"
             ],
             [
              0.3333333333333333,
              "#9c179e"
             ],
             [
              0.4444444444444444,
              "#bd3786"
             ],
             [
              0.5555555555555556,
              "#d8576b"
             ],
             [
              0.6666666666666666,
              "#ed7953"
             ],
             [
              0.7777777777777778,
              "#fb9f3a"
             ],
             [
              0.8888888888888888,
              "#fdca26"
             ],
             [
              1.0,
              "#f0f921"
             ]
            ]
           }
          ],
          "heatmapgl": [
           {
            "type": "heatmapgl",
            "colorbar": {
             "outlinewidth": 0,
             "ticks": ""
            },
            "colorscale": [
             [
              0.0,
              "#0d0887"
             ],
             [
              0.1111111111111111,
              "#46039f"
             ],
             [
              0.2222222222222222,
              "#7201a8"
             ],
             [
              0.3333333333333333,
              "#9c179e"
             ],
             [
              0.4444444444444444,
              "#bd3786"
             ],
             [
              0.5555555555555556,
              "#d8576b"
             ],
             [
              0.6666666666666666,
              "#ed7953"
             ],
             [
              0.7777777777777778,
              "#fb9f3a"
             ],
             [
              0.8888888888888888,
              "#fdca26"
             ],
             [
              1.0,
              "#f0f921"
             ]
            ]
           }
          ],
          "contourcarpet": [
           {
            "type": "contourcarpet",
            "colorbar": {
             "outlinewidth": 0,
             "ticks": ""
            }
           }
          ],
          "contour": [
           {
            "type": "contour",
            "colorbar": {
             "outlinewidth": 0,
             "ticks": ""
            },
            "colorscale": [
             [
              0.0,
              "#0d0887"
             ],
             [
              0.1111111111111111,
              "#46039f"
             ],
             [
              0.2222222222222222,
              "#7201a8"
             ],
             [
              0.3333333333333333,
              "#9c179e"
             ],
             [
              0.4444444444444444,
              "#bd3786"
             ],
             [
              0.5555555555555556,
              "#d8576b"
             ],
             [
              0.6666666666666666,
              "#ed7953"
             ],
             [
              0.7777777777777778,
              "#fb9f3a"
             ],
             [
              0.8888888888888888,
              "#fdca26"
             ],
             [
              1.0,
              "#f0f921"
             ]
            ]
           }
          ],
          "surface": [
           {
            "type": "surface",
            "colorbar": {
             "outlinewidth": 0,
             "ticks": ""
            },
            "colorscale": [
             [
              0.0,
              "#0d0887"
             ],
             [
              0.1111111111111111,
              "#46039f"
             ],
             [
              0.2222222222222222,
              "#7201a8"
             ],
             [
              0.3333333333333333,
              "#9c179e"
             ],
             [
              0.4444444444444444,
              "#bd3786"
             ],
             [
              0.5555555555555556,
              "#d8576b"
             ],
             [
              0.6666666666666666,
              "#ed7953"
             ],
             [
              0.7777777777777778,
              "#fb9f3a"
             ],
             [
              0.8888888888888888,
              "#fdca26"
             ],
             [
              1.0,
              "#f0f921"
             ]
            ]
           }
          ],
          "mesh3d": [
           {
            "type": "mesh3d",
            "colorbar": {
             "outlinewidth": 0,
             "ticks": ""
            }
           }
          ],
          "scatter": [
           {
            "fillpattern": {
             "fillmode": "overlay",
             "size": 10,
             "solidity": 0.2
            },
            "type": "scatter"
           }
          ],
          "parcoords": [
           {
            "type": "parcoords",
            "line": {
             "colorbar": {
              "outlinewidth": 0,
              "ticks": ""
             }
            }
           }
          ],
          "scatterpolargl": [
           {
            "type": "scatterpolargl",
            "marker": {
             "colorbar": {
              "outlinewidth": 0,
              "ticks": ""
             }
            }
           }
          ],
          "bar": [
           {
            "error_x": {
             "color": "#2a3f5f"
            },
            "error_y": {
             "color": "#2a3f5f"
            },
            "marker": {
             "line": {
              "color": "#E5ECF6",
              "width": 0.5
             },
             "pattern": {
              "fillmode": "overlay",
              "size": 10,
              "solidity": 0.2
             }
            },
            "type": "bar"
           }
          ],
          "scattergeo": [
           {
            "type": "scattergeo",
            "marker": {
             "colorbar": {
              "outlinewidth": 0,
              "ticks": ""
             }
            }
           }
          ],
          "scatterpolar": [
           {
            "type": "scatterpolar",
            "marker": {
             "colorbar": {
              "outlinewidth": 0,
              "ticks": ""
             }
            }
           }
          ],
          "histogram": [
           {
            "marker": {
             "pattern": {
              "fillmode": "overlay",
              "size": 10,
              "solidity": 0.2
             }
            },
            "type": "histogram"
           }
          ],
          "scattergl": [
           {
            "type": "scattergl",
            "marker": {
             "colorbar": {
              "outlinewidth": 0,
              "ticks": ""
             }
            }
           }
          ],
          "scatter3d": [
           {
            "type": "scatter3d",
            "line": {
             "colorbar": {
              "outlinewidth": 0,
              "ticks": ""
             }
            },
            "marker": {
             "colorbar": {
              "outlinewidth": 0,
              "ticks": ""
             }
            }
           }
          ],
          "scattermapbox": [
           {
            "type": "scattermapbox",
            "marker": {
             "colorbar": {
              "outlinewidth": 0,
              "ticks": ""
             }
            }
           }
          ],
          "scatterternary": [
           {
            "type": "scatterternary",
            "marker": {
             "colorbar": {
              "outlinewidth": 0,
              "ticks": ""
             }
            }
           }
          ],
          "scattercarpet": [
           {
            "type": "scattercarpet",
            "marker": {
             "colorbar": {
              "outlinewidth": 0,
              "ticks": ""
             }
            }
           }
          ],
          "carpet": [
           {
            "aaxis": {
             "endlinecolor": "#2a3f5f",
             "gridcolor": "white",
             "linecolor": "white",
             "minorgridcolor": "white",
             "startlinecolor": "#2a3f5f"
            },
            "baxis": {
             "endlinecolor": "#2a3f5f",
             "gridcolor": "white",
             "linecolor": "white",
             "minorgridcolor": "white",
             "startlinecolor": "#2a3f5f"
            },
            "type": "carpet"
           }
          ],
          "table": [
           {
            "cells": {
             "fill": {
              "color": "#EBF0F8"
             },
             "line": {
              "color": "white"
             }
            },
            "header": {
             "fill": {
              "color": "#C8D4E3"
             },
             "line": {
              "color": "white"
             }
            },
            "type": "table"
           }
          ],
          "barpolar": [
           {
            "marker": {
             "line": {
              "color": "#E5ECF6",
              "width": 0.5
             },
             "pattern": {
              "fillmode": "overlay",
              "size": 10,
              "solidity": 0.2
             }
            },
            "type": "barpolar"
           }
          ],
          "pie": [
           {
            "automargin": true,
            "type": "pie"
           }
          ]
         },
         "layout": {
          "autotypenumbers": "strict",
          "colorway": [
           "#636efa",
           "#EF553B",
           "#00cc96",
           "#ab63fa",
           "#FFA15A",
           "#19d3f3",
           "#FF6692",
           "#B6E880",
           "#FF97FF",
           "#FECB52"
          ],
          "font": {
           "color": "#2a3f5f"
          },
          "hovermode": "closest",
          "hoverlabel": {
           "align": "left"
          },
          "paper_bgcolor": "white",
          "plot_bgcolor": "#E5ECF6",
          "polar": {
           "bgcolor": "#E5ECF6",
           "angularaxis": {
            "gridcolor": "white",
            "linecolor": "white",
            "ticks": ""
           },
           "radialaxis": {
            "gridcolor": "white",
            "linecolor": "white",
            "ticks": ""
           }
          },
          "ternary": {
           "bgcolor": "#E5ECF6",
           "aaxis": {
            "gridcolor": "white",
            "linecolor": "white",
            "ticks": ""
           },
           "baxis": {
            "gridcolor": "white",
            "linecolor": "white",
            "ticks": ""
           },
           "caxis": {
            "gridcolor": "white",
            "linecolor": "white",
            "ticks": ""
           }
          },
          "coloraxis": {
           "colorbar": {
            "outlinewidth": 0,
            "ticks": ""
           }
          },
          "colorscale": {
           "sequential": [
            [
             0.0,
             "#0d0887"
            ],
            [
             0.1111111111111111,
             "#46039f"
            ],
            [
             0.2222222222222222,
             "#7201a8"
            ],
            [
             0.3333333333333333,
             "#9c179e"
            ],
            [
             0.4444444444444444,
             "#bd3786"
            ],
            [
             0.5555555555555556,
             "#d8576b"
            ],
            [
             0.6666666666666666,
             "#ed7953"
            ],
            [
             0.7777777777777778,
             "#fb9f3a"
            ],
            [
             0.8888888888888888,
             "#fdca26"
            ],
            [
             1.0,
             "#f0f921"
            ]
           ],
           "sequentialminus": [
            [
             0.0,
             "#0d0887"
            ],
            [
             0.1111111111111111,
             "#46039f"
            ],
            [
             0.2222222222222222,
             "#7201a8"
            ],
            [
             0.3333333333333333,
             "#9c179e"
            ],
            [
             0.4444444444444444,
             "#bd3786"
            ],
            [
             0.5555555555555556,
             "#d8576b"
            ],
            [
             0.6666666666666666,
             "#ed7953"
            ],
            [
             0.7777777777777778,
             "#fb9f3a"
            ],
            [
             0.8888888888888888,
             "#fdca26"
            ],
            [
             1.0,
             "#f0f921"
            ]
           ],
           "diverging": [
            [
             0,
             "#8e0152"
            ],
            [
             0.1,
             "#c51b7d"
            ],
            [
             0.2,
             "#de77ae"
            ],
            [
             0.3,
             "#f1b6da"
            ],
            [
             0.4,
             "#fde0ef"
            ],
            [
             0.5,
             "#f7f7f7"
            ],
            [
             0.6,
             "#e6f5d0"
            ],
            [
             0.7,
             "#b8e186"
            ],
            [
             0.8,
             "#7fbc41"
            ],
            [
             0.9,
             "#4d9221"
            ],
            [
             1,
             "#276419"
            ]
           ]
          },
          "xaxis": {
           "gridcolor": "white",
           "linecolor": "white",
           "ticks": "",
           "title": {
            "standoff": 15
           },
           "zerolinecolor": "white",
           "automargin": true,
           "zerolinewidth": 2
          },
          "yaxis": {
           "gridcolor": "white",
           "linecolor": "white",
           "ticks": "",
           "title": {
            "standoff": 15
           },
           "zerolinecolor": "white",
           "automargin": true,
           "zerolinewidth": 2
          },
          "scene": {
           "xaxis": {
            "backgroundcolor": "#E5ECF6",
            "gridcolor": "white",
            "linecolor": "white",
            "showbackground": true,
            "ticks": "",
            "zerolinecolor": "white",
            "gridwidth": 2
           },
           "yaxis": {
            "backgroundcolor": "#E5ECF6",
            "gridcolor": "white",
            "linecolor": "white",
            "showbackground": true,
            "ticks": "",
            "zerolinecolor": "white",
            "gridwidth": 2
           },
           "zaxis": {
            "backgroundcolor": "#E5ECF6",
            "gridcolor": "white",
            "linecolor": "white",
            "showbackground": true,
            "ticks": "",
            "zerolinecolor": "white",
            "gridwidth": 2
           }
          },
          "shapedefaults": {
           "line": {
            "color": "#2a3f5f"
           }
          },
          "annotationdefaults": {
           "arrowcolor": "#2a3f5f",
           "arrowhead": 0,
           "arrowwidth": 1
          },
          "geo": {
           "bgcolor": "white",
           "landcolor": "#E5ECF6",
           "subunitcolor": "white",
           "showland": true,
           "showlakes": true,
           "lakecolor": "white"
          },
          "title": {
           "x": 0.05
          },
          "mapbox": {
           "style": "light"
          }
         }
        },
        "xaxis": {
         "anchor": "y",
         "domain": [
          0.0,
          1.0
         ],
         "title": {
          "text": "Time period"
         },
         "tickangle": 30
        },
        "yaxis": {
         "anchor": "x",
         "domain": [
          0.0,
          1.0
         ],
         "title": {
          "text": "Normalized passenger transport volume [%]"
         }
        },
        "legend": {
         "title": {
          "text": "Means of travel"
         },
         "tracegroupgap": 0
        },
        "title": {
         "text": "Normalized volume of passenger transport by air, sea and rail in Latvia from 2018 to 2023"
        }
       },
       "config": {
        "plotlyServerURL": "https://plot.ly"
       }
      },
      "text/html": "<div>                            <div id=\"edf0b5b9-af63-4399-99ba-a639df63c3cc\" class=\"plotly-graph-div\" style=\"height:525px; width:100%;\"></div>            <script type=\"text/javascript\">                require([\"plotly\"], function(Plotly) {                    window.PLOTLYENV=window.PLOTLYENV || {};                                    if (document.getElementById(\"edf0b5b9-af63-4399-99ba-a639df63c3cc\")) {                    Plotly.newPlot(                        \"edf0b5b9-af63-4399-99ba-a639df63c3cc\",                        [{\"hovertemplate\":\"Means of travel=Aviation\\u003cbr\\u003eTime period=%{x}\\u003cbr\\u003eNormalized passenger transport volume [%]=%{y}\\u003cextra\\u003e\\u003c\\u002fextra\\u003e\",\"legendgroup\":\"Aviation\",\"line\":{\"color\":\"#636efa\",\"dash\":\"solid\"},\"marker\":{\"symbol\":\"circle\"},\"mode\":\"lines\",\"name\":\"Aviation\",\"orientation\":\"v\",\"showlegend\":true,\"x\":[\"2018-Q1\",\"2018-Q2\",\"2018-Q3\",\"2018-Q4\",\"2019-Q1\",\"2019-Q2\",\"2019-Q3\",\"2019-Q4\",\"2020-Q1\",\"2020-Q2\",\"2020-Q3\",\"2020-Q4\",\"2021-Q1\",\"2021-Q2\",\"2021-Q3\",\"2021-Q4\",\"2022-Q1\",\"2022-Q2\",\"2022-Q3\",\"2022-Q4\",\"2023-Q1\",\"2023-Q2\"],\"xaxis\":\"x\",\"y\":[56.26082008591456,78.64241661264874,88.7985509995227,69.64452383284804,59.538454163271005,88.50841741718583,100.0,76.50780880363668,52.01027973296039,2.79466170882844,20.226020730377943,8.137871811813357,4.3034813945587445,12.260561633585464,42.364380266747816,38.4553304750729,32.320547585450804,59.9744465681074,71.33746996012748,60.15261193174357,52.42859733335557,74.25281223229862],\"yaxis\":\"y\",\"type\":\"scatter\"},{\"hovertemplate\":\"Means of travel=Maritime\\u003cbr\\u003eTime period=%{x}\\u003cbr\\u003eNormalized passenger transport volume [%]=%{y}\\u003cextra\\u003e\\u003c\\u002fextra\\u003e\",\"legendgroup\":\"Maritime\",\"line\":{\"color\":\"#EF553B\",\"dash\":\"solid\"},\"marker\":{\"symbol\":\"circle\"},\"mode\":\"lines\",\"name\":\"Maritime\",\"orientation\":\"v\",\"showlegend\":true,\"x\":[\"2018-Q1\",\"2018-Q2\",\"2018-Q3\",\"2018-Q4\",\"2019-Q1\",\"2019-Q2\",\"2019-Q3\",\"2019-Q4\",\"2020-Q1\",\"2020-Q2\",\"2020-Q3\",\"2020-Q4\",\"2021-Q1\",\"2021-Q2\",\"2021-Q3\",\"2021-Q4\",\"2022-Q1\",\"2022-Q2\",\"2022-Q3\",\"2022-Q4\",\"2023-Q1\",\"2023-Q2\"],\"xaxis\":\"x\",\"y\":[59.22619047619048,79.76190476190476,98.21428571428572,65.77380952380952,55.65476190476191,83.33333333333333,100.0,68.1547619047619,45.833333333333336,11.607142857142858,58.92857142857143,13.095238095238097,11.011904761904765,13.69047619047619,19.642857142857142,16.964285714285715,16.964285714285715,21.726190476190474,28.27380952380953,19.34523809523809,17.55952380952381,22.02380952380953],\"yaxis\":\"y\",\"type\":\"scatter\"},{\"hovertemplate\":\"Means of travel=Rail\\u003cbr\\u003eTime period=%{x}\\u003cbr\\u003eNormalized passenger transport volume [%]=%{y}\\u003cextra\\u003e\\u003c\\u002fextra\\u003e\",\"legendgroup\":\"Rail\",\"line\":{\"color\":\"#00cc96\",\"dash\":\"solid\"},\"marker\":{\"symbol\":\"circle\"},\"mode\":\"lines\",\"name\":\"Rail\",\"orientation\":\"v\",\"showlegend\":true,\"x\":[\"2018-Q1\",\"2018-Q2\",\"2018-Q3\",\"2018-Q4\",\"2019-Q1\",\"2019-Q2\",\"2019-Q3\",\"2019-Q4\",\"2020-Q1\",\"2020-Q2\",\"2020-Q3\",\"2020-Q4\",\"2021-Q1\",\"2021-Q2\",\"2021-Q3\",\"2021-Q4\",\"2022-Q1\",\"2022-Q2\",\"2022-Q3\",\"2022-Q4\",\"2023-Q1\",\"2023-Q2\"],\"xaxis\":\"x\",\"y\":[74.33409436834094,91.47640791476408,98.5159817351598,82.72450532724505,77.53044140030441,92.67503805175038,100.0,84.11339421613394,71.44216133942162,44.577625570776256,78.32952815829528,50.38051750380517,36.60578386605784,51.67427701674277,68.96879756468797,52.872907153729074,53.78614916286149,77.07382039573821,91.99010654490108,75.76103500761035,70.50989345509893,85.882800608828],\"yaxis\":\"y\",\"type\":\"scatter\"}],                        {\"template\":{\"data\":{\"histogram2dcontour\":[{\"type\":\"histogram2dcontour\",\"colorbar\":{\"outlinewidth\":0,\"ticks\":\"\"},\"colorscale\":[[0.0,\"#0d0887\"],[0.1111111111111111,\"#46039f\"],[0.2222222222222222,\"#7201a8\"],[0.3333333333333333,\"#9c179e\"],[0.4444444444444444,\"#bd3786\"],[0.5555555555555556,\"#d8576b\"],[0.6666666666666666,\"#ed7953\"],[0.7777777777777778,\"#fb9f3a\"],[0.8888888888888888,\"#fdca26\"],[1.0,\"#f0f921\"]]}],\"choropleth\":[{\"type\":\"choropleth\",\"colorbar\":{\"outlinewidth\":0,\"ticks\":\"\"}}],\"histogram2d\":[{\"type\":\"histogram2d\",\"colorbar\":{\"outlinewidth\":0,\"ticks\":\"\"},\"colorscale\":[[0.0,\"#0d0887\"],[0.1111111111111111,\"#46039f\"],[0.2222222222222222,\"#7201a8\"],[0.3333333333333333,\"#9c179e\"],[0.4444444444444444,\"#bd3786\"],[0.5555555555555556,\"#d8576b\"],[0.6666666666666666,\"#ed7953\"],[0.7777777777777778,\"#fb9f3a\"],[0.8888888888888888,\"#fdca26\"],[1.0,\"#f0f921\"]]}],\"heatmap\":[{\"type\":\"heatmap\",\"colorbar\":{\"outlinewidth\":0,\"ticks\":\"\"},\"colorscale\":[[0.0,\"#0d0887\"],[0.1111111111111111,\"#46039f\"],[0.2222222222222222,\"#7201a8\"],[0.3333333333333333,\"#9c179e\"],[0.4444444444444444,\"#bd3786\"],[0.5555555555555556,\"#d8576b\"],[0.6666666666666666,\"#ed7953\"],[0.7777777777777778,\"#fb9f3a\"],[0.8888888888888888,\"#fdca26\"],[1.0,\"#f0f921\"]]}],\"heatmapgl\":[{\"type\":\"heatmapgl\",\"colorbar\":{\"outlinewidth\":0,\"ticks\":\"\"},\"colorscale\":[[0.0,\"#0d0887\"],[0.1111111111111111,\"#46039f\"],[0.2222222222222222,\"#7201a8\"],[0.3333333333333333,\"#9c179e\"],[0.4444444444444444,\"#bd3786\"],[0.5555555555555556,\"#d8576b\"],[0.6666666666666666,\"#ed7953\"],[0.7777777777777778,\"#fb9f3a\"],[0.8888888888888888,\"#fdca26\"],[1.0,\"#f0f921\"]]}],\"contourcarpet\":[{\"type\":\"contourcarpet\",\"colorbar\":{\"outlinewidth\":0,\"ticks\":\"\"}}],\"contour\":[{\"type\":\"contour\",\"colorbar\":{\"outlinewidth\":0,\"ticks\":\"\"},\"colorscale\":[[0.0,\"#0d0887\"],[0.1111111111111111,\"#46039f\"],[0.2222222222222222,\"#7201a8\"],[0.3333333333333333,\"#9c179e\"],[0.4444444444444444,\"#bd3786\"],[0.5555555555555556,\"#d8576b\"],[0.6666666666666666,\"#ed7953\"],[0.7777777777777778,\"#fb9f3a\"],[0.8888888888888888,\"#fdca26\"],[1.0,\"#f0f921\"]]}],\"surface\":[{\"type\":\"surface\",\"colorbar\":{\"outlinewidth\":0,\"ticks\":\"\"},\"colorscale\":[[0.0,\"#0d0887\"],[0.1111111111111111,\"#46039f\"],[0.2222222222222222,\"#7201a8\"],[0.3333333333333333,\"#9c179e\"],[0.4444444444444444,\"#bd3786\"],[0.5555555555555556,\"#d8576b\"],[0.6666666666666666,\"#ed7953\"],[0.7777777777777778,\"#fb9f3a\"],[0.8888888888888888,\"#fdca26\"],[1.0,\"#f0f921\"]]}],\"mesh3d\":[{\"type\":\"mesh3d\",\"colorbar\":{\"outlinewidth\":0,\"ticks\":\"\"}}],\"scatter\":[{\"fillpattern\":{\"fillmode\":\"overlay\",\"size\":10,\"solidity\":0.2},\"type\":\"scatter\"}],\"parcoords\":[{\"type\":\"parcoords\",\"line\":{\"colorbar\":{\"outlinewidth\":0,\"ticks\":\"\"}}}],\"scatterpolargl\":[{\"type\":\"scatterpolargl\",\"marker\":{\"colorbar\":{\"outlinewidth\":0,\"ticks\":\"\"}}}],\"bar\":[{\"error_x\":{\"color\":\"#2a3f5f\"},\"error_y\":{\"color\":\"#2a3f5f\"},\"marker\":{\"line\":{\"color\":\"#E5ECF6\",\"width\":0.5},\"pattern\":{\"fillmode\":\"overlay\",\"size\":10,\"solidity\":0.2}},\"type\":\"bar\"}],\"scattergeo\":[{\"type\":\"scattergeo\",\"marker\":{\"colorbar\":{\"outlinewidth\":0,\"ticks\":\"\"}}}],\"scatterpolar\":[{\"type\":\"scatterpolar\",\"marker\":{\"colorbar\":{\"outlinewidth\":0,\"ticks\":\"\"}}}],\"histogram\":[{\"marker\":{\"pattern\":{\"fillmode\":\"overlay\",\"size\":10,\"solidity\":0.2}},\"type\":\"histogram\"}],\"scattergl\":[{\"type\":\"scattergl\",\"marker\":{\"colorbar\":{\"outlinewidth\":0,\"ticks\":\"\"}}}],\"scatter3d\":[{\"type\":\"scatter3d\",\"line\":{\"colorbar\":{\"outlinewidth\":0,\"ticks\":\"\"}},\"marker\":{\"colorbar\":{\"outlinewidth\":0,\"ticks\":\"\"}}}],\"scattermapbox\":[{\"type\":\"scattermapbox\",\"marker\":{\"colorbar\":{\"outlinewidth\":0,\"ticks\":\"\"}}}],\"scatterternary\":[{\"type\":\"scatterternary\",\"marker\":{\"colorbar\":{\"outlinewidth\":0,\"ticks\":\"\"}}}],\"scattercarpet\":[{\"type\":\"scattercarpet\",\"marker\":{\"colorbar\":{\"outlinewidth\":0,\"ticks\":\"\"}}}],\"carpet\":[{\"aaxis\":{\"endlinecolor\":\"#2a3f5f\",\"gridcolor\":\"white\",\"linecolor\":\"white\",\"minorgridcolor\":\"white\",\"startlinecolor\":\"#2a3f5f\"},\"baxis\":{\"endlinecolor\":\"#2a3f5f\",\"gridcolor\":\"white\",\"linecolor\":\"white\",\"minorgridcolor\":\"white\",\"startlinecolor\":\"#2a3f5f\"},\"type\":\"carpet\"}],\"table\":[{\"cells\":{\"fill\":{\"color\":\"#EBF0F8\"},\"line\":{\"color\":\"white\"}},\"header\":{\"fill\":{\"color\":\"#C8D4E3\"},\"line\":{\"color\":\"white\"}},\"type\":\"table\"}],\"barpolar\":[{\"marker\":{\"line\":{\"color\":\"#E5ECF6\",\"width\":0.5},\"pattern\":{\"fillmode\":\"overlay\",\"size\":10,\"solidity\":0.2}},\"type\":\"barpolar\"}],\"pie\":[{\"automargin\":true,\"type\":\"pie\"}]},\"layout\":{\"autotypenumbers\":\"strict\",\"colorway\":[\"#636efa\",\"#EF553B\",\"#00cc96\",\"#ab63fa\",\"#FFA15A\",\"#19d3f3\",\"#FF6692\",\"#B6E880\",\"#FF97FF\",\"#FECB52\"],\"font\":{\"color\":\"#2a3f5f\"},\"hovermode\":\"closest\",\"hoverlabel\":{\"align\":\"left\"},\"paper_bgcolor\":\"white\",\"plot_bgcolor\":\"#E5ECF6\",\"polar\":{\"bgcolor\":\"#E5ECF6\",\"angularaxis\":{\"gridcolor\":\"white\",\"linecolor\":\"white\",\"ticks\":\"\"},\"radialaxis\":{\"gridcolor\":\"white\",\"linecolor\":\"white\",\"ticks\":\"\"}},\"ternary\":{\"bgcolor\":\"#E5ECF6\",\"aaxis\":{\"gridcolor\":\"white\",\"linecolor\":\"white\",\"ticks\":\"\"},\"baxis\":{\"gridcolor\":\"white\",\"linecolor\":\"white\",\"ticks\":\"\"},\"caxis\":{\"gridcolor\":\"white\",\"linecolor\":\"white\",\"ticks\":\"\"}},\"coloraxis\":{\"colorbar\":{\"outlinewidth\":0,\"ticks\":\"\"}},\"colorscale\":{\"sequential\":[[0.0,\"#0d0887\"],[0.1111111111111111,\"#46039f\"],[0.2222222222222222,\"#7201a8\"],[0.3333333333333333,\"#9c179e\"],[0.4444444444444444,\"#bd3786\"],[0.5555555555555556,\"#d8576b\"],[0.6666666666666666,\"#ed7953\"],[0.7777777777777778,\"#fb9f3a\"],[0.8888888888888888,\"#fdca26\"],[1.0,\"#f0f921\"]],\"sequentialminus\":[[0.0,\"#0d0887\"],[0.1111111111111111,\"#46039f\"],[0.2222222222222222,\"#7201a8\"],[0.3333333333333333,\"#9c179e\"],[0.4444444444444444,\"#bd3786\"],[0.5555555555555556,\"#d8576b\"],[0.6666666666666666,\"#ed7953\"],[0.7777777777777778,\"#fb9f3a\"],[0.8888888888888888,\"#fdca26\"],[1.0,\"#f0f921\"]],\"diverging\":[[0,\"#8e0152\"],[0.1,\"#c51b7d\"],[0.2,\"#de77ae\"],[0.3,\"#f1b6da\"],[0.4,\"#fde0ef\"],[0.5,\"#f7f7f7\"],[0.6,\"#e6f5d0\"],[0.7,\"#b8e186\"],[0.8,\"#7fbc41\"],[0.9,\"#4d9221\"],[1,\"#276419\"]]},\"xaxis\":{\"gridcolor\":\"white\",\"linecolor\":\"white\",\"ticks\":\"\",\"title\":{\"standoff\":15},\"zerolinecolor\":\"white\",\"automargin\":true,\"zerolinewidth\":2},\"yaxis\":{\"gridcolor\":\"white\",\"linecolor\":\"white\",\"ticks\":\"\",\"title\":{\"standoff\":15},\"zerolinecolor\":\"white\",\"automargin\":true,\"zerolinewidth\":2},\"scene\":{\"xaxis\":{\"backgroundcolor\":\"#E5ECF6\",\"gridcolor\":\"white\",\"linecolor\":\"white\",\"showbackground\":true,\"ticks\":\"\",\"zerolinecolor\":\"white\",\"gridwidth\":2},\"yaxis\":{\"backgroundcolor\":\"#E5ECF6\",\"gridcolor\":\"white\",\"linecolor\":\"white\",\"showbackground\":true,\"ticks\":\"\",\"zerolinecolor\":\"white\",\"gridwidth\":2},\"zaxis\":{\"backgroundcolor\":\"#E5ECF6\",\"gridcolor\":\"white\",\"linecolor\":\"white\",\"showbackground\":true,\"ticks\":\"\",\"zerolinecolor\":\"white\",\"gridwidth\":2}},\"shapedefaults\":{\"line\":{\"color\":\"#2a3f5f\"}},\"annotationdefaults\":{\"arrowcolor\":\"#2a3f5f\",\"arrowhead\":0,\"arrowwidth\":1},\"geo\":{\"bgcolor\":\"white\",\"landcolor\":\"#E5ECF6\",\"subunitcolor\":\"white\",\"showland\":true,\"showlakes\":true,\"lakecolor\":\"white\"},\"title\":{\"x\":0.05},\"mapbox\":{\"style\":\"light\"}}},\"xaxis\":{\"anchor\":\"y\",\"domain\":[0.0,1.0],\"title\":{\"text\":\"Time period\"},\"tickangle\":30},\"yaxis\":{\"anchor\":\"x\",\"domain\":[0.0,1.0],\"title\":{\"text\":\"Normalized passenger transport volume [%]\"}},\"legend\":{\"title\":{\"text\":\"Means of travel\"},\"tracegroupgap\":0},\"title\":{\"text\":\"Normalized volume of passenger transport by air, sea and rail in Latvia from 2018 to 2023\"}},                        {\"responsive\": true}                    ).then(function(){\n                            \nvar gd = document.getElementById('edf0b5b9-af63-4399-99ba-a639df63c3cc');\nvar x = new MutationObserver(function (mutations, observer) {{\n        var display = window.getComputedStyle(gd).display;\n        if (!display || display === 'none') {{\n            console.log([gd, 'removed!']);\n            Plotly.purge(gd);\n            observer.disconnect();\n        }}\n}});\n\n// Listen for the removal of the full notebook cells\nvar notebookContainer = gd.closest('#notebook-container');\nif (notebookContainer) {{\n    x.observe(notebookContainer, {childList: true});\n}}\n\n// Listen for the clearing of the current output cell\nvar outputEl = gd.closest('.output');\nif (outputEl) {{\n    x.observe(outputEl, {childList: true});\n}}\n\n                        })                };                });            </script>        </div>"
     },
     "metadata": {},
     "output_type": "display_data"
    },
    {
     "data": {
      "application/vnd.plotly.v1+json": {
       "data": [
        {
         "hovertemplate": "Means of travel=Aviation<br>Time period=%{x}<br>Normalized passenger transport volume [%]=%{y}<extra></extra>",
         "legendgroup": "Aviation",
         "line": {
          "color": "#636efa",
          "dash": "solid"
         },
         "marker": {
          "symbol": "circle"
         },
         "mode": "lines",
         "name": "Aviation",
         "orientation": "v",
         "showlegend": true,
         "x": [
          "2018-Q1",
          "2018-Q2",
          "2018-Q3",
          "2018-Q4",
          "2019-Q1",
          "2019-Q2",
          "2019-Q3",
          "2019-Q4",
          "2020-Q1",
          "2020-Q2",
          "2020-Q3",
          "2020-Q4",
          "2021-Q1",
          "2021-Q2",
          "2021-Q3",
          "2021-Q4",
          "2022-Q1",
          "2022-Q2",
          "2022-Q3",
          "2022-Q4",
          "2023-Q1",
          "2023-Q2"
         ],
         "xaxis": "x",
         "y": [
          79.94703831559781,
          90.58305558932317,
          93.56546281960108,
          87.33713957137742,
          83.0757653538722,
          96.53642692797982,
          100.0,
          89.48283587187318,
          66.20159832835326,
          2.2911761009289693,
          10.71512062746346,
          6.831416980229867,
          5.938980265686467,
          7.218898204872139,
          20.73446140537703,
          38.2927908173543,
          36.15362438697278,
          55.81373196816784,
          65.06947417269953,
          61.88145527981999,
          61.61563250905346,
          66.10181176952031
         ],
         "yaxis": "y",
         "type": "scatter"
        },
        {
         "hovertemplate": "Means of travel=Maritime<br>Time period=%{x}<br>Normalized passenger transport volume [%]=%{y}<extra></extra>",
         "legendgroup": "Maritime",
         "line": {
          "color": "#EF553B",
          "dash": "solid"
         },
         "marker": {
          "symbol": "circle"
         },
         "mode": "lines",
         "name": "Maritime",
         "orientation": "v",
         "showlegend": true,
         "x": [
          "2018-Q1",
          "2018-Q2",
          "2018-Q3",
          "2018-Q4",
          "2019-Q1",
          "2019-Q2",
          "2019-Q3",
          "2019-Q4",
          "2020-Q1",
          "2020-Q2",
          "2020-Q3",
          "2020-Q4",
          "2021-Q1",
          "2021-Q2",
          "2021-Q3",
          "2021-Q4",
          "2022-Q1",
          "2022-Q2",
          "2022-Q3",
          "2022-Q4",
          "2023-Q1",
          "2023-Q2"
         ],
         "xaxis": "x",
         "y": [
          57.8036605657238,
          81.39767054908486,
          98.6855241264559,
          70.98169717138103,
          55.54076539101497,
          82.54575707154743,
          100.0,
          70.08319467554077,
          46.50582362728785,
          11.697171381031614,
          41.18136439267887,
          17.204658901830282,
          10.199667221297837,
          18.136439267886857,
          42.229617304492514,
          39.750415973377706,
          26.70549084858569,
          60.18302828618968,
          77.88685524126456,
          51.780366056572376,
          40.5324459234609,
          null
         ],
         "yaxis": "y",
         "type": "scatter"
        },
        {
         "hovertemplate": "Means of travel=Rail<br>Time period=%{x}<br>Normalized passenger transport volume [%]=%{y}<extra></extra>",
         "legendgroup": "Rail",
         "line": {
          "color": "#00cc96",
          "dash": "solid"
         },
         "marker": {
          "symbol": "circle"
         },
         "mode": "lines",
         "name": "Rail",
         "orientation": "v",
         "showlegend": true,
         "x": [
          "2018-Q1",
          "2018-Q2",
          "2018-Q3",
          "2018-Q4",
          "2019-Q1",
          "2019-Q2",
          "2019-Q3",
          "2019-Q4",
          "2020-Q1",
          "2020-Q2",
          "2020-Q3",
          "2020-Q4",
          "2021-Q1",
          "2021-Q2",
          "2021-Q3",
          "2021-Q4",
          "2022-Q1",
          "2022-Q2",
          "2022-Q3",
          "2022-Q4",
          "2023-Q1",
          "2023-Q2"
         ],
         "xaxis": "x",
         "y": [
          88.29448731206746,
          82.90907644578793,
          83.90342852597247,
          92.92816800572749,
          89.70248985760878,
          89.19735900087503,
          90.21159812266328,
          100.0,
          74.54458674727547,
          42.864529472595656,
          59.01678466311351,
          60.42876461697558,
          42.08098003341023,
          48.456765571553575,
          60.09466231803357,
          68.15686898416992,
          60.27364569246679,
          76.65659056558746,
          82.0221143902633,
          83.68467106833188,
          78.66120435923952,
          82.2925781560735
         ],
         "yaxis": "y",
         "type": "scatter"
        }
       ],
       "layout": {
        "template": {
         "data": {
          "histogram2dcontour": [
           {
            "type": "histogram2dcontour",
            "colorbar": {
             "outlinewidth": 0,
             "ticks": ""
            },
            "colorscale": [
             [
              0.0,
              "#0d0887"
             ],
             [
              0.1111111111111111,
              "#46039f"
             ],
             [
              0.2222222222222222,
              "#7201a8"
             ],
             [
              0.3333333333333333,
              "#9c179e"
             ],
             [
              0.4444444444444444,
              "#bd3786"
             ],
             [
              0.5555555555555556,
              "#d8576b"
             ],
             [
              0.6666666666666666,
              "#ed7953"
             ],
             [
              0.7777777777777778,
              "#fb9f3a"
             ],
             [
              0.8888888888888888,
              "#fdca26"
             ],
             [
              1.0,
              "#f0f921"
             ]
            ]
           }
          ],
          "choropleth": [
           {
            "type": "choropleth",
            "colorbar": {
             "outlinewidth": 0,
             "ticks": ""
            }
           }
          ],
          "histogram2d": [
           {
            "type": "histogram2d",
            "colorbar": {
             "outlinewidth": 0,
             "ticks": ""
            },
            "colorscale": [
             [
              0.0,
              "#0d0887"
             ],
             [
              0.1111111111111111,
              "#46039f"
             ],
             [
              0.2222222222222222,
              "#7201a8"
             ],
             [
              0.3333333333333333,
              "#9c179e"
             ],
             [
              0.4444444444444444,
              "#bd3786"
             ],
             [
              0.5555555555555556,
              "#d8576b"
             ],
             [
              0.6666666666666666,
              "#ed7953"
             ],
             [
              0.7777777777777778,
              "#fb9f3a"
             ],
             [
              0.8888888888888888,
              "#fdca26"
             ],
             [
              1.0,
              "#f0f921"
             ]
            ]
           }
          ],
          "heatmap": [
           {
            "type": "heatmap",
            "colorbar": {
             "outlinewidth": 0,
             "ticks": ""
            },
            "colorscale": [
             [
              0.0,
              "#0d0887"
             ],
             [
              0.1111111111111111,
              "#46039f"
             ],
             [
              0.2222222222222222,
              "#7201a8"
             ],
             [
              0.3333333333333333,
              "#9c179e"
             ],
             [
              0.4444444444444444,
              "#bd3786"
             ],
             [
              0.5555555555555556,
              "#d8576b"
             ],
             [
              0.6666666666666666,
              "#ed7953"
             ],
             [
              0.7777777777777778,
              "#fb9f3a"
             ],
             [
              0.8888888888888888,
              "#fdca26"
             ],
             [
              1.0,
              "#f0f921"
             ]
            ]
           }
          ],
          "heatmapgl": [
           {
            "type": "heatmapgl",
            "colorbar": {
             "outlinewidth": 0,
             "ticks": ""
            },
            "colorscale": [
             [
              0.0,
              "#0d0887"
             ],
             [
              0.1111111111111111,
              "#46039f"
             ],
             [
              0.2222222222222222,
              "#7201a8"
             ],
             [
              0.3333333333333333,
              "#9c179e"
             ],
             [
              0.4444444444444444,
              "#bd3786"
             ],
             [
              0.5555555555555556,
              "#d8576b"
             ],
             [
              0.6666666666666666,
              "#ed7953"
             ],
             [
              0.7777777777777778,
              "#fb9f3a"
             ],
             [
              0.8888888888888888,
              "#fdca26"
             ],
             [
              1.0,
              "#f0f921"
             ]
            ]
           }
          ],
          "contourcarpet": [
           {
            "type": "contourcarpet",
            "colorbar": {
             "outlinewidth": 0,
             "ticks": ""
            }
           }
          ],
          "contour": [
           {
            "type": "contour",
            "colorbar": {
             "outlinewidth": 0,
             "ticks": ""
            },
            "colorscale": [
             [
              0.0,
              "#0d0887"
             ],
             [
              0.1111111111111111,
              "#46039f"
             ],
             [
              0.2222222222222222,
              "#7201a8"
             ],
             [
              0.3333333333333333,
              "#9c179e"
             ],
             [
              0.4444444444444444,
              "#bd3786"
             ],
             [
              0.5555555555555556,
              "#d8576b"
             ],
             [
              0.6666666666666666,
              "#ed7953"
             ],
             [
              0.7777777777777778,
              "#fb9f3a"
             ],
             [
              0.8888888888888888,
              "#fdca26"
             ],
             [
              1.0,
              "#f0f921"
             ]
            ]
           }
          ],
          "surface": [
           {
            "type": "surface",
            "colorbar": {
             "outlinewidth": 0,
             "ticks": ""
            },
            "colorscale": [
             [
              0.0,
              "#0d0887"
             ],
             [
              0.1111111111111111,
              "#46039f"
             ],
             [
              0.2222222222222222,
              "#7201a8"
             ],
             [
              0.3333333333333333,
              "#9c179e"
             ],
             [
              0.4444444444444444,
              "#bd3786"
             ],
             [
              0.5555555555555556,
              "#d8576b"
             ],
             [
              0.6666666666666666,
              "#ed7953"
             ],
             [
              0.7777777777777778,
              "#fb9f3a"
             ],
             [
              0.8888888888888888,
              "#fdca26"
             ],
             [
              1.0,
              "#f0f921"
             ]
            ]
           }
          ],
          "mesh3d": [
           {
            "type": "mesh3d",
            "colorbar": {
             "outlinewidth": 0,
             "ticks": ""
            }
           }
          ],
          "scatter": [
           {
            "fillpattern": {
             "fillmode": "overlay",
             "size": 10,
             "solidity": 0.2
            },
            "type": "scatter"
           }
          ],
          "parcoords": [
           {
            "type": "parcoords",
            "line": {
             "colorbar": {
              "outlinewidth": 0,
              "ticks": ""
             }
            }
           }
          ],
          "scatterpolargl": [
           {
            "type": "scatterpolargl",
            "marker": {
             "colorbar": {
              "outlinewidth": 0,
              "ticks": ""
             }
            }
           }
          ],
          "bar": [
           {
            "error_x": {
             "color": "#2a3f5f"
            },
            "error_y": {
             "color": "#2a3f5f"
            },
            "marker": {
             "line": {
              "color": "#E5ECF6",
              "width": 0.5
             },
             "pattern": {
              "fillmode": "overlay",
              "size": 10,
              "solidity": 0.2
             }
            },
            "type": "bar"
           }
          ],
          "scattergeo": [
           {
            "type": "scattergeo",
            "marker": {
             "colorbar": {
              "outlinewidth": 0,
              "ticks": ""
             }
            }
           }
          ],
          "scatterpolar": [
           {
            "type": "scatterpolar",
            "marker": {
             "colorbar": {
              "outlinewidth": 0,
              "ticks": ""
             }
            }
           }
          ],
          "histogram": [
           {
            "marker": {
             "pattern": {
              "fillmode": "overlay",
              "size": 10,
              "solidity": 0.2
             }
            },
            "type": "histogram"
           }
          ],
          "scattergl": [
           {
            "type": "scattergl",
            "marker": {
             "colorbar": {
              "outlinewidth": 0,
              "ticks": ""
             }
            }
           }
          ],
          "scatter3d": [
           {
            "type": "scatter3d",
            "line": {
             "colorbar": {
              "outlinewidth": 0,
              "ticks": ""
             }
            },
            "marker": {
             "colorbar": {
              "outlinewidth": 0,
              "ticks": ""
             }
            }
           }
          ],
          "scattermapbox": [
           {
            "type": "scattermapbox",
            "marker": {
             "colorbar": {
              "outlinewidth": 0,
              "ticks": ""
             }
            }
           }
          ],
          "scatterternary": [
           {
            "type": "scatterternary",
            "marker": {
             "colorbar": {
              "outlinewidth": 0,
              "ticks": ""
             }
            }
           }
          ],
          "scattercarpet": [
           {
            "type": "scattercarpet",
            "marker": {
             "colorbar": {
              "outlinewidth": 0,
              "ticks": ""
             }
            }
           }
          ],
          "carpet": [
           {
            "aaxis": {
             "endlinecolor": "#2a3f5f",
             "gridcolor": "white",
             "linecolor": "white",
             "minorgridcolor": "white",
             "startlinecolor": "#2a3f5f"
            },
            "baxis": {
             "endlinecolor": "#2a3f5f",
             "gridcolor": "white",
             "linecolor": "white",
             "minorgridcolor": "white",
             "startlinecolor": "#2a3f5f"
            },
            "type": "carpet"
           }
          ],
          "table": [
           {
            "cells": {
             "fill": {
              "color": "#EBF0F8"
             },
             "line": {
              "color": "white"
             }
            },
            "header": {
             "fill": {
              "color": "#C8D4E3"
             },
             "line": {
              "color": "white"
             }
            },
            "type": "table"
           }
          ],
          "barpolar": [
           {
            "marker": {
             "line": {
              "color": "#E5ECF6",
              "width": 0.5
             },
             "pattern": {
              "fillmode": "overlay",
              "size": 10,
              "solidity": 0.2
             }
            },
            "type": "barpolar"
           }
          ],
          "pie": [
           {
            "automargin": true,
            "type": "pie"
           }
          ]
         },
         "layout": {
          "autotypenumbers": "strict",
          "colorway": [
           "#636efa",
           "#EF553B",
           "#00cc96",
           "#ab63fa",
           "#FFA15A",
           "#19d3f3",
           "#FF6692",
           "#B6E880",
           "#FF97FF",
           "#FECB52"
          ],
          "font": {
           "color": "#2a3f5f"
          },
          "hovermode": "closest",
          "hoverlabel": {
           "align": "left"
          },
          "paper_bgcolor": "white",
          "plot_bgcolor": "#E5ECF6",
          "polar": {
           "bgcolor": "#E5ECF6",
           "angularaxis": {
            "gridcolor": "white",
            "linecolor": "white",
            "ticks": ""
           },
           "radialaxis": {
            "gridcolor": "white",
            "linecolor": "white",
            "ticks": ""
           }
          },
          "ternary": {
           "bgcolor": "#E5ECF6",
           "aaxis": {
            "gridcolor": "white",
            "linecolor": "white",
            "ticks": ""
           },
           "baxis": {
            "gridcolor": "white",
            "linecolor": "white",
            "ticks": ""
           },
           "caxis": {
            "gridcolor": "white",
            "linecolor": "white",
            "ticks": ""
           }
          },
          "coloraxis": {
           "colorbar": {
            "outlinewidth": 0,
            "ticks": ""
           }
          },
          "colorscale": {
           "sequential": [
            [
             0.0,
             "#0d0887"
            ],
            [
             0.1111111111111111,
             "#46039f"
            ],
            [
             0.2222222222222222,
             "#7201a8"
            ],
            [
             0.3333333333333333,
             "#9c179e"
            ],
            [
             0.4444444444444444,
             "#bd3786"
            ],
            [
             0.5555555555555556,
             "#d8576b"
            ],
            [
             0.6666666666666666,
             "#ed7953"
            ],
            [
             0.7777777777777778,
             "#fb9f3a"
            ],
            [
             0.8888888888888888,
             "#fdca26"
            ],
            [
             1.0,
             "#f0f921"
            ]
           ],
           "sequentialminus": [
            [
             0.0,
             "#0d0887"
            ],
            [
             0.1111111111111111,
             "#46039f"
            ],
            [
             0.2222222222222222,
             "#7201a8"
            ],
            [
             0.3333333333333333,
             "#9c179e"
            ],
            [
             0.4444444444444444,
             "#bd3786"
            ],
            [
             0.5555555555555556,
             "#d8576b"
            ],
            [
             0.6666666666666666,
             "#ed7953"
            ],
            [
             0.7777777777777778,
             "#fb9f3a"
            ],
            [
             0.8888888888888888,
             "#fdca26"
            ],
            [
             1.0,
             "#f0f921"
            ]
           ],
           "diverging": [
            [
             0,
             "#8e0152"
            ],
            [
             0.1,
             "#c51b7d"
            ],
            [
             0.2,
             "#de77ae"
            ],
            [
             0.3,
             "#f1b6da"
            ],
            [
             0.4,
             "#fde0ef"
            ],
            [
             0.5,
             "#f7f7f7"
            ],
            [
             0.6,
             "#e6f5d0"
            ],
            [
             0.7,
             "#b8e186"
            ],
            [
             0.8,
             "#7fbc41"
            ],
            [
             0.9,
             "#4d9221"
            ],
            [
             1,
             "#276419"
            ]
           ]
          },
          "xaxis": {
           "gridcolor": "white",
           "linecolor": "white",
           "ticks": "",
           "title": {
            "standoff": 15
           },
           "zerolinecolor": "white",
           "automargin": true,
           "zerolinewidth": 2
          },
          "yaxis": {
           "gridcolor": "white",
           "linecolor": "white",
           "ticks": "",
           "title": {
            "standoff": 15
           },
           "zerolinecolor": "white",
           "automargin": true,
           "zerolinewidth": 2
          },
          "scene": {
           "xaxis": {
            "backgroundcolor": "#E5ECF6",
            "gridcolor": "white",
            "linecolor": "white",
            "showbackground": true,
            "ticks": "",
            "zerolinecolor": "white",
            "gridwidth": 2
           },
           "yaxis": {
            "backgroundcolor": "#E5ECF6",
            "gridcolor": "white",
            "linecolor": "white",
            "showbackground": true,
            "ticks": "",
            "zerolinecolor": "white",
            "gridwidth": 2
           },
           "zaxis": {
            "backgroundcolor": "#E5ECF6",
            "gridcolor": "white",
            "linecolor": "white",
            "showbackground": true,
            "ticks": "",
            "zerolinecolor": "white",
            "gridwidth": 2
           }
          },
          "shapedefaults": {
           "line": {
            "color": "#2a3f5f"
           }
          },
          "annotationdefaults": {
           "arrowcolor": "#2a3f5f",
           "arrowhead": 0,
           "arrowwidth": 1
          },
          "geo": {
           "bgcolor": "white",
           "landcolor": "#E5ECF6",
           "subunitcolor": "white",
           "showland": true,
           "showlakes": true,
           "lakecolor": "white"
          },
          "title": {
           "x": 0.05
          },
          "mapbox": {
           "style": "light"
          }
         }
        },
        "xaxis": {
         "anchor": "y",
         "domain": [
          0.0,
          1.0
         ],
         "title": {
          "text": "Time period"
         },
         "tickangle": 30
        },
        "yaxis": {
         "anchor": "x",
         "domain": [
          0.0,
          1.0
         ],
         "title": {
          "text": "Normalized passenger transport volume [%]"
         }
        },
        "legend": {
         "title": {
          "text": "Means of travel"
         },
         "tracegroupgap": 0
        },
        "title": {
         "text": "Normalized volume of passenger transport by air, sea and rail in Finland from 2018 to 2023"
        }
       },
       "config": {
        "plotlyServerURL": "https://plot.ly"
       }
      },
      "text/html": "<div>                            <div id=\"a7120310-18bc-4792-89b6-e0578267ac7a\" class=\"plotly-graph-div\" style=\"height:525px; width:100%;\"></div>            <script type=\"text/javascript\">                require([\"plotly\"], function(Plotly) {                    window.PLOTLYENV=window.PLOTLYENV || {};                                    if (document.getElementById(\"a7120310-18bc-4792-89b6-e0578267ac7a\")) {                    Plotly.newPlot(                        \"a7120310-18bc-4792-89b6-e0578267ac7a\",                        [{\"hovertemplate\":\"Means of travel=Aviation\\u003cbr\\u003eTime period=%{x}\\u003cbr\\u003eNormalized passenger transport volume [%]=%{y}\\u003cextra\\u003e\\u003c\\u002fextra\\u003e\",\"legendgroup\":\"Aviation\",\"line\":{\"color\":\"#636efa\",\"dash\":\"solid\"},\"marker\":{\"symbol\":\"circle\"},\"mode\":\"lines\",\"name\":\"Aviation\",\"orientation\":\"v\",\"showlegend\":true,\"x\":[\"2018-Q1\",\"2018-Q2\",\"2018-Q3\",\"2018-Q4\",\"2019-Q1\",\"2019-Q2\",\"2019-Q3\",\"2019-Q4\",\"2020-Q1\",\"2020-Q2\",\"2020-Q3\",\"2020-Q4\",\"2021-Q1\",\"2021-Q2\",\"2021-Q3\",\"2021-Q4\",\"2022-Q1\",\"2022-Q2\",\"2022-Q3\",\"2022-Q4\",\"2023-Q1\",\"2023-Q2\"],\"xaxis\":\"x\",\"y\":[79.94703831559781,90.58305558932317,93.56546281960108,87.33713957137742,83.0757653538722,96.53642692797982,100.0,89.48283587187318,66.20159832835326,2.2911761009289693,10.71512062746346,6.831416980229867,5.938980265686467,7.218898204872139,20.73446140537703,38.2927908173543,36.15362438697278,55.81373196816784,65.06947417269953,61.88145527981999,61.61563250905346,66.10181176952031],\"yaxis\":\"y\",\"type\":\"scatter\"},{\"hovertemplate\":\"Means of travel=Maritime\\u003cbr\\u003eTime period=%{x}\\u003cbr\\u003eNormalized passenger transport volume [%]=%{y}\\u003cextra\\u003e\\u003c\\u002fextra\\u003e\",\"legendgroup\":\"Maritime\",\"line\":{\"color\":\"#EF553B\",\"dash\":\"solid\"},\"marker\":{\"symbol\":\"circle\"},\"mode\":\"lines\",\"name\":\"Maritime\",\"orientation\":\"v\",\"showlegend\":true,\"x\":[\"2018-Q1\",\"2018-Q2\",\"2018-Q3\",\"2018-Q4\",\"2019-Q1\",\"2019-Q2\",\"2019-Q3\",\"2019-Q4\",\"2020-Q1\",\"2020-Q2\",\"2020-Q3\",\"2020-Q4\",\"2021-Q1\",\"2021-Q2\",\"2021-Q3\",\"2021-Q4\",\"2022-Q1\",\"2022-Q2\",\"2022-Q3\",\"2022-Q4\",\"2023-Q1\",\"2023-Q2\"],\"xaxis\":\"x\",\"y\":[57.8036605657238,81.39767054908486,98.6855241264559,70.98169717138103,55.54076539101497,82.54575707154743,100.0,70.08319467554077,46.50582362728785,11.697171381031614,41.18136439267887,17.204658901830282,10.199667221297837,18.136439267886857,42.229617304492514,39.750415973377706,26.70549084858569,60.18302828618968,77.88685524126456,51.780366056572376,40.5324459234609,null],\"yaxis\":\"y\",\"type\":\"scatter\"},{\"hovertemplate\":\"Means of travel=Rail\\u003cbr\\u003eTime period=%{x}\\u003cbr\\u003eNormalized passenger transport volume [%]=%{y}\\u003cextra\\u003e\\u003c\\u002fextra\\u003e\",\"legendgroup\":\"Rail\",\"line\":{\"color\":\"#00cc96\",\"dash\":\"solid\"},\"marker\":{\"symbol\":\"circle\"},\"mode\":\"lines\",\"name\":\"Rail\",\"orientation\":\"v\",\"showlegend\":true,\"x\":[\"2018-Q1\",\"2018-Q2\",\"2018-Q3\",\"2018-Q4\",\"2019-Q1\",\"2019-Q2\",\"2019-Q3\",\"2019-Q4\",\"2020-Q1\",\"2020-Q2\",\"2020-Q3\",\"2020-Q4\",\"2021-Q1\",\"2021-Q2\",\"2021-Q3\",\"2021-Q4\",\"2022-Q1\",\"2022-Q2\",\"2022-Q3\",\"2022-Q4\",\"2023-Q1\",\"2023-Q2\"],\"xaxis\":\"x\",\"y\":[88.29448731206746,82.90907644578793,83.90342852597247,92.92816800572749,89.70248985760878,89.19735900087503,90.21159812266328,100.0,74.54458674727547,42.864529472595656,59.01678466311351,60.42876461697558,42.08098003341023,48.456765571553575,60.09466231803357,68.15686898416992,60.27364569246679,76.65659056558746,82.0221143902633,83.68467106833188,78.66120435923952,82.2925781560735],\"yaxis\":\"y\",\"type\":\"scatter\"}],                        {\"template\":{\"data\":{\"histogram2dcontour\":[{\"type\":\"histogram2dcontour\",\"colorbar\":{\"outlinewidth\":0,\"ticks\":\"\"},\"colorscale\":[[0.0,\"#0d0887\"],[0.1111111111111111,\"#46039f\"],[0.2222222222222222,\"#7201a8\"],[0.3333333333333333,\"#9c179e\"],[0.4444444444444444,\"#bd3786\"],[0.5555555555555556,\"#d8576b\"],[0.6666666666666666,\"#ed7953\"],[0.7777777777777778,\"#fb9f3a\"],[0.8888888888888888,\"#fdca26\"],[1.0,\"#f0f921\"]]}],\"choropleth\":[{\"type\":\"choropleth\",\"colorbar\":{\"outlinewidth\":0,\"ticks\":\"\"}}],\"histogram2d\":[{\"type\":\"histogram2d\",\"colorbar\":{\"outlinewidth\":0,\"ticks\":\"\"},\"colorscale\":[[0.0,\"#0d0887\"],[0.1111111111111111,\"#46039f\"],[0.2222222222222222,\"#7201a8\"],[0.3333333333333333,\"#9c179e\"],[0.4444444444444444,\"#bd3786\"],[0.5555555555555556,\"#d8576b\"],[0.6666666666666666,\"#ed7953\"],[0.7777777777777778,\"#fb9f3a\"],[0.8888888888888888,\"#fdca26\"],[1.0,\"#f0f921\"]]}],\"heatmap\":[{\"type\":\"heatmap\",\"colorbar\":{\"outlinewidth\":0,\"ticks\":\"\"},\"colorscale\":[[0.0,\"#0d0887\"],[0.1111111111111111,\"#46039f\"],[0.2222222222222222,\"#7201a8\"],[0.3333333333333333,\"#9c179e\"],[0.4444444444444444,\"#bd3786\"],[0.5555555555555556,\"#d8576b\"],[0.6666666666666666,\"#ed7953\"],[0.7777777777777778,\"#fb9f3a\"],[0.8888888888888888,\"#fdca26\"],[1.0,\"#f0f921\"]]}],\"heatmapgl\":[{\"type\":\"heatmapgl\",\"colorbar\":{\"outlinewidth\":0,\"ticks\":\"\"},\"colorscale\":[[0.0,\"#0d0887\"],[0.1111111111111111,\"#46039f\"],[0.2222222222222222,\"#7201a8\"],[0.3333333333333333,\"#9c179e\"],[0.4444444444444444,\"#bd3786\"],[0.5555555555555556,\"#d8576b\"],[0.6666666666666666,\"#ed7953\"],[0.7777777777777778,\"#fb9f3a\"],[0.8888888888888888,\"#fdca26\"],[1.0,\"#f0f921\"]]}],\"contourcarpet\":[{\"type\":\"contourcarpet\",\"colorbar\":{\"outlinewidth\":0,\"ticks\":\"\"}}],\"contour\":[{\"type\":\"contour\",\"colorbar\":{\"outlinewidth\":0,\"ticks\":\"\"},\"colorscale\":[[0.0,\"#0d0887\"],[0.1111111111111111,\"#46039f\"],[0.2222222222222222,\"#7201a8\"],[0.3333333333333333,\"#9c179e\"],[0.4444444444444444,\"#bd3786\"],[0.5555555555555556,\"#d8576b\"],[0.6666666666666666,\"#ed7953\"],[0.7777777777777778,\"#fb9f3a\"],[0.8888888888888888,\"#fdca26\"],[1.0,\"#f0f921\"]]}],\"surface\":[{\"type\":\"surface\",\"colorbar\":{\"outlinewidth\":0,\"ticks\":\"\"},\"colorscale\":[[0.0,\"#0d0887\"],[0.1111111111111111,\"#46039f\"],[0.2222222222222222,\"#7201a8\"],[0.3333333333333333,\"#9c179e\"],[0.4444444444444444,\"#bd3786\"],[0.5555555555555556,\"#d8576b\"],[0.6666666666666666,\"#ed7953\"],[0.7777777777777778,\"#fb9f3a\"],[0.8888888888888888,\"#fdca26\"],[1.0,\"#f0f921\"]]}],\"mesh3d\":[{\"type\":\"mesh3d\",\"colorbar\":{\"outlinewidth\":0,\"ticks\":\"\"}}],\"scatter\":[{\"fillpattern\":{\"fillmode\":\"overlay\",\"size\":10,\"solidity\":0.2},\"type\":\"scatter\"}],\"parcoords\":[{\"type\":\"parcoords\",\"line\":{\"colorbar\":{\"outlinewidth\":0,\"ticks\":\"\"}}}],\"scatterpolargl\":[{\"type\":\"scatterpolargl\",\"marker\":{\"colorbar\":{\"outlinewidth\":0,\"ticks\":\"\"}}}],\"bar\":[{\"error_x\":{\"color\":\"#2a3f5f\"},\"error_y\":{\"color\":\"#2a3f5f\"},\"marker\":{\"line\":{\"color\":\"#E5ECF6\",\"width\":0.5},\"pattern\":{\"fillmode\":\"overlay\",\"size\":10,\"solidity\":0.2}},\"type\":\"bar\"}],\"scattergeo\":[{\"type\":\"scattergeo\",\"marker\":{\"colorbar\":{\"outlinewidth\":0,\"ticks\":\"\"}}}],\"scatterpolar\":[{\"type\":\"scatterpolar\",\"marker\":{\"colorbar\":{\"outlinewidth\":0,\"ticks\":\"\"}}}],\"histogram\":[{\"marker\":{\"pattern\":{\"fillmode\":\"overlay\",\"size\":10,\"solidity\":0.2}},\"type\":\"histogram\"}],\"scattergl\":[{\"type\":\"scattergl\",\"marker\":{\"colorbar\":{\"outlinewidth\":0,\"ticks\":\"\"}}}],\"scatter3d\":[{\"type\":\"scatter3d\",\"line\":{\"colorbar\":{\"outlinewidth\":0,\"ticks\":\"\"}},\"marker\":{\"colorbar\":{\"outlinewidth\":0,\"ticks\":\"\"}}}],\"scattermapbox\":[{\"type\":\"scattermapbox\",\"marker\":{\"colorbar\":{\"outlinewidth\":0,\"ticks\":\"\"}}}],\"scatterternary\":[{\"type\":\"scatterternary\",\"marker\":{\"colorbar\":{\"outlinewidth\":0,\"ticks\":\"\"}}}],\"scattercarpet\":[{\"type\":\"scattercarpet\",\"marker\":{\"colorbar\":{\"outlinewidth\":0,\"ticks\":\"\"}}}],\"carpet\":[{\"aaxis\":{\"endlinecolor\":\"#2a3f5f\",\"gridcolor\":\"white\",\"linecolor\":\"white\",\"minorgridcolor\":\"white\",\"startlinecolor\":\"#2a3f5f\"},\"baxis\":{\"endlinecolor\":\"#2a3f5f\",\"gridcolor\":\"white\",\"linecolor\":\"white\",\"minorgridcolor\":\"white\",\"startlinecolor\":\"#2a3f5f\"},\"type\":\"carpet\"}],\"table\":[{\"cells\":{\"fill\":{\"color\":\"#EBF0F8\"},\"line\":{\"color\":\"white\"}},\"header\":{\"fill\":{\"color\":\"#C8D4E3\"},\"line\":{\"color\":\"white\"}},\"type\":\"table\"}],\"barpolar\":[{\"marker\":{\"line\":{\"color\":\"#E5ECF6\",\"width\":0.5},\"pattern\":{\"fillmode\":\"overlay\",\"size\":10,\"solidity\":0.2}},\"type\":\"barpolar\"}],\"pie\":[{\"automargin\":true,\"type\":\"pie\"}]},\"layout\":{\"autotypenumbers\":\"strict\",\"colorway\":[\"#636efa\",\"#EF553B\",\"#00cc96\",\"#ab63fa\",\"#FFA15A\",\"#19d3f3\",\"#FF6692\",\"#B6E880\",\"#FF97FF\",\"#FECB52\"],\"font\":{\"color\":\"#2a3f5f\"},\"hovermode\":\"closest\",\"hoverlabel\":{\"align\":\"left\"},\"paper_bgcolor\":\"white\",\"plot_bgcolor\":\"#E5ECF6\",\"polar\":{\"bgcolor\":\"#E5ECF6\",\"angularaxis\":{\"gridcolor\":\"white\",\"linecolor\":\"white\",\"ticks\":\"\"},\"radialaxis\":{\"gridcolor\":\"white\",\"linecolor\":\"white\",\"ticks\":\"\"}},\"ternary\":{\"bgcolor\":\"#E5ECF6\",\"aaxis\":{\"gridcolor\":\"white\",\"linecolor\":\"white\",\"ticks\":\"\"},\"baxis\":{\"gridcolor\":\"white\",\"linecolor\":\"white\",\"ticks\":\"\"},\"caxis\":{\"gridcolor\":\"white\",\"linecolor\":\"white\",\"ticks\":\"\"}},\"coloraxis\":{\"colorbar\":{\"outlinewidth\":0,\"ticks\":\"\"}},\"colorscale\":{\"sequential\":[[0.0,\"#0d0887\"],[0.1111111111111111,\"#46039f\"],[0.2222222222222222,\"#7201a8\"],[0.3333333333333333,\"#9c179e\"],[0.4444444444444444,\"#bd3786\"],[0.5555555555555556,\"#d8576b\"],[0.6666666666666666,\"#ed7953\"],[0.7777777777777778,\"#fb9f3a\"],[0.8888888888888888,\"#fdca26\"],[1.0,\"#f0f921\"]],\"sequentialminus\":[[0.0,\"#0d0887\"],[0.1111111111111111,\"#46039f\"],[0.2222222222222222,\"#7201a8\"],[0.3333333333333333,\"#9c179e\"],[0.4444444444444444,\"#bd3786\"],[0.5555555555555556,\"#d8576b\"],[0.6666666666666666,\"#ed7953\"],[0.7777777777777778,\"#fb9f3a\"],[0.8888888888888888,\"#fdca26\"],[1.0,\"#f0f921\"]],\"diverging\":[[0,\"#8e0152\"],[0.1,\"#c51b7d\"],[0.2,\"#de77ae\"],[0.3,\"#f1b6da\"],[0.4,\"#fde0ef\"],[0.5,\"#f7f7f7\"],[0.6,\"#e6f5d0\"],[0.7,\"#b8e186\"],[0.8,\"#7fbc41\"],[0.9,\"#4d9221\"],[1,\"#276419\"]]},\"xaxis\":{\"gridcolor\":\"white\",\"linecolor\":\"white\",\"ticks\":\"\",\"title\":{\"standoff\":15},\"zerolinecolor\":\"white\",\"automargin\":true,\"zerolinewidth\":2},\"yaxis\":{\"gridcolor\":\"white\",\"linecolor\":\"white\",\"ticks\":\"\",\"title\":{\"standoff\":15},\"zerolinecolor\":\"white\",\"automargin\":true,\"zerolinewidth\":2},\"scene\":{\"xaxis\":{\"backgroundcolor\":\"#E5ECF6\",\"gridcolor\":\"white\",\"linecolor\":\"white\",\"showbackground\":true,\"ticks\":\"\",\"zerolinecolor\":\"white\",\"gridwidth\":2},\"yaxis\":{\"backgroundcolor\":\"#E5ECF6\",\"gridcolor\":\"white\",\"linecolor\":\"white\",\"showbackground\":true,\"ticks\":\"\",\"zerolinecolor\":\"white\",\"gridwidth\":2},\"zaxis\":{\"backgroundcolor\":\"#E5ECF6\",\"gridcolor\":\"white\",\"linecolor\":\"white\",\"showbackground\":true,\"ticks\":\"\",\"zerolinecolor\":\"white\",\"gridwidth\":2}},\"shapedefaults\":{\"line\":{\"color\":\"#2a3f5f\"}},\"annotationdefaults\":{\"arrowcolor\":\"#2a3f5f\",\"arrowhead\":0,\"arrowwidth\":1},\"geo\":{\"bgcolor\":\"white\",\"landcolor\":\"#E5ECF6\",\"subunitcolor\":\"white\",\"showland\":true,\"showlakes\":true,\"lakecolor\":\"white\"},\"title\":{\"x\":0.05},\"mapbox\":{\"style\":\"light\"}}},\"xaxis\":{\"anchor\":\"y\",\"domain\":[0.0,1.0],\"title\":{\"text\":\"Time period\"},\"tickangle\":30},\"yaxis\":{\"anchor\":\"x\",\"domain\":[0.0,1.0],\"title\":{\"text\":\"Normalized passenger transport volume [%]\"}},\"legend\":{\"title\":{\"text\":\"Means of travel\"},\"tracegroupgap\":0},\"title\":{\"text\":\"Normalized volume of passenger transport by air, sea and rail in Finland from 2018 to 2023\"}},                        {\"responsive\": true}                    ).then(function(){\n                            \nvar gd = document.getElementById('a7120310-18bc-4792-89b6-e0578267ac7a');\nvar x = new MutationObserver(function (mutations, observer) {{\n        var display = window.getComputedStyle(gd).display;\n        if (!display || display === 'none') {{\n            console.log([gd, 'removed!']);\n            Plotly.purge(gd);\n            observer.disconnect();\n        }}\n}});\n\n// Listen for the removal of the full notebook cells\nvar notebookContainer = gd.closest('#notebook-container');\nif (notebookContainer) {{\n    x.observe(notebookContainer, {childList: true});\n}}\n\n// Listen for the clearing of the current output cell\nvar outputEl = gd.closest('.output');\nif (outputEl) {{\n    x.observe(outputEl, {childList: true});\n}}\n\n                        })                };                });            </script>        </div>"
     },
     "metadata": {},
     "output_type": "display_data"
    },
    {
     "data": {
      "application/vnd.plotly.v1+json": {
       "data": [
        {
         "hovertemplate": "Means of travel=Aviation<br>Time period=%{x}<br>Normalized passenger transport volume [%]=%{y}<extra></extra>",
         "legendgroup": "Aviation",
         "line": {
          "color": "#636efa",
          "dash": "solid"
         },
         "marker": {
          "symbol": "circle"
         },
         "mode": "lines",
         "name": "Aviation",
         "orientation": "v",
         "showlegend": true,
         "x": [
          "2018-Q1",
          "2018-Q2",
          "2018-Q3",
          "2018-Q4",
          "2019-Q1",
          "2019-Q2",
          "2019-Q3",
          "2019-Q4",
          "2020-Q1",
          "2020-Q2",
          "2020-Q3",
          "2020-Q4",
          "2021-Q1",
          "2021-Q2",
          "2021-Q3",
          "2021-Q4",
          "2022-Q1",
          "2022-Q2",
          "2022-Q3",
          "2022-Q4",
          "2023-Q1",
          "2023-Q2"
         ],
         "xaxis": "x",
         "y": [
          72.82076891768011,
          92.0137804805872,
          98.71465484977544,
          81.52677045614286,
          74.20113498238446,
          94.472556585559,
          100.0,
          83.11082642242596,
          59.15350234239921,
          3.820403149333918,
          23.761671376768174,
          15.494045930833648,
          9.129884677685816,
          16.730145368871007,
          52.04527849910369,
          48.101423117027416,
          43.834567682351896,
          75.20412967280761,
          81.04361135453784,
          65.4691977732238,
          61.13261151926792,
          82.19892720083404
         ],
         "yaxis": "y",
         "type": "scatter"
        },
        {
         "hovertemplate": "Means of travel=Maritime<br>Time period=%{x}<br>Normalized passenger transport volume [%]=%{y}<extra></extra>",
         "legendgroup": "Maritime",
         "line": {
          "color": "#EF553B",
          "dash": "solid"
         },
         "marker": {
          "symbol": "circle"
         },
         "mode": "lines",
         "name": "Maritime",
         "orientation": "v",
         "showlegend": true,
         "x": [
          "2018-Q1",
          "2018-Q2",
          "2018-Q3",
          "2018-Q4",
          "2019-Q1",
          "2019-Q2",
          "2019-Q3",
          "2019-Q4",
          "2020-Q1",
          "2020-Q2",
          "2020-Q3",
          "2020-Q4",
          "2021-Q1",
          "2021-Q2",
          "2021-Q3",
          "2021-Q4",
          "2022-Q1",
          "2022-Q2",
          "2022-Q3",
          "2022-Q4",
          "2023-Q1",
          "2023-Q2"
         ],
         "xaxis": "x",
         "y": [
          58.631415241057546,
          82.73716951788491,
          99.06687402799378,
          67.651632970451,
          57.23172628304821,
          83.51477449455676,
          100.0,
          71.69517884914464,
          45.25660964230171,
          17.573872472783826,
          56.14307931570762,
          31.57076205287714,
          17.107309486780714,
          29.393468118195955,
          52.87713841368585,
          38.25816485225506,
          31.2597200622084,
          84.13685847589424,
          116.95178849144637,
          78.69362363919129,
          null,
          null
         ],
         "yaxis": "y",
         "type": "scatter"
        },
        {
         "hovertemplate": "Means of travel=Rail<br>Time period=%{x}<br>Normalized passenger transport volume [%]=%{y}<extra></extra>",
         "legendgroup": "Rail",
         "line": {
          "color": "#00cc96",
          "dash": "solid"
         },
         "marker": {
          "symbol": "circle"
         },
         "mode": "lines",
         "name": "Rail",
         "orientation": "v",
         "showlegend": true,
         "x": [
          "2018-Q1",
          "2018-Q2",
          "2018-Q3",
          "2018-Q4",
          "2019-Q1",
          "2019-Q2",
          "2019-Q3",
          "2019-Q4",
          "2020-Q1",
          "2020-Q2",
          "2020-Q3",
          "2020-Q4",
          "2021-Q1",
          "2021-Q2",
          "2021-Q3",
          "2021-Q4",
          "2022-Q1",
          "2022-Q2",
          "2022-Q3",
          "2022-Q4",
          "2023-Q1",
          "2023-Q2"
         ],
         "xaxis": "x",
         "y": [
          95.4256882531596,
          95.68629371999609,
          90.56529832467916,
          100.19398452042716,
          95.23170373273244,
          95.49230919956892,
          90.37131380425198,
          100.0,
          77.74566473988439,
          20.350739688449103,
          40.48594102086803,
          39.27696678749878,
          30.34486136964828,
          44.1207014793769,
          58.54021749779563,
          69.9578720485941,
          62.43754286274125,
          83.95414911335358,
          74.68599980405604,
          91.3970804349956,
          85.47565396296659,
          89.14274517487999
         ],
         "yaxis": "y",
         "type": "scatter"
        }
       ],
       "layout": {
        "template": {
         "data": {
          "histogram2dcontour": [
           {
            "type": "histogram2dcontour",
            "colorbar": {
             "outlinewidth": 0,
             "ticks": ""
            },
            "colorscale": [
             [
              0.0,
              "#0d0887"
             ],
             [
              0.1111111111111111,
              "#46039f"
             ],
             [
              0.2222222222222222,
              "#7201a8"
             ],
             [
              0.3333333333333333,
              "#9c179e"
             ],
             [
              0.4444444444444444,
              "#bd3786"
             ],
             [
              0.5555555555555556,
              "#d8576b"
             ],
             [
              0.6666666666666666,
              "#ed7953"
             ],
             [
              0.7777777777777778,
              "#fb9f3a"
             ],
             [
              0.8888888888888888,
              "#fdca26"
             ],
             [
              1.0,
              "#f0f921"
             ]
            ]
           }
          ],
          "choropleth": [
           {
            "type": "choropleth",
            "colorbar": {
             "outlinewidth": 0,
             "ticks": ""
            }
           }
          ],
          "histogram2d": [
           {
            "type": "histogram2d",
            "colorbar": {
             "outlinewidth": 0,
             "ticks": ""
            },
            "colorscale": [
             [
              0.0,
              "#0d0887"
             ],
             [
              0.1111111111111111,
              "#46039f"
             ],
             [
              0.2222222222222222,
              "#7201a8"
             ],
             [
              0.3333333333333333,
              "#9c179e"
             ],
             [
              0.4444444444444444,
              "#bd3786"
             ],
             [
              0.5555555555555556,
              "#d8576b"
             ],
             [
              0.6666666666666666,
              "#ed7953"
             ],
             [
              0.7777777777777778,
              "#fb9f3a"
             ],
             [
              0.8888888888888888,
              "#fdca26"
             ],
             [
              1.0,
              "#f0f921"
             ]
            ]
           }
          ],
          "heatmap": [
           {
            "type": "heatmap",
            "colorbar": {
             "outlinewidth": 0,
             "ticks": ""
            },
            "colorscale": [
             [
              0.0,
              "#0d0887"
             ],
             [
              0.1111111111111111,
              "#46039f"
             ],
             [
              0.2222222222222222,
              "#7201a8"
             ],
             [
              0.3333333333333333,
              "#9c179e"
             ],
             [
              0.4444444444444444,
              "#bd3786"
             ],
             [
              0.5555555555555556,
              "#d8576b"
             ],
             [
              0.6666666666666666,
              "#ed7953"
             ],
             [
              0.7777777777777778,
              "#fb9f3a"
             ],
             [
              0.8888888888888888,
              "#fdca26"
             ],
             [
              1.0,
              "#f0f921"
             ]
            ]
           }
          ],
          "heatmapgl": [
           {
            "type": "heatmapgl",
            "colorbar": {
             "outlinewidth": 0,
             "ticks": ""
            },
            "colorscale": [
             [
              0.0,
              "#0d0887"
             ],
             [
              0.1111111111111111,
              "#46039f"
             ],
             [
              0.2222222222222222,
              "#7201a8"
             ],
             [
              0.3333333333333333,
              "#9c179e"
             ],
             [
              0.4444444444444444,
              "#bd3786"
             ],
             [
              0.5555555555555556,
              "#d8576b"
             ],
             [
              0.6666666666666666,
              "#ed7953"
             ],
             [
              0.7777777777777778,
              "#fb9f3a"
             ],
             [
              0.8888888888888888,
              "#fdca26"
             ],
             [
              1.0,
              "#f0f921"
             ]
            ]
           }
          ],
          "contourcarpet": [
           {
            "type": "contourcarpet",
            "colorbar": {
             "outlinewidth": 0,
             "ticks": ""
            }
           }
          ],
          "contour": [
           {
            "type": "contour",
            "colorbar": {
             "outlinewidth": 0,
             "ticks": ""
            },
            "colorscale": [
             [
              0.0,
              "#0d0887"
             ],
             [
              0.1111111111111111,
              "#46039f"
             ],
             [
              0.2222222222222222,
              "#7201a8"
             ],
             [
              0.3333333333333333,
              "#9c179e"
             ],
             [
              0.4444444444444444,
              "#bd3786"
             ],
             [
              0.5555555555555556,
              "#d8576b"
             ],
             [
              0.6666666666666666,
              "#ed7953"
             ],
             [
              0.7777777777777778,
              "#fb9f3a"
             ],
             [
              0.8888888888888888,
              "#fdca26"
             ],
             [
              1.0,
              "#f0f921"
             ]
            ]
           }
          ],
          "surface": [
           {
            "type": "surface",
            "colorbar": {
             "outlinewidth": 0,
             "ticks": ""
            },
            "colorscale": [
             [
              0.0,
              "#0d0887"
             ],
             [
              0.1111111111111111,
              "#46039f"
             ],
             [
              0.2222222222222222,
              "#7201a8"
             ],
             [
              0.3333333333333333,
              "#9c179e"
             ],
             [
              0.4444444444444444,
              "#bd3786"
             ],
             [
              0.5555555555555556,
              "#d8576b"
             ],
             [
              0.6666666666666666,
              "#ed7953"
             ],
             [
              0.7777777777777778,
              "#fb9f3a"
             ],
             [
              0.8888888888888888,
              "#fdca26"
             ],
             [
              1.0,
              "#f0f921"
             ]
            ]
           }
          ],
          "mesh3d": [
           {
            "type": "mesh3d",
            "colorbar": {
             "outlinewidth": 0,
             "ticks": ""
            }
           }
          ],
          "scatter": [
           {
            "fillpattern": {
             "fillmode": "overlay",
             "size": 10,
             "solidity": 0.2
            },
            "type": "scatter"
           }
          ],
          "parcoords": [
           {
            "type": "parcoords",
            "line": {
             "colorbar": {
              "outlinewidth": 0,
              "ticks": ""
             }
            }
           }
          ],
          "scatterpolargl": [
           {
            "type": "scatterpolargl",
            "marker": {
             "colorbar": {
              "outlinewidth": 0,
              "ticks": ""
             }
            }
           }
          ],
          "bar": [
           {
            "error_x": {
             "color": "#2a3f5f"
            },
            "error_y": {
             "color": "#2a3f5f"
            },
            "marker": {
             "line": {
              "color": "#E5ECF6",
              "width": 0.5
             },
             "pattern": {
              "fillmode": "overlay",
              "size": 10,
              "solidity": 0.2
             }
            },
            "type": "bar"
           }
          ],
          "scattergeo": [
           {
            "type": "scattergeo",
            "marker": {
             "colorbar": {
              "outlinewidth": 0,
              "ticks": ""
             }
            }
           }
          ],
          "scatterpolar": [
           {
            "type": "scatterpolar",
            "marker": {
             "colorbar": {
              "outlinewidth": 0,
              "ticks": ""
             }
            }
           }
          ],
          "histogram": [
           {
            "marker": {
             "pattern": {
              "fillmode": "overlay",
              "size": 10,
              "solidity": 0.2
             }
            },
            "type": "histogram"
           }
          ],
          "scattergl": [
           {
            "type": "scattergl",
            "marker": {
             "colorbar": {
              "outlinewidth": 0,
              "ticks": ""
             }
            }
           }
          ],
          "scatter3d": [
           {
            "type": "scatter3d",
            "line": {
             "colorbar": {
              "outlinewidth": 0,
              "ticks": ""
             }
            },
            "marker": {
             "colorbar": {
              "outlinewidth": 0,
              "ticks": ""
             }
            }
           }
          ],
          "scattermapbox": [
           {
            "type": "scattermapbox",
            "marker": {
             "colorbar": {
              "outlinewidth": 0,
              "ticks": ""
             }
            }
           }
          ],
          "scatterternary": [
           {
            "type": "scatterternary",
            "marker": {
             "colorbar": {
              "outlinewidth": 0,
              "ticks": ""
             }
            }
           }
          ],
          "scattercarpet": [
           {
            "type": "scattercarpet",
            "marker": {
             "colorbar": {
              "outlinewidth": 0,
              "ticks": ""
             }
            }
           }
          ],
          "carpet": [
           {
            "aaxis": {
             "endlinecolor": "#2a3f5f",
             "gridcolor": "white",
             "linecolor": "white",
             "minorgridcolor": "white",
             "startlinecolor": "#2a3f5f"
            },
            "baxis": {
             "endlinecolor": "#2a3f5f",
             "gridcolor": "white",
             "linecolor": "white",
             "minorgridcolor": "white",
             "startlinecolor": "#2a3f5f"
            },
            "type": "carpet"
           }
          ],
          "table": [
           {
            "cells": {
             "fill": {
              "color": "#EBF0F8"
             },
             "line": {
              "color": "white"
             }
            },
            "header": {
             "fill": {
              "color": "#C8D4E3"
             },
             "line": {
              "color": "white"
             }
            },
            "type": "table"
           }
          ],
          "barpolar": [
           {
            "marker": {
             "line": {
              "color": "#E5ECF6",
              "width": 0.5
             },
             "pattern": {
              "fillmode": "overlay",
              "size": 10,
              "solidity": 0.2
             }
            },
            "type": "barpolar"
           }
          ],
          "pie": [
           {
            "automargin": true,
            "type": "pie"
           }
          ]
         },
         "layout": {
          "autotypenumbers": "strict",
          "colorway": [
           "#636efa",
           "#EF553B",
           "#00cc96",
           "#ab63fa",
           "#FFA15A",
           "#19d3f3",
           "#FF6692",
           "#B6E880",
           "#FF97FF",
           "#FECB52"
          ],
          "font": {
           "color": "#2a3f5f"
          },
          "hovermode": "closest",
          "hoverlabel": {
           "align": "left"
          },
          "paper_bgcolor": "white",
          "plot_bgcolor": "#E5ECF6",
          "polar": {
           "bgcolor": "#E5ECF6",
           "angularaxis": {
            "gridcolor": "white",
            "linecolor": "white",
            "ticks": ""
           },
           "radialaxis": {
            "gridcolor": "white",
            "linecolor": "white",
            "ticks": ""
           }
          },
          "ternary": {
           "bgcolor": "#E5ECF6",
           "aaxis": {
            "gridcolor": "white",
            "linecolor": "white",
            "ticks": ""
           },
           "baxis": {
            "gridcolor": "white",
            "linecolor": "white",
            "ticks": ""
           },
           "caxis": {
            "gridcolor": "white",
            "linecolor": "white",
            "ticks": ""
           }
          },
          "coloraxis": {
           "colorbar": {
            "outlinewidth": 0,
            "ticks": ""
           }
          },
          "colorscale": {
           "sequential": [
            [
             0.0,
             "#0d0887"
            ],
            [
             0.1111111111111111,
             "#46039f"
            ],
            [
             0.2222222222222222,
             "#7201a8"
            ],
            [
             0.3333333333333333,
             "#9c179e"
            ],
            [
             0.4444444444444444,
             "#bd3786"
            ],
            [
             0.5555555555555556,
             "#d8576b"
            ],
            [
             0.6666666666666666,
             "#ed7953"
            ],
            [
             0.7777777777777778,
             "#fb9f3a"
            ],
            [
             0.8888888888888888,
             "#fdca26"
            ],
            [
             1.0,
             "#f0f921"
            ]
           ],
           "sequentialminus": [
            [
             0.0,
             "#0d0887"
            ],
            [
             0.1111111111111111,
             "#46039f"
            ],
            [
             0.2222222222222222,
             "#7201a8"
            ],
            [
             0.3333333333333333,
             "#9c179e"
            ],
            [
             0.4444444444444444,
             "#bd3786"
            ],
            [
             0.5555555555555556,
             "#d8576b"
            ],
            [
             0.6666666666666666,
             "#ed7953"
            ],
            [
             0.7777777777777778,
             "#fb9f3a"
            ],
            [
             0.8888888888888888,
             "#fdca26"
            ],
            [
             1.0,
             "#f0f921"
            ]
           ],
           "diverging": [
            [
             0,
             "#8e0152"
            ],
            [
             0.1,
             "#c51b7d"
            ],
            [
             0.2,
             "#de77ae"
            ],
            [
             0.3,
             "#f1b6da"
            ],
            [
             0.4,
             "#fde0ef"
            ],
            [
             0.5,
             "#f7f7f7"
            ],
            [
             0.6,
             "#e6f5d0"
            ],
            [
             0.7,
             "#b8e186"
            ],
            [
             0.8,
             "#7fbc41"
            ],
            [
             0.9,
             "#4d9221"
            ],
            [
             1,
             "#276419"
            ]
           ]
          },
          "xaxis": {
           "gridcolor": "white",
           "linecolor": "white",
           "ticks": "",
           "title": {
            "standoff": 15
           },
           "zerolinecolor": "white",
           "automargin": true,
           "zerolinewidth": 2
          },
          "yaxis": {
           "gridcolor": "white",
           "linecolor": "white",
           "ticks": "",
           "title": {
            "standoff": 15
           },
           "zerolinecolor": "white",
           "automargin": true,
           "zerolinewidth": 2
          },
          "scene": {
           "xaxis": {
            "backgroundcolor": "#E5ECF6",
            "gridcolor": "white",
            "linecolor": "white",
            "showbackground": true,
            "ticks": "",
            "zerolinecolor": "white",
            "gridwidth": 2
           },
           "yaxis": {
            "backgroundcolor": "#E5ECF6",
            "gridcolor": "white",
            "linecolor": "white",
            "showbackground": true,
            "ticks": "",
            "zerolinecolor": "white",
            "gridwidth": 2
           },
           "zaxis": {
            "backgroundcolor": "#E5ECF6",
            "gridcolor": "white",
            "linecolor": "white",
            "showbackground": true,
            "ticks": "",
            "zerolinecolor": "white",
            "gridwidth": 2
           }
          },
          "shapedefaults": {
           "line": {
            "color": "#2a3f5f"
           }
          },
          "annotationdefaults": {
           "arrowcolor": "#2a3f5f",
           "arrowhead": 0,
           "arrowwidth": 1
          },
          "geo": {
           "bgcolor": "white",
           "landcolor": "#E5ECF6",
           "subunitcolor": "white",
           "showland": true,
           "showlakes": true,
           "lakecolor": "white"
          },
          "title": {
           "x": 0.05
          },
          "mapbox": {
           "style": "light"
          }
         }
        },
        "xaxis": {
         "anchor": "y",
         "domain": [
          0.0,
          1.0
         ],
         "title": {
          "text": "Time period"
         },
         "tickangle": 30
        },
        "yaxis": {
         "anchor": "x",
         "domain": [
          0.0,
          1.0
         ],
         "title": {
          "text": "Normalized passenger transport volume [%]"
         }
        },
        "legend": {
         "title": {
          "text": "Means of travel"
         },
         "tracegroupgap": 0
        },
        "title": {
         "text": "Normalized volume of passenger transport by air, sea and rail in the Netherlands from 2018 to 2023"
        }
       },
       "config": {
        "plotlyServerURL": "https://plot.ly"
       }
      },
      "text/html": "<div>                            <div id=\"2f24778b-2705-4b7d-9072-dc9a1be1e113\" class=\"plotly-graph-div\" style=\"height:525px; width:100%;\"></div>            <script type=\"text/javascript\">                require([\"plotly\"], function(Plotly) {                    window.PLOTLYENV=window.PLOTLYENV || {};                                    if (document.getElementById(\"2f24778b-2705-4b7d-9072-dc9a1be1e113\")) {                    Plotly.newPlot(                        \"2f24778b-2705-4b7d-9072-dc9a1be1e113\",                        [{\"hovertemplate\":\"Means of travel=Aviation\\u003cbr\\u003eTime period=%{x}\\u003cbr\\u003eNormalized passenger transport volume [%]=%{y}\\u003cextra\\u003e\\u003c\\u002fextra\\u003e\",\"legendgroup\":\"Aviation\",\"line\":{\"color\":\"#636efa\",\"dash\":\"solid\"},\"marker\":{\"symbol\":\"circle\"},\"mode\":\"lines\",\"name\":\"Aviation\",\"orientation\":\"v\",\"showlegend\":true,\"x\":[\"2018-Q1\",\"2018-Q2\",\"2018-Q3\",\"2018-Q4\",\"2019-Q1\",\"2019-Q2\",\"2019-Q3\",\"2019-Q4\",\"2020-Q1\",\"2020-Q2\",\"2020-Q3\",\"2020-Q4\",\"2021-Q1\",\"2021-Q2\",\"2021-Q3\",\"2021-Q4\",\"2022-Q1\",\"2022-Q2\",\"2022-Q3\",\"2022-Q4\",\"2023-Q1\",\"2023-Q2\"],\"xaxis\":\"x\",\"y\":[72.82076891768011,92.0137804805872,98.71465484977544,81.52677045614286,74.20113498238446,94.472556585559,100.0,83.11082642242596,59.15350234239921,3.820403149333918,23.761671376768174,15.494045930833648,9.129884677685816,16.730145368871007,52.04527849910369,48.101423117027416,43.834567682351896,75.20412967280761,81.04361135453784,65.4691977732238,61.13261151926792,82.19892720083404],\"yaxis\":\"y\",\"type\":\"scatter\"},{\"hovertemplate\":\"Means of travel=Maritime\\u003cbr\\u003eTime period=%{x}\\u003cbr\\u003eNormalized passenger transport volume [%]=%{y}\\u003cextra\\u003e\\u003c\\u002fextra\\u003e\",\"legendgroup\":\"Maritime\",\"line\":{\"color\":\"#EF553B\",\"dash\":\"solid\"},\"marker\":{\"symbol\":\"circle\"},\"mode\":\"lines\",\"name\":\"Maritime\",\"orientation\":\"v\",\"showlegend\":true,\"x\":[\"2018-Q1\",\"2018-Q2\",\"2018-Q3\",\"2018-Q4\",\"2019-Q1\",\"2019-Q2\",\"2019-Q3\",\"2019-Q4\",\"2020-Q1\",\"2020-Q2\",\"2020-Q3\",\"2020-Q4\",\"2021-Q1\",\"2021-Q2\",\"2021-Q3\",\"2021-Q4\",\"2022-Q1\",\"2022-Q2\",\"2022-Q3\",\"2022-Q4\",\"2023-Q1\",\"2023-Q2\"],\"xaxis\":\"x\",\"y\":[58.631415241057546,82.73716951788491,99.06687402799378,67.651632970451,57.23172628304821,83.51477449455676,100.0,71.69517884914464,45.25660964230171,17.573872472783826,56.14307931570762,31.57076205287714,17.107309486780714,29.393468118195955,52.87713841368585,38.25816485225506,31.2597200622084,84.13685847589424,116.95178849144637,78.69362363919129,null,null],\"yaxis\":\"y\",\"type\":\"scatter\"},{\"hovertemplate\":\"Means of travel=Rail\\u003cbr\\u003eTime period=%{x}\\u003cbr\\u003eNormalized passenger transport volume [%]=%{y}\\u003cextra\\u003e\\u003c\\u002fextra\\u003e\",\"legendgroup\":\"Rail\",\"line\":{\"color\":\"#00cc96\",\"dash\":\"solid\"},\"marker\":{\"symbol\":\"circle\"},\"mode\":\"lines\",\"name\":\"Rail\",\"orientation\":\"v\",\"showlegend\":true,\"x\":[\"2018-Q1\",\"2018-Q2\",\"2018-Q3\",\"2018-Q4\",\"2019-Q1\",\"2019-Q2\",\"2019-Q3\",\"2019-Q4\",\"2020-Q1\",\"2020-Q2\",\"2020-Q3\",\"2020-Q4\",\"2021-Q1\",\"2021-Q2\",\"2021-Q3\",\"2021-Q4\",\"2022-Q1\",\"2022-Q2\",\"2022-Q3\",\"2022-Q4\",\"2023-Q1\",\"2023-Q2\"],\"xaxis\":\"x\",\"y\":[95.4256882531596,95.68629371999609,90.56529832467916,100.19398452042716,95.23170373273244,95.49230919956892,90.37131380425198,100.0,77.74566473988439,20.350739688449103,40.48594102086803,39.27696678749878,30.34486136964828,44.1207014793769,58.54021749779563,69.9578720485941,62.43754286274125,83.95414911335358,74.68599980405604,91.3970804349956,85.47565396296659,89.14274517487999],\"yaxis\":\"y\",\"type\":\"scatter\"}],                        {\"template\":{\"data\":{\"histogram2dcontour\":[{\"type\":\"histogram2dcontour\",\"colorbar\":{\"outlinewidth\":0,\"ticks\":\"\"},\"colorscale\":[[0.0,\"#0d0887\"],[0.1111111111111111,\"#46039f\"],[0.2222222222222222,\"#7201a8\"],[0.3333333333333333,\"#9c179e\"],[0.4444444444444444,\"#bd3786\"],[0.5555555555555556,\"#d8576b\"],[0.6666666666666666,\"#ed7953\"],[0.7777777777777778,\"#fb9f3a\"],[0.8888888888888888,\"#fdca26\"],[1.0,\"#f0f921\"]]}],\"choropleth\":[{\"type\":\"choropleth\",\"colorbar\":{\"outlinewidth\":0,\"ticks\":\"\"}}],\"histogram2d\":[{\"type\":\"histogram2d\",\"colorbar\":{\"outlinewidth\":0,\"ticks\":\"\"},\"colorscale\":[[0.0,\"#0d0887\"],[0.1111111111111111,\"#46039f\"],[0.2222222222222222,\"#7201a8\"],[0.3333333333333333,\"#9c179e\"],[0.4444444444444444,\"#bd3786\"],[0.5555555555555556,\"#d8576b\"],[0.6666666666666666,\"#ed7953\"],[0.7777777777777778,\"#fb9f3a\"],[0.8888888888888888,\"#fdca26\"],[1.0,\"#f0f921\"]]}],\"heatmap\":[{\"type\":\"heatmap\",\"colorbar\":{\"outlinewidth\":0,\"ticks\":\"\"},\"colorscale\":[[0.0,\"#0d0887\"],[0.1111111111111111,\"#46039f\"],[0.2222222222222222,\"#7201a8\"],[0.3333333333333333,\"#9c179e\"],[0.4444444444444444,\"#bd3786\"],[0.5555555555555556,\"#d8576b\"],[0.6666666666666666,\"#ed7953\"],[0.7777777777777778,\"#fb9f3a\"],[0.8888888888888888,\"#fdca26\"],[1.0,\"#f0f921\"]]}],\"heatmapgl\":[{\"type\":\"heatmapgl\",\"colorbar\":{\"outlinewidth\":0,\"ticks\":\"\"},\"colorscale\":[[0.0,\"#0d0887\"],[0.1111111111111111,\"#46039f\"],[0.2222222222222222,\"#7201a8\"],[0.3333333333333333,\"#9c179e\"],[0.4444444444444444,\"#bd3786\"],[0.5555555555555556,\"#d8576b\"],[0.6666666666666666,\"#ed7953\"],[0.7777777777777778,\"#fb9f3a\"],[0.8888888888888888,\"#fdca26\"],[1.0,\"#f0f921\"]]}],\"contourcarpet\":[{\"type\":\"contourcarpet\",\"colorbar\":{\"outlinewidth\":0,\"ticks\":\"\"}}],\"contour\":[{\"type\":\"contour\",\"colorbar\":{\"outlinewidth\":0,\"ticks\":\"\"},\"colorscale\":[[0.0,\"#0d0887\"],[0.1111111111111111,\"#46039f\"],[0.2222222222222222,\"#7201a8\"],[0.3333333333333333,\"#9c179e\"],[0.4444444444444444,\"#bd3786\"],[0.5555555555555556,\"#d8576b\"],[0.6666666666666666,\"#ed7953\"],[0.7777777777777778,\"#fb9f3a\"],[0.8888888888888888,\"#fdca26\"],[1.0,\"#f0f921\"]]}],\"surface\":[{\"type\":\"surface\",\"colorbar\":{\"outlinewidth\":0,\"ticks\":\"\"},\"colorscale\":[[0.0,\"#0d0887\"],[0.1111111111111111,\"#46039f\"],[0.2222222222222222,\"#7201a8\"],[0.3333333333333333,\"#9c179e\"],[0.4444444444444444,\"#bd3786\"],[0.5555555555555556,\"#d8576b\"],[0.6666666666666666,\"#ed7953\"],[0.7777777777777778,\"#fb9f3a\"],[0.8888888888888888,\"#fdca26\"],[1.0,\"#f0f921\"]]}],\"mesh3d\":[{\"type\":\"mesh3d\",\"colorbar\":{\"outlinewidth\":0,\"ticks\":\"\"}}],\"scatter\":[{\"fillpattern\":{\"fillmode\":\"overlay\",\"size\":10,\"solidity\":0.2},\"type\":\"scatter\"}],\"parcoords\":[{\"type\":\"parcoords\",\"line\":{\"colorbar\":{\"outlinewidth\":0,\"ticks\":\"\"}}}],\"scatterpolargl\":[{\"type\":\"scatterpolargl\",\"marker\":{\"colorbar\":{\"outlinewidth\":0,\"ticks\":\"\"}}}],\"bar\":[{\"error_x\":{\"color\":\"#2a3f5f\"},\"error_y\":{\"color\":\"#2a3f5f\"},\"marker\":{\"line\":{\"color\":\"#E5ECF6\",\"width\":0.5},\"pattern\":{\"fillmode\":\"overlay\",\"size\":10,\"solidity\":0.2}},\"type\":\"bar\"}],\"scattergeo\":[{\"type\":\"scattergeo\",\"marker\":{\"colorbar\":{\"outlinewidth\":0,\"ticks\":\"\"}}}],\"scatterpolar\":[{\"type\":\"scatterpolar\",\"marker\":{\"colorbar\":{\"outlinewidth\":0,\"ticks\":\"\"}}}],\"histogram\":[{\"marker\":{\"pattern\":{\"fillmode\":\"overlay\",\"size\":10,\"solidity\":0.2}},\"type\":\"histogram\"}],\"scattergl\":[{\"type\":\"scattergl\",\"marker\":{\"colorbar\":{\"outlinewidth\":0,\"ticks\":\"\"}}}],\"scatter3d\":[{\"type\":\"scatter3d\",\"line\":{\"colorbar\":{\"outlinewidth\":0,\"ticks\":\"\"}},\"marker\":{\"colorbar\":{\"outlinewidth\":0,\"ticks\":\"\"}}}],\"scattermapbox\":[{\"type\":\"scattermapbox\",\"marker\":{\"colorbar\":{\"outlinewidth\":0,\"ticks\":\"\"}}}],\"scatterternary\":[{\"type\":\"scatterternary\",\"marker\":{\"colorbar\":{\"outlinewidth\":0,\"ticks\":\"\"}}}],\"scattercarpet\":[{\"type\":\"scattercarpet\",\"marker\":{\"colorbar\":{\"outlinewidth\":0,\"ticks\":\"\"}}}],\"carpet\":[{\"aaxis\":{\"endlinecolor\":\"#2a3f5f\",\"gridcolor\":\"white\",\"linecolor\":\"white\",\"minorgridcolor\":\"white\",\"startlinecolor\":\"#2a3f5f\"},\"baxis\":{\"endlinecolor\":\"#2a3f5f\",\"gridcolor\":\"white\",\"linecolor\":\"white\",\"minorgridcolor\":\"white\",\"startlinecolor\":\"#2a3f5f\"},\"type\":\"carpet\"}],\"table\":[{\"cells\":{\"fill\":{\"color\":\"#EBF0F8\"},\"line\":{\"color\":\"white\"}},\"header\":{\"fill\":{\"color\":\"#C8D4E3\"},\"line\":{\"color\":\"white\"}},\"type\":\"table\"}],\"barpolar\":[{\"marker\":{\"line\":{\"color\":\"#E5ECF6\",\"width\":0.5},\"pattern\":{\"fillmode\":\"overlay\",\"size\":10,\"solidity\":0.2}},\"type\":\"barpolar\"}],\"pie\":[{\"automargin\":true,\"type\":\"pie\"}]},\"layout\":{\"autotypenumbers\":\"strict\",\"colorway\":[\"#636efa\",\"#EF553B\",\"#00cc96\",\"#ab63fa\",\"#FFA15A\",\"#19d3f3\",\"#FF6692\",\"#B6E880\",\"#FF97FF\",\"#FECB52\"],\"font\":{\"color\":\"#2a3f5f\"},\"hovermode\":\"closest\",\"hoverlabel\":{\"align\":\"left\"},\"paper_bgcolor\":\"white\",\"plot_bgcolor\":\"#E5ECF6\",\"polar\":{\"bgcolor\":\"#E5ECF6\",\"angularaxis\":{\"gridcolor\":\"white\",\"linecolor\":\"white\",\"ticks\":\"\"},\"radialaxis\":{\"gridcolor\":\"white\",\"linecolor\":\"white\",\"ticks\":\"\"}},\"ternary\":{\"bgcolor\":\"#E5ECF6\",\"aaxis\":{\"gridcolor\":\"white\",\"linecolor\":\"white\",\"ticks\":\"\"},\"baxis\":{\"gridcolor\":\"white\",\"linecolor\":\"white\",\"ticks\":\"\"},\"caxis\":{\"gridcolor\":\"white\",\"linecolor\":\"white\",\"ticks\":\"\"}},\"coloraxis\":{\"colorbar\":{\"outlinewidth\":0,\"ticks\":\"\"}},\"colorscale\":{\"sequential\":[[0.0,\"#0d0887\"],[0.1111111111111111,\"#46039f\"],[0.2222222222222222,\"#7201a8\"],[0.3333333333333333,\"#9c179e\"],[0.4444444444444444,\"#bd3786\"],[0.5555555555555556,\"#d8576b\"],[0.6666666666666666,\"#ed7953\"],[0.7777777777777778,\"#fb9f3a\"],[0.8888888888888888,\"#fdca26\"],[1.0,\"#f0f921\"]],\"sequentialminus\":[[0.0,\"#0d0887\"],[0.1111111111111111,\"#46039f\"],[0.2222222222222222,\"#7201a8\"],[0.3333333333333333,\"#9c179e\"],[0.4444444444444444,\"#bd3786\"],[0.5555555555555556,\"#d8576b\"],[0.6666666666666666,\"#ed7953\"],[0.7777777777777778,\"#fb9f3a\"],[0.8888888888888888,\"#fdca26\"],[1.0,\"#f0f921\"]],\"diverging\":[[0,\"#8e0152\"],[0.1,\"#c51b7d\"],[0.2,\"#de77ae\"],[0.3,\"#f1b6da\"],[0.4,\"#fde0ef\"],[0.5,\"#f7f7f7\"],[0.6,\"#e6f5d0\"],[0.7,\"#b8e186\"],[0.8,\"#7fbc41\"],[0.9,\"#4d9221\"],[1,\"#276419\"]]},\"xaxis\":{\"gridcolor\":\"white\",\"linecolor\":\"white\",\"ticks\":\"\",\"title\":{\"standoff\":15},\"zerolinecolor\":\"white\",\"automargin\":true,\"zerolinewidth\":2},\"yaxis\":{\"gridcolor\":\"white\",\"linecolor\":\"white\",\"ticks\":\"\",\"title\":{\"standoff\":15},\"zerolinecolor\":\"white\",\"automargin\":true,\"zerolinewidth\":2},\"scene\":{\"xaxis\":{\"backgroundcolor\":\"#E5ECF6\",\"gridcolor\":\"white\",\"linecolor\":\"white\",\"showbackground\":true,\"ticks\":\"\",\"zerolinecolor\":\"white\",\"gridwidth\":2},\"yaxis\":{\"backgroundcolor\":\"#E5ECF6\",\"gridcolor\":\"white\",\"linecolor\":\"white\",\"showbackground\":true,\"ticks\":\"\",\"zerolinecolor\":\"white\",\"gridwidth\":2},\"zaxis\":{\"backgroundcolor\":\"#E5ECF6\",\"gridcolor\":\"white\",\"linecolor\":\"white\",\"showbackground\":true,\"ticks\":\"\",\"zerolinecolor\":\"white\",\"gridwidth\":2}},\"shapedefaults\":{\"line\":{\"color\":\"#2a3f5f\"}},\"annotationdefaults\":{\"arrowcolor\":\"#2a3f5f\",\"arrowhead\":0,\"arrowwidth\":1},\"geo\":{\"bgcolor\":\"white\",\"landcolor\":\"#E5ECF6\",\"subunitcolor\":\"white\",\"showland\":true,\"showlakes\":true,\"lakecolor\":\"white\"},\"title\":{\"x\":0.05},\"mapbox\":{\"style\":\"light\"}}},\"xaxis\":{\"anchor\":\"y\",\"domain\":[0.0,1.0],\"title\":{\"text\":\"Time period\"},\"tickangle\":30},\"yaxis\":{\"anchor\":\"x\",\"domain\":[0.0,1.0],\"title\":{\"text\":\"Normalized passenger transport volume [%]\"}},\"legend\":{\"title\":{\"text\":\"Means of travel\"},\"tracegroupgap\":0},\"title\":{\"text\":\"Normalized volume of passenger transport by air, sea and rail in the Netherlands from 2018 to 2023\"}},                        {\"responsive\": true}                    ).then(function(){\n                            \nvar gd = document.getElementById('2f24778b-2705-4b7d-9072-dc9a1be1e113');\nvar x = new MutationObserver(function (mutations, observer) {{\n        var display = window.getComputedStyle(gd).display;\n        if (!display || display === 'none') {{\n            console.log([gd, 'removed!']);\n            Plotly.purge(gd);\n            observer.disconnect();\n        }}\n}});\n\n// Listen for the removal of the full notebook cells\nvar notebookContainer = gd.closest('#notebook-container');\nif (notebookContainer) {{\n    x.observe(notebookContainer, {childList: true});\n}}\n\n// Listen for the clearing of the current output cell\nvar outputEl = gd.closest('.output');\nif (outputEl) {{\n    x.observe(outputEl, {childList: true});\n}}\n\n                        })                };                });            </script>        </div>"
     },
     "metadata": {},
     "output_type": "display_data"
    }
   ],
   "source": [
    "df_passengers_top = pd.DataFrame(columns=['Geo','Mode','Time_period','Norm_2019'])\n",
    "\n",
    "for country in ['LV','FI','NL']:\n",
    "    index_top=0\n",
    "    for time in df_passengers_mar['Time_period'].unique():\n",
    "        for mode in ['Aviation','Maritime','Rail']:\n",
    "            if mode == 'Aviation':\n",
    "                df_mode = df_passengers_avia\n",
    "            elif mode == 'Maritime':\n",
    "                df_mode = df_passengers_mar\n",
    "            else:\n",
    "                df_mode = df_passengers_rail\n",
    "            norm_list = df_mode[(df_mode['Geo']==country) & (df_mode['Time_period']==time)]['Norm_2019'].to_list()\n",
    "            if not norm_list: \n",
    "                norm = np.NaN\n",
    "            else:\n",
    "                norm = norm_list[0]\n",
    "            df_passengers_top = pd.concat([df_passengers_top,pd.DataFrame({'Geo':country,'Mode': mode,'Time_period': time,'Norm_2019':norm},index=[index_top])])\n",
    "            index_top += 1\n",
    "            \n",
    "Q1_fig3a = px.line(df_passengers_top[df_passengers_top['Geo']=='LV'], \n",
    "                   x='Time_period', \n",
    "                   y='Norm_2019', \n",
    "                   color='Mode',\n",
    "                   title='Normalized volume of passenger transport by air, sea and rail in Latvia from 2018 to 2023',\n",
    "                   labels={'Time_period': 'Time period', 'Norm_2019':'Normalized passenger transport volume [%]','Mode':'Means of travel'})\n",
    "Q1_fig3a.update_xaxes(tickangle=30)\n",
    "Q1_fig3b = px.line(df_passengers_top[df_passengers_top['Geo']=='FI'], \n",
    "                   x='Time_period', \n",
    "                   y='Norm_2019', \n",
    "                   color='Mode',\n",
    "                   title='Normalized volume of passenger transport by air, sea and rail in Finland from 2018 to 2023',\n",
    "                   labels={'Time_period': 'Time period', 'Norm_2019':'Normalized passenger transport volume [%]','Mode':'Means of travel'})\n",
    "Q1_fig3b.update_xaxes(tickangle=30)\n",
    "Q1_fig3c = px.line(df_passengers_top[df_passengers_top['Geo']=='NL'], \n",
    "                   x='Time_period', \n",
    "                   y='Norm_2019', \n",
    "                   color='Mode',\n",
    "                   title='Normalized volume of passenger transport by air, sea and rail in the Netherlands from 2018 to 2023',\n",
    "                   labels={'Time_period': 'Time period', 'Norm_2019':'Normalized passenger transport volume [%]','Mode':'Means of travel'})\n",
    "Q1_fig3c.update_xaxes(tickangle=30)\n",
    "Q1_fig3a.show()\n",
    "Q1_fig3b.show()\n",
    "Q1_fig3c.show()"
   ],
   "metadata": {
    "collapsed": false,
    "ExecuteTime": {
     "end_time": "2023-11-08T14:05:33.862151300Z",
     "start_time": "2023-11-08T14:05:33.661975400Z"
    }
   }
  },
  {
   "cell_type": "markdown",
   "source": [
    "In the plots above it can be observed that every listed country's normalized passenger transport volume was ordered in the same manner with respect to each transport mode's 2019 norm: the highest percentage of passenger transport volume was maintained by rail, while the lowest percentage was hit by air travel, with maritime transport between the two. In all listed countries, with the exception of a small spike in maritime travel in the Netherlands in Q3 of 2020 and another, more significant one in Q3 of 2022, rail travel dropped to the highest relative percentage of volume and stayed above the other transport modes to this day, even after European countries lifted the COVID_19 regulations.\n"
   ],
   "metadata": {
    "collapsed": false
   }
  },
  {
   "cell_type": "markdown",
   "source": [
    "**General conclusion of the second section**\n",
    "\n",
    "It is clear that COVID-19 has a drastic impact on passenger travel in European countries. This can be seen in part 1 and part 3, where all countries experienced massive drops across all analyzed passenger transport modes. Some effects of the transport volume drops are even noticeable to this day, which is best demonstrated by the erratic return to norms of rail transport in part 1. The impact of COVID-19 on passenger travel varied significantly from country to country, generally visible in parts 1 and 3, but best visualized by part 2, where the drop in normalized maritime passenger transport volume across European countries varied from 77.3 percentage points for Belgium to as low as 8.8 percentage points for Latvia. "
   ],
   "metadata": {
    "collapsed": false
   }
  },
  {
   "cell_type": "markdown",
   "metadata": {},
   "source": [
    "# 3. Analysis of the impact on the maritime CO2 emissions\n",
    "This section focuses on the examination of the impact of alterations in maritime transportation practices during the period 2018-2022 on the fluctuations in CO2 emissions within the EEA. \n",
    "\n",
    "WRITE A PARAGRAPH ON WHAT'S THE FOCUS OF THE SECTION\n",
    "\n",
    "\n",
    "WRITE HERE HOW THE DATA HAS BEEN PROCESSED:\n",
    "    Vessel type categorization: \n",
    "    - Passenger Vessels\n",
    "    - Containerships\n",
    "    - Oil tankers\n",
    "    - Bulk Carriers\n",
    "    - LNG Carriers\n"
   ]
  },
  {
   "cell_type": "markdown",
   "source": [
    "WRITE HERE WHAT CAN BE DEDUCTED FROM THE GRAPH (COULD ALSO GO AFTER THE FIGURE)"
   ],
   "metadata": {
    "collapsed": false
   }
  },
  {
   "cell_type": "code",
   "execution_count": null,
   "outputs": [],
   "source": [
    "# Comparative graph depicting the fluctuation of CO2 emissions per ship type"
   ],
   "metadata": {
    "collapsed": false
   }
  },
  {
   "cell_type": "markdown",
   "source": [
    "WRITE HERE WHAT CAN BE DEDUCTED FROM THE GRAPH (COULD ALSO GO AFTER THE FIGURE)"
   ],
   "metadata": {
    "collapsed": false
   }
  },
  {
   "cell_type": "code",
   "execution_count": null,
   "outputs": [],
   "source": [
    "# Five donut graphs, one for each year during 2018-2022, depicting the percentage of each type of emissions out of the total maritime emissions for that year."
   ],
   "metadata": {
    "collapsed": false
   }
  },
  {
   "cell_type": "markdown",
   "source": [
    "WRITE HERE THE CONCLUSIONS OF THE PARAGRAPH AND RESULTS"
   ],
   "metadata": {
    "collapsed": false
   }
  },
  {
   "cell_type": "markdown",
   "metadata": {},
   "source": [
    "# 4. Analysis of the difference between CO2 emissions in maritime transport and broader emission trends in EEA\n",
    "This section investigates the impact on the overall CO2 emissions of maritime transport in comparison to the broader trends in CO2 emissions across EEA. \n",
    "\n",
    "WRITE A PARAGRAPH ON WHAT'S THE FOCUS OF THE SECTION\n",
    "\n",
    "\n",
    "WRITE HERE HOW THE DATA HAS BEEN PROCESSED: Evaluating the emission in Europe since the dataset is given for countries across the globe\n",
    "    Categorization: \n",
    "    - Agriculture\n",
    "    - Buildings\n",
    "    - Shipping\n",
    "    - Fuel Exploitation\n",
    "    - Power Industry\n",
    "    - Transport\n",
    "    - Processes\n",
    "    - Waste"
   ]
  },
  {
   "cell_type": "markdown",
   "source": [
    "WRITE HERE WHAT CAN BE DEDUCTED FROM THE GRAPH (COULD ALSO GO AFTER THE FIGURE)"
   ],
   "metadata": {
    "collapsed": false
   }
  },
  {
   "cell_type": "code",
   "execution_count": null,
   "outputs": [],
   "source": [
    "# Comparative graphs depicting the fluctuation of CO2 emissions for each individual emission producing sector."
   ],
   "metadata": {
    "collapsed": false
   }
  },
  {
   "cell_type": "markdown",
   "source": [
    "WRITE HERE THE CONCLUSIONS OF THE PARAGRAPH AND RESULTS"
   ],
   "metadata": {
    "collapsed": false
   }
  },
  {
   "cell_type": "markdown",
   "metadata": {},
   "source": [
    "# 5. Conclusions\n",
    "\n",
    "BRIEF REMARKS OVER THE RESULTS PRODUCED FROM THE RESEARCH "
   ]
  },
  {
   "cell_type": "markdown",
   "metadata": {},
   "source": [
    "# 6. Contribution Statement"
   ]
  },
  {
   "cell_type": "markdown",
   "metadata": {},
   "source": [
    "**Nicola Bovo**: Background research & visualisation\n",
    "\n",
    "**Zacharias Zervos**: Background research & conceptualisation\n",
    "\n",
    "**Vaseileios Sideris**: Data analysis & Data modelling\n",
    "\n",
    "**Piotr Pietrzak**: Data analysis & Data modelling\n",
    "\n",
    "**Davide Centorrino**: Data analysis & visualisation "
   ]
  },
  {
   "cell_type": "markdown",
   "metadata": {},
   "source": [
    "# 7. Data Used"
   ]
  },
  {
   "cell_type": "markdown",
   "metadata": {},
   "source": [
    "**Paragraph 1**:\n",
    "    - Gross weight of goods transported: https://ec.europa.eu/eurostat/databrowser/bookmark/662cc15a-0555-4b7f-87c8-e48013aea8c0?lang=en\n",
    "\n",
    "**Paragraph 2**:\n",
    "    - Maritime Transport: https://ec.europa.eu/eurostat/databrowser/bookmark/0d511ae5-24c1-4009-8c27-4992f3d7c652?lang=en\n",
    "    - Air Transport: https://ec.europa.eu/eurostat/databrowser/bookmark/e274c95c-b4af-4704-8630-9c7560979af0?lang=en\n",
    "    - Railway Transport :https://ec.europa.eu/eurostat/databrowser/bookmark/e8751a3b-5536-47f1-a543-672db0bc4528?lang=en \n",
    "    \n",
    "**Paragraph 3**:\n",
    "    - CO2 emissions from maritime transport: https://data.europa.eu/data/datasets/co2-emissions-data?locale=en\n",
    "\n",
    "**Paragraph 4**:\n",
    "    - CO2 emissions data from maritime transport: https://data.europa.eu/data/datasets/co2-emissions-data?locale=en\n",
    "    - Overall emissions: https://edgar.jrc.ec.europa.eu/emissions_reports       \n",
    "\n",
    "STILL TO BE SORTED    \n",
    "EDGAR - Emissions Database for Global Atmospheric Research: https://edgar.jrc.ec.europa.eu/emissions_reports \n",
    "Sea transport of goods: https://ec.europa.eu/eurostat/databrowser/view/TTR00009/default/table?lang=en\n",
    "Passenger embarked and disembarked in all ports: https://ec.europ.eu/eurostat/databrowser/view/mar_mp_aa_cph/default/table?lang=en"
   ]
  },
  {
   "cell_type": "markdown",
   "metadata": {},
   "source": [
    "# Data Pipeline"
   ]
  },
  {
   "cell_type": "markdown",
   "metadata": {},
   "source": [
    "1. Data collection:\n",
    "    * Transportation data\n",
    "        * Passenger data\n",
    "        * Goods data\n",
    "    * COVID 19 data\n",
    "    * CO2 emission data\n",
    "        * Overall emission data\n",
    "        * Maritime sector emission data\n",
    "2. Data cleanup\n",
    "3. Data integration\n",
    "4. Data analysis\n",
    "5. Visualisation & Report"
   ]
  }
 ],
 "metadata": {
  "kernelspec": {
   "display_name": "Python 3",
   "language": "python",
   "name": "python3"
  },
  "language_info": {
   "name": "python",
   "version": "3.8.2"
  },
  "orig_nbformat": 4,
  "vscode": {
   "interpreter": {
    "hash": "31f2aee4e71d21fbe5cf8b01ff0e069b9275f58929596ceb00d14d90e3e16cd6"
   }
  }
 },
 "nbformat": 4,
 "nbformat_minor": 2
}
