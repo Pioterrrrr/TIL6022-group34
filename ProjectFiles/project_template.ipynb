{
 "cells": [
  {
   "cell_type": "markdown",
   "metadata": {},
   "source": [
    "# Project Group 34 \n",
    "\n",
    "Members: Sideris Vasileios, Piotr Pietrzak, Davide Centorrino, Zacharias Zervos, Nicola Bovo.\n",
    "\n",
    "Student numbers: 5842727, 5717086, 585162, 5846307, 5619157"
   ]
  },
  {
   "cell_type": "markdown",
   "metadata": {},
   "source": [
    "# Research Objective\n",
    "\n",
    "In this comprehensive project, our objective is to analyze how the COVID-19 pandemic has specifically influenced the transportation of goods and passengers by sea within the European Economic Exclusive Area over a five-year period. We will examine changes in maritime transportation behavior and their direct impact on CO2 emissions, comparing maritime emissions to overall CO2 trends in the European region during the pandemic. This research aims to provide valuable insights into the adaptability and resilience of the maritime sector.\n",
    "\n",
    "Research questions:\n",
    " 1. How did the COVID-19 pandemic impact the volume and patterns of goods transported by sea within the European Economic Exclusive Area from 2015 to 2023?\n",
    "\n",
    " 2. What were the changes in passenger maritime transportation behaviors during the COVID-19 pandemic in the European Economic Exclusive Area, and how do they differ across various modes of sea travel?\n",
    "\n",
    " 3. How did the alterations in maritime transportation practices during the COVID-19 pandemic correlate with fluctuations in CO2 emissions in the European Economic Exclusive Area?\n",
    "\n",
    " 4. How do the changes in maritime CO2 emissions within the European Economic Exclusive Area during the COVID-19 pandemic compare to the broader CO2 emission trends across Europe, and what insights can be gained from this comparison for sustainable transportation strategies?"
   ]
  },
  {
   "cell_type": "markdown",
   "metadata": {},
   "source": []
  },
  {
   "cell_type": "markdown",
   "metadata": {},
   "source": [
    "# Contribution Statement\n",
    "\n",
    "*Be specific. Some of the tasks can be coding (expect everyone to do this), background research, conceptualisation, visualisation, data analysis, data modelling*"
   ]
  },
  {
   "cell_type": "markdown",
   "metadata": {},
   "source": [
    "Preliminary planning (draft).\n",
    "\n",
    "**Nicola Bovo**: Background research & visualisation\n",
    "\n",
    "**Zacharias Zervos**: Background research & conceptualisation\n",
    "\n",
    "**Vaseileios Sideris**: Data analysis & Data modelling\n",
    "\n",
    "**Piotr Pietrzak**: Data analysis & Data modelling\n",
    "\n",
    "**Davide Centorrino**: Data analysis & visualisation "
   ]
  },
  {
   "cell_type": "markdown",
   "metadata": {},
   "source": [
    "# Data Used"
   ]
  },
  {
   "cell_type": "markdown",
   "metadata": {},
   "source": [
    "1. COVID 19 Database: https://ec.europa.eu/eurostat/web/covid-19/database#Transport \n",
    "2. EDGAR - Emissions Database for Global Atmospheric Research: https://edgar.jrc.ec.europa.eu/emissions_reports\n",
    "3. Sea transport of goods: https://ec.europa.eu/eurostat/databrowser/view/TTR00009/default/table?lang=en\n",
    "4. Passenger embarked and disembarked in all ports: https://ec.europ.eu/eurostat/databrowser/view/mar_mp_aa_cph/default/table?lang=en\n",
    "5. CO2 emissions data from maritime transport: https://data.europa.eu/data/datasets/co2-emissions-data?locale=en"
   ]
  },
  {
   "cell_type": "markdown",
   "metadata": {},
   "source": [
    "# Data Pipeline"
   ]
  },
  {
   "cell_type": "markdown",
   "metadata": {},
   "source": [
    "1. Data collection:\n",
    "    * Transportation data\n",
    "        * Passenger data\n",
    "        * Goods data\n",
    "    * COVID 19 data\n",
    "    * CO2 emission data\n",
    "        * Overall emission data\n",
    "        * Maritime sector emission data\n",
    "2. Data cleanup\n",
    "3. Data integration\n",
    "4. Data analysis\n",
    "5. Visualisation & Report"
   ]
  },
  {
   "cell_type": "code",
   "execution_count": null,
   "outputs": [],
   "source": [],
   "metadata": {
    "collapsed": false
   }
  }
 ],
 "metadata": {
  "kernelspec": {
   "display_name": "Python 3",
   "language": "python",
   "name": "python3"
  },
  "language_info": {
   "name": "python",
   "version": "3.8.2"
  },
  "orig_nbformat": 4,
  "vscode": {
   "interpreter": {
    "hash": "31f2aee4e71d21fbe5cf8b01ff0e069b9275f58929596ceb00d14d90e3e16cd6"
   }
  }
 },
 "nbformat": 4,
 "nbformat_minor": 2
}
